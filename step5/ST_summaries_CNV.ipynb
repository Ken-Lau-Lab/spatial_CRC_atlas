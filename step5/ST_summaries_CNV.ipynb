{
 "cells": [
  {
   "cell_type": "code",
   "execution_count": null,
   "metadata": {},
   "outputs": [],
   "source": [
    "import sys; sys.path.append(\"../../../utility_scripts/\")\n",
    "import matplotlib\n",
    "from dotplot_utils import *\n",
    "import pandas as pd\n",
    "import seaborn as sns\n",
    "# make this notebook work better with Scanpy\n",
    "import warnings; warnings.simplefilter(action='ignore', category=FutureWarning)"
   ]
  },
  {
   "cell_type": "code",
   "execution_count": null,
   "metadata": {},
   "outputs": [],
   "source": [
    "sc.set_figure_params(transparent=True, dpi_save=400)\n",
    "sc.settings.figdir = \"plots_patient/\""
   ]
  },
  {
   "cell_type": "markdown",
   "metadata": {
    "tags": []
   },
   "source": [
    "---\n",
    "## Read in key dataframe with sample information"
   ]
  },
  {
   "cell_type": "code",
   "execution_count": null,
   "metadata": {},
   "outputs": [],
   "source": [
    "sample_key = pd.read_csv(\"../../resources/visium_sample_key.csv\", index_col=0)"
   ]
  },
  {
   "cell_type": "markdown",
   "metadata": {},
   "source": [
    "---\n",
    "## Define pseudotime ordering by `LCM_ROI`"
   ]
  },
  {
   "cell_type": "code",
   "execution_count": null,
   "metadata": {},
   "outputs": [],
   "source": [
    "muts = pd.read_csv(\"../exome_genome/resources/LCM_variants_per_sample.csv\", index_col=0)\n",
    "mapper = {\n",
    "    \"WD86055_ROI4\":\"WD86055_ROI1\",\n",
    "    \"WD86055_ROI2\":\"WD86055_ROI2\",\n",
    "    \"WD86055_ROI3\":\"WD86055_ROI3\",\n",
    "    \"WD86055_ROI1\":\"WD86055_ROI4\",\n",
    "    \"WD86056_ROI2\":\"WD86055_ROI5\",\n",
    "    \"WD86056_ROI1\":\"WD86055_ROI6\",\n",
    "    \"WD86056_ROI4\":\"WD86055_ROI7\",\n",
    "    \"WD86056_ROI3\":\"WD86055_ROI8\",\n",
    "    \"WD33475_ROI4\":\"WD33475_ROI3\",\n",
    "    \"WD33475_ROI5\":\"WD33475_ROI4\",\n",
    "}\n",
    "muts.Tumor_Sample_Barcode.replace(mapper, inplace=True)\n",
    "muts[\"Tumor_Sample_Barcode\"] = [sample_key.loc[sample_key.block_name==x.split(\"_\")[0],\"patient_name\"][0] + \"_\" + x.split(\"_\")[1] for x in muts[\"Tumor_Sample_Barcode\"]]\n",
    "muts[[\"Patient\", \"ROI\"]] = muts[\"Tumor_Sample_Barcode\"].str.split(\"_\", expand=True)"
   ]
  },
  {
   "cell_type": "code",
   "execution_count": null,
   "metadata": {},
   "outputs": [],
   "source": [
    "muts = muts.merge(sample_key.loc[sample_key.tumor_type.isin([\"MSS\",\"MSI-H\"]),[\"patient_name\",\"tumor_type\"]], left_on=\"Patient\", right_on=\"patient_name\", how=\"left\").drop_duplicates()\n",
    "muts = muts.drop(columns=[\"patient_name\"])"
   ]
  },
  {
   "cell_type": "code",
   "execution_count": null,
   "metadata": {},
   "outputs": [],
   "source": [
    "muts"
   ]
  },
  {
   "cell_type": "code",
   "execution_count": null,
   "metadata": {},
   "outputs": [],
   "source": [
    "pt_orders = {}\n",
    "\n",
    "muts_MSS = muts.loc[muts.tumor_type==\"MSS\",:].copy()\n",
    "muts_MSS.Patient = muts_MSS.Patient.astype(\"category\")\n",
    "for pat in muts_MSS.Patient.cat.categories:\n",
    "    pt_orders[pat] = list(muts.loc[muts.Patient==pat, \"ROI\"])[::-1]\n",
    "    \n",
    "muts_MSI = muts.loc[muts.tumor_type==\"MSI-H\",:].copy()\n",
    "muts_MSI.Patient = muts_MSI.Patient.astype(\"category\")\n",
    "for pat in muts_MSI.Patient.cat.categories:\n",
    "    pt_orders[pat] = list(muts.loc[muts.Patient==pat, \"ROI\"])[::-1]"
   ]
  },
  {
   "cell_type": "code",
   "execution_count": null,
   "metadata": {},
   "outputs": [],
   "source": [
    "muts2 = pd.read_csv(\"../exome_genome/resources/pseudobulk_variants_per_sample.csv\", index_col=0)"
   ]
  },
  {
   "cell_type": "markdown",
   "metadata": {},
   "source": [
    "---"
   ]
  },
  {
   "cell_type": "code",
   "execution_count": null,
   "metadata": {},
   "outputs": [],
   "source": [
    "outs = []\n",
    "for s in sample_key.index:\n",
    "    a = sc.read(\"datasets/{}_master.h5ad\".format(s))\n",
    "    print(\"Read adata from datasets/{}_master.h5ad\".format(s))\n",
    "    \n",
    "    if \"Variants\" in a.obs.columns:\n",
    "        a.obs.drop(columns=\"Variants\", inplace=True)\n",
    "    \n",
    "    try:\n",
    "        # add number of detected Variants\n",
    "        a.obs = a.obs.reset_index().merge(muts[[\"Patient\",\"ROI\",\"Variants\"]], left_on=[\"Patient\",\"LCM_ROI\"], right_on=[\"Patient\",\"ROI\"], how=\"left\").drop(columns=\"ROI\").set_index(\"index\")\n",
    "    except:\n",
    "        print(\"No LCM variants found\")\n",
    "        try:\n",
    "            a.obs[\"Variants\"] = muts2.loc[muts2.Tumor_Sample_Barcode==sample_key.loc[s,:].block_name,\"Variants\"].values[0]\n",
    "        except:\n",
    "            print(\"No bulk variants found\")\n",
    "\n",
    "\n",
    "    # compile training data\n",
    "    outs.append(a)\n",
    "\n",
    "assert len(outs) == len(sample_key), \"Check length of outs\""
   ]
  },
  {
   "cell_type": "code",
   "execution_count": null,
   "metadata": {},
   "outputs": [],
   "source": [
    "# concatenate anndata objects\n",
    "a_comb = outs[0].concatenate(\n",
    "    outs[1:],\n",
    "    join=\"outer\",\n",
    "    batch_categories=list(sample_key.index),\n",
    "    fill_value=0,\n",
    ")\n",
    "del a_comb.var\n",
    "del a_comb.obsm\n",
    "a_comb  # view object"
   ]
  },
  {
   "cell_type": "markdown",
   "metadata": {},
   "source": [
    "#### Adjust 'Variants' to 'TMB' for plotting"
   ]
  },
  {
   "cell_type": "code",
   "execution_count": null,
   "metadata": {},
   "outputs": [],
   "source": [
    "a_comb.obs.rename(columns={\"Variants\":\"TMB\"}, inplace=True)"
   ]
  },
  {
   "cell_type": "markdown",
   "metadata": {},
   "source": [
    "---\n",
    "## Define gene signatures"
   ]
  },
  {
   "cell_type": "code",
   "execution_count": null,
   "metadata": {},
   "outputs": [],
   "source": [
    "# recombine signatures into useful categories\n",
    "signatures_epi_stroma = [\n",
    "    'IFN stimulated EPI',\n",
    "    'iCMS2',\n",
    "    'iCMS3',\n",
    "    'Stem cell index', # Gil Vasquez, et al. 2022\n",
    "    'Basal',\n",
    "    'Squamous',\n",
    "    'Mesenchymal',\n",
    "    'Glandular',\n",
    "    'Ciliated',\n",
    "    'Alveolar',\n",
    "    'AC', # astrocyte\n",
    "    'OPC', # oligodendrocyte progenitor\n",
    "    'NPC', # neural progenitor\n",
    "    'IES', # custom epithelial-intrinsic exclusion signature\n",
    "]\n",
    "\n",
    "signatures_myeloid = [\n",
    "    'Myeloid',\n",
    "    'cDC2',\n",
    "    'cDC1',\n",
    "    'Macrophage',\n",
    "    'Classical monocytes',\n",
    "    'M1',\n",
    "    'M2',\n",
    "    'Neutrophils',\n",
    "    'Costimulatory MYE',\n",
    "    'Stimulatory DCs',\n",
    "    'IFN stimulated MYE',\n",
    "]\n",
    "\n",
    "signatures_lymphoid = [\n",
    "    'T cell',\n",
    "    'T reg',\n",
    "    'T cell CD4',\n",
    "    'T cell CD8',\n",
    "    'T reg resting',\n",
    "    'T reg suppressive',\n",
    "    'T reg tissue homing',\n",
    "    'T reg cytokines',\n",
    "    'T reg activation',\n",
    "    'TH1',\n",
    "    'TH2',\n",
    "    'TH17',\n",
    "    'T cell exhaustion',\n",
    "    'TRM', # tissue-resident memory T cells\n",
    "    'NK cell',\n",
    "    'B cell',\n",
    "    'Plasma cell',\n",
    "]\n",
    "\n",
    "signatures_activity = [\n",
    "    'EMT',\n",
    "    'pEMT',\n",
    "    'Senescence',\n",
    "    'SASP',\n",
    "    'Interferon',\n",
    "    'Hypoxia',\n",
    "    'Oxphos',\n",
    "    'Stress',\n",
    "    'Stress response',\n",
    "    'Bacterial response',\n",
    "    'Fibrosis',\n",
    "    'Cytotoxicity',\n",
    "    'Exhaustion',\n",
    "    'Cytokines',\n",
    "    'Chemokines',\n",
    "    'MHC',\n",
    "    'Fetal',\n",
    "    'Stem',\n",
    "    'Metaplasia',\n",
    "    'Proliferation',\n",
    "    'Translation',\n",
    "    'Cycle',\n",
    "    'Metal',\n",
    "    'CytoTRACE',\n",
    "    'CNV score',\n",
    "]\n",
    "\n",
    "signatures_curated = [\n",
    "    # activity\n",
    "    'pEMT',\n",
    "    'Metaplasia',\n",
    "    'Stem',\n",
    "    'CytoTRACE',\n",
    "    'IES',\n",
    "    'CNV score',\n",
    "    'MHC',\n",
    "    'Fibrosis',\n",
    "    'Bacterial response',\n",
    "    # epi/stroma\n",
    "    'IFN stimulated EPI',\n",
    "    'iCMS2',\n",
    "    'iCMS3',\n",
    "    'Stem cell index', # Gil Vasquez, et al. 2022\n",
    "    'Squamous',\n",
    "    # lymphoid\n",
    "    'T reg suppressive',\n",
    "    'T cell CD4',\n",
    "    'T cell CD8',\n",
    "    'T cell exhaustion',\n",
    "    # myeloid\n",
    "    'IFN stimulated MYE',\n",
    "    'Neutrophils',\n",
    "]\n",
    "\n",
    "signatures_fig_1 = [\n",
    "    \"Stem\",\n",
    "    \"T cell CD4\",\n",
    "    \"iCMS2\",\n",
    "    \"iCMS3\",\n",
    "    \"Metaplasia\",\n",
    "    \"CytoTRACE\",\n",
    "    \"CNV score\",\n",
    "    \"T cell CD8\"\n",
    "]\n",
    "\n",
    "signatures_fig_2 = [\n",
    "    \"Stem\",\n",
    "    \"T cell CD4\",\n",
    "    \"iCMS2\",\n",
    "    \"iCMS3\",\n",
    "    \"Metaplasia\",\n",
    "    \"CytoTRACE\",\n",
    "    \"CNV score\",\n",
    "    \"T cell CD8\",\n",
    "    \"IFN stimulated MYE\",\n",
    "    \"T reg suppressive\",\n",
    "    \"TMB\",\n",
    "    \"T cell exhaustion\",\n",
    "]"
   ]
  },
  {
   "cell_type": "markdown",
   "metadata": {},
   "source": [
    "---\n",
    "## Rename things and set up for plotting"
   ]
  },
  {
   "cell_type": "code",
   "execution_count": null,
   "metadata": {},
   "outputs": [],
   "source": [
    "# rename obs columns with MxIF stains in them\n",
    "old_mxif = list(a_comb.obs.columns[a_comb.obs.columns.str.endswith(\"_MxIF\")])\n",
    "new_mxif = list(a_comb.obs.columns[a_comb.obs.columns.str.endswith(\"_MxIF\")].str.split(\"_\").str[0])\n",
    "a_comb.obs.rename(columns=dict(zip(old_mxif,new_mxif)), inplace=True)"
   ]
  },
  {
   "cell_type": "code",
   "execution_count": null,
   "metadata": {},
   "outputs": [],
   "source": [
    "# rename cell state columns in master anndata.obs\n",
    "et = list(a_comb.obs.columns[a_comb.obs.columns.str.endswith(\"_VUMCrefNMF30\")])\n",
    "et_new = [x.replace(\"_VUMCrefNMF30\", \"\") for x in et]\n",
    "a_comb.obs.rename(columns=dict(zip(et, et_new)), inplace=True)"
   ]
  },
  {
   "cell_type": "code",
   "execution_count": null,
   "metadata": {},
   "outputs": [],
   "source": [
    "a_comb"
   ]
  },
  {
   "cell_type": "code",
   "execution_count": null,
   "metadata": {},
   "outputs": [],
   "source": [
    "cmap_dict = {\n",
    "    # Tumor Type\n",
    "    'SSL/HP':\"#c4a4e1\",'MSI-H':\"#7a4fa3\",'MSS':\"#ffc101\",'TA/TVA':\"#fee799\",'NL':\"#1f77b4\",\n",
    "    # Tumor Location\n",
    "    \"Cecum\":\"#1f4e79\",\"Ascending\":\"#2e74b7\",\"Hepatic Flexure\":\"#bdd6ef\",\"Transverse\":\"#ff717a\",\"Descending\":\"#fe0001\",\"Sigmoid\":\"#c00101\",\n",
    "    # this one's global\n",
    "    \"nan\":\"#ffffff\",\n",
    "    # These are black and white for T and F\n",
    "    \"T\":\"#000000\",\"F\":\"#ffffff\",\n",
    "}\n",
    "stage_colordict = dict(zip([\"AD\",\"I\",\"II\",\"III/IV\"], sns.color_palette(\"Reds\", len([\"AD\",\"I\",\"II\",\"III/IV\"])).as_hex()))\n",
    "grade_colordict = dict(zip([\"G1\",\"G2\",\"G3\"], sns.color_palette(\"Reds\", len([\"G1\",\"G2\",\"G3\"])).as_hex()))\n",
    "cmap_dict = {**cmap_dict, **stage_colordict, **grade_colordict}"
   ]
  },
  {
   "cell_type": "code",
   "execution_count": null,
   "metadata": {},
   "outputs": [],
   "source": [
    "patient_colordict = dict(zip(sample_key.patient_name, [cmap_dict[x] for x in sample_key.tumor_type]))"
   ]
  },
  {
   "cell_type": "code",
   "execution_count": null,
   "metadata": {},
   "outputs": [],
   "source": [
    "cmap = matplotlib.cm.get_cmap(\"plasma\", 8)\n",
    "mw_colordict = dict(zip([\"D0\",\"D1\",\"D2\",\"D3\",\"D4\",\"D5\",\"D6\",\"D7\"], [matplotlib.colors.rgb2hex(cmap(i)) for i in range(cmap.N)]))"
   ]
  },
  {
   "cell_type": "code",
   "execution_count": null,
   "metadata": {},
   "outputs": [],
   "source": [
    "signatures_activity_height = 7\n",
    "signatures_epi_stroma_height = 4.1\n",
    "signatures_myeloid_height = 3\n",
    "signatures_lymphoid_height = 4.7\n",
    "signatures_curated_height = 6\n",
    "signatures_fig_1_height = 3\n",
    "signatures_fig_2_height = 3.2\n",
    "refNMF_height = 8\n",
    "archetypes_height = 2.7\n",
    "mxif_height = 8.2"
   ]
  },
  {
   "cell_type": "code",
   "execution_count": null,
   "metadata": {},
   "outputs": [],
   "source": [
    "# define heatmap widths\n",
    "milwrm_width = 4.1\n",
    "tumor_type_width = 3.2\n",
    "tumor_loc_width = 3.7\n",
    "tumor_stage_width = 3.2\n",
    "tumor_grade_width = 3.0\n",
    "patient_width = 8.7\n",
    "pathology_width = 4.0\n",
    "evolution_width = 3.0\n",
    "evolution_grouped_width = 2.5\n",
    "cnv_domain_width = 3.0"
   ]
  },
  {
   "cell_type": "markdown",
   "metadata": {},
   "source": [
    "---\n",
    "# Overview plots\n",
    "\n",
    "Summaries of global signatures, genes, archetypes by CNV clusters"
   ]
  },
  {
   "cell_type": "markdown",
   "metadata": {},
   "source": [
    "---\n",
    "## VUMC refNMF30 by `CNV Clone`"
   ]
  },
  {
   "cell_type": "code",
   "execution_count": null,
   "metadata": {},
   "outputs": [],
   "source": [
    "# split refNMF cell states by compartment\n",
    "nmf_epi = [\n",
    " 'STM',\n",
    " 'CRC1',\n",
    " 'CRC2',\n",
    " 'CT',\n",
    " 'SSC',\n",
    " 'CRC3',\n",
    " 'EE1',\n",
    " 'GOB',\n",
    " 'CRC4',\n",
    " 'ABS',\n",
    " 'TUF',\n",
    " 'EE2',\n",
    "]\n",
    "nmf_epi.sort()\n",
    "\n",
    "nmf_stroma = [\n",
    " 'END1',\n",
    " 'FIB1',\n",
    " 'FIB2',\n",
    " 'FIB3',\n",
    " 'FIB4',\n",
    " 'END2',\n",
    "]\n",
    "nmf_stroma.sort()\n",
    "\n",
    "nmf_immune = [\n",
    " 'BL1',\n",
    " 'MYE1',\n",
    " 'TL1',\n",
    " 'MYE2',\n",
    " 'MYE3',\n",
    " 'PLA',\n",
    " 'MYE4',\n",
    " 'MAS',\n",
    " 'MYE5',\n",
    " 'TL2',\n",
    " 'TL3',\n",
    " 'BL2'\n",
    "]\n",
    "nmf_immune.sort()\n",
    "\n",
    "marker_states_dict = {\n",
    "    \"PPT\": [\"CNV score\",\"TMB\"],\n",
    "    \"Epithelial\": nmf_epi,\n",
    "    \"Stromal\": nmf_stroma,\n",
    "    \"Immune\": nmf_immune,\n",
    "}"
   ]
  },
  {
   "cell_type": "code",
   "execution_count": null,
   "metadata": {},
   "outputs": [],
   "source": [
    "for pat in a_comb.obs.Patient.unique():\n",
    "    print(pat)\n",
    "    tmp = a_comb[a_comb.obs.Patient == pat, :].copy()\n",
    "\n",
    "    # reorder clones\n",
    "    tmp.obs[\"CNV clone\"] = tmp.obs[\"CNV clone\"].astype(\"category\")\n",
    "    clone_order = list(tmp.obs[\"CNV clone\"].cat.categories)\n",
    "    pre_clones = []\n",
    "    for cluster in [\"E\", \"S\"]:\n",
    "        if cluster in clone_order:\n",
    "            clone_order.remove(cluster)\n",
    "            pre_clones.append(cluster)\n",
    "    for cluster in [\"E\", \"S\"]:\n",
    "        if cluster in pre_clones:\n",
    "            clone_order.insert(0, cluster)\n",
    "            \n",
    "    # loading uns dict back in from .npy file\n",
    "    if pat==\"HTA11_08622_A\":\n",
    "        cnv_clone_colordict = np.load(\"infercnv/cnv_clone_colors_HTA11_08622.npy\", allow_pickle='TRUE').item()\n",
    "    elif pat==\"HTA11_08622_B\":\n",
    "        cnv_clone_colordict = np.load(\"infercnv/cnv_clone_colors_HTA11_08622.npy\", allow_pickle='TRUE').item()\n",
    "    else:\n",
    "        cnv_clone_colordict = np.load(\"infercnv/cnv_clone_colors_{}.npy\".format(pat), allow_pickle='TRUE').item()\n",
    "    \n",
    "    cody_heatmap(\n",
    "        tmp,\n",
    "        groupby=\"CNV clone\",\n",
    "        groupby_colordict=cnv_clone_colordict,\n",
    "        features=sum(marker_states_dict.values(), []),\n",
    "        cluster_vars=False,\n",
    "        groupby_order=clone_order,\n",
    "        vars_dict=marker_states_dict,\n",
    "        cluster_obs=False,\n",
    "        figsize=(0.8*len(tmp.obs[\"CNV clone\"].cat.categories) if len(tmp.obs[\"CNV clone\"].cat.categories) > 3 else 2.6, refNMF_height),\n",
    "        save=\"plots_patient/{}_cnv_clone_VUMCrefNMF30_dotplot.png\".format(pat),\n",
    "        dpi=400,\n",
    "        cmap=\"Greys\",\n",
    "        size_title=\"Fraction of spots\\nin group (%)\",\n",
    "    )"
   ]
  },
  {
   "cell_type": "markdown",
   "metadata": {},
   "source": [
    "---\n",
    "## Archetypes by `CNV Clone`"
   ]
  },
  {
   "cell_type": "code",
   "execution_count": null,
   "metadata": {},
   "outputs": [],
   "source": [
    "# split refNMF cell states by compartment\n",
    "at_epi = [\n",
    " 'A3_Endocrine',\n",
    " 'A4_MUC',\n",
    " 'A5_ABS',\n",
    " 'A8_Stem',\n",
    "]\n",
    "at_epi.sort()\n",
    "\n",
    "at_stroma = [\n",
    " 'A6_SM',\n",
    "]\n",
    "at_stroma.sort()\n",
    "\n",
    "at_immune = [\n",
    " 'A1_Innate',\n",
    " 'A2_Cytotoxic',\n",
    " 'A7_Adaptive',\n",
    "]\n",
    "at_immune.sort()\n",
    "\n",
    "archetypes_dict = {\n",
    "    \"PPT\": [\"CNV score\",\"TMB\"],\n",
    "    \"Epi.\": at_epi,\n",
    "    \"Non-Epi.\": at_stroma + at_immune,\n",
    "}"
   ]
  },
  {
   "cell_type": "code",
   "execution_count": null,
   "metadata": {},
   "outputs": [],
   "source": [
    "for pat in a_comb.obs.Patient.unique():\n",
    "    print(pat)\n",
    "    tmp = a_comb[a_comb.obs.Patient == pat, :].copy()\n",
    "\n",
    "    # reorder clones\n",
    "    tmp.obs[\"CNV clone\"] = tmp.obs[\"CNV clone\"].astype(\"category\")\n",
    "    clone_order = list(tmp.obs[\"CNV clone\"].cat.categories)\n",
    "    pre_clones = []\n",
    "    for cluster in [\"E\", \"S\"]:\n",
    "        if cluster in clone_order:\n",
    "            clone_order.remove(cluster)\n",
    "            pre_clones.append(cluster)\n",
    "    for cluster in [\"E\", \"S\"]:\n",
    "        if cluster in pre_clones:\n",
    "            clone_order.insert(0, cluster)\n",
    "            \n",
    "    # loading uns dict back in from .npy file\n",
    "    if pat==\"HTA11_08622_A\":\n",
    "        cnv_clone_colordict = np.load(\"infercnv/cnv_clone_colors_HTA11_08622.npy\", allow_pickle='TRUE').item()\n",
    "    elif pat==\"HTA11_08622_B\":\n",
    "        cnv_clone_colordict = np.load(\"infercnv/cnv_clone_colors_HTA11_08622.npy\", allow_pickle='TRUE').item()\n",
    "    else:\n",
    "        cnv_clone_colordict = np.load(\"infercnv/cnv_clone_colors_{}.npy\".format(pat), allow_pickle='TRUE').item()\n",
    "    \n",
    "    cody_heatmap(\n",
    "        tmp,\n",
    "        groupby=\"CNV clone\",\n",
    "        groupby_colordict=cnv_clone_colordict,\n",
    "        features=sum(archetypes_dict.values(), []),\n",
    "        cluster_vars=False,\n",
    "        groupby_order=clone_order,\n",
    "        vars_dict=archetypes_dict,\n",
    "        cluster_obs=False,\n",
    "        figsize=(0.8*len(tmp.obs[\"CNV clone\"].cat.categories) if len(tmp.obs[\"CNV clone\"].cat.categories) > 3 else 2.6, archetypes_height),\n",
    "        save=\"plots_patient/{}_cnv_clone_archetypes_dotplot.png\".format(pat),\n",
    "        dpi=400,\n",
    "        cmap=\"Greys\",\n",
    "        size_title=\"Fraction of spots\\nin group (%)\",\n",
    "    )"
   ]
  },
  {
   "cell_type": "markdown",
   "metadata": {},
   "source": [
    "---\n",
    "## Activity Signatures by `CNV Clone`"
   ]
  },
  {
   "cell_type": "code",
   "execution_count": null,
   "metadata": {},
   "outputs": [],
   "source": [
    "for pat in a_comb.obs.Patient.unique():\n",
    "    print(pat)\n",
    "    tmp = a_comb[a_comb.obs.Patient == pat, :].copy()\n",
    "\n",
    "    # reorder clones\n",
    "    tmp.obs[\"CNV clone\"] = tmp.obs[\"CNV clone\"].astype(\"category\")\n",
    "    clone_order = list(tmp.obs[\"CNV clone\"].cat.categories)\n",
    "    pre_clones = []\n",
    "    for cluster in [\"E\", \"S\"]:\n",
    "        if cluster in clone_order:\n",
    "            clone_order.remove(cluster)\n",
    "            pre_clones.append(cluster)\n",
    "    for cluster in [\"E\", \"S\"]:\n",
    "        if cluster in pre_clones:\n",
    "            clone_order.insert(0, cluster)\n",
    "    \n",
    "    # loading uns dict back in from .npy file\n",
    "    if pat==\"HTA11_08622_A\":\n",
    "        cnv_clone_colordict = np.load(\"infercnv/cnv_clone_colors_HTA11_08622.npy\", allow_pickle='TRUE').item()\n",
    "    elif pat==\"HTA11_08622_B\":\n",
    "        cnv_clone_colordict = np.load(\"infercnv/cnv_clone_colors_HTA11_08622.npy\", allow_pickle='TRUE').item()\n",
    "    else:\n",
    "        cnv_clone_colordict = np.load(\"infercnv/cnv_clone_colors_{}.npy\".format(pat), allow_pickle='TRUE').item()\n",
    "    \n",
    "    cody_heatmap(\n",
    "        tmp,\n",
    "        groupby=\"CNV clone\",\n",
    "        groupby_colordict=cnv_clone_colordict,\n",
    "        features=signatures_activity,\n",
    "        cluster_vars=True,\n",
    "        groupby_order=clone_order,\n",
    "        cluster_obs=False,\n",
    "        figsize=(0.8*len(tmp.obs[\"CNV clone\"].cat.categories) if len(tmp.obs[\"CNV clone\"].cat.categories) > 3 else 2.6, signatures_activity_height),\n",
    "        save=\"plots_patient/{}_cnv_clone_signatures_activity_dotplot.png\".format(pat),\n",
    "        dpi=400,\n",
    "        cmap=\"Greys\",\n",
    "        size_title=\"Fraction of spots\\nin group (%)\",\n",
    "    )"
   ]
  },
  {
   "cell_type": "markdown",
   "metadata": {},
   "source": [
    "---\n",
    "## Epithelial & Stromal Signatures by `CNV Clone`"
   ]
  },
  {
   "cell_type": "code",
   "execution_count": null,
   "metadata": {},
   "outputs": [],
   "source": [
    "for pat in a_comb.obs.Patient.unique():\n",
    "    print(pat)\n",
    "    tmp = a_comb[a_comb.obs.Patient == pat, :].copy()\n",
    "\n",
    "    # reorder clones\n",
    "    tmp.obs[\"CNV clone\"] = tmp.obs[\"CNV clone\"].astype(\"category\")\n",
    "    clone_order = list(tmp.obs[\"CNV clone\"].cat.categories)\n",
    "    pre_clones = []\n",
    "    for cluster in [\"E\", \"S\"]:\n",
    "        if cluster in clone_order:\n",
    "            clone_order.remove(cluster)\n",
    "            pre_clones.append(cluster)\n",
    "    for cluster in [\"E\", \"S\"]:\n",
    "        if cluster in pre_clones:\n",
    "            clone_order.insert(0, cluster)\n",
    "    \n",
    "    # loading uns dict back in from .npy file\n",
    "    if pat==\"HTA11_08622_A\":\n",
    "        cnv_clone_colordict = np.load(\"infercnv/cnv_clone_colors_HTA11_08622.npy\", allow_pickle='TRUE').item()\n",
    "    elif pat==\"HTA11_08622_B\":\n",
    "        cnv_clone_colordict = np.load(\"infercnv/cnv_clone_colors_HTA11_08622.npy\", allow_pickle='TRUE').item()\n",
    "    else:\n",
    "        cnv_clone_colordict = np.load(\"infercnv/cnv_clone_colors_{}.npy\".format(pat), allow_pickle='TRUE').item()\n",
    "    \n",
    "    cody_heatmap(\n",
    "        tmp,\n",
    "        groupby=\"CNV clone\",\n",
    "        groupby_colordict=cnv_clone_colordict,\n",
    "        features=signatures_epi_stroma,\n",
    "        cluster_vars=True,\n",
    "        groupby_order=clone_order,\n",
    "        cluster_obs=False,\n",
    "        figsize=(0.8*len(tmp.obs[\"CNV clone\"].cat.categories) if len(tmp.obs[\"CNV clone\"].cat.categories) > 3 else 2.6, signatures_epi_stroma_height),\n",
    "        save=\"plots_patient/{}_cnv_clone_signatures_epi_stroma_dotplot.png\".format(pat),\n",
    "        dpi=400,\n",
    "        cmap=\"Greys\",\n",
    "        size_title=\"Fraction of spots\\nin group (%)\",\n",
    "    )"
   ]
  },
  {
   "cell_type": "markdown",
   "metadata": {},
   "source": [
    "---\n",
    "## Myeloid Signatures by `CNV Clone`"
   ]
  },
  {
   "cell_type": "code",
   "execution_count": null,
   "metadata": {},
   "outputs": [],
   "source": [
    "for pat in a_comb.obs.Patient.unique():\n",
    "    print(pat)\n",
    "    tmp = a_comb[a_comb.obs.Patient == pat, :].copy()\n",
    "\n",
    "    # reorder clones\n",
    "    tmp.obs[\"CNV clone\"] = tmp.obs[\"CNV clone\"].astype(\"category\")\n",
    "    clone_order = list(tmp.obs[\"CNV clone\"].cat.categories)\n",
    "    pre_clones = []\n",
    "    for cluster in [\"E\", \"S\"]:\n",
    "        if cluster in clone_order:\n",
    "            clone_order.remove(cluster)\n",
    "            pre_clones.append(cluster)\n",
    "    for cluster in [\"E\", \"S\"]:\n",
    "        if cluster in pre_clones:\n",
    "            clone_order.insert(0, cluster)\n",
    "    \n",
    "    # loading uns dict back in from .npy file\n",
    "    if pat==\"HTA11_08622_A\":\n",
    "        cnv_clone_colordict = np.load(\"infercnv/cnv_clone_colors_HTA11_08622.npy\", allow_pickle='TRUE').item()\n",
    "    elif pat==\"HTA11_08622_B\":\n",
    "        cnv_clone_colordict = np.load(\"infercnv/cnv_clone_colors_HTA11_08622.npy\", allow_pickle='TRUE').item()\n",
    "    else:\n",
    "        cnv_clone_colordict = np.load(\"infercnv/cnv_clone_colors_{}.npy\".format(pat), allow_pickle='TRUE').item()\n",
    "    \n",
    "    cody_heatmap(\n",
    "        tmp,\n",
    "        groupby=\"CNV clone\",\n",
    "        groupby_colordict=cnv_clone_colordict,\n",
    "        features=signatures_myeloid,\n",
    "        cluster_vars=True,\n",
    "        groupby_order=clone_order,\n",
    "        cluster_obs=False,\n",
    "        figsize=(0.8*len(tmp.obs[\"CNV clone\"].cat.categories) if len(tmp.obs[\"CNV clone\"].cat.categories) > 3 else 2.6, signatures_myeloid_height),\n",
    "        save=\"plots_patient/{}_cnv_clone_signatures_myeloid_dotplot.png\".format(pat),\n",
    "        dpi=400,\n",
    "        cmap=\"Greys\",\n",
    "        size_title=\"Fraction of spots\\nin group (%)\",\n",
    "    )"
   ]
  },
  {
   "cell_type": "markdown",
   "metadata": {},
   "source": [
    "---\n",
    "## Lymphoid Signatures by `CNV Clone`"
   ]
  },
  {
   "cell_type": "code",
   "execution_count": null,
   "metadata": {},
   "outputs": [],
   "source": [
    "for pat in a_comb.obs.Patient.unique():\n",
    "    print(pat)\n",
    "    tmp = a_comb[a_comb.obs.Patient == pat, :].copy()\n",
    "\n",
    "    # reorder clones\n",
    "    tmp.obs[\"CNV clone\"] = tmp.obs[\"CNV clone\"].astype(\"category\")\n",
    "    clone_order = list(tmp.obs[\"CNV clone\"].cat.categories)\n",
    "    pre_clones = []\n",
    "    for cluster in [\"E\", \"S\"]:\n",
    "        if cluster in clone_order:\n",
    "            clone_order.remove(cluster)\n",
    "            pre_clones.append(cluster)\n",
    "    for cluster in [\"E\", \"S\"]:\n",
    "        if cluster in pre_clones:\n",
    "            clone_order.insert(0, cluster)\n",
    "    \n",
    "    # loading uns dict back in from .npy file\n",
    "    if pat==\"HTA11_08622_A\":\n",
    "        cnv_clone_colordict = np.load(\"infercnv/cnv_clone_colors_HTA11_08622.npy\", allow_pickle='TRUE').item()\n",
    "    elif pat==\"HTA11_08622_B\":\n",
    "        cnv_clone_colordict = np.load(\"infercnv/cnv_clone_colors_HTA11_08622.npy\", allow_pickle='TRUE').item()\n",
    "    else:\n",
    "        cnv_clone_colordict = np.load(\"infercnv/cnv_clone_colors_{}.npy\".format(pat), allow_pickle='TRUE').item()\n",
    "    \n",
    "    cody_heatmap(\n",
    "        tmp,\n",
    "        groupby=\"CNV clone\",\n",
    "        groupby_colordict=cnv_clone_colordict,\n",
    "        features=signatures_lymphoid,\n",
    "        cluster_vars=True,\n",
    "        groupby_order=clone_order,\n",
    "        cluster_obs=False,\n",
    "        figsize=(0.8*len(tmp.obs[\"CNV clone\"].cat.categories) if len(tmp.obs[\"CNV clone\"].cat.categories) > 3 else 2.6, signatures_lymphoid_height),\n",
    "        save=\"plots_patient/{}_cnv_clone_signatures_lymphoid_dotplot.png\".format(pat),\n",
    "        dpi=400,\n",
    "        cmap=\"Greys\",\n",
    "        size_title=\"Fraction of spots\\nin group (%)\",\n",
    "    )"
   ]
  },
  {
   "cell_type": "markdown",
   "metadata": {},
   "source": [
    "---\n",
    "## Curated Signatures by `CNV Clone`"
   ]
  },
  {
   "cell_type": "code",
   "execution_count": null,
   "metadata": {},
   "outputs": [],
   "source": [
    "for pat in a_comb.obs.Patient.unique():\n",
    "    print(pat)\n",
    "    tmp = a_comb[a_comb.obs.Patient == pat, :].copy()\n",
    "\n",
    "    # reorder clones\n",
    "    tmp.obs[\"CNV clone\"] = tmp.obs[\"CNV clone\"].astype(\"category\")\n",
    "    clone_order = list(tmp.obs[\"CNV clone\"].cat.categories)\n",
    "    pre_clones = []\n",
    "    for cluster in [\"E\", \"S\"]:\n",
    "        if cluster in clone_order:\n",
    "            clone_order.remove(cluster)\n",
    "            pre_clones.append(cluster)\n",
    "    for cluster in [\"E\", \"S\"]:\n",
    "        if cluster in pre_clones:\n",
    "            clone_order.insert(0, cluster)\n",
    "    \n",
    "    # loading uns dict back in from .npy file\n",
    "    if pat==\"HTA11_08622_A\":\n",
    "        cnv_clone_colordict = np.load(\"infercnv/cnv_clone_colors_HTA11_08622.npy\", allow_pickle='TRUE').item()\n",
    "    elif pat==\"HTA11_08622_B\":\n",
    "        cnv_clone_colordict = np.load(\"infercnv/cnv_clone_colors_HTA11_08622.npy\", allow_pickle='TRUE').item()\n",
    "    else:\n",
    "        cnv_clone_colordict = np.load(\"infercnv/cnv_clone_colors_{}.npy\".format(pat), allow_pickle='TRUE').item()\n",
    "    \n",
    "    cody_heatmap(\n",
    "        tmp,\n",
    "        groupby=\"CNV clone\",\n",
    "        groupby_colordict=cnv_clone_colordict,\n",
    "        features=signatures_curated,\n",
    "        cluster_vars=True,\n",
    "        groupby_order=clone_order,\n",
    "        cluster_obs=False,\n",
    "        figsize=(0.8*len(tmp.obs[\"CNV clone\"].cat.categories) if len(tmp.obs[\"CNV clone\"].cat.categories) > 3 else 2.6, signatures_curated_height),\n",
    "        save=\"plots_patient/{}_cnv_clone_signatures_curated_dotplot.png\".format(pat),\n",
    "        dpi=400,\n",
    "        cmap=\"Greys\",\n",
    "        size_title=\"Fraction of spots\\nin group (%)\",\n",
    "    )"
   ]
  },
  {
   "cell_type": "markdown",
   "metadata": {},
   "source": [
    "---\n",
    "## `signatures_fig_1_2` by `CNV Clone`"
   ]
  },
  {
   "cell_type": "code",
   "execution_count": null,
   "metadata": {},
   "outputs": [],
   "source": [
    "for pat in a_comb.obs.Patient.unique():\n",
    "    print(pat)\n",
    "    tmp = a_comb[a_comb.obs.Patient == pat, :].copy()\n",
    "\n",
    "    # reorder clones\n",
    "    tmp.obs[\"CNV clone\"] = tmp.obs[\"CNV clone\"].astype(\"category\")\n",
    "    clone_order = list(tmp.obs[\"CNV clone\"].cat.categories)\n",
    "    pre_clones = []\n",
    "    for cluster in [\"E\", \"S\"]:\n",
    "        if cluster in clone_order:\n",
    "            clone_order.remove(cluster)\n",
    "            pre_clones.append(cluster)\n",
    "    for cluster in [\"E\", \"S\"]:\n",
    "        if cluster in pre_clones:\n",
    "            clone_order.insert(0, cluster)\n",
    "    \n",
    "    # loading uns dict back in from .npy file\n",
    "    if pat==\"HTA11_08622_A\":\n",
    "        cnv_clone_colordict = np.load(\"infercnv/cnv_clone_colors_HTA11_08622.npy\", allow_pickle='TRUE').item()\n",
    "    elif pat==\"HTA11_08622_B\":\n",
    "        cnv_clone_colordict = np.load(\"infercnv/cnv_clone_colors_HTA11_08622.npy\", allow_pickle='TRUE').item()\n",
    "    else:\n",
    "        cnv_clone_colordict = np.load(\"infercnv/cnv_clone_colors_{}.npy\".format(pat), allow_pickle='TRUE').item()\n",
    "    \n",
    "    cody_heatmap(\n",
    "        tmp,\n",
    "        groupby=\"CNV clone\",\n",
    "        groupby_colordict=cnv_clone_colordict,\n",
    "        features=signatures_fig_1,\n",
    "        cluster_vars=True,\n",
    "        groupby_order=clone_order,\n",
    "        cluster_obs=False,\n",
    "        figsize=(0.8*len(tmp.obs[\"CNV clone\"].cat.categories) if len(tmp.obs[\"CNV clone\"].cat.categories) > 3 else 2.6, signatures_fig_1_height),\n",
    "        save=\"plots_patient/{}_cnv_clone_signatures_fig_1_dotplot.png\".format(pat),\n",
    "        dpi=400,\n",
    "        cmap=\"Greys\",\n",
    "        size_title=\"Fraction of spots\\nin group (%)\",\n",
    "    )"
   ]
  },
  {
   "cell_type": "code",
   "execution_count": null,
   "metadata": {},
   "outputs": [],
   "source": [
    "for pat in a_comb.obs.Patient.unique():\n",
    "    print(pat)\n",
    "    tmp = a_comb[a_comb.obs.Patient == pat, :].copy()\n",
    "\n",
    "    # reorder clones\n",
    "    tmp.obs[\"CNV clone\"] = tmp.obs[\"CNV clone\"].astype(\"category\")\n",
    "    clone_order = list(tmp.obs[\"CNV clone\"].cat.categories)\n",
    "    pre_clones = []\n",
    "    for cluster in [\"E\", \"S\"]:\n",
    "        if cluster in clone_order:\n",
    "            clone_order.remove(cluster)\n",
    "            pre_clones.append(cluster)\n",
    "    for cluster in [\"E\", \"S\"]:\n",
    "        if cluster in pre_clones:\n",
    "            clone_order.insert(0, cluster)\n",
    "    \n",
    "    # loading uns dict back in from .npy file\n",
    "    if pat==\"HTA11_08622_A\":\n",
    "        cnv_clone_colordict = np.load(\"infercnv/cnv_clone_colors_HTA11_08622.npy\", allow_pickle='TRUE').item()\n",
    "    elif pat==\"HTA11_08622_B\":\n",
    "        cnv_clone_colordict = np.load(\"infercnv/cnv_clone_colors_HTA11_08622.npy\", allow_pickle='TRUE').item()\n",
    "    else:\n",
    "        cnv_clone_colordict = np.load(\"infercnv/cnv_clone_colors_{}.npy\".format(pat), allow_pickle='TRUE').item()\n",
    "    \n",
    "    cody_heatmap(\n",
    "        tmp,\n",
    "        groupby=\"CNV clone\",\n",
    "        groupby_colordict=cnv_clone_colordict,\n",
    "        features=signatures_fig_2,\n",
    "        cluster_vars=True,\n",
    "        groupby_order=clone_order,\n",
    "        cluster_obs=False,\n",
    "        figsize=(0.8*len(tmp.obs[\"CNV clone\"].cat.categories) if len(tmp.obs[\"CNV clone\"].cat.categories) > 3 else 2.6, signatures_fig_2_height),\n",
    "        save=\"plots_patient/{}_cnv_clone_signatures_fig_2_dotplot.png\".format(pat),\n",
    "        dpi=400,\n",
    "        cmap=\"Greys\",\n",
    "        size_title=\"Fraction of spots\\nin group (%)\",\n",
    "    )"
   ]
  },
  {
   "cell_type": "markdown",
   "metadata": {},
   "source": [
    "---\n",
    "## MxIF Intensities by `CNV Clone`"
   ]
  },
  {
   "cell_type": "code",
   "execution_count": null,
   "metadata": {},
   "outputs": [],
   "source": [
    "for pat in a_comb.obs.Patient.unique():\n",
    "    print(pat)\n",
    "    tmp = a_comb[a_comb.obs.Patient == pat, :].copy()\n",
    "\n",
    "    # reorder clones\n",
    "    tmp.obs[\"CNV clone\"] = tmp.obs[\"CNV clone\"].astype(\"category\")\n",
    "    clone_order = list(tmp.obs[\"CNV clone\"].cat.categories)\n",
    "    pre_clones = []\n",
    "    for cluster in [\"E\", \"S\"]:\n",
    "        if cluster in clone_order:\n",
    "            clone_order.remove(cluster)\n",
    "            pre_clones.append(cluster)\n",
    "    for cluster in [\"E\", \"S\"]:\n",
    "        if cluster in pre_clones:\n",
    "            clone_order.insert(0, cluster)\n",
    "    \n",
    "    # loading uns dict back in from .npy file\n",
    "    if pat==\"HTA11_08622_A\":\n",
    "        cnv_clone_colordict = np.load(\"infercnv/cnv_clone_colors_HTA11_08622.npy\", allow_pickle='TRUE').item()\n",
    "    elif pat==\"HTA11_08622_B\":\n",
    "        cnv_clone_colordict = np.load(\"infercnv/cnv_clone_colors_HTA11_08622.npy\", allow_pickle='TRUE').item()\n",
    "    else:\n",
    "        cnv_clone_colordict = np.load(\"infercnv/cnv_clone_colors_{}.npy\".format(pat), allow_pickle='TRUE').item()\n",
    "    \n",
    "    cody_heatmap(\n",
    "        tmp,\n",
    "        groupby=\"CNV clone\",\n",
    "        groupby_colordict=cnv_clone_colordict,\n",
    "        features=new_mxif,\n",
    "        cluster_vars=True,\n",
    "        groupby_order=clone_order,\n",
    "        cluster_obs=False,\n",
    "        figsize=(0.8*len(tmp.obs[\"CNV clone\"].cat.categories) if len(tmp.obs[\"CNV clone\"].cat.categories) > 3 else 2.6, mxif_height),\n",
    "        save=\"plots_patient/{}_cnv_clone_MxIF_dotplot.png\".format(pat),\n",
    "        dpi=400,\n",
    "        cmap=\"Greys\",\n",
    "        size_title=\"Fraction of spots\\nin group (%)\",\n",
    "    )"
   ]
  },
  {
   "cell_type": "markdown",
   "metadata": {},
   "source": [
    "---\n",
    "## Immune Exclusion Markers by `CNV Clone`"
   ]
  },
  {
   "cell_type": "code",
   "execution_count": null,
   "metadata": {},
   "outputs": [],
   "source": [
    "custom_dict = {\n",
    "    \"PPT\": [\"CNV score\",\"TMB\"],\n",
    "    \"Excl.\": [\"IES\",\"DDR1\",\"PAK4\",\"TGFBI\",\"DPEP1\",\"Fibrosis\"],\n",
    "    \"uEnv.\": [\"FIB2\",\"FIB3\",\"MYE2\"],\n",
    "    \"Inf.\": [\"T cell CD4\",\"T reg suppressive\",\"TL1\",\"T cell CD8\",\"TL2\",\"TL3\",\"MYE4\",\"MYE5\"],\n",
    "    \"Act.\": [\"Oxphos\",\"Hypoxia\",\"pEMT\"],\n",
    "    \"MSS\": [\"iCMS2\",\"Stem\",\"CRC2\"],\n",
    "    \"MSI\": [\"iCMS3\",\"SSC\",\"Metaplasia\"],\n",
    "    \"NL\": [\"GOB\",\"ABS\",\"CT\"],\n",
    "}\n",
    "custom_dict_height = 7.4"
   ]
  },
  {
   "cell_type": "code",
   "execution_count": null,
   "metadata": {},
   "outputs": [],
   "source": [
    "for pat in a_comb.obs.Patient.unique():\n",
    "    print(pat)\n",
    "    tmp = a_comb[a_comb.obs.Patient == pat, :].copy()\n",
    "\n",
    "    # reorder clones\n",
    "    tmp.obs[\"CNV clone\"] = tmp.obs[\"CNV clone\"].astype(\"category\")\n",
    "    clone_order = list(tmp.obs[\"CNV clone\"].cat.categories)\n",
    "    pre_clones = []\n",
    "    for cluster in [\"E\", \"S\"]:\n",
    "        if cluster in clone_order:\n",
    "            clone_order.remove(cluster)\n",
    "            pre_clones.append(cluster)\n",
    "    for cluster in [\"E\", \"S\"]:\n",
    "        if cluster in pre_clones:\n",
    "            clone_order.insert(0, cluster)\n",
    "            \n",
    "    tmp.obs.drop(columns=[\"DPEP1\"],inplace=True)\n",
    "    \n",
    "    # loading uns dict back in from .npy file\n",
    "    if pat==\"HTA11_08622_A\":\n",
    "        cnv_clone_colordict = np.load(\"infercnv/cnv_clone_colors_HTA11_08622.npy\", allow_pickle='TRUE').item()\n",
    "    elif pat==\"HTA11_08622_B\":\n",
    "        cnv_clone_colordict = np.load(\"infercnv/cnv_clone_colors_HTA11_08622.npy\", allow_pickle='TRUE').item()\n",
    "    else:\n",
    "        cnv_clone_colordict = np.load(\"infercnv/cnv_clone_colors_{}.npy\".format(pat), allow_pickle='TRUE').item()\n",
    "    \n",
    "    cody_heatmap(\n",
    "        tmp,\n",
    "        groupby=\"CNV clone\",\n",
    "        groupby_colordict=cnv_clone_colordict,\n",
    "        features=sum(custom_dict.values(), []),\n",
    "        cluster_vars=False,\n",
    "        groupby_order=clone_order,\n",
    "        vars_dict=custom_dict,\n",
    "        cluster_obs=False,\n",
    "        figsize=(0.8*len(tmp.obs[\"CNV clone\"].cat.categories) if len(tmp.obs[\"CNV clone\"].cat.categories) > 3 else 2.6, custom_dict_height),\n",
    "        save=\"plots_patient/{}_cnv_immexcl_dotplot.png\".format(pat),\n",
    "        dpi=400,\n",
    "        cmap=\"Greys\",\n",
    "        size_title=\"Fraction of spots\\nin group (%)\",\n",
    "    )"
   ]
  },
  {
   "cell_type": "markdown",
   "metadata": {},
   "source": [
    "---\n",
    "# Global plots across all patients"
   ]
  },
  {
   "cell_type": "code",
   "execution_count": null,
   "metadata": {},
   "outputs": [],
   "source": [
    "a_comb.obs[\"CNV clone\"] = a_comb.obs.Patient + \" \" + a_comb.obs[\"CNV Clone\"]"
   ]
  },
  {
   "cell_type": "markdown",
   "metadata": {},
   "source": [
    "---\n",
    "# Curated ordering"
   ]
  },
  {
   "cell_type": "code",
   "execution_count": null,
   "metadata": {},
   "outputs": [],
   "source": [
    "sample_key.loc[sample_key.tumor_type==\"SSL/HP\",\"CIN Status\"] = \"HM\""
   ]
  },
  {
   "cell_type": "code",
   "execution_count": null,
   "metadata": {},
   "outputs": [],
   "source": [
    "CIN_PATs = sample_key.loc[sample_key[\"CIN Status\"].fillna(\"CIN+\")==\"CIN+\",\"patient_name\"].unique()"
   ]
  },
  {
   "cell_type": "code",
   "execution_count": null,
   "metadata": {},
   "outputs": [],
   "source": [
    "CIN_PATs"
   ]
  },
  {
   "cell_type": "code",
   "execution_count": null,
   "metadata": {},
   "outputs": [],
   "source": [
    "HM_PATs = sample_key.loc[sample_key[\"CIN Status\"].fillna(\"CIN+\")==\"HM\",\"patient_name\"].unique()"
   ]
  },
  {
   "cell_type": "code",
   "execution_count": null,
   "metadata": {},
   "outputs": [],
   "source": [
    "HM_PATs"
   ]
  },
  {
   "cell_type": "code",
   "execution_count": null,
   "metadata": {},
   "outputs": [],
   "source": [
    "tmp1_adata = a_comb[a_comb.obs.Patient.isin(CIN_PATs), :].copy()\n",
    "tmp1 = tmp1_adata.obs.groupby([\"CNV clone\"]).mean().sort_values([\"CNV score\"], ascending=[True]).reset_index()\n",
    "\n",
    "tmp2_adata = a_comb[a_comb.obs.Patient.isin(HM_PATs), :].copy()\n",
    "tmp2 = tmp2_adata.obs.groupby([\"CNV clone\"]).mean().sort_values([\"TMB\"], ascending=[True]).reset_index()"
   ]
  },
  {
   "cell_type": "code",
   "execution_count": null,
   "metadata": {},
   "outputs": [],
   "source": [
    "tmp1_order = list(tmp1.loc[~(tmp1[\"CNV clone\"].str.endswith(\" S\") | tmp1[\"CNV clone\"].str.endswith(\" E\")), \"CNV clone\"])\n",
    "tmp2_order = list(tmp2.loc[~(tmp2[\"CNV clone\"].str.endswith(\" S\") | tmp2[\"CNV clone\"].str.endswith(\" E\")), \"CNV clone\"])\n",
    "custom_order = tmp1_order + tmp2_order"
   ]
  },
  {
   "cell_type": "code",
   "execution_count": null,
   "metadata": {},
   "outputs": [],
   "source": [
    "patient_colordict = dict(zip(sample_key.patient_name, [cmap_dict[x] for x in sample_key.tumor_type]))\n",
    "tmp1_colors = dict(zip(tmp1_order, [patient_colordict[x.split(\" \")[0]] for x in tmp1_order]))\n",
    "tmp2_colors = dict(zip(tmp2_order, [patient_colordict[x.split(\" \")[0]] for x in tmp2_order]))\n",
    "custom_colors = dict(zip(custom_order, [patient_colordict[x.split(\" \")[0]] for x in custom_order]))"
   ]
  },
  {
   "cell_type": "code",
   "execution_count": null,
   "metadata": {},
   "outputs": [],
   "source": [
    "cody_heatmap(\n",
    "    tmp1_adata[tmp1_adata.obs[\"CNV clone\"].isin(tmp1_order), :],\n",
    "    groupby=\"CNV clone\",\n",
    "    features=sum(marker_states_dict.values(), []),\n",
    "    cluster_vars=False,\n",
    "    groupby_order=tmp1_order,\n",
    "    groupby_colordict=tmp1_colors,\n",
    "    vars_dict=marker_states_dict,\n",
    "    cluster_obs=False,\n",
    "    figsize=(9.2, refNMF_height),\n",
    "    save=\"plots_patient/patientCNVclone_CIN+_ordercustom_refNMF30_dotplot.png\",\n",
    "    dpi=400,\n",
    "    cmap=\"Greys\",\n",
    "    size_title=\"Fraction of spots\\nin group (%)\",\n",
    ")"
   ]
  },
  {
   "cell_type": "code",
   "execution_count": null,
   "metadata": {},
   "outputs": [],
   "source": [
    "cody_heatmap(\n",
    "    tmp2_adata[tmp2_adata.obs[\"CNV clone\"].isin(tmp2_order), :],\n",
    "    groupby=\"CNV clone\",\n",
    "    features=sum(marker_states_dict.values(), []),\n",
    "    cluster_vars=False,\n",
    "    groupby_order=tmp2_order,\n",
    "    groupby_colordict=tmp2_colors,\n",
    "    vars_dict=marker_states_dict,\n",
    "    cluster_obs=False,\n",
    "    figsize=(6.2, refNMF_height),\n",
    "    save=\"plots_patient/patientCNVclone_HM_ordercustom_refNMF30_dotplot.png\",\n",
    "    dpi=400,\n",
    "    cmap=\"Greys\",\n",
    "    size_title=\"Fraction of spots\\nin group (%)\",\n",
    ")"
   ]
  },
  {
   "cell_type": "code",
   "execution_count": null,
   "metadata": {},
   "outputs": [],
   "source": [
    "cody_heatmap(\n",
    "    a_comb[a_comb.obs[\"CNV clone\"].isin(custom_order), :],\n",
    "    groupby=\"CNV clone\",\n",
    "    features=sum(marker_states_dict.values(), []),\n",
    "    cluster_vars=False,\n",
    "    groupby_order=custom_order,\n",
    "    groupby_colordict=custom_colors,\n",
    "    vars_dict=marker_states_dict,\n",
    "    cluster_obs=False,\n",
    "    figsize=(13.2, refNMF_height),\n",
    "    save=\"plots_patient/patientCNVclone_ordercustom_refNMF30_dotplot.png\",\n",
    "    dpi=400,\n",
    "    cmap=\"Greys\",\n",
    "    size_title=\"Fraction of spots\\nin group (%)\",\n",
    ")"
   ]
  },
  {
   "cell_type": "code",
   "execution_count": null,
   "metadata": {},
   "outputs": [],
   "source": [
    "p = cody_heatmap(\n",
    "    a_comb[a_comb.obs[\"CNV clone\"].isin(custom_order), :],\n",
    "    groupby=\"CNV Clone\",\n",
    "    features=sum(archetypes_dict.values(), []),\n",
    "    cluster_vars=False,\n",
    "    groupby_order=custom_order,\n",
    "    groupby_colordict=custom_colors,\n",
    "    vars_dict=archetypes_dict,\n",
    "    cluster_obs=False,\n",
    "    figsize=(13.2, archetypes_height),\n",
    "    save=\"plots_patient/patientCNVclone_ordercustom_archetypes_dotplot.png\",\n",
    "    dpi=400,\n",
    "    cmap=\"Greys\",\n",
    "    size_title=\"Fraction of spots\\nin group (%)\",\n",
    ")"
   ]
  },
  {
   "cell_type": "code",
   "execution_count": null,
   "metadata": {},
   "outputs": [],
   "source": [
    "cody_heatmap(\n",
    "    a_comb[a_comb.obs[\"CNV clone\"].isin(custom_order), :],\n",
    "    groupby=\"CNV clone\",\n",
    "    features=signatures_activity,\n",
    "    cluster_vars=True,\n",
    "    groupby_order=custom_order,\n",
    "    groupby_colordict=custom_colors,\n",
    "    vars_dict=None,\n",
    "    cluster_obs=False,\n",
    "    figsize=(13.2, signatures_activity_height),\n",
    "    save=\"plots_patient/patientCNVclone_ordercustom_signatures_activity_dotplot.png\",\n",
    "    dpi=400,\n",
    "    cmap=\"Greys\",\n",
    "    size_title=\"Fraction of spots\\nin group (%)\",\n",
    ")"
   ]
  },
  {
   "cell_type": "code",
   "execution_count": null,
   "metadata": {},
   "outputs": [],
   "source": [
    "cody_heatmap(\n",
    "    a_comb[a_comb.obs[\"CNV clone\"].isin(custom_order), :],\n",
    "    groupby=\"CNV clone\",\n",
    "    features=signatures_epi_stroma + [\"TMB\",\"CNV score\"],\n",
    "    cluster_vars=True,\n",
    "    groupby_order=custom_order,\n",
    "    groupby_colordict=custom_colors,\n",
    "    vars_dict=None,\n",
    "    cluster_obs=False,\n",
    "    figsize=(13.2, signatures_epi_stroma_height),\n",
    "    save=\"plots_patient/patientCNVclone_ordercustom_signatures_epi_stroma_dotplot.png\",\n",
    "    dpi=400,\n",
    "    cmap=\"Greys\",\n",
    "    size_title=\"Fraction of spots\\nin group (%)\",\n",
    ")"
   ]
  },
  {
   "cell_type": "code",
   "execution_count": null,
   "metadata": {},
   "outputs": [],
   "source": [
    "cody_heatmap(\n",
    "    a_comb[a_comb.obs[\"CNV clone\"].isin(custom_order), :],\n",
    "    groupby=\"CNV clone\",\n",
    "    features=signatures_myeloid + [\"TMB\",\"CNV score\"],\n",
    "    cluster_vars=True,\n",
    "    groupby_order=custom_order,\n",
    "    groupby_colordict=custom_colors,\n",
    "    vars_dict=None,\n",
    "    cluster_obs=False,\n",
    "    figsize=(13.2, signatures_myeloid_height),\n",
    "    save=\"plots_patient/patientCNVclone_ordercustom_signatures_myeloid_dotplot.png\",\n",
    "    dpi=400,\n",
    "    cmap=\"Greys\",\n",
    "    size_title=\"Fraction of spots\\nin group (%)\",\n",
    ")"
   ]
  },
  {
   "cell_type": "code",
   "execution_count": null,
   "metadata": {},
   "outputs": [],
   "source": [
    "cody_heatmap(\n",
    "    a_comb[a_comb.obs[\"CNV clone\"].isin(custom_order), :],\n",
    "    groupby=\"CNV clone\",\n",
    "    features=signatures_lymphoid + [\"TMB\",\"CNV score\"],\n",
    "    cluster_vars=True,\n",
    "    groupby_order=custom_order,\n",
    "    groupby_colordict=custom_colors,\n",
    "    vars_dict=None,\n",
    "    cluster_obs=False,\n",
    "    figsize=(13.2, signatures_lymphoid_height),\n",
    "    save=\"plots_patient/patientCNVclone_ordercustom_signatures_lymphoid_dotplot.png\",\n",
    "    dpi=400,\n",
    "    cmap=\"Greys\",\n",
    "    size_title=\"Fraction of spots\\nin group (%)\",\n",
    ")"
   ]
  },
  {
   "cell_type": "code",
   "execution_count": null,
   "metadata": {},
   "outputs": [],
   "source": [
    "cody_heatmap(\n",
    "    a_comb[a_comb.obs[\"CNV clone\"].isin(custom_order), :],\n",
    "    groupby=\"CNV clone\",\n",
    "    features=signatures_curated,\n",
    "    cluster_vars=True,\n",
    "    groupby_order=custom_order,\n",
    "    groupby_colordict=custom_colors,\n",
    "    vars_dict=None,\n",
    "    cluster_obs=False,\n",
    "    figsize=(13.2, signatures_curated_height),\n",
    "    save=\"plots_patient/patientCNVclone_ordercustom_signatures_curated_dotplot.png\",\n",
    "    dpi=400,\n",
    "    cmap=\"Greys\",\n",
    "    size_title=\"Fraction of spots\\nin group (%)\",\n",
    ")"
   ]
  },
  {
   "cell_type": "code",
   "execution_count": null,
   "metadata": {},
   "outputs": [],
   "source": [
    "cody_heatmap(\n",
    "    a_comb[a_comb.obs[\"CNV clone\"].isin(custom_order), :],\n",
    "    groupby=\"CNV clone\",\n",
    "    features=new_mxif + [\"TMB\",\"CNV score\"],\n",
    "    cluster_vars=True,\n",
    "    groupby_order=custom_order,\n",
    "    groupby_colordict=custom_colors,\n",
    "    vars_dict=None,\n",
    "    cluster_obs=False,\n",
    "    figsize=(13.2, mxif_height),\n",
    "    save=\"plots_patient/patientCNVclone_ordercustom_MxIF_dotplot.png\",\n",
    "    dpi=400,\n",
    "    cmap=\"Greys\",\n",
    "    size_title=\"Fraction of spots\\nin group (%)\",\n",
    ")"
   ]
  },
  {
   "cell_type": "markdown",
   "metadata": {},
   "source": [
    "---"
   ]
  },
  {
   "cell_type": "code",
   "execution_count": null,
   "metadata": {},
   "outputs": [],
   "source": [
    "a_comb.obs.drop(columns=[\"DPEP1\"],inplace=True)"
   ]
  },
  {
   "cell_type": "code",
   "execution_count": null,
   "metadata": {},
   "outputs": [],
   "source": [
    "tmp1_adata.obs.drop(columns=[\"DPEP1\"],inplace=True)"
   ]
  },
  {
   "cell_type": "code",
   "execution_count": null,
   "metadata": {},
   "outputs": [],
   "source": [
    "tmp2_adata.obs.drop(columns=[\"DPEP1\"],inplace=True)"
   ]
  },
  {
   "cell_type": "code",
   "execution_count": null,
   "metadata": {},
   "outputs": [],
   "source": [
    "custom_dict = {\n",
    "    \"PT\": [\"CNV score\",\"TMB\"],\n",
    "    \"Excl.\": [\"IES\",\"DDR1\",\"PAK4\",\"TGFBI\",\"DPEP1\",\"Fibrosis\"],\n",
    "    \"uEnv.\": [\"FIB2\",\"FIB3\",\"MYE2\"],\n",
    "    \"Inf.\": [\"T cell CD4\",\"T reg suppressive\",\"TL1\",\"T cell CD8\",\"TL2\",\"TL3\",\"MYE4\",\"MYE5\"],\n",
    "    \"Act.\": [\"Oxphos\",\"Hypoxia\",\"pEMT\"],\n",
    "    \"MSS\": [\"iCMS2\",\"Stem\",\"CRC2\"],\n",
    "    \"MSI\": [\"iCMS3\",\"SSC\",\"Metaplasia\"],\n",
    "    \"NL\": [\"GOB\",\"ABS\",\"CT\"],\n",
    "}\n",
    "custom_dict_height = 7.4"
   ]
  },
  {
   "cell_type": "code",
   "execution_count": null,
   "metadata": {},
   "outputs": [],
   "source": [
    "cody_heatmap(\n",
    "    tmp1_adata[tmp1_adata.obs[\"CNV clone\"].isin(tmp1_order), :],\n",
    "    groupby=\"CNV clone\",\n",
    "    features=sum(custom_dict.values(), []),\n",
    "    cluster_vars=False,\n",
    "    groupby_order=tmp1_order,\n",
    "    groupby_colordict=tmp1_colors,\n",
    "    vars_dict=custom_dict,\n",
    "    cluster_obs=False,\n",
    "    figsize=(9.2, custom_dict_height),\n",
    "    save=\"plots_patient/patientCNVclone_CIN+_ordercustom_immexcl_dotplot.png\",\n",
    "    dpi=400,\n",
    "    cmap=\"Greys\",\n",
    "    size_title=\"Fraction of spots\\nin group (%)\",\n",
    ")"
   ]
  },
  {
   "cell_type": "code",
   "execution_count": null,
   "metadata": {},
   "outputs": [],
   "source": [
    "cody_heatmap(\n",
    "    tmp2_adata[tmp2_adata.obs[\"CNV clone\"].isin(tmp2_order), :],\n",
    "    groupby=\"CNV clone\",\n",
    "    features=sum(custom_dict.values(), []),\n",
    "    cluster_vars=False,\n",
    "    groupby_order=tmp2_order,\n",
    "    groupby_colordict=tmp2_colors,\n",
    "    vars_dict=custom_dict,\n",
    "    cluster_obs=False,\n",
    "    figsize=(6.2, custom_dict_height),\n",
    "    save=\"plots_patient/patientCNVclone_HM_ordercustom_immexcl_dotplot.png\",\n",
    "    dpi=400,\n",
    "    cmap=\"Greys\",\n",
    "    size_title=\"Fraction of spots\\nin group (%)\",\n",
    ")"
   ]
  },
  {
   "cell_type": "code",
   "execution_count": null,
   "metadata": {},
   "outputs": [],
   "source": [
    "cody_heatmap(\n",
    "    a_comb[a_comb.obs[\"CNV clone\"].isin(custom_order), :],\n",
    "    groupby=\"CNV clone\",\n",
    "    features=sum(custom_dict.values(), []),\n",
    "    cluster_vars=False,\n",
    "    groupby_order=custom_order,\n",
    "    groupby_colordict=custom_colors,\n",
    "    vars_dict=custom_dict,\n",
    "    cluster_obs=False,\n",
    "    figsize=(13.5, custom_dict_height),\n",
    "    save=\"plots_patient/patientCNVclone_ordercustom_immexcl_dotplot.png\",\n",
    "    dpi=400,\n",
    "    cmap=\"Greys\",\n",
    ")"
   ]
  },
  {
   "cell_type": "markdown",
   "metadata": {},
   "source": [
    "---"
   ]
  },
  {
   "cell_type": "code",
   "execution_count": null,
   "metadata": {},
   "outputs": [],
   "source": [
    "tmp1 = tmp1.loc[~(tmp1[\"CNV clone\"].str.endswith(\" S\") | tmp1[\"CNV clone\"].str.endswith(\" E\")), :].copy()"
   ]
  },
  {
   "cell_type": "code",
   "execution_count": null,
   "metadata": {},
   "outputs": [],
   "source": [
    "tmp2 = tmp2.loc[~(tmp2[\"CNV clone\"].str.endswith(\" S\") | tmp2[\"CNV clone\"].str.endswith(\" E\")), :].copy()"
   ]
  },
  {
   "cell_type": "code",
   "execution_count": null,
   "metadata": {},
   "outputs": [],
   "source": [
    "list(tmp1.columns)"
   ]
  },
  {
   "cell_type": "code",
   "execution_count": null,
   "metadata": {},
   "outputs": [],
   "source": [
    "import statsmodels.api as sm\n",
    "import matplotlib.pyplot as plt\n",
    "\n",
    "#create Q-Q plot with 45-degree line added to plot\n",
    "fig = sm.qqplot(data, line='45')\n",
    "plt.show()"
   ]
  },
  {
   "cell_type": "code",
   "execution_count": null,
   "metadata": {},
   "outputs": [],
   "source": [
    "q = np.linspace(0, 100, 101)"
   ]
  },
  {
   "cell_type": "code",
   "execution_count": null,
   "metadata": {},
   "outputs": [],
   "source": [
    "sns.scatterplot(np.percentile(tmp1[\"CNV score\"], q), np.percentile(tmp1[\"iCMS2\"], q))"
   ]
  }
 ],
 "metadata": {
  "kernelspec": {
   "display_name": "scanpy",
   "language": "python",
   "name": "scanpy"
  },
  "language_info": {
   "codemirror_mode": {
    "name": "ipython",
    "version": 3
   },
   "file_extension": ".py",
   "mimetype": "text/x-python",
   "name": "python",
   "nbconvert_exporter": "python",
   "pygments_lexer": "ipython3",
   "version": "3.8.10"
  }
 },
 "nbformat": 4,
 "nbformat_minor": 4
}
