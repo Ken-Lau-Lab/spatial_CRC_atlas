{
 "cells": [
  {
   "cell_type": "code",
   "execution_count": null,
   "metadata": {},
   "outputs": [],
   "source": [
    "import sys; sys.path.append(\"../resources/\")\n",
    "from infercnv_utils import *\n",
    "# make this notebook work better with Scanpy\n",
    "import warnings; warnings.simplefilter(action='ignore', category=FutureWarning)\n",
    "import matplotlib.pyplot as plt\n",
    "import seaborn as sns\n",
    "import pandas as pd\n",
    "import infercnvpy as cnv"
   ]
  },
  {
   "cell_type": "code",
   "execution_count": null,
   "metadata": {},
   "outputs": [],
   "source": [
    "# make output directories\n",
    "import os\n",
    "if not os.path.exists(\"ST_out\"):\n",
    "    os.mkdir(\"ST_out\")\n",
    "\n",
    "if not os.path.exists(\"ST_out/infercnv/\"):\n",
    "    os.mkdir(\"ST_out/infercnv/\")"
   ]
  },
  {
   "cell_type": "code",
   "execution_count": null,
   "metadata": {},
   "outputs": [],
   "source": [
    "sc.set_figure_params(transparent=True, dpi_save=400)\n",
    "sc.settings.figdir = \"ST_out/infercnv/\""
   ]
  },
  {
   "cell_type": "code",
   "execution_count": null,
   "metadata": {},
   "outputs": [],
   "source": [
    "sample_order = [\"HTA11_06134\",\"HTA11_07663\",\"HTA11_08622\",\"HTA11_01938\",\"HTA11_07862\",\"HTA11_10711\",\"PAT73458\",\"PAT71397\",\"PAT71662\",\"PAT73899\",\"PAT74143\"]"
   ]
  },
  {
   "cell_type": "markdown",
   "metadata": {},
   "source": [
    "---\n",
    "# Read in ST CNV samples (all patients)"
   ]
  },
  {
   "cell_type": "code",
   "execution_count": null,
   "metadata": {},
   "outputs": [],
   "source": [
    "sample_key = pd.read_csv(\"../resources/ST/visium_sample_key.csv\", index_col=0)"
   ]
  },
  {
   "cell_type": "code",
   "execution_count": null,
   "metadata": {},
   "outputs": [],
   "source": [
    "cmap_dict = {\n",
    "    # Tumor Type\n",
    "    'SSL/HP':\"#c4a4e1\",'MSI-H':\"#7a4fa3\",'MSS':\"#ffc101\",'TA/TVA':\"#fee799\",'NL':\"#1f77b4\",\n",
    "    # Tumor Location\n",
    "    \"Cecum\":\"#1f4e79\",\"Ascending\":\"#2e74b7\",\"Hepatic Flexure\":\"#bdd6ef\",\"Transverse\":\"#ff717a\",\"Descending\":\"#fe0001\",\"Sigmoid\":\"#c00101\",\n",
    "    # this one's global\n",
    "    \"nan\":\"#ffffff\",\n",
    "    # These are black and white for T and F\n",
    "    \"T\":\"#000000\",\"F\":\"#ffffff\",\n",
    "}\n",
    "stage_colordict = dict(zip([\"AD\",\"I\",\"II\",\"III/IV\"], sns.color_palette(\"Reds\", len([\"AD\",\"I\",\"II\",\"III/IV\"])).as_hex()))\n",
    "grade_colordict = dict(zip([\"G1\",\"G2\",\"G3\"], sns.color_palette(\"Reds\", len([\"G1\",\"G2\",\"G3\"])).as_hex()))\n",
    "cmap_dict = {**cmap_dict, **stage_colordict, **grade_colordict}"
   ]
  },
  {
   "cell_type": "code",
   "execution_count": null,
   "metadata": {},
   "outputs": [],
   "source": [
    "patient_colordict = dict(zip(sample_key.patient_name, [cmap_dict[x] for x in sample_key.tumor_type]))"
   ]
  },
  {
   "cell_type": "code",
   "execution_count": null,
   "metadata": {},
   "outputs": [],
   "source": [
    "outs = []\n",
    "for pat in sample_key.patient_name.unique():\n",
    "    print(pat)\n",
    "    a_comb = load_cnv(pat, sample_key=sample_key, CNV_group=\"patient_name\", infercnv_dir=\"../step3/ST_out/infercnv/\", dataset_dir=\"../data/ST/\")\n",
    "    outs.append(a_comb)"
   ]
  },
  {
   "cell_type": "code",
   "execution_count": null,
   "metadata": {},
   "outputs": [],
   "source": [
    "for out in outs:\n",
    "    out.obs.cnv_leiden = out.obs.cnv_leiden.astype(str)\n",
    "    out.obs.cnv_leiden = out.obs.cnv_leiden.astype(\"category\")\n",
    "    out.obsm[\"X_cnv\"], out.uns[\"cnv\"] = remap_cnv(\n",
    "        out.obsm[\"X_cnv\"],\n",
    "        out.uns[\"cnv\"],\n",
    "        [17,10,9,6,7,8,7,5,6,6,9,9,2,5,5,7,9,2,12,4,2,3],\n",
    "    )"
   ]
  },
  {
   "cell_type": "code",
   "execution_count": null,
   "metadata": {},
   "outputs": [],
   "source": [
    "%%time\n",
    "# concatenate anndata objects\n",
    "a_comb = outs[0].concatenate(\n",
    "    outs[1:],\n",
    "    join=\"outer\",\n",
    "    batch_categories=list(sample_key.index),\n",
    "    fill_value=0,\n",
    ")\n",
    "#del a_comb.obsm\n",
    "del a_comb.var\n",
    "\n",
    "# add cnv genome partitions\n",
    "a_comb.uns[\"cnv\"] = outs[0].uns[\"cnv\"]\n",
    "\n",
    "# uniqueify clone names\n",
    "a_comb.obs[\"CNV Clone\"] = a_comb.obs[\"Patient\"] + \" \" + a_comb.obs[\"CNV Clone\"]"
   ]
  },
  {
   "cell_type": "code",
   "execution_count": null,
   "metadata": {},
   "outputs": [],
   "source": [
    "# create patient colormap corresponding to tumor type\n",
    "a_comb.obs.Patient = a_comb.obs.Patient.astype(\"category\")\n",
    "a_comb.uns[\"Patient_colors\"] = [patient_colordict[x] for x in a_comb.obs.Patient.cat.categories]"
   ]
  },
  {
   "cell_type": "code",
   "execution_count": null,
   "metadata": {},
   "outputs": [],
   "source": [
    "a_comb.obs[\"Tumor Type\"] = a_comb.obs[\"Tumor Type\"].astype(\"category\")\n",
    "a_comb.uns[\"Tumor Type_colors\"] = [cmap_dict[x] for x in a_comb.obs[\"Tumor Type\"].cat.categories]"
   ]
  },
  {
   "cell_type": "code",
   "execution_count": null,
   "metadata": {},
   "outputs": [],
   "source": [
    "# subset to major clones\n",
    "a_comb_major = a_comb[\n",
    "    ~(a_comb.obs[\"CNV Clone\"].str.contains(\" E\")|a_comb.obs[\"CNV Clone\"].str.contains(\" S\")),\n",
    "    :\n",
    "].copy()"
   ]
  },
  {
   "cell_type": "code",
   "execution_count": null,
   "metadata": {},
   "outputs": [],
   "source": [
    "cnv.pl.chromosome_heatmap(\n",
    "    a_comb_major,\n",
    "    groupby=\"Patient\",\n",
    "    save=\"_ST_patient_all_remapped.png\",\n",
    "    dendrogram=True,\n",
    "    figsize=(12,18),\n",
    ")"
   ]
  },
  {
   "cell_type": "code",
   "execution_count": null,
   "metadata": {},
   "outputs": [],
   "source": [
    "%%time\n",
    "cnv.tl.pca(a_comb_major, n_comps = 50)\n",
    "cnv.pp.neighbors(a_comb_major, n_neighbors=int(np.sqrt(a_comb_major.n_obs)))\n",
    "cnv.tl.leiden(a_comb_major, resolution=0.8)"
   ]
  },
  {
   "cell_type": "code",
   "execution_count": null,
   "metadata": {},
   "outputs": [],
   "source": [
    "a_comb_major.obsm[\"X_pca\"] = a_comb_major.obsm[\"X_cnv_pca\"]"
   ]
  },
  {
   "cell_type": "code",
   "execution_count": null,
   "metadata": {},
   "outputs": [],
   "source": [
    "import colorcet as cc\n",
    "a_comb_major.uns[\"Patient_colors\"] = sns.color_palette(cc.glasbey, n_colors=len(a_comb_major.obs.Patient.cat.categories)).as_hex()"
   ]
  },
  {
   "cell_type": "code",
   "execution_count": null,
   "metadata": {},
   "outputs": [],
   "source": [
    "sc.pl.pca(a_comb_major, color=[\"Patient\",\"Tumor Type\", \"CNV Score\", \"cnv_leiden\"], components=['1,2'], cmap=\"viridis\", ncols=1, size=10)"
   ]
  },
  {
   "cell_type": "code",
   "execution_count": null,
   "metadata": {},
   "outputs": [],
   "source": [
    "%time cnv.tl.umap(a_comb_major)"
   ]
  },
  {
   "cell_type": "code",
   "execution_count": null,
   "metadata": {},
   "outputs": [],
   "source": [
    "pat_colordict = dict(zip(a_comb_major.obs.Patient.cat.categories, a_comb_major.uns[\"Patient_colors\"]))"
   ]
  },
  {
   "cell_type": "code",
   "execution_count": null,
   "metadata": {},
   "outputs": [],
   "source": [
    "for pat in a_comb_major.obs.Patient.cat.categories:\n",
    "    print(pat)\n",
    "    a_comb_major.obs[pat] = np.nan\n",
    "    a_comb_major.obs.loc[a_comb_major.obs.Patient==pat, pat] = pat\n",
    "    a_comb_major.obs[pat] = a_comb_major.obs[pat].astype(\"category\")\n",
    "    a_comb_major.uns[\"{}_colors\".format(pat)] = [patient_colordict[x] for x in a_comb_major.obs[pat].cat.categories]"
   ]
  },
  {
   "cell_type": "code",
   "execution_count": null,
   "metadata": {},
   "outputs": [],
   "source": [
    "a_comb_major.obs[\"PAT71397\"] = a_comb_major.obs[\"Tumor Type\"].values\n",
    "a_comb_major.obs.loc[a_comb_major.obs.Patient!=\"PAT71397\", \"PAT71397\"] = np.nan"
   ]
  },
  {
   "cell_type": "code",
   "execution_count": null,
   "metadata": {},
   "outputs": [],
   "source": [
    "a_comb_major.obs[\"PAT71397\"] = a_comb_major.obs[\"PAT71397\"].astype(\"category\")\n",
    "a_comb_major.uns[\"PAT71397_colors\"] = [cmap_dict[x] for x in a_comb_major.obs[\"PAT71397\"].cat.categories]"
   ]
  },
  {
   "cell_type": "code",
   "execution_count": null,
   "metadata": {},
   "outputs": [],
   "source": [
    "cnv.pl.umap(a_comb_major, color=list(a_comb_major.obs.Patient.cat.categories), ncols=5, size=18, frameon=False, legend_loc=None, save=\"_majorclone_patients.png\")"
   ]
  },
  {
   "cell_type": "code",
   "execution_count": null,
   "metadata": {},
   "outputs": [],
   "source": [
    "a_comb_major.obs[\"PAT71397 CNV Score\"] = a_comb_major.obs[\"CNV Score\"].values\n",
    "a_comb_major.obs.loc[a_comb_major.obs.Patient!=\"PAT71397\", \"PAT71397 CNV Score\"] = np.nan"
   ]
  },
  {
   "cell_type": "code",
   "execution_count": null,
   "metadata": {},
   "outputs": [],
   "source": [
    "a_comb_major.obs[\"PAT71397 CNV Clone\"] = a_comb_major.obs[\"CNV Clone\"].astype(str).values\n",
    "a_comb_major.obs.loc[a_comb_major.obs.Patient!=\"PAT71397\", \"PAT71397 CNV Clone\"] = np.nan"
   ]
  },
  {
   "cell_type": "code",
   "execution_count": null,
   "metadata": {},
   "outputs": [],
   "source": [
    "a_comb_major.obs[\"PAT71397 CNV Clone\"] = a_comb_major.obs[\"PAT71397 CNV Clone\"].astype(\"category\")\n",
    "a_comb_major.uns[\"PAT71397 CNV Clone_colors\"] = sns.color_palette(\"tab10\", 3)"
   ]
  },
  {
   "cell_type": "code",
   "execution_count": null,
   "metadata": {},
   "outputs": [],
   "source": [
    "a_comb_major.obs[\"PAT71397 CNV Clone\"].replace({\"PAT71397 1\":\"1\", \"PAT71397 2\":\"2\", \"PAT71397 3\":\"3\"}, inplace=True)"
   ]
  },
  {
   "cell_type": "code",
   "execution_count": null,
   "metadata": {},
   "outputs": [],
   "source": [
    "cnv.pl.umap(\n",
    "    a_comb_major,\n",
    "    color=[\"PAT71397 CNV Score\", \"PAT71397 CNV Clone\", \"PAT71397\"],\n",
    "    cmap=\"viridis\",\n",
    "    ncols=3,\n",
    "    size=18,\n",
    "    frameon=False,\n",
    "    save=\"_majorclone_PAT71397.png\",\n",
    "    na_in_legend=False,\n",
    ")"
   ]
  },
  {
   "cell_type": "code",
   "execution_count": null,
   "metadata": {},
   "outputs": [],
   "source": [
    "a_comb_major.obs[\"Tumor Stage\"] = a_comb_major.obs[\"Tumor Stage\"].astype(\"category\")\n",
    "a_comb_major.uns[\"Tumor Stage_colors\"] = [cmap_dict[x] for x in a_comb_major.obs[\"Tumor Stage\"].cat.categories]"
   ]
  },
  {
   "cell_type": "code",
   "execution_count": null,
   "metadata": {},
   "outputs": [],
   "source": [
    "a_comb_major.obs[\"Tumor Grade\"] = a_comb_major.obs[\"Tumor Grade\"].astype(\"category\")\n",
    "a_comb_major.uns[\"Tumor Grade_colors\"] = [cmap_dict[x] for x in a_comb_major.obs[\"Tumor Grade\"].cat.categories]"
   ]
  },
  {
   "cell_type": "code",
   "execution_count": null,
   "metadata": {},
   "outputs": [],
   "source": [
    "cnv.pl.umap(\n",
    "    a_comb_major,\n",
    "    color=[\"Patient\"],\n",
    "    cmap=\"viridis\",\n",
    "    ncols=1,\n",
    "    size=18,\n",
    "    frameon=False,\n",
    "    save=\"_majorclone.png\",\n",
    "    na_in_legend=False,\n",
    ")"
   ]
  },
  {
   "cell_type": "code",
   "execution_count": null,
   "metadata": {},
   "outputs": [],
   "source": [
    "cnv.pl.umap(\n",
    "    a_comb_major,\n",
    "    color=[\"Tumor Type\",\"CNV Score\"],\n",
    "    cmap=\"viridis\",\n",
    "    ncols=2,\n",
    "    size=18,\n",
    "    frameon=False,\n",
    "    save=\"_majorclone_tumortype_score.png\",\n",
    "    na_in_legend=False,\n",
    ")"
   ]
  },
  {
   "cell_type": "markdown",
   "metadata": {
    "tags": []
   },
   "source": [
    "---\n",
    "# Read in scRNA data"
   ]
  },
  {
   "cell_type": "code",
   "execution_count": null,
   "metadata": {},
   "outputs": [],
   "source": [
    "a_comb = sc.read(\"../data/scRNA/VUMC_COMBINED.h5ad\"); a_comb"
   ]
  },
  {
   "cell_type": "markdown",
   "metadata": {},
   "source": [
    "---\n",
    "### Add CNV inference results"
   ]
  },
  {
   "cell_type": "code",
   "execution_count": null,
   "metadata": {},
   "outputs": [],
   "source": [
    "a = a_comb[a_comb.obs.Patient != \"\", :].copy() ; a"
   ]
  },
  {
   "cell_type": "code",
   "execution_count": null,
   "metadata": {},
   "outputs": [],
   "source": [
    "# read in CNV matrix and put in a.obsm slot\n",
    "tmp = np.load(\"../step1/scRNA_out/infercnv/VUMC_cnv.npz\", allow_pickle=\"TRUE\")\n",
    "a.obsm[\"X_cnv\"] = tmp.f.arr_0.item()\n",
    "# read in CNV genomic partitions\n",
    "a.uns[\"cnv\"] = np.load(\"../step1/scRNA_out/infercnv/uns_cnv_VUMC.npy\", allow_pickle=\"TRUE\").item()\n",
    "# read in CNV score and leiden labels\n",
    "tmp = pd.read_csv(\"../step1/scRNA_out/infercnv/VUMC_cnv_leiden.csv\", index_col=0)\n",
    "a.obs = a.obs.merge(tmp, left_index=True, right_index=True)"
   ]
  },
  {
   "cell_type": "code",
   "execution_count": null,
   "metadata": {},
   "outputs": [],
   "source": [
    "a.obsm[\"X_cnv\"], a.uns[\"cnv\"] = remap_cnv(\n",
    "    a.obsm[\"X_cnv\"],\n",
    "    a.uns[\"cnv\"],\n",
    "    [17,10,9,6,7,8,7,5,6,6,9,9,2,5,5,7,9,2,12,4,2,3],\n",
    ")"
   ]
  },
  {
   "cell_type": "code",
   "execution_count": null,
   "metadata": {},
   "outputs": [],
   "source": [
    "a.obs.cnv_leiden = a.obs.cnv_leiden.astype(str)\n",
    "a.obs.cnv_leiden = a.obs.cnv_leiden.astype(\"category\")"
   ]
  },
  {
   "cell_type": "code",
   "execution_count": null,
   "metadata": {},
   "outputs": [],
   "source": [
    "cnv.pl.chromosome_heatmap(\n",
    "    a,\n",
    "    groupby=\"cnv_leiden\",\n",
    "    save=\"_VUMC_leiden_remapped.png\",\n",
    "    dendrogram=True,\n",
    "    figsize=(12,8),\n",
    ")"
   ]
  },
  {
   "cell_type": "code",
   "execution_count": null,
   "metadata": {},
   "outputs": [],
   "source": [
    "# create patient colormap corresponding to tumor type\n",
    "a.obs.Patient = a.obs.Patient.astype(\"category\")\n",
    "a.obs.Patient = a.obs.Patient.cat.reorder_categories(sample_order)\n",
    "#a.uns[\"Patient_colors\"] = [patient_colordict[x] for x in a.obs.Patient.cat.categories]"
   ]
  },
  {
   "cell_type": "code",
   "execution_count": null,
   "metadata": {},
   "outputs": [],
   "source": [
    "a_major = a[~(a.obs[\"CNV Clone\"].str.contains(\" E\")|a.obs[\"CNV Clone\"].str.contains(\" S\")),:].copy()"
   ]
  },
  {
   "cell_type": "code",
   "execution_count": null,
   "metadata": {},
   "outputs": [],
   "source": [
    "cnv.pl.chromosome_heatmap(\n",
    "    a_major,\n",
    "    groupby=\"Patient\",\n",
    "    save=\"_VUMC_patient_remapped.png\",\n",
    "    figsize=(12,16),\n",
    ")"
   ]
  },
  {
   "cell_type": "markdown",
   "metadata": {},
   "source": [
    "---\n",
    "# Read in ST CNV samples (with matched scRNA)"
   ]
  },
  {
   "cell_type": "code",
   "execution_count": null,
   "metadata": {},
   "outputs": [],
   "source": [
    "sample_key = pd.read_csv(\"../resources/ST/visium_sample_key.csv\", index_col=0)"
   ]
  },
  {
   "cell_type": "code",
   "execution_count": null,
   "metadata": {},
   "outputs": [],
   "source": [
    "outs = []\n",
    "for pat in a.obs.Patient.unique():\n",
    "    print(pat)\n",
    "    a_comb = load_cnv(pat, sample_key=sample_key, CNV_group=\"patient_name\")\n",
    "    outs.append(a_comb)"
   ]
  },
  {
   "cell_type": "code",
   "execution_count": null,
   "metadata": {},
   "outputs": [],
   "source": [
    "for out in outs:\n",
    "    out.obs.cnv_leiden = out.obs.cnv_leiden.astype(str)\n",
    "    out.obs.cnv_leiden = out.obs.cnv_leiden.astype(\"category\")\n",
    "    out.obsm[\"X_cnv\"], out.uns[\"cnv\"] = remap_cnv(\n",
    "        out.obsm[\"X_cnv\"],\n",
    "        out.uns[\"cnv\"],\n",
    "        [17,10,9,6,7,8,7,5,6,6,9,9,2,5,5,7,9,2,12,4,2,3],\n",
    "    )"
   ]
  },
  {
   "cell_type": "code",
   "execution_count": null,
   "metadata": {},
   "outputs": [],
   "source": [
    "%%time\n",
    "# concatenate anndata objects\n",
    "a_comb = outs[0].concatenate(\n",
    "    outs[1:],\n",
    "    join=\"outer\",\n",
    "    batch_categories=list(sample_key.index),\n",
    "    fill_value=0,\n",
    ")\n",
    "#del a_comb.obsm\n",
    "del a_comb.var\n",
    "\n",
    "# add cnv genome partitions\n",
    "a_comb.uns[\"cnv\"] = outs[0].uns[\"cnv\"]\n",
    "\n",
    "# uniqueify clone names\n",
    "a_comb.obs[\"CNV Clone\"] = a_comb.obs[\"Patient\"] + \" \" + a_comb.obs[\"CNV Clone\"]"
   ]
  },
  {
   "cell_type": "code",
   "execution_count": null,
   "metadata": {},
   "outputs": [],
   "source": [
    "a_comb.obs.Patient.cat.categories"
   ]
  },
  {
   "cell_type": "code",
   "execution_count": null,
   "metadata": {},
   "outputs": [],
   "source": [
    "a_comb.obs.Patient = a_comb.obs.Patient.astype(str)\n",
    "a_comb.obs.loc[a_comb.obs.Patient.isin([\"HTA11_08622_A\",\"HTA11_08622_B\"]), \"Patient\"] = \"HTA11_08622\""
   ]
  },
  {
   "cell_type": "code",
   "execution_count": null,
   "metadata": {},
   "outputs": [],
   "source": [
    "# create patient colormap corresponding to tumor type\n",
    "a_comb.obs.Patient = a_comb.obs.Patient.astype(\"category\")\n",
    "a_comb.obs.Patient = a_comb.obs.Patient.cat.reorder_categories(sample_order)\n",
    "#a_comb.uns[\"Patient_colors\"] = [patient_colordict[x] for x in a_comb.obs.Patient.cat.categories]"
   ]
  },
  {
   "cell_type": "code",
   "execution_count": null,
   "metadata": {},
   "outputs": [],
   "source": [
    "# subset to major clones\n",
    "a_comb_major = a_comb[\n",
    "    ~(a_comb.obs[\"CNV Clone\"].str.contains(\" E\")|a_comb.obs[\"CNV Clone\"].str.contains(\" S\")),\n",
    "    :\n",
    "].copy()"
   ]
  },
  {
   "cell_type": "code",
   "execution_count": null,
   "metadata": {},
   "outputs": [],
   "source": [
    "cnv.pl.chromosome_heatmap(\n",
    "    a_comb_major,\n",
    "    groupby=\"Patient\",\n",
    "    save=\"_ST_patient_remapped.png\",\n",
    "    dendrogram=False,\n",
    "    figsize=(12,16),\n",
    ")"
   ]
  },
  {
   "cell_type": "markdown",
   "metadata": {},
   "source": [
    "---\n",
    "# Distance Calculations"
   ]
  },
  {
   "cell_type": "code",
   "execution_count": null,
   "metadata": {},
   "outputs": [],
   "source": [
    "from sklearn.metrics import pairwise_distances"
   ]
  },
  {
   "cell_type": "code",
   "execution_count": null,
   "metadata": {},
   "outputs": [],
   "source": [
    "sns.set_style(\"white\")\n",
    "from matplotlib import patheffects as pe"
   ]
  },
  {
   "cell_type": "code",
   "execution_count": null,
   "metadata": {},
   "outputs": [],
   "source": [
    "dist_dict = {}\n",
    "for out in outs:\n",
    "    pat = out.obs.Patient.unique()[0]\n",
    "    print(pat)\n",
    "    print(out.shape)\n",
    "    st_tmp = out[~out.obs[\"CNV Clone\"].isin([\"S\",\"E\"]),:].copy()\n",
    "    print(st_tmp.shape)\n",
    "    sc_tmp = a_major[a_major.obs.Patient == pat,:].copy()\n",
    "    print(sc_tmp.shape)\n",
    "    max_score = sc_tmp.obs.cnv_score.max()\n",
    "    print(\"maximum scRNA CNV score: {}\".format(max_score))\n",
    "    sc_tmp = sc_tmp[sc_tmp.obs.cnv_score >= 0.5 * max_score,:].copy()\n",
    "    print(sc_tmp.shape)\n",
    "    dist_dict[pat] = 1 - pairwise_distances(X=st_tmp.obsm[\"X_cnv\"], Y=sc_tmp.obsm[\"X_cnv\"], metric=\"cosine\").flatten()"
   ]
  },
  {
   "cell_type": "code",
   "execution_count": null,
   "metadata": {},
   "outputs": [],
   "source": [
    "fig, ax = plt.subplots(len(dist_dict), 1, figsize=(4,7), sharex=True, sharey=True)\n",
    "fig.subplots_adjust(hspace=0.01)\n",
    "for i, title in enumerate(sample_order):\n",
    "    sns.kdeplot(dist_dict[title], ax=ax[i], color=\"k\")\n",
    "    ax[i].set_ylabel(\n",
    "        title,\n",
    "        rotation=\"horizontal\",\n",
    "        ha=\"right\",\n",
    "        fontdict={\"color\":patient_colordict[title]},\n",
    "        path_effects=[pe.withStroke(linewidth=0.3, foreground=\"k\")],\n",
    "    )\n",
    "    ax[i].set_yticklabels([])\n",
    "    ax[i].set_xlim([-1,1])\n",
    "    ax[i].axvline(0.0, color=\"k\", alpha=0.8, ls=\"--\")\n",
    "plt.xlabel(\"Cosine Similarity\")\n",
    "sns.despine(left=True)\n",
    "plt.tight_layout()\n",
    "fig.subplots_adjust(hspace=0)\n",
    "plt.savefig(\"ST_out/infercnv/infercnv_scRNA_val_cosinesimilarity.png\")"
   ]
  }
 ],
 "metadata": {
  "kernelspec": {
   "display_name": "scanpy",
   "language": "python",
   "name": "scanpy"
  },
  "language_info": {
   "codemirror_mode": {
    "name": "ipython",
    "version": 3
   },
   "file_extension": ".py",
   "mimetype": "text/x-python",
   "name": "python",
   "nbconvert_exporter": "python",
   "pygments_lexer": "ipython3",
   "version": "3.8.10"
  }
 },
 "nbformat": 4,
 "nbformat_minor": 4
}
