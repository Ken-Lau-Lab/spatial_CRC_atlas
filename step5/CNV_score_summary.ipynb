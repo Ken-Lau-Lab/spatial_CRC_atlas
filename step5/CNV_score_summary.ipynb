{
 "cells": [
  {
   "cell_type": "code",
   "execution_count": null,
   "metadata": {},
   "outputs": [],
   "source": [
    "import sys; sys.path.append(\"../resources/\")\n",
    "from dotplot_utils import *\n",
    "from boxplot_utils import *\n",
    "import pandas as pd\n",
    "import seaborn as sns\n",
    "# make this notebook work better with Scanpy\n",
    "import warnings; warnings.simplefilter(action='ignore', category=FutureWarning)"
   ]
  },
  {
   "cell_type": "code",
   "execution_count": null,
   "metadata": {},
   "outputs": [],
   "source": [
    "# make output directories\n",
    "import os\n",
    "if not os.path.exists(\"ST_out\"):\n",
    "    os.mkdir(\"ST_out\")\n",
    "\n",
    "if not os.path.exists(\"ST_out/infercnv/\"):\n",
    "    os.mkdir(\"ST_out/infercnv/\")"
   ]
  },
  {
   "cell_type": "code",
   "execution_count": null,
   "metadata": {},
   "outputs": [],
   "source": [
    "sc.set_figure_params(transparent=True, dpi_save=400)\n",
    "sc.settings.figdir = \"ST_out/infercnv/\""
   ]
  },
  {
   "cell_type": "markdown",
   "metadata": {
    "tags": []
   },
   "source": [
    "---\n",
    "## Read in key dataframe with sample information"
   ]
  },
  {
   "cell_type": "code",
   "execution_count": null,
   "metadata": {},
   "outputs": [],
   "source": [
    "sample_key = pd.read_csv(\"../resources/ST/visium_sample_key.csv\", index_col=0)"
   ]
  },
  {
   "cell_type": "markdown",
   "metadata": {},
   "source": [
    "---"
   ]
  },
  {
   "cell_type": "code",
   "execution_count": null,
   "metadata": {},
   "outputs": [],
   "source": [
    "outs = []\n",
    "for s in sample_key.index:\n",
    "    a = sc.read(\"../data/ST/{}_master.h5ad\".format(s))\n",
    "    print(\"Read adata from ../data/ST/{}_master.h5ad\".format(s))\n",
    "\n",
    "    # compile training data\n",
    "    outs.append(a)\n",
    "\n",
    "assert len(outs) == len(sample_key), \"Check length of outs\""
   ]
  },
  {
   "cell_type": "code",
   "execution_count": null,
   "metadata": {},
   "outputs": [],
   "source": [
    "for i, x in enumerate(sample_key.index):\n",
    "    outs[i].obs[\"Evolution\"] = sample_key.loc[x, \"Evolution\"]"
   ]
  },
  {
   "cell_type": "code",
   "execution_count": null,
   "metadata": {},
   "outputs": [],
   "source": [
    "# concatenate anndata objects\n",
    "a_comb = outs[0].concatenate(\n",
    "    outs[1:],\n",
    "    join=\"outer\",\n",
    "    batch_categories=list(sample_key.index),\n",
    "    fill_value=0,\n",
    ")\n",
    "del a_comb.obsm\n",
    "del a_comb.var"
   ]
  },
  {
   "cell_type": "code",
   "execution_count": null,
   "metadata": {},
   "outputs": [],
   "source": [
    "a_comb.obs[\"CNV_clone_domain\"] = a_comb.obs[\"CNV clone\"].values\n",
    "a_comb.obs[\"CNV_clone_domain\"] = a_comb.obs[\"CNV_clone_domain\"].astype(str)\n",
    "a_comb.obs.loc[a_comb.obs[\"CNV clone\"].isin([\"1\", \"2\", \"3\", \"1A\", \"1B\"]), \"CNV_clone_domain\"] = \"Tumor\"\n",
    "a_comb.obs[\"CNV_clone_domain\"].replace({\"S\":\"Stroma\",\"E\":\"Edge\"}, inplace=True)\n",
    "a_comb.obs[\"CNV_clone_domain\"] = a_comb.obs[\"CNV_clone_domain\"].astype(\"category\")"
   ]
  },
  {
   "cell_type": "code",
   "execution_count": null,
   "metadata": {},
   "outputs": [],
   "source": [
    "a_comb.obs[\"Evolution_grouped\"] = a_comb.obs[\"Evolution\"].values\n",
    "a_comb.obs[\"Evolution_grouped\"] = a_comb.obs[\"Evolution_grouped\"].astype(str)\n",
    "a_comb.obs.loc[a_comb.obs[\"Evolution\"].isin([\"B\", \"N\"]), \"Evolution_grouped\"] = \"N/B\"\n",
    "a_comb.obs[\"Evolution_grouped\"] = a_comb.obs[\"Evolution_grouped\"].astype(\"category\")"
   ]
  },
  {
   "cell_type": "code",
   "execution_count": null,
   "metadata": {},
   "outputs": [],
   "source": [
    "sample_key.loc[sample_key.tumor_type==\"SSL/HP\",\"CIN Status\"] = \"HM\""
   ]
  },
  {
   "cell_type": "code",
   "execution_count": null,
   "metadata": {},
   "outputs": [],
   "source": [
    "CIN_PATs = sample_key.loc[sample_key[\"CIN Status\"].fillna(\"CIN+\")==\"CIN+\",\"patient_name\"].unique()"
   ]
  },
  {
   "cell_type": "code",
   "execution_count": null,
   "metadata": {},
   "outputs": [],
   "source": [
    "CIN_PATs"
   ]
  },
  {
   "cell_type": "code",
   "execution_count": null,
   "metadata": {},
   "outputs": [],
   "source": [
    "HM_PATs = sample_key.loc[sample_key[\"CIN Status\"].fillna(\"CIN+\")==\"HM\",\"patient_name\"].unique()"
   ]
  },
  {
   "cell_type": "code",
   "execution_count": null,
   "metadata": {},
   "outputs": [],
   "source": [
    "HM_PATs"
   ]
  },
  {
   "cell_type": "code",
   "execution_count": null,
   "metadata": {},
   "outputs": [],
   "source": [
    "a_comb.obs[\"CIN_status\"] = \"CIN+\"\n",
    "a_comb.obs.loc[a_comb.obs.Patient.isin(HM_PATs), \"CIN_status\"] = \"HM\"\n",
    "a_comb.obs.loc[a_comb.obs[\"Tumor Type\"].isin([\"SSL/HP\", \"TA/TVA\", \"NL\"]), \"CIN_status\"] = \"CIN-\"\n",
    "a_comb.obs.loc[(a_comb.obs[\"CNV clone\"] == \"1B\") & (a_comb.obs.Patient==\"PAT33430\"), \"CIN_status\"] = \"CIN+\"\n",
    "a_comb.obs[\"CIN_status\"] = a_comb.obs[\"CIN_status\"].astype(\"category\")"
   ]
  },
  {
   "cell_type": "code",
   "execution_count": null,
   "metadata": {},
   "outputs": [],
   "source": [
    "a_comb.obs[\"CIN_status\"].cat.categories"
   ]
  },
  {
   "cell_type": "code",
   "execution_count": null,
   "metadata": {},
   "outputs": [],
   "source": [
    "a_comb.obs[\"Tumor_Type_CIN\"] = a_comb.obs[\"Tumor Type\"].astype(str)\n",
    "a_comb.obs.loc[(a_comb.obs.CIN_status == \"CIN+\") & (a_comb.obs[\"Tumor Type\"] == \"MSI-H\"), \"Tumor_Type_CIN\"] = \"MSI-H (CIN+)\"\n",
    "a_comb.obs.loc[(a_comb.obs[\"CNV clone\"] == \"1B\") & (a_comb.obs.Patient==\"PAT33430\"), \"Tumor_Type_CIN\"] = \"MSI-H (CIN+)\"\n",
    "a_comb.obs.loc[(a_comb.obs.CIN_status == \"HM\") & (a_comb.obs[\"Tumor Type\"] == \"MSS\"), \"Tumor_Type_CIN\"] = \"MSS (HM)\"\n",
    "a_comb.obs[\"Tumor_Type_CIN\"] = a_comb.obs[\"Tumor_Type_CIN\"].astype(\"category\")"
   ]
  },
  {
   "cell_type": "code",
   "execution_count": null,
   "metadata": {},
   "outputs": [],
   "source": [
    "a_comb.obs[\"Tumor_Type_CIN\"].value_counts()"
   ]
  },
  {
   "cell_type": "code",
   "execution_count": null,
   "metadata": {},
   "outputs": [],
   "source": [
    "a_comb.obs[\"Tumor_vs_NL\"] = a_comb.obs[\"Tumor Type\"].astype(str)\n",
    "a_comb.obs.loc[a_comb.obs[\"Tumor Type\"].isin([\"MSI-H\",\"MSS\"]), \"Tumor_vs_NL\"] = \"CRC\"\n",
    "a_comb.obs[\"Tumor_vs_NL\"] = a_comb.obs[\"Tumor_vs_NL\"].astype(\"category\")"
   ]
  },
  {
   "cell_type": "code",
   "execution_count": null,
   "metadata": {},
   "outputs": [],
   "source": [
    "a_comb.obs[\"Tumor_vs_NL\"].value_counts()"
   ]
  },
  {
   "cell_type": "markdown",
   "metadata": {},
   "source": [
    "---\n",
    "## Rename things and set up for plotting"
   ]
  },
  {
   "cell_type": "code",
   "execution_count": null,
   "metadata": {},
   "outputs": [],
   "source": [
    "# rename obs columns with MxIF stains in them\n",
    "old_mxif = list(a_comb.obs.columns[a_comb.obs.columns.str.endswith(\"_MxIF\")])\n",
    "new_mxif = list(a_comb.obs.columns[a_comb.obs.columns.str.endswith(\"_MxIF\")].str.split(\"_\").str[0])\n",
    "a_comb.obs.rename(columns=dict(zip(old_mxif,new_mxif)), inplace=True)"
   ]
  },
  {
   "cell_type": "code",
   "execution_count": null,
   "metadata": {},
   "outputs": [],
   "source": [
    "# rename cell state columns in master anndata.obs\n",
    "et = list(a_comb.obs.columns[a_comb.obs.columns.str.endswith(\"_VUMCrefNMF30\")])\n",
    "et_new = [x.replace(\"_VUMCrefNMF30\", \"\") for x in et]\n",
    "a_comb.obs.rename(columns=dict(zip(et, et_new)), inplace=True)"
   ]
  },
  {
   "cell_type": "code",
   "execution_count": null,
   "metadata": {},
   "outputs": [],
   "source": [
    "a_comb"
   ]
  },
  {
   "cell_type": "code",
   "execution_count": null,
   "metadata": {},
   "outputs": [],
   "source": [
    "cmap_dict = {\n",
    "    # Tumor Type\n",
    "    'SSL/HP':\"#c4a4e1\",'MSI-H':\"#7a4fa3\",'MSS':\"#ffc101\",'TA/TVA':\"#fee799\",'NL':\"#1f77b4\",\n",
    "    \"MSI-H (CIN+)\":\"#7a4fa3\", 'MSS (HM)':\"#ffc101\",\n",
    "    # Tumor Location\n",
    "    \"Cecum\":\"#1f4e79\",\"Ascending\":\"#2e74b7\",\"Hepatic Flexure\":\"#bdd6ef\",\"Transverse\":\"#ff717a\",\"Descending\":\"#fe0001\",\"Sigmoid\":\"#c00101\",\n",
    "    # this one's global\n",
    "    \"nan\":\"#ffffff\",\n",
    "    # These are black and white for T and F\n",
    "    \"T\":\"#000000\",\"F\":\"#ffffff\",\n",
    "    # evolution\n",
    "    \"N\":\"tab:blue\",\"B\":\"tab:green\",\"L\":\"tab:orange\",\"N/B\":\"tab:blue\",\n",
    "    # CNV clone domain\n",
    "    \"Tumor\":\"#000000\",\"Stroma\":\"tab:pink\",\"Edge\":\"tab:red\",\n",
    "    \"CRC\":\"#ffffff\",\n",
    "}\n",
    "stage_colordict = dict(zip([\"AD\",\"I\",\"II\",\"III/IV\"], sns.color_palette(\"Reds\", len([\"AD\",\"I\",\"II\",\"III/IV\"])).as_hex()))\n",
    "grade_colordict = dict(zip([\"G1\",\"G2\",\"G3\"], sns.color_palette(\"Reds\", len([\"G1\",\"G2\",\"G3\"])).as_hex()))\n",
    "CIN_colordict = dict(zip([\"HM\",\"CIN-\",\"CIN+\"], sns.color_palette(\"Reds\", len([\"HM\",\"CIN-\",\"CIN+\"])).as_hex()))\n",
    "cmap_dict = {**cmap_dict, **stage_colordict, **grade_colordict, **CIN_colordict}"
   ]
  },
  {
   "cell_type": "code",
   "execution_count": null,
   "metadata": {},
   "outputs": [],
   "source": [
    "patient_colordict = dict(zip(sample_key.patient_name, [cmap_dict[x] for x in sample_key.tumor_type]))"
   ]
  },
  {
   "cell_type": "code",
   "execution_count": null,
   "metadata": {},
   "outputs": [],
   "source": [
    "cmap = matplotlib.cm.get_cmap(\"plasma\", 8)\n",
    "mw_colordict = dict(zip([\"D0\",\"D1\",\"D2\",\"D3\",\"D4\",\"D5\",\"D6\",\"D7\"], [matplotlib.colors.rgb2hex(cmap(i)) for i in range(cmap.N)]))"
   ]
  },
  {
   "cell_type": "markdown",
   "metadata": {},
   "source": [
    "---"
   ]
  },
  {
   "cell_type": "code",
   "execution_count": null,
   "metadata": {},
   "outputs": [],
   "source": [
    "a_comb_epi = a_comb[~a_comb.obs[\"CNV clone\"].isin([\"S\"]),:].copy()"
   ]
  },
  {
   "cell_type": "code",
   "execution_count": null,
   "metadata": {},
   "outputs": [],
   "source": [
    "a_comb_epi.obs[\"Tumor Type\"] = a_comb_epi.obs[\"Tumor Type\"].astype(\"category\")\n",
    "a_comb_epi.obs[\"Tumor Type\"].cat.reorder_categories([\"MSI-H\",\"MSS\",\"NL\",\"SSL/HP\",\"TA/TVA\"])"
   ]
  },
  {
   "cell_type": "code",
   "execution_count": null,
   "metadata": {},
   "outputs": [],
   "source": [
    "boxplots_group(\n",
    "    a_comb_epi,\n",
    "    outdir=\"ST_out/infercnv/\",\n",
    "    obs=[\"Tumor Type\"],\n",
    "    colors=[\"CNV score\"],\n",
    "    figsize=(4,4),\n",
    "    sig=False,\n",
    "    cmap_dict=cmap_dict,\n",
    "    titles=[\"ST (tumor region spots)\"],\n",
    ")"
   ]
  },
  {
   "cell_type": "code",
   "execution_count": null,
   "metadata": {},
   "outputs": [],
   "source": [
    "boxplots_group(\n",
    "    a_comb,\n",
    "    outdir=\"ST_out/infercnv/\",\n",
    "    obs=[\"Tumor Type\"],\n",
    "    colors=[\"CNV score\"],\n",
    "    figsize=(4,6),\n",
    "    sig=True,\n",
    "    cmap_dict=cmap_dict,\n",
    "    titles=[\"ST (tumor region spots)\"],\n",
    ")"
   ]
  },
  {
   "cell_type": "code",
   "execution_count": null,
   "metadata": {},
   "outputs": [],
   "source": [
    "a_comb_epi.obs[\"Tumor Type\"].value_counts()"
   ]
  },
  {
   "cell_type": "code",
   "execution_count": null,
   "metadata": {},
   "outputs": [],
   "source": [
    "a_comb_epi.obs[\"Tumor_Type_CIN\"] = a_comb_epi.obs[\"Tumor_Type_CIN\"].cat.reorder_categories(\n",
    "    [\"NL\",\"SSL/HP\",\"TA/TVA\",\"MSS (HM)\",\"MSI-H\",\"MSS\",\"MSI-H (CIN+)\"]\n",
    ")"
   ]
  },
  {
   "cell_type": "code",
   "execution_count": null,
   "metadata": {},
   "outputs": [],
   "source": [
    "boxplots_group(\n",
    "    a_comb_epi,\n",
    "    outdir=\"ST_out/infercnv/\",\n",
    "    obs=[\"Tumor_Type_CIN\"],\n",
    "    colors=[\"CNV score\"],\n",
    "    figsize=(4,4),\n",
    "    sig=False,\n",
    "    cmap_dict=cmap_dict,\n",
    "    titles=[\"ST (tumor region spots)\"],\n",
    ")"
   ]
  },
  {
   "cell_type": "code",
   "execution_count": null,
   "metadata": {},
   "outputs": [],
   "source": [
    "a_comb_epi.obs.Tumor_Type_CIN.value_counts()"
   ]
  },
  {
   "cell_type": "code",
   "execution_count": null,
   "metadata": {},
   "outputs": [],
   "source": [
    "a_comb_epi.obs[\"CIN_status\"] = a_comb_epi.obs[\"CIN_status\"].cat.reorder_categories(\n",
    "    [\"CIN-\",\"HM\",\"CIN+\"]\n",
    ")"
   ]
  },
  {
   "cell_type": "code",
   "execution_count": null,
   "metadata": {},
   "outputs": [],
   "source": [
    "boxplots_group(\n",
    "    a_comb_epi,\n",
    "    outdir=\"ST_out/infercnv/\",\n",
    "    obs=[\"CIN_status\"],\n",
    "    colors=[\"CNV score\"],\n",
    "    figsize=(4,4),\n",
    "    sig=False,\n",
    "    cmap_dict=cmap_dict,\n",
    "    titles=[\"ST (tumor region spots)\"],\n",
    ")"
   ]
  },
  {
   "cell_type": "code",
   "execution_count": null,
   "metadata": {},
   "outputs": [],
   "source": [
    "a_comb_epi.obs.CIN_status.value_counts()"
   ]
  },
  {
   "cell_type": "code",
   "execution_count": null,
   "metadata": {},
   "outputs": [],
   "source": [
    "a_comb_epi.obs[\"Tumor_vs_NL\"].cat.categories"
   ]
  },
  {
   "cell_type": "code",
   "execution_count": null,
   "metadata": {},
   "outputs": [],
   "source": [
    "boxplots_group(\n",
    "    a_comb_epi,\n",
    "    outdir=\"ST_out/infercnv/\",\n",
    "    obs=[\"Tumor_vs_NL\"],\n",
    "    colors=[\"CNV score\"],\n",
    "    figsize=(4,4),\n",
    "    sig=False,\n",
    "    cmap_dict=cmap_dict,\n",
    "    titles=[\"ST (tumor region spots)\"],\n",
    ")"
   ]
  },
  {
   "cell_type": "code",
   "execution_count": null,
   "metadata": {},
   "outputs": [],
   "source": [
    "boxplots_group(\n",
    "    a_comb_epi,\n",
    "    outdir=\"ST_out/infercnv/\",\n",
    "    obs=[\"Tumor_vs_NL\"],\n",
    "    colors=[\"CNV score\"],\n",
    "    figsize=(4,6),\n",
    "    sig=True,\n",
    "    cmap_dict=cmap_dict,\n",
    "    titles=[\"ST (tumor region spots)\"],\n",
    ")"
   ]
  },
  {
   "cell_type": "code",
   "execution_count": null,
   "metadata": {},
   "outputs": [],
   "source": [
    "a_comb_epi.obs.Tumor_vs_NL.value_counts()"
   ]
  },
  {
   "cell_type": "code",
   "execution_count": null,
   "metadata": {},
   "outputs": [],
   "source": [
    "boxplots_group(\n",
    "    a_comb,\n",
    "    outdir=\"ST_out/infercnv/\",\n",
    "    obs=[\"Evolution\"],\n",
    "    colors=[\"CNV score\"],\n",
    "    figsize=(4,6),\n",
    "    sig=True,\n",
    "    cmap_dict=cmap_dict,\n",
    "    titles=[\"ST (tumor region spots)\"],\n",
    ")"
   ]
  },
  {
   "cell_type": "code",
   "execution_count": null,
   "metadata": {},
   "outputs": [],
   "source": [
    "boxplots_group(\n",
    "    a_comb,\n",
    "    outdir=\"ST_out/infercnv/\",\n",
    "    obs=[\"Evolution_grouped\"],\n",
    "    colors=[\"CNV score\"],\n",
    "    figsize=(4,6),\n",
    "    sig=True,\n",
    "    cmap_dict=cmap_dict,\n",
    "    titles=[\"ST (tumor region spots)\"],\n",
    ")"
   ]
  }
 ],
 "metadata": {
  "kernelspec": {
   "display_name": "scanpy",
   "language": "python",
   "name": "scanpy"
  },
  "language_info": {
   "codemirror_mode": {
    "name": "ipython",
    "version": 3
   },
   "file_extension": ".py",
   "mimetype": "text/x-python",
   "name": "python",
   "nbconvert_exporter": "python",
   "pygments_lexer": "ipython3",
   "version": "3.8.10"
  }
 },
 "nbformat": 4,
 "nbformat_minor": 4
}
