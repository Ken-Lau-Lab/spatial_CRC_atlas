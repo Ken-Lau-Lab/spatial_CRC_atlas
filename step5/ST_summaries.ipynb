{
 "cells": [
  {
   "cell_type": "code",
   "execution_count": null,
   "metadata": {},
   "outputs": [],
   "source": [
    "import sys; sys.path.append(\"../resources/\")\n",
    "from dotplot_utils import *\n",
    "import pandas as pd\n",
    "import seaborn as sns\n",
    "# make this notebook work better with Scanpy\n",
    "import warnings; warnings.simplefilter(action='ignore', category=FutureWarning)"
   ]
  },
  {
   "cell_type": "code",
   "execution_count": null,
   "metadata": {},
   "outputs": [],
   "source": [
    "# make output directories\n",
    "import os\n",
    "if not os.path.exists(\"ST_out\"):\n",
    "    os.mkdir(\"ST_out\")\n",
    "\n",
    "if not os.path.exists(\"ST_out/plots_overview/\"):\n",
    "    os.mkdir(\"ST_out/plots_overview/\")"
   ]
  },
  {
   "cell_type": "code",
   "execution_count": null,
   "metadata": {},
   "outputs": [],
   "source": [
    "sc.set_figure_params(transparent=True, dpi_save=400)\n",
    "sc.settings.figdir = \"ST_out/plots_overview/\""
   ]
  },
  {
   "cell_type": "markdown",
   "metadata": {
    "tags": []
   },
   "source": [
    "---\n",
    "## Read in key dataframe with sample information"
   ]
  },
  {
   "cell_type": "code",
   "execution_count": null,
   "metadata": {},
   "outputs": [],
   "source": [
    "sample_key = pd.read_csv(\"../resources/ST/visium_sample_key.csv\", index_col=0)"
   ]
  },
  {
   "cell_type": "markdown",
   "metadata": {},
   "source": [
    "---"
   ]
  },
  {
   "cell_type": "code",
   "execution_count": null,
   "metadata": {},
   "outputs": [],
   "source": [
    "outs = []\n",
    "for s in sample_key.index:\n",
    "    a = sc.read(\"../data/ST/{}_master.h5ad\".format(s))\n",
    "    print(\"Read adata from ../data/ST/{}_master.h5ad\".format(s))\n",
    "\n",
    "    # compile training data\n",
    "    outs.append(a)\n",
    "\n",
    "assert len(outs) == len(sample_key), \"Check length of outs\""
   ]
  },
  {
   "cell_type": "code",
   "execution_count": null,
   "metadata": {},
   "outputs": [],
   "source": [
    "# concatenate anndata objects\n",
    "a_comb = outs[0].concatenate(\n",
    "    outs[1:],\n",
    "    join=\"outer\",\n",
    "    batch_categories=list(sample_key.index),\n",
    "    fill_value=0,\n",
    ")\n",
    "del a_comb.obsm\n",
    "del a_comb.var"
   ]
  },
  {
   "cell_type": "code",
   "execution_count": null,
   "metadata": {},
   "outputs": [],
   "source": [
    "ies_thresh = a_comb.obs.loc[(a_comb.obs.pathology_annotation==\"smooth_muscle\"), \"IEX\"].mean() + a_comb.obs.loc[(a_comb.obs.pathology_annotation==\"smooth_muscle\"), \"IEX\"].std()"
   ]
  },
  {
   "cell_type": "code",
   "execution_count": null,
   "metadata": {},
   "outputs": [],
   "source": [
    "ies_thresh"
   ]
  },
  {
   "cell_type": "code",
   "execution_count": null,
   "metadata": {},
   "outputs": [],
   "source": [
    "len(a_comb.obs.loc[(a_comb.obs.pathology_annotation==\"smooth_muscle\"), \"IEX\"])"
   ]
  },
  {
   "cell_type": "code",
   "execution_count": null,
   "metadata": {},
   "outputs": [],
   "source": [
    "a_comb.obs[\"CNV_clone_domain\"] = a_comb.obs[\"CNV clone\"].values\n",
    "a_comb.obs[\"CNV_clone_domain\"] = a_comb.obs[\"CNV_clone_domain\"].astype(str)\n",
    "a_comb.obs.loc[a_comb.obs[\"CNV clone\"].isin([\"1\", \"2\", \"3\", \"1A\", \"1B\"]), \"CNV_clone_domain\"] = \"Tumor\"\n",
    "a_comb.obs[\"CNV_clone_domain\"].replace({\"S\":\"Stroma\",\"E\":\"Edge\"}, inplace=True)\n",
    "a_comb.obs[\"CNV_clone_domain\"] = a_comb.obs[\"CNV_clone_domain\"].astype(\"category\")"
   ]
  },
  {
   "cell_type": "code",
   "execution_count": null,
   "metadata": {},
   "outputs": [],
   "source": [
    "a_comb.obs[\"Evolution_grouped\"] = a_comb.obs[\"Evolution\"].values\n",
    "a_comb.obs[\"Evolution_grouped\"] = a_comb.obs[\"Evolution_grouped\"].astype(str)\n",
    "a_comb.obs.loc[a_comb.obs[\"Evolution\"].isin([\"B\", \"N\"]), \"Evolution_grouped\"] = \"N/B\"\n",
    "a_comb.obs.loc[a_comb.obs[\"Evolution_grouped\"]==\"nan\", \"Evolution_grouped\"] = np.nan\n",
    "a_comb.obs[\"Evolution_grouped\"] = a_comb.obs[\"Evolution_grouped\"].astype(\"category\")"
   ]
  },
  {
   "cell_type": "code",
   "execution_count": null,
   "metadata": {},
   "outputs": [],
   "source": [
    "# save maximum CNV score for each patient\n",
    "pd.DataFrame(a_comb.obs.loc[a_comb.obs[\"CNV clone\"]!=\"S\",:].groupby([\"Patient\"])[\"CNV score\"].mean()).to_csv(\"../resources/ST/cnv_score_per_patient.csv\")"
   ]
  },
  {
   "cell_type": "markdown",
   "metadata": {},
   "source": [
    "#### read list of genes detected in all Visium samples with their ENSEMBL IDs"
   ]
  },
  {
   "cell_type": "code",
   "execution_count": null,
   "metadata": {},
   "outputs": [],
   "source": [
    "tmp = pd.read_csv(\"../resources/ST/master_visium_genes_list.csv\", index_col=0)"
   ]
  },
  {
   "cell_type": "code",
   "execution_count": null,
   "metadata": {},
   "outputs": [],
   "source": [
    "a_comb.var = a_comb.var.merge(tmp, left_index=True, right_index=True, how=\"left\")"
   ]
  },
  {
   "cell_type": "markdown",
   "metadata": {},
   "source": [
    "#### Adjust 'Variants' to 'Mut. Burden' to avoid highly-weighted mutations from polyps with large tissue area"
   ]
  },
  {
   "cell_type": "code",
   "execution_count": null,
   "metadata": {},
   "outputs": [],
   "source": [
    "tmp = pd.DataFrame(a_comb.obs.groupby(\"Patient\")[\"Variants\"].max().fillna(0))\n",
    "tmp.rename(columns={\"Variants\":\"TMB\"}, inplace=True)\n",
    "a_comb.obs = a_comb.obs.merge(tmp, left_on=\"Patient\", right_index=True, how=\"left\")"
   ]
  },
  {
   "cell_type": "code",
   "execution_count": null,
   "metadata": {},
   "outputs": [],
   "source": [
    "a_comb.obs[\"TMB\"] = a_comb.obs[\"TMB\"].astype(int)"
   ]
  },
  {
   "cell_type": "markdown",
   "metadata": {},
   "source": [
    "---\n",
    "## Define gene signatures"
   ]
  },
  {
   "cell_type": "code",
   "execution_count": null,
   "metadata": {},
   "outputs": [],
   "source": [
    "# recombine signatures into useful categories\n",
    "signatures_epi_stroma = [\n",
    "    'IFN stimulated EPI',\n",
    "    'iCMS2',\n",
    "    'iCMS3',\n",
    "    #'Stem cell index', # Gil Vasquez, et al. 2022\n",
    "    'Basal',\n",
    "    'Squamous',\n",
    "    'Mesenchymal',\n",
    "    'Glandular',\n",
    "    'Ciliated',\n",
    "    'Alveolar',\n",
    "    'AC', # astrocyte\n",
    "    'OPC', # oligodendrocyte progenitor\n",
    "    'NPC', # neural progenitor\n",
    "    'IEX', # custom epithelial-intrinsic exclusion signature\n",
    "]\n",
    "\n",
    "signatures_myeloid = [\n",
    "    'Myeloid',\n",
    "    'cDC2',\n",
    "    'cDC1',\n",
    "    'Macrophage',\n",
    "    'Classical monocytes',\n",
    "    'M1',\n",
    "    'M2',\n",
    "    'Neutrophils',\n",
    "    'Costimulatory MYE',\n",
    "    'Stimulatory DCs',\n",
    "    'IFN stimulated MYE',\n",
    "]\n",
    "\n",
    "signatures_lymphoid = [\n",
    "    'T cell',\n",
    "    'T reg',\n",
    "    'T cell CD4',\n",
    "    'T cell CD8',\n",
    "    'T reg resting',\n",
    "    'T reg suppressive',\n",
    "    'T reg tissue homing',\n",
    "    'T reg cytokines',\n",
    "    'T reg activation',\n",
    "    'TH1',\n",
    "    'TH2',\n",
    "    'TH17',\n",
    "    'T cell exhaustion',\n",
    "    'TRM', # tissue-resident memory T cells\n",
    "    'NK cell',\n",
    "    'B cell',\n",
    "    'Plasma cell',\n",
    "]\n",
    "\n",
    "signatures_activity = [\n",
    "    'EMT',\n",
    "    'pEMT',\n",
    "    'Senescence',\n",
    "    'SASP',\n",
    "    'Interferon',\n",
    "    'Hypoxia',\n",
    "    'Oxphos',\n",
    "    'Stress',\n",
    "    'Stress response',\n",
    "    'Bacterial response',\n",
    "    'Fibrosis',\n",
    "    'Cytotoxicity',\n",
    "    'Exhaustion',\n",
    "    'Cytokines',\n",
    "    'Chemokines',\n",
    "    'MHC',\n",
    "    'Fetal',\n",
    "    'Stem',\n",
    "    'Metaplasia',\n",
    "    'Proliferation',\n",
    "    'Translation',\n",
    "    'Cycle',\n",
    "    'Metal',\n",
    "    'CytoTRACE',\n",
    "    'CNV score',\n",
    "]\n",
    "\n",
    "signatures_curated = [\n",
    "    # activity\n",
    "    'pEMT',\n",
    "    'Metaplasia',\n",
    "    'Stem',\n",
    "    'CytoTRACE',\n",
    "    'IEX',\n",
    "    'CNV score',\n",
    "    'MHC',\n",
    "    'Fibrosis',\n",
    "    'Bacterial response',\n",
    "    # epi/stroma\n",
    "    'IFN stimulated EPI',\n",
    "    'iCMS2',\n",
    "    'iCMS3',\n",
    "    #'Stem cell index', # Gil Vasquez, et al. 2022\n",
    "    'Squamous',\n",
    "    # lymphoid\n",
    "    'T reg suppressive',\n",
    "    'T cell CD4',\n",
    "    'T cell CD8',\n",
    "    'T cell exhaustion',\n",
    "    # myeloid\n",
    "    'IFN stimulated MYE',\n",
    "    'Neutrophils',\n",
    "]\n",
    "\n",
    "signatures_fig_1 = [\n",
    "    \"Stem\",\n",
    "    \"T cell CD4\",\n",
    "    \"iCMS2\",\n",
    "    \"iCMS3\",\n",
    "    \"Metaplasia\",\n",
    "    \"CytoTRACE\",\n",
    "    \"CNV score\",\n",
    "    \"T cell CD8\"\n",
    "]\n",
    "\n",
    "signatures_fig_2 = [\n",
    "    \"Stem\",\n",
    "    \"T cell CD4\",\n",
    "    \"iCMS2\",\n",
    "    \"iCMS3\",\n",
    "    \"Metaplasia\",\n",
    "    \"CytoTRACE\",\n",
    "    \"CNV score\",\n",
    "    \"T cell CD8\",\n",
    "    \"IFN stimulated MYE\",\n",
    "    \"T reg suppressive\",\n",
    "    \"TMB\",\n",
    "    \"T cell exhaustion\",\n",
    "]"
   ]
  },
  {
   "cell_type": "markdown",
   "metadata": {},
   "source": [
    "---\n",
    "## Rename things and set up for plotting"
   ]
  },
  {
   "cell_type": "code",
   "execution_count": null,
   "metadata": {},
   "outputs": [],
   "source": [
    "# rename obs columns with MxIF stains in them\n",
    "old_mxif = list(a_comb.obs.columns[a_comb.obs.columns.str.endswith(\"_MxIF\")])\n",
    "new_mxif = list(a_comb.obs.columns[a_comb.obs.columns.str.endswith(\"_MxIF\")].str.split(\"_\").str[0])\n",
    "a_comb.obs.rename(columns=dict(zip(old_mxif,new_mxif)), inplace=True)"
   ]
  },
  {
   "cell_type": "code",
   "execution_count": null,
   "metadata": {},
   "outputs": [],
   "source": [
    "# rename cell state columns in master anndata.obs\n",
    "et = list(a_comb.obs.columns[a_comb.obs.columns.str.endswith(\"_VUMCrefNMF30\")])\n",
    "et_new = [x.replace(\"_VUMCrefNMF30\", \"\") for x in et]\n",
    "a_comb.obs.rename(columns=dict(zip(et, et_new)), inplace=True)"
   ]
  },
  {
   "cell_type": "code",
   "execution_count": null,
   "metadata": {},
   "outputs": [],
   "source": [
    "a_comb"
   ]
  },
  {
   "cell_type": "code",
   "execution_count": null,
   "metadata": {},
   "outputs": [],
   "source": [
    "cmap_dict = {\n",
    "    # Tumor Type\n",
    "    'SSL/HP':\"#c4a4e1\",'MSI-H':\"#7a4fa3\",'MSS':\"#ffc101\",'TA/TVA':\"#fee799\",'NL':\"#1f77b4\",\n",
    "    'HM':\"#7a4fa3\",'CIN+':\"#ffc101\",\n",
    "    # Tumor Location\n",
    "    \"Cecum\":\"#1f4e79\",\"Ascending\":\"#2e74b7\",\"Hepatic Flexure\":\"#bdd6ef\",\"Transverse\":\"#ff717a\",\"Descending\":\"#fe0001\",\"Sigmoid\":\"#c00101\",\n",
    "    # this one's global\n",
    "    \"nan\":\"#ffffff\",\n",
    "    # These are black and white for T and F\n",
    "    \"T\":\"#000000\",\"F\":\"#ffffff\",\n",
    "    # evolution\n",
    "    \"N\":\"tab:blue\",\"B\":\"tab:green\",\"L\":\"tab:orange\",\"N/B\":\"tab:blue\",\n",
    "    # CNV clone domain\n",
    "    \"Tumor\":\"#000000\",\"Stroma\":\"tab:pink\",\"Edge\":\"tab:red\"\n",
    "}\n",
    "stage_colordict = dict(zip([\"AD\",\"I\",\"II\",\"III/IV\"], sns.color_palette(\"Reds\", len([\"AD\",\"I\",\"II\",\"III/IV\"])).as_hex()))\n",
    "grade_colordict = dict(zip([\"G1\",\"G2\",\"G3\"], sns.color_palette(\"Reds\", len([\"G1\",\"G2\",\"G3\"])).as_hex()))\n",
    "cmap_dict = {**cmap_dict, **stage_colordict, **grade_colordict}"
   ]
  },
  {
   "cell_type": "code",
   "execution_count": null,
   "metadata": {},
   "outputs": [],
   "source": [
    "patient_colordict = dict(zip(sample_key.patient_name, [cmap_dict[x] for x in sample_key[\"CIN Status\"]]))"
   ]
  },
  {
   "cell_type": "code",
   "execution_count": null,
   "metadata": {},
   "outputs": [],
   "source": [
    "cmap = matplotlib.cm.get_cmap(\"plasma\", 8)\n",
    "mw_colordict = dict(zip([\"D0\",\"D1\",\"D2\",\"D3\",\"D4\",\"D5\",\"D6\",\"D7\"], [matplotlib.colors.rgb2hex(cmap(i)) for i in range(cmap.N)]))"
   ]
  },
  {
   "cell_type": "markdown",
   "metadata": {},
   "source": [
    "---\n",
    "# Overview plots\n",
    "\n",
    "Summaries of global signatures, cell states, and archetypes by tumor type, MILWRM domain, and patient"
   ]
  },
  {
   "cell_type": "code",
   "execution_count": null,
   "metadata": {},
   "outputs": [],
   "source": [
    "signatures_activity_height = 7\n",
    "signatures_epi_stroma_height = 4.1\n",
    "signatures_myeloid_height = 3\n",
    "signatures_lymphoid_height = 4.7\n",
    "signatures_curated_height = 6\n",
    "signatures_fig_1_height = 3\n",
    "signatures_fig_2_height = 3.2\n",
    "refNMF_height = 8\n",
    "archetypes_height = 2.7\n",
    "mxif_height = 8.2"
   ]
  },
  {
   "cell_type": "code",
   "execution_count": null,
   "metadata": {},
   "outputs": [],
   "source": [
    "# define heatmap widths\n",
    "milwrm_width = 4.1\n",
    "tumor_type_width = 3.2\n",
    "tumor_class_width = 3.2\n",
    "tumor_loc_width = 3.7\n",
    "tumor_stage_width = 3.2\n",
    "tumor_grade_width = 3.0\n",
    "patient_width = 8.7\n",
    "pathology_width = 4.0\n",
    "evolution_width = 3.0\n",
    "evolution_grouped_width = 2.5\n",
    "cnv_domain_width = 3.0"
   ]
  },
  {
   "cell_type": "markdown",
   "metadata": {},
   "source": [
    "---\n",
    "# Gene Signatures + MxIF Intensities"
   ]
  },
  {
   "cell_type": "code",
   "execution_count": null,
   "metadata": {},
   "outputs": [],
   "source": [
    "for features_name, features_list, height in zip(\n",
    "        [\"signatures_activity\", \"signatures_epi_stroma\", \"signatures_myeloid\", \"signatures_lymphoid\", \"signatures_curated\", \"signatures_fig_1\", \"signatures_fig_2\", \"MxIF\"],\n",
    "        [signatures_activity, signatures_epi_stroma, signatures_myeloid, signatures_lymphoid, signatures_curated, signatures_fig_1, signatures_fig_2, new_mxif],\n",
    "        [signatures_activity_height, signatures_epi_stroma_height, signatures_myeloid_height, signatures_lymphoid_height, signatures_curated_height, signatures_fig_1_height, signatures_fig_2_height, mxif_height],\n",
    "    ):\n",
    "    # set counter to 0 for the first group\n",
    "    counter = 0\n",
    "    for group_name, group, width, groupby_order, groupby_colordict, in zip(\n",
    "        [\"VUMCrefNMF30_MILWRM\", \"tumortype\", \"tumorclass\", \"tumorloc\", \"tumorstage\", \"tumorgrade\", \"pathology_annotation\", \"evolution\", \"evolution_grouped\", \"CNVclonedomain\", \"patient\"],\n",
    "        [\"MILWRM Domain\", \"Tumor Type\", \"CIN Status\", \"Tumor Location\", \"Tumor Stage\", \"Tumor Grade\", \"pathology_annotation\", \"Evolution\", \"Evolution_grouped\", \"CNV_clone_domain\", \"Patient\"],\n",
    "        [milwrm_width, tumor_type_width, tumor_class_width, tumor_loc_width, tumor_stage_width, tumor_grade_width, pathology_width, evolution_width, evolution_grouped_width, cnv_domain_width, patient_width],\n",
    "        [None, None, None, [\"Cecum\",\"Ascending\",\"Hepatic Flexure\",\"Transverse\",\"Descending\",\"Sigmoid\"], [\"NL\",\"AD\",\"I\",\"II\",\"III/IV\"], [\"NL\",\"G1\",\"G2\",\"G3\"], None, [\"L\",\"N\",\"B\"], [\"N/B\",\"L\"], [\"Stroma\",\"Edge\",\"Tumor\"], None],\n",
    "        [mw_colordict, cmap_dict, cmap_dict, cmap_dict, cmap_dict, cmap_dict, None, cmap_dict, cmap_dict, cmap_dict, patient_colordict],\n",
    "    ):\n",
    "        if counter == 0:\n",
    "            # for the first group, hierarchically cluster the features\n",
    "            features_ordered = cody_heatmap(\n",
    "                a_comb,\n",
    "                groupby=group,\n",
    "                features=features_list,\n",
    "                cluster_vars=True,\n",
    "                vars_dict=None,\n",
    "                groupby_order=groupby_order,\n",
    "                groupby_colordict=groupby_colordict,\n",
    "                cluster_obs=True if groupby_order is None else False,\n",
    "                figsize=(width, height),\n",
    "                save=\"ST_out/plots_overview/{}_{}_dotplot.png\".format(group_name, features_name),\n",
    "                dpi=400,\n",
    "                cmap=\"Greys\",\n",
    "                size_title=\"Fraction of cells or\\nspots in group (%)\",\n",
    "            )\n",
    "            counter += 1\n",
    "        else:\n",
    "            # after the first group, features are ordered based on the first group clustering\n",
    "            cody_heatmap(\n",
    "                a_comb,\n",
    "                groupby=group,\n",
    "                features=features_ordered,\n",
    "                cluster_vars=False,\n",
    "                vars_dict=None,\n",
    "                groupby_order=groupby_order,\n",
    "                groupby_colordict=groupby_colordict,\n",
    "                cluster_obs=True if groupby_order is None else False,\n",
    "                figsize=(width, height),\n",
    "                save=\"ST_out/plots_overview/{}_{}_dotplot.png\".format(group_name, features_name),\n",
    "                dpi=400,\n",
    "                cmap=\"Greys\",\n",
    "                size_title=\"Fraction of spots\\nin group (%)\",\n",
    "            )"
   ]
  },
  {
   "cell_type": "code",
   "execution_count": null,
   "metadata": {},
   "outputs": [],
   "source": [
    "group_name = \"patient\"\n",
    "group = \"Patient\"\n",
    "features_list = signatures_fig_1\n",
    "features_name = \"signatures_fig_1\"\n",
    "height = signatures_fig_1_height\n",
    "width = patient_width\n",
    "groupby_colordict = patient_colordict\n",
    "groupby_order = [\n",
    "    \"SR00001\",\n",
    "    \"HTA11_01938\",\n",
    "    \"HTA11_07862\",\n",
    "    \"HTA11_10711\",\n",
    "    \"PAT05785\",\n",
    "    \"PAT06439\",\n",
    "    \"PAT15211\",\n",
    "    \"PAT30884\",\n",
    "    \"PAT59600\",\n",
    "    \"PAT59667\",\n",
    "    \"PAT71397\",\n",
    "    \"PAT71662\",\n",
    "    \"PAT73899\",\n",
    "    \"PAT74143\",\n",
    "    \"SG00003\",\n",
    "    \"SG00004\",\n",
    "    \"HTA11_06134\",\n",
    "    \"HTA11_07663\",\n",
    "    \"HTA11_08622_A\",\n",
    "    \"HTA11_08622_B\",\n",
    "    \"PAT00222\",\n",
    "    \"PAT01586\",\n",
    "    \"PAT01587\",\n",
    "    \"PAT33430\",\n",
    "    \"PAT40364\",\n",
    "    \"PAT54273\",\n",
    "    \"PAT59460\",\n",
    "    \"PAT73458\",\n",
    "    \"SG00001\",\n",
    "    \"SG00002\",\n",
    "]\n",
    "features_ordered = [\n",
    "    \"Stem\",\n",
    "    \"T cell CD4\",\n",
    "    \"iCMS2\",\n",
    "    \"iCMS3\",\n",
    "    \"Metaplasia\",\n",
    "    \"CytoTRACE\",\n",
    "    \"CNV score\",\n",
    "    \"T cell CD8\",\n",
    "]\n",
    "\n",
    "cody_heatmap(\n",
    "    a_comb,\n",
    "    groupby=group,\n",
    "    features=features_ordered,\n",
    "    cluster_vars=False,\n",
    "    vars_dict=None,\n",
    "    groupby_order=groupby_order,\n",
    "    groupby_colordict=groupby_colordict,\n",
    "    cluster_obs=True if groupby_order is None else False,\n",
    "    figsize=(width, 2.4),\n",
    "    save=\"ST_out/plots_overview/{}_{}_dotplot.png\".format(group_name, features_name),\n",
    "    dpi=400,\n",
    "    cmap=\"Greys\",\n",
    "    size_title=\"Fraction of spots\\nin group (%)\",\n",
    ")"
   ]
  },
  {
   "cell_type": "markdown",
   "metadata": {},
   "source": [
    "---\n",
    "# Combined markers"
   ]
  },
  {
   "cell_type": "code",
   "execution_count": null,
   "metadata": {},
   "outputs": [],
   "source": [
    "# split refNMF cell states by compartment\n",
    "mxif = [\n",
    "    \"HLAA\",\n",
    "    \"NAKATPASE\",\n",
    "    \"PANCK\",\n",
    "    \"OLFM4\",\n",
    "    \"PCNA\",\n",
    "    \"PEGFR\",\n",
    "    \"COLLAGEN\",\n",
    "    \"SMA\",\n",
    "]\n",
    "\n",
    "epi_sigs = [\n",
    "    \"CNV score\",\n",
    "    \"CytoTRACE\",\n",
    "    \"Stem\",\n",
    "    \"Metaplasia\",\n",
    "    \"Hypoxia\",\n",
    "    \"Oxphos\",\n",
    "    \"Stress response\",\n",
    "    \"Bacterial response\",\n",
    "    \"Fibrosis\",\n",
    "    \"EMT\",\n",
    "]\n",
    "\n",
    "str_sigs = [\n",
    "    \"Neutrophils\",\n",
    "    \"M1\",\n",
    "    \"M2\",\n",
    "    \"T reg\",\n",
    "    \"T cell CD4\",\n",
    "    \"T cell CD8\",\n",
    "    \"Cytotoxicity\",\n",
    "    \"T cell exhaustion\",\n",
    "]\n",
    "\n",
    "marker_states_dict = {\n",
    "    \"MxIF\": mxif,\n",
    "    \"Activity\": epi_sigs,\n",
    "    \"Immune\": str_sigs,\n",
    "}\n",
    "custom_height = 7.3"
   ]
  },
  {
   "cell_type": "code",
   "execution_count": null,
   "metadata": {},
   "outputs": [],
   "source": [
    "a_comb = a_comb[:, a_comb.var_names!=\"OLFM4\"].copy()"
   ]
  },
  {
   "cell_type": "code",
   "execution_count": null,
   "metadata": {},
   "outputs": [],
   "source": [
    "a_comb = a_comb[:, a_comb.var_names!=\"PCNA\"].copy()"
   ]
  },
  {
   "cell_type": "code",
   "execution_count": null,
   "metadata": {},
   "outputs": [],
   "source": [
    "for group_name, group, width, groupby_order, groupby_colordict in zip(\n",
    "    [\"VUMCrefNMF30_MILWRM\", \"tumortype\", \"tumorloc\", \"tumorstage\", \"tumorgrade\", \"pathology_annotation\", \"evolution\", \"evolution_grouped\", \"CNVclonedomain\", \"patient\"],\n",
    "    [\"MILWRM Domain\", \"Tumor Type\", \"Tumor Location\", \"Tumor Stage\", \"Tumor Grade\", \"pathology_annotation\", \"Evolution\", \"Evolution_grouped\", \"CNV_clone_domain\", \"Patient\"],\n",
    "    [milwrm_width, 4, tumor_loc_width, tumor_stage_width, tumor_grade_width, pathology_width, evolution_width, evolution_grouped_width, cnv_domain_width, patient_width],\n",
    "    [None, None, [\"Cecum\",\"Ascending\",\"Hepatic Flexure\",\"Transverse\",\"Descending\",\"Sigmoid\"], [\"NL\",\"AD\",\"I\",\"II\",\"III/IV\"], [\"NL\",\"G1\",\"G2\",\"G3\"], None, [\"L\",\"N\",\"B\"], [\"N/B\",\"L\"], [\"Stroma\",\"Edge\",\"Tumor\"], None],\n",
    "    [mw_colordict, cmap_dict, cmap_dict, cmap_dict, cmap_dict, None, cmap_dict, cmap_dict, cmap_dict, patient_colordict],\n",
    "):\n",
    "    cody_heatmap(\n",
    "        a_comb,\n",
    "        groupby=group,\n",
    "        features=sum(marker_states_dict.values(), []),\n",
    "        cluster_vars=False,\n",
    "        vars_dict=marker_states_dict,\n",
    "        groupby_order=groupby_order,\n",
    "        groupby_colordict=groupby_colordict,\n",
    "        cluster_obs=True if groupby_order is None else False,\n",
    "        figsize=(width, custom_height),\n",
    "        save=\"ST_out/plots_overview/{}_epivsstroma_dotplot.png\".format(group_name),\n",
    "        dpi=400,\n",
    "        cmap=\"Greys\",\n",
    "        size_title=\"Fraction of spots\\nin group (%)\",\n",
    "    )"
   ]
  },
  {
   "cell_type": "markdown",
   "metadata": {},
   "source": [
    "---\n",
    "# refNMF Cell States"
   ]
  },
  {
   "cell_type": "code",
   "execution_count": null,
   "metadata": {},
   "outputs": [],
   "source": [
    "# split refNMF cell states by compartment\n",
    "nmf_epi = [\n",
    " 'STM',\n",
    " 'CRC1',\n",
    " 'CRC2',\n",
    " 'CT',\n",
    " 'SSC',\n",
    " 'CRC3',\n",
    " 'EE1',\n",
    " 'GOB',\n",
    " 'CRC4',\n",
    " 'ABS',\n",
    " 'TUF',\n",
    " 'EE2',\n",
    "]\n",
    "nmf_epi.sort()\n",
    "\n",
    "nmf_stroma = [\n",
    " 'END1',\n",
    " 'FIB1',\n",
    " 'FIB2',\n",
    " 'FIB3',\n",
    " 'FIB4',\n",
    " 'END2',\n",
    "]\n",
    "nmf_stroma.sort()\n",
    "\n",
    "nmf_immune = [\n",
    " 'BL1',\n",
    " 'MYE1',\n",
    " 'TL1',\n",
    " 'MYE2',\n",
    " 'MYE3',\n",
    " 'PLA',\n",
    " 'MYE4',\n",
    " 'MAS',\n",
    " 'MYE5',\n",
    " 'TL2',\n",
    " 'TL3',\n",
    " 'BL2'\n",
    "]\n",
    "nmf_immune.sort()\n",
    "\n",
    "marker_states_dict = {\n",
    "    \"Epithelial\": nmf_epi,\n",
    "    \"Stromal\": nmf_stroma,\n",
    "    \"Immune\": nmf_immune,\n",
    "}"
   ]
  },
  {
   "cell_type": "code",
   "execution_count": null,
   "metadata": {},
   "outputs": [],
   "source": [
    "for group_name, group, width, groupby_order, groupby_colordict in zip(\n",
    "    [\"VUMCrefNMF30_MILWRM\", \"tumortype\", \"tumorclass\", \"tumorloc\", \"tumorstage\", \"tumorgrade\", \"pathology_annotation\", \"evolution\", \"evolution_grouped\", \"CNVclonedomain\", \"patient\"],\n",
    "    [\"MILWRM Domain\", \"Tumor Type\", \"CIN Status\", \"Tumor Location\", \"Tumor Stage\", \"Tumor Grade\", \"pathology_annotation\", \"Evolution\", \"Evolution_grouped\", \"CNV_clone_domain\", \"Patient\"],\n",
    "    [milwrm_width, 4, 4, tumor_loc_width, tumor_stage_width, tumor_grade_width, pathology_width, evolution_width, evolution_grouped_width, cnv_domain_width, patient_width],\n",
    "    [None, None, None, [\"Cecum\",\"Ascending\",\"Hepatic Flexure\",\"Transverse\",\"Descending\",\"Sigmoid\"], [\"NL\",\"AD\",\"I\",\"II\",\"III/IV\"], [\"NL\",\"G1\",\"G2\",\"G3\"], None, [\"L\",\"N\",\"B\"], [\"N/B\",\"L\"], [\"Stroma\",\"Edge\",\"Tumor\"], None],\n",
    "    [mw_colordict, cmap_dict, cmap_dict, cmap_dict, cmap_dict, cmap_dict, None, cmap_dict, cmap_dict, cmap_dict, patient_colordict],\n",
    "):\n",
    "    cody_heatmap(\n",
    "        a_comb,\n",
    "        groupby=group,\n",
    "        features=sum(marker_states_dict.values(), []),\n",
    "        cluster_vars=False,\n",
    "        vars_dict=marker_states_dict,\n",
    "        groupby_order=groupby_order,\n",
    "        groupby_colordict=groupby_colordict,\n",
    "        cluster_obs=True if groupby_order is None else False,\n",
    "        figsize=(width, refNMF_height),\n",
    "        save=\"ST_out/plots_overview/{}_VUMCrefNMF30_dotplot.png\".format(group_name),\n",
    "        dpi=400,\n",
    "        cmap=\"Greys\",\n",
    "        size_title=\"Fraction of spots\\nin group (%)\",\n",
    "    )"
   ]
  },
  {
   "cell_type": "markdown",
   "metadata": {},
   "source": [
    "---\n",
    "# Gene and cell state summaries for immune exclusion analysis"
   ]
  },
  {
   "cell_type": "code",
   "execution_count": null,
   "metadata": {},
   "outputs": [],
   "source": [
    "a_comb.obs.drop(columns=[\"DPEP1\"],inplace=True)"
   ]
  },
  {
   "cell_type": "code",
   "execution_count": null,
   "metadata": {},
   "outputs": [],
   "source": [
    "a_comb.X = a_comb.X.todense()"
   ]
  },
  {
   "cell_type": "code",
   "execution_count": null,
   "metadata": {},
   "outputs": [],
   "source": [
    "a_comb.layers[\"raw_counts\"] = a_comb.X.copy()"
   ]
  },
  {
   "cell_type": "code",
   "execution_count": null,
   "metadata": {},
   "outputs": [],
   "source": [
    "custom_dict = {\n",
    "    \"PPT\": [\"CNV score\",\"TMB\"],\n",
    "    \"Excl.\": [\"IEX\",\"DDR1\",\"TGFBI\",\"PAK4\",\"DPEP1\",\"Fibrosis\"],\n",
    "    \"uEnv.\": [\"FIB2\",\"FIB3\",\"MYE2\"],\n",
    "    \"Inf.\": [\"T cell CD4\",\"T reg suppressive\",\"TL1\",\"T cell CD8\",\"TL2\",\"TL3\",\"MYE4\",\"MYE5\"],\n",
    "    \"Act.\": [\"Oxphos\",\"Hypoxia\",\"pEMT\"],\n",
    "    \"MSS\": [\"iCMS2\",\"Stem\",\"CRC2\"],\n",
    "    \"MSI-H\": [\"iCMS3\",\"SSC\",\"Metaplasia\"],\n",
    "    \"NL\": [\"GOB\",\"ABS\",\"CT\"],\n",
    "}\n",
    "custom_dict_height = 7.5"
   ]
  },
  {
   "cell_type": "code",
   "execution_count": null,
   "metadata": {},
   "outputs": [],
   "source": [
    "for features_name, features_list, height in zip(\n",
    "        [\"immexcl\"],\n",
    "        [custom_dict],\n",
    "        [custom_dict_height],\n",
    "    ):\n",
    "    for group_name, group, width, groupby_order, groupby_colordict, in zip(\n",
    "        [\"VUMCrefNMF30_MILWRM\", \"tumortype\", \"tumorclass\", \"tumorloc\", \"tumorstage\", \"tumorgrade\", \"patient\", \"pathology_annotation\", \"CNVclonedomain\", \"evolution\", \"evolution_grouped\"],\n",
    "        [\"MILWRM Domain\", \"Tumor Type\", \"CIN Status\", \"Tumor Location\", \"Tumor Stage\", \"Tumor Grade\", \"Patient\", \"pathology_annotation\", \"CNV_clone_domain\", \"Evolution\", \"Evolution_grouped\"],\n",
    "        [milwrm_width, 3.8, 3.8, tumor_loc_width, tumor_stage_width, tumor_grade_width, patient_width, pathology_width, cnv_domain_width, evolution_width, evolution_grouped_width],\n",
    "        [None, None, None, [\"Cecum\",\"Ascending\",\"Hepatic Flexure\",\"Transverse\",\"Descending\",\"Sigmoid\"], [\"NL\",\"AD\",\"I\",\"II\",\"III/IV\"], [\"NL\",\"G1\",\"G2\",\"G3\"], None, None, [\"Stroma\",\"Edge\",\"Tumor\"], [\"L\",\"N\",\"B\"], [\"N/B\",\"L\"]],\n",
    "        [mw_colordict, cmap_dict, cmap_dict, cmap_dict, cmap_dict, cmap_dict, patient_colordict, None, cmap_dict, cmap_dict, cmap_dict],\n",
    "    ):\n",
    "        cody_heatmap(\n",
    "            a_comb,\n",
    "            groupby=group,\n",
    "            features=sum(custom_dict.values(), []),\n",
    "            cluster_vars=False,\n",
    "            vars_dict=custom_dict,\n",
    "            groupby_order=groupby_order,\n",
    "            groupby_colordict=groupby_colordict,\n",
    "            cluster_obs=True if groupby_order is None else False,\n",
    "            figsize=(width, height),\n",
    "            save=\"ST_out/plots_overview/{}_{}_dotplot.png\".format(group_name, features_name),\n",
    "            dpi=400,\n",
    "            cmap=\"Greys\",\n",
    "            size_title=\"Fraction of spots\\nin group (%)\",\n",
    "        )"
   ]
  },
  {
   "cell_type": "markdown",
   "metadata": {},
   "source": [
    "---\n",
    "# MILWRM proportion plot"
   ]
  },
  {
   "cell_type": "code",
   "execution_count": null,
   "metadata": {},
   "outputs": [],
   "source": [
    "import seaborn as sns; sns.set_style(\"white\")"
   ]
  },
  {
   "cell_type": "code",
   "execution_count": null,
   "metadata": {},
   "outputs": [],
   "source": [
    "df_count = pd.DataFrame()\n",
    "for pat in a_comb.obs.Patient.unique():\n",
    "    df = a_comb[a_comb.obs.Patient==pat,:].obs[\"MILWRM Domain\"].value_counts(normalize=True, sort=False)\n",
    "    df_count = pd.concat([df_count, df], axis=1)\n",
    "df_count = df_count.T.reset_index(drop=True)"
   ]
  },
  {
   "cell_type": "code",
   "execution_count": null,
   "metadata": {},
   "outputs": [],
   "source": [
    "df_count.index = list(a_comb.obs.Patient.unique())\n",
    "df_count = df_count.fillna(0)"
   ]
  },
  {
   "cell_type": "code",
   "execution_count": null,
   "metadata": {},
   "outputs": [],
   "source": [
    "df_count = df_count[[\"D0\", \"D1\", \"D2\", \"D3\", \"D4\", \"D5\", \"D6\", \"D7\"]]"
   ]
  },
  {
   "cell_type": "code",
   "execution_count": null,
   "metadata": {},
   "outputs": [],
   "source": [
    "ax = df_count.plot.bar(stacked=True, cmap=\"plasma\", figsize=(7,4))\n",
    "ax.legend(loc=\"best\", bbox_to_anchor=(1, 1))\n",
    "ax.set_ylabel(\"MILWRM Domain Proportion\")\n",
    "ax.set_ylim((0, 1))\n",
    "ax.set_xticklabels(\n",
    "    ax.get_xticklabels(),\n",
    "    path_effects=[pe.withStroke(linewidth=0.2, foreground=\"k\")],\n",
    ")\n",
    "[t.set_color(i) for i, t in zip([patient_colordict[x.get_text()] for x in ax.get_xticklabels()], ax.xaxis.get_ticklabels())]\n",
    "plt.savefig(\"ST_out/plots_overview/patient_VUMCrefNMF30_MILWRM_proportions.png\", dpi=400, bbox_inches=\"tight\")"
   ]
  },
  {
   "cell_type": "markdown",
   "metadata": {},
   "source": [
    "---\n",
    "# Immune Exclusion Signature barplots"
   ]
  },
  {
   "cell_type": "code",
   "execution_count": null,
   "metadata": {},
   "outputs": [],
   "source": [
    "import sys; sys.path.append(\"../../../utility_scripts/\")\n",
    "from boxplot_utils import *"
   ]
  },
  {
   "cell_type": "code",
   "execution_count": null,
   "metadata": {},
   "outputs": [],
   "source": [
    "boxplots_group(\n",
    "    a_comb,\n",
    "    outdir=\"ST_out/plots_overview/\",\n",
    "    obs=[\"CIN Status\"],\n",
    "    colors=[\"IEX\"],\n",
    "    figsize=(4,4),\n",
    "    sig=False,\n",
    "    cmap_dict=cmap_dict,\n",
    ")"
   ]
  },
  {
   "cell_type": "code",
   "execution_count": null,
   "metadata": {},
   "outputs": [],
   "source": [
    "a_comb_epi = a_comb[~a_comb.obs[\"CNV clone\"].isin([\"S\",\"E\"]),:].copy()"
   ]
  },
  {
   "cell_type": "code",
   "execution_count": null,
   "metadata": {},
   "outputs": [],
   "source": [
    "a_comb_epi.obs[\"Tumor Type\"] = a_comb_epi.obs[\"Tumor Type\"].astype(\"category\")\n",
    "a_comb_epi.obs[\"Tumor Type\"].cat.reorder_categories([\"MSI-H\",\"MSS\",\"NL\",\"SSL/HP\",\"TA/TVA\"])"
   ]
  },
  {
   "cell_type": "code",
   "execution_count": null,
   "metadata": {},
   "outputs": [],
   "source": [
    "boxplots_group(\n",
    "    a_comb_epi,\n",
    "    outdir=\"ST_out/plots_overview/\",\n",
    "    obs=[\"Tumor Type\"],\n",
    "    colors=[\"IEX\"],\n",
    "    figsize=(4,4),\n",
    "    sig=False,\n",
    "    cmap_dict=cmap_dict,\n",
    ")"
   ]
  },
  {
   "cell_type": "code",
   "execution_count": null,
   "metadata": {},
   "outputs": [],
   "source": [
    "boxplots_group(\n",
    "    a_comb,\n",
    "    outdir=\"ST_out/plots_overview/\",\n",
    "    obs=[\"Tumor Type\"],\n",
    "    colors=[\"IEX\"],\n",
    "    figsize=(4,6),\n",
    "    sig=True,\n",
    "    cmap_dict=cmap_dict,\n",
    ")"
   ]
  },
  {
   "cell_type": "code",
   "execution_count": null,
   "metadata": {},
   "outputs": [],
   "source": [
    "boxplots_group(\n",
    "    a_comb,\n",
    "    outdir=\"ST_out/plots_overview/\",\n",
    "    obs=[\"Tumor Type\"],\n",
    "    colors=[\"TMB\"],\n",
    "    figsize=(4,4),\n",
    "    sig=False,\n",
    "    cmap_dict=cmap_dict,\n",
    ")"
   ]
  },
  {
   "cell_type": "markdown",
   "metadata": {},
   "source": [
    "---\n",
    "# Tissue Archetypes"
   ]
  },
  {
   "cell_type": "code",
   "execution_count": null,
   "metadata": {},
   "outputs": [],
   "source": [
    "# split refNMF cell states by compartment\n",
    "at_epi = [\n",
    " 'A3_Endocrine',\n",
    " 'A4_MUC',\n",
    " 'A5_ABS',\n",
    " 'A8_Stem',\n",
    "]\n",
    "at_epi.sort()\n",
    "\n",
    "at_stroma = [\n",
    " 'A6_SM',\n",
    "]\n",
    "at_stroma.sort()\n",
    "\n",
    "at_immune = [\n",
    " 'A1_Innate',\n",
    " 'A2_Cytotoxic',\n",
    " 'A7_Adaptive',\n",
    "]\n",
    "at_immune.sort()\n",
    "\n",
    "archetypes_dict = {\n",
    "    \"Epi.\": at_epi,\n",
    "    \"Non-Epi.\": at_stroma + at_immune,\n",
    "}"
   ]
  },
  {
   "cell_type": "code",
   "execution_count": null,
   "metadata": {},
   "outputs": [],
   "source": [
    "for group_name, group, width, groupby_order, groupby_colordict in zip(\n",
    "    [\"tumortype\", \"tumorloc\", \"tumorstage\", \"tumorgrade\", \"patient\", \"pathology_annotation\", \"VUMCrefNMF30_MILWRM\", \"evolution\"],\n",
    "    [\"Tumor Type\", \"Tumor Location\", \"Tumor Stage\", \"Tumor Grade\", \"Patient\", \"pathology_annotation\", \"MILWRM Domain\", \"Evolution\"],\n",
    "    [4, tumor_loc_width, tumor_stage_width, tumor_grade_width, patient_width, pathology_width, milwrm_width, evolution_width],\n",
    "    [None, [\"Cecum\",\"Ascending\",\"Hepatic Flexure\",\"Transverse\",\"Descending\",\"Sigmoid\"], [\"NL\",\"AD\",\"I\",\"II\",\"III/IV\"], [\"NL\",\"G1\",\"G2\",\"G3\"], None, None, None, [\"L\",\"N\",\"B\"]],\n",
    "    [cmap_dict, cmap_dict, cmap_dict, cmap_dict, patient_colordict, None, mw_colordict, cmap_dict],\n",
    "):\n",
    "    cody_heatmap(\n",
    "        a_comb,\n",
    "        groupby=group,\n",
    "        features=sum(archetypes_dict.values(), []),\n",
    "        cluster_vars=False,\n",
    "        vars_dict=archetypes_dict,\n",
    "        groupby_order=groupby_order,\n",
    "        groupby_colordict=groupby_colordict,\n",
    "        cluster_obs=True if groupby_order is None else False,\n",
    "        figsize=(width, archetypes_height),\n",
    "        save=\"ST_out/plots_overview/{}_archetypes_dotplot.png\".format(group_name),\n",
    "        dpi=400,\n",
    "        cmap=\"Greys\",\n",
    "        size_title=\"Fraction of spots\\nin group (%)\",\n",
    "    )"
   ]
  }
 ],
 "metadata": {
  "kernelspec": {
   "display_name": "scanpy",
   "language": "python",
   "name": "scanpy"
  },
  "language_info": {
   "codemirror_mode": {
    "name": "ipython",
    "version": 3
   },
   "file_extension": ".py",
   "mimetype": "text/x-python",
   "name": "python",
   "nbconvert_exporter": "python",
   "pygments_lexer": "ipython3",
   "version": "3.8.10"
  }
 },
 "nbformat": 4,
 "nbformat_minor": 4
}
