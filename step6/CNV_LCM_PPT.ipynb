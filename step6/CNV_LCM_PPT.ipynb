{
 "cells": [
  {
   "cell_type": "code",
   "execution_count": null,
   "metadata": {},
   "outputs": [],
   "source": [
    "import sys; sys.path.append(\"../resources/\")\n",
    "from dotplot_utils import *\n",
    "import pandas as pd\n",
    "import seaborn as sns\n",
    "# make this notebook work better with Scanpy\n",
    "import warnings; warnings.simplefilter(action='ignore', category=FutureWarning)"
   ]
  },
  {
   "cell_type": "code",
   "execution_count": null,
   "metadata": {},
   "outputs": [],
   "source": [
    "import catheat\n",
    "import matplotlib.pyplot as plt"
   ]
  },
  {
   "cell_type": "code",
   "execution_count": null,
   "metadata": {},
   "outputs": [],
   "source": [
    "# make output directories\n",
    "import os\n",
    "if not os.path.exists(\"ST_out\"):\n",
    "    os.mkdir(\"ST_out\")\n",
    "\n",
    "if not os.path.exists(\"ST_out/plots_overview/\"):\n",
    "    os.mkdir(\"ST_out/plots_overview/\")"
   ]
  },
  {
   "cell_type": "code",
   "execution_count": null,
   "metadata": {},
   "outputs": [],
   "source": [
    "sc.set_figure_params(transparent=True, dpi_save=400)\n",
    "sc.settings.figdir = \"ST_out/plots_overview/\""
   ]
  },
  {
   "cell_type": "markdown",
   "metadata": {
    "tags": []
   },
   "source": [
    "---\n",
    "## Read in key dataframe with sample information"
   ]
  },
  {
   "cell_type": "code",
   "execution_count": null,
   "metadata": {},
   "outputs": [],
   "source": [
    "sample_key_orig = pd.read_csv(\"../resources/ST/visium_sample_key.csv\", index_col=0)\n",
    "sample_key_orig[\"block_type\"] = sample_key_orig.block_name + \"_\" + sample_key_orig.tumor_type\n",
    "tmp = pd.DataFrame(sample_key_orig.block_type.value_counts())\n",
    "tmp.columns = [\"# Visium\"]\n",
    "sample_key = sample_key_orig.merge(tmp, left_on=\"block_type\", right_index=True, how=\"left\")\n",
    "sample_key = sample_key.drop_duplicates(\"block_type\")"
   ]
  },
  {
   "cell_type": "code",
   "execution_count": null,
   "metadata": {},
   "outputs": [],
   "source": [
    "cnv_scores = pd.read_csv(\"../step5/ST_out/infercnv/cnv_score_per_patient.csv\", index_col=0)"
   ]
  },
  {
   "cell_type": "code",
   "execution_count": null,
   "metadata": {},
   "outputs": [],
   "source": [
    "muts = pd.read_csv(\"../step1/WES_out/pseudobulk_variants_per_sample.csv\")\n",
    "muts = muts.merge(sample_key[[\"patient_name\",\"block_name\"]], left_on=\"Tumor_Sample_Barcode\", right_on=\"patient_name\", how=\"left\")\n",
    "muts.block_name = muts.block_name.fillna(muts.Tumor_Sample_Barcode)\n",
    "muts = muts.loc[~((muts.patient_name==\"PAT71397\")&(muts.block_name==\"WD86055\"))].reset_index().copy()"
   ]
  },
  {
   "cell_type": "code",
   "execution_count": null,
   "metadata": {},
   "outputs": [],
   "source": [
    "crc_muts = pd.read_csv(\"../step1/WES_out/CRC_mutations_pseudobulk.csv\", index_col=0)\n",
    "crc_muts.columns = [x + \" Mut.\" for x in crc_muts.columns]\n",
    "crc_muts = crc_muts.reset_index()\n",
    "crc_muts = crc_muts.merge(sample_key[[\"patient_name\",\"block_name\"]], left_on=\"index\", right_on=\"patient_name\", how=\"left\")\n",
    "crc_muts.block_name = crc_muts.block_name.fillna(crc_muts[\"index\"])\n",
    "crc_muts = crc_muts.loc[~((crc_muts.patient_name==\"PAT71397\")&(crc_muts.block_name==\"WD86055\"))].reset_index().copy()"
   ]
  },
  {
   "cell_type": "code",
   "execution_count": null,
   "metadata": {},
   "outputs": [],
   "source": [
    "sample_key = sample_key.merge(cnv_scores, left_on=\"patient_name\", right_index=True, how=\"left\")\n",
    "sample_key = sample_key.reset_index().merge(\n",
    "    muts[[\"block_name\",\"Variants\"]],\n",
    "    left_on=\"block_name\",\n",
    "    right_on=\"block_name\",\n",
    "    how=\"left\",\n",
    ").set_index(\"index\")\n",
    "sample_key = sample_key.reset_index().merge(\n",
    "    crc_muts[[\"block_name\",\"APC Mut.\",\"KRAS Mut.\",\"TP53 Mut.\",\"BRAF Mut.\"]],\n",
    "    left_on=\"block_name\",\n",
    "    right_on=\"block_name\",\n",
    "    how=\"left\",\n",
    ").set_index(\"index\")\n",
    "sample_key.loc[sample_key.block_name==\"WD86055\", \"Variants\"] = muts.loc[muts.Tumor_Sample_Barcode==\"WD86055\",\"Variants\"].values[0]"
   ]
  },
  {
   "cell_type": "code",
   "execution_count": null,
   "metadata": {},
   "outputs": [],
   "source": [
    "sample_key.Variants = sample_key.Variants.fillna(0)"
   ]
  },
  {
   "cell_type": "code",
   "execution_count": null,
   "metadata": {},
   "outputs": [],
   "source": [
    "sample_key.loc[sample_key.block_name==\"WD86055\", \"CNV score\"] = 0.031962"
   ]
  },
  {
   "cell_type": "code",
   "execution_count": null,
   "metadata": {},
   "outputs": [],
   "source": [
    "sample_key.rename(columns={\"CNV score\":\"CNV score (bulk)\"}, inplace=True)\n",
    "sample_key"
   ]
  },
  {
   "cell_type": "code",
   "execution_count": null,
   "metadata": {},
   "outputs": [],
   "source": [
    "sample_key[\"CNV score (bulk)\"].max()"
   ]
  },
  {
   "cell_type": "code",
   "execution_count": null,
   "metadata": {},
   "outputs": [],
   "source": [
    "sample_key[\"CNV score (bulk)\"].min()"
   ]
  },
  {
   "cell_type": "code",
   "execution_count": null,
   "metadata": {},
   "outputs": [],
   "source": [
    "sample_key[\"Variants\"].max()"
   ]
  },
  {
   "cell_type": "code",
   "execution_count": null,
   "metadata": {},
   "outputs": [],
   "source": [
    "sample_key[\"Variants\"].min()"
   ]
  },
  {
   "cell_type": "markdown",
   "metadata": {},
   "source": [
    "---\n",
    "## Define pseudotime ordering by `LCM_ROI`"
   ]
  },
  {
   "cell_type": "code",
   "execution_count": null,
   "metadata": {},
   "outputs": [],
   "source": [
    "muts = pd.read_csv(\"../step1/WES_out/LCM_variants_per_sample.csv\", index_col=0)\n",
    "mapper = {\n",
    "    \"WD86055_ROI4\":\"WD86055_ROI1\",\n",
    "    \"WD86055_ROI2\":\"WD86055_ROI2\",\n",
    "    \"WD86055_ROI3\":\"WD86055_ROI3\",\n",
    "    \"WD86055_ROI1\":\"WD86055_ROI4\",\n",
    "    \"WD86056_ROI2\":\"WD86055_ROI5\",\n",
    "    \"WD86056_ROI1\":\"WD86055_ROI6\",\n",
    "    \"WD86056_ROI4\":\"WD86055_ROI7\",\n",
    "    \"WD86056_ROI3\":\"WD86055_ROI8\",\n",
    "    \"WD33475_ROI4\":\"WD33475_ROI3\",\n",
    "    \"WD33475_ROI5\":\"WD33475_ROI4\",\n",
    "}\n",
    "muts.Tumor_Sample_Barcode.replace(mapper, inplace=True)\n",
    "muts[\"Tumor_Sample_Barcode\"] = [sample_key.loc[sample_key.block_name==x.split(\"_\")[0],\"patient_name\"][0] + \"_\" + x.split(\"_\")[1] for x in muts[\"Tumor_Sample_Barcode\"]]\n",
    "muts[[\"Patient\", \"ROI\"]] = muts[\"Tumor_Sample_Barcode\"].str.split(\"_\", expand=True)"
   ]
  },
  {
   "cell_type": "code",
   "execution_count": null,
   "metadata": {},
   "outputs": [],
   "source": [
    "muts = muts.merge(sample_key.loc[sample_key.tumor_type.isin([\"MSS\",\"MSI-H\"]),[\"patient_name\",\"tumor_type\"]], left_on=\"Patient\", right_on=\"patient_name\", how=\"left\").drop_duplicates()\n",
    "muts = muts.drop(columns=[\"patient_name\"])"
   ]
  },
  {
   "cell_type": "code",
   "execution_count": null,
   "metadata": {},
   "outputs": [],
   "source": [
    "muts"
   ]
  },
  {
   "cell_type": "code",
   "execution_count": null,
   "metadata": {},
   "outputs": [],
   "source": [
    "pt_orders = {}\n",
    "\n",
    "muts_MSS = muts.loc[muts.tumor_type==\"MSS\",:].copy()\n",
    "muts_MSS.Patient = muts_MSS.Patient.astype(\"category\")\n",
    "for pat in muts_MSS.Patient.cat.categories:\n",
    "    pt_orders[pat] = list(muts.loc[muts.Patient==pat, \"ROI\"])[::-1]\n",
    "    \n",
    "muts_MSI = muts.loc[muts.tumor_type==\"MSI-H\",:].copy()\n",
    "muts_MSI.Patient = muts_MSI.Patient.astype(\"category\")\n",
    "for pat in muts_MSI.Patient.cat.categories:\n",
    "    pt_orders[pat] = list(muts.loc[muts.Patient==pat, \"ROI\"])[::-1]"
   ]
  },
  {
   "cell_type": "code",
   "execution_count": null,
   "metadata": {},
   "outputs": [],
   "source": [
    "muts2 = pd.read_csv(\"../step1/WES_out/pseudobulk_variants_per_sample.csv\", index_col=0); muts2"
   ]
  },
  {
   "cell_type": "markdown",
   "metadata": {},
   "source": [
    "---"
   ]
  },
  {
   "cell_type": "code",
   "execution_count": null,
   "metadata": {},
   "outputs": [],
   "source": [
    "outs = []\n",
    "names = []\n",
    "for s in sample_key_orig.index:\n",
    "    a = sc.read(\"../data/ST/{}_master.h5ad\".format(s))\n",
    "    print(\"Read adata from ../data/ST/{}_master.h5ad\".format(s))\n",
    "    \n",
    "    if \"Variants\" in a.obs.columns:\n",
    "        a.obs.drop(columns=\"Variants\", inplace=True)\n",
    "    \n",
    "    if \"LCM_ROI\" in a.obs.columns:\n",
    "        # filter to LCM ROIs\n",
    "        a.obs.LCM_ROI = a.obs.LCM_ROI.astype(str)\n",
    "        a = a[a.obs.LCM_ROI.str.contains(\"ROI\"), :].copy()\n",
    "        print(\"Filtered to {} spots within LCM ROIs\".format(a.n_obs))\n",
    "        \n",
    "        # add number of detected Variants\n",
    "        a.obs = a.obs.reset_index().merge(muts[[\"Patient\",\"ROI\",\"Variants\"]], left_on=[\"Patient\",\"LCM_ROI\"], right_on=[\"Patient\",\"ROI\"], how=\"left\").drop(columns=\"ROI\").set_index(\"index\")\n",
    "        \n",
    "        # create CNV_LCM intersection\n",
    "        a.obs[\"CNV_LCM\"] = \"\"\n",
    "        for ROI in a.obs.LCM_ROI.unique():\n",
    "            print(\"{}: \".format(ROI), end = \"\")\n",
    "            try:\n",
    "                if a.obs.loc[(a.obs.LCM_ROI==ROI)&(~a.obs[\"CNV clone\"].isin([\"S\",\"E\"])), \"CNV clone\"].value_counts().max() < 20:\n",
    "                    print(\"No dominant clone!\")\n",
    "                else:\n",
    "                    dom_clone = a.obs.loc[(a.obs.LCM_ROI==ROI)&(~a.obs[\"CNV clone\"].isin([\"S\",\"E\"])), \"CNV clone\"].value_counts().index[a.obs.loc[(a.obs.LCM_ROI==ROI)&(~a.obs[\"CNV clone\"].isin([\"S\",\"E\"])), \"CNV clone\"].value_counts().argmax()]\n",
    "                    print(\"Dominant clone = {}\".format(dom_clone))\n",
    "                    a.obs.loc[(a.obs.LCM_ROI==ROI)&(a.obs[\"CNV clone\"].isin([dom_clone, \"E\"])), \"CNV_LCM\"] = sample_key_orig.loc[s, \"patient_name\"] + \" \" + ROI + \" \" + dom_clone\n",
    "            except:\n",
    "                print(\"No dominant clone!\")\n",
    "                \n",
    "        a = a[a.obs.CNV_LCM != \"\", :].copy()\n",
    "        print(\"Filtered to {} spots within CNV clones\".format(a.n_obs))\n",
    "        \n",
    "        # compile training data\n",
    "        outs.append(a)\n",
    "        names.append(s)\n",
    "        \n",
    "    elif s == \"8270_12_WD84216\":\n",
    "            print(\"Skipping 8270_12_WD84216\")\n",
    "    else:\n",
    "        print(\"No LCM variants found\")\n",
    "        try:\n",
    "            a.obs[\"Variants\"] = muts2.loc[muts2.Tumor_Sample_Barcode==sample_key_orig.loc[s,:].block_name,\"Variants\"].values[0]\n",
    "            print(\"Using bulk WES variants\")\n",
    "            a = a[~a.obs[\"CNV clone\"].isin([\"S\",\"E\"]), :].copy()\n",
    "            print(\"Filtered to {} spots within CNV clones\".format(a.n_obs))\n",
    "            \n",
    "            # create CNV_LCM intersection\n",
    "            a.obs[\"LCM_ROI\"] = sample_key_orig.loc[s, \"patient_name\"]\n",
    "            a.obs[\"CNV_LCM\"] = a.obs.Patient.astype(str) + \" \" + a.obs[\"CNV clone\"].astype(str)\n",
    "            \n",
    "            # compile training data\n",
    "            outs.append(a)\n",
    "            names.append(s)\n",
    "            \n",
    "        except:\n",
    "            print(\"No bulk variants found\")\n",
    "            a.obs[\"Variants\"] = 0\n",
    "            \n",
    "            #find most abundant clone and set \"E\" to that\n",
    "            dom_clone = a.obs.loc[~a.obs[\"CNV clone\"].isin([\"S\",\"E\"]), \"CNV clone\"].value_counts().index[a.obs.loc[~a.obs[\"CNV clone\"].isin([\"S\",\"E\"]), \"CNV clone\"].value_counts().argmax()]\n",
    "            print(\"Dominant clone = {}\".format(dom_clone))\n",
    "            a.obs.loc[a.obs[\"CNV clone\"]==\"E\", \"CNV clone\"] = dom_clone\n",
    "            \n",
    "            # subset to epithelium\n",
    "            a = a[a.obs[\"CNV clone\"]!=\"S\", :].copy()\n",
    "            print(\"Filtered to {} spots within CNV clones\".format(a.n_obs))\n",
    "            \n",
    "            # create CNV_LCM intersection\n",
    "            a.obs[\"LCM_ROI\"] = sample_key_orig.loc[s, \"patient_name\"]\n",
    "            a.obs[\"CNV_LCM\"] = a.obs.Patient.astype(str) + \" \" + a.obs[\"CNV clone\"].astype(str)\n",
    "            \n",
    "            # compile training data\n",
    "            outs.append(a)\n",
    "            names.append(s)\n",
    "            \n",
    "    print(\"\\n\")"
   ]
  },
  {
   "cell_type": "code",
   "execution_count": null,
   "metadata": {},
   "outputs": [],
   "source": [
    "# concatenate anndata objects\n",
    "a_comb = outs[0].concatenate(\n",
    "    outs[1:],\n",
    "    join=\"outer\",\n",
    "    batch_categories=names,\n",
    "    fill_value=0,\n",
    ")\n",
    "del a_comb.var\n",
    "del a_comb.obsm\n",
    "a_comb  # view object"
   ]
  },
  {
   "cell_type": "markdown",
   "metadata": {},
   "source": [
    "#### Adjust 'Variants' to 'TMB' for plotting"
   ]
  },
  {
   "cell_type": "code",
   "execution_count": null,
   "metadata": {},
   "outputs": [],
   "source": [
    "a_comb.obs.rename(columns={\"Variants\":\"TMB\"}, inplace=True)"
   ]
  },
  {
   "cell_type": "markdown",
   "metadata": {},
   "source": [
    "---\n",
    "## Rename things and set up for plotting"
   ]
  },
  {
   "cell_type": "code",
   "execution_count": null,
   "metadata": {},
   "outputs": [],
   "source": [
    "# rename obs columns with MxIF stains in them\n",
    "old_mxif = list(a_comb.obs.columns[a_comb.obs.columns.str.endswith(\"_MxIF\")])\n",
    "new_mxif = list(a_comb.obs.columns[a_comb.obs.columns.str.endswith(\"_MxIF\")].str.split(\"_\").str[0])\n",
    "a_comb.obs.rename(columns=dict(zip(old_mxif,new_mxif)), inplace=True)"
   ]
  },
  {
   "cell_type": "code",
   "execution_count": null,
   "metadata": {},
   "outputs": [],
   "source": [
    "# rename cell state columns in master anndata.obs\n",
    "et = list(a_comb.obs.columns[a_comb.obs.columns.str.endswith(\"_VUMCrefNMF30\")])\n",
    "et_new = [x.replace(\"_VUMCrefNMF30\", \"\") for x in et]\n",
    "a_comb.obs.rename(columns=dict(zip(et, et_new)), inplace=True)"
   ]
  },
  {
   "cell_type": "code",
   "execution_count": null,
   "metadata": {},
   "outputs": [],
   "source": [
    "a_comb"
   ]
  },
  {
   "cell_type": "code",
   "execution_count": null,
   "metadata": {},
   "outputs": [],
   "source": [
    "cmap_dict = {\n",
    "    # Tumor Type\n",
    "    'SSL/HP':\"#c4a4e1\",'MSI-H':\"#7a4fa3\",'MSS':\"#ffc101\",'TA/TVA':\"#fee799\",'NL':\"#1f77b4\",\n",
    "    # Tumor Location\n",
    "    \"Cecum\":\"#62a32e\",\"Ascending\":\"#b0dc7d\",\"Hepatic Flexure\":\"#ebf6db\",\"Transverse\":\"#fbe6f1\",\"Descending\":\"#eeadd4\",\"Sigmoid\":\"#cf4191\",\n",
    "    # this one's global\n",
    "    \"nan\":\"#ffffff\",\n",
    "    # These are black and white for T and F\n",
    "    \"T\":\"#000000\",\"F\":\"#ffffff\",\n",
    "    # evolution\n",
    "    \"N\":\"tab:blue\",\"B\":\"tab:green\",\"L\":\"tab:orange\",\n",
    "    # CNV clone domain\n",
    "    \"T\":\"#000000\",\"S\":\"tab:pink\",\"E\":\"tab:red\"\n",
    "}\n",
    "stage_colordict = dict(zip([\"AD\",\"I\",\"II\",\"III/IV\"], sns.color_palette(\"Reds\", len([\"AD\",\"I\",\"II\",\"III/IV\"])).as_hex()))\n",
    "grade_colordict = dict(zip([\"G1\",\"G2\",\"G3\"], sns.color_palette(\"Reds\", len([\"G1\",\"G2\",\"G3\"])).as_hex()))\n",
    "cmap_dict = {**cmap_dict, **stage_colordict, **grade_colordict}"
   ]
  },
  {
   "cell_type": "code",
   "execution_count": null,
   "metadata": {},
   "outputs": [],
   "source": [
    "patient_colordict = dict(zip(sample_key.patient_name, [cmap_dict[x] for x in sample_key.tumor_type]))\n",
    "\n",
    "import matplotlib\n",
    "cmap = matplotlib.cm.get_cmap(\"plasma\", 8)\n",
    "mw_colordict = dict(zip([\"D0\",\"D1\",\"D2\",\"D3\",\"D4\",\"D5\",\"D6\",\"D7\"], [matplotlib.colors.rgb2hex(cmap(i)) for i in range(cmap.N)]))"
   ]
  },
  {
   "cell_type": "markdown",
   "metadata": {},
   "source": [
    "---\n",
    "# LCM_ROI - CNV Clone intersection ordering"
   ]
  },
  {
   "cell_type": "code",
   "execution_count": null,
   "metadata": {},
   "outputs": [],
   "source": [
    "CIN_PATs = sample_key.loc[(sample_key[\"CIN Status\"].isin([\"CIN+\",\"NL\",\"TA/TVA\"]))&(sample_key.patient_name!='HTA11_01938'),\"patient_name\"].unique()"
   ]
  },
  {
   "cell_type": "code",
   "execution_count": null,
   "metadata": {},
   "outputs": [],
   "source": [
    "CIN_PATs"
   ]
  },
  {
   "cell_type": "code",
   "execution_count": null,
   "metadata": {},
   "outputs": [],
   "source": [
    "HM_PATs = sample_key.loc[sample_key[\"CIN Status\"].isin([\"HM\",\"SSL/HP\"]),\"patient_name\"].unique()"
   ]
  },
  {
   "cell_type": "code",
   "execution_count": null,
   "metadata": {},
   "outputs": [],
   "source": [
    "HM_PATs"
   ]
  },
  {
   "cell_type": "code",
   "execution_count": null,
   "metadata": {},
   "outputs": [],
   "source": [
    "a_comb.obs.rename(columns={\"cnv_score\":\"CNV score\"}, inplace=True)"
   ]
  },
  {
   "cell_type": "code",
   "execution_count": null,
   "metadata": {},
   "outputs": [],
   "source": [
    "AD_CIN_adata = a_comb[a_comb.obs[\"Patient\"].isin(list(CIN_PATs)), :].copy()\n",
    "AD_CIN = AD_CIN_adata.obs.groupby([\"CNV_LCM\"]).mean().sort_values([\"CNV score\"], ascending=[True]).reset_index()\n",
    "\n",
    "SER_HM_adata = a_comb[a_comb.obs[\"Patient\"].isin(list(HM_PATs)), :].copy()\n",
    "SER_HM = SER_HM_adata.obs.groupby([\"CNV_LCM\"]).mean().sort_values([\"TMB\"], ascending=[True]).reset_index()"
   ]
  },
  {
   "cell_type": "code",
   "execution_count": null,
   "metadata": {},
   "outputs": [],
   "source": [
    "AD_CIN_order = list(AD_CIN.CNV_LCM)\n",
    "SER_HM_order = list(SER_HM.CNV_LCM)\n",
    "custom_order = AD_CIN_order + SER_HM_order"
   ]
  },
  {
   "cell_type": "code",
   "execution_count": null,
   "metadata": {},
   "outputs": [],
   "source": [
    "patient_colordict = dict(zip(sample_key.patient_name, [cmap_dict[x] for x in sample_key.tumor_type]))\n",
    "\n",
    "CIN_colors = dict(zip(AD_CIN_order, [patient_colordict[x.split(\" \")[0]] for x in AD_CIN_order]))\n",
    "HM_colors = dict(zip(SER_HM_order, [patient_colordict[x.split(\" \")[0]] for x in SER_HM_order]))\n",
    "\n",
    "custom_colors = dict(zip(custom_order, [patient_colordict[x.split(\" \")[0]] for x in custom_order]))"
   ]
  },
  {
   "cell_type": "code",
   "execution_count": null,
   "metadata": {},
   "outputs": [],
   "source": [
    "custom_colors"
   ]
  },
  {
   "cell_type": "markdown",
   "metadata": {},
   "source": [
    "---"
   ]
  },
  {
   "cell_type": "code",
   "execution_count": null,
   "metadata": {},
   "outputs": [],
   "source": [
    "custom_df = pd.read_csv(\"../resources/ST/LCM-CNV_PPT_rankings.csv\")"
   ]
  },
  {
   "cell_type": "code",
   "execution_count": null,
   "metadata": {},
   "outputs": [],
   "source": [
    "custom_df"
   ]
  },
  {
   "cell_type": "code",
   "execution_count": null,
   "metadata": {},
   "outputs": [],
   "source": [
    "palette = {\"T\":\"tab:red\", \"F\":\"k\"}"
   ]
  },
  {
   "cell_type": "code",
   "execution_count": null,
   "metadata": {},
   "outputs": [],
   "source": [
    "cmap_dict = {\n",
    "    # Tumor Type\n",
    "    'SSL/HP':\"#c4a4e1\",'MSI-H':\"#7a4fa3\",'MSS':\"#ffc101\",'TA/TVA':\"#fee799\",'NL':\"#1f77b4\",\n",
    "    # Tumor Type\n",
    "    'HM':\"#7a4fa3\",'CIN+':\"#ffc101\",\n",
    "    # Tumor Location\n",
    "    \"Cecum\":\"#1f4e79\",\"Ascending\":\"#2e74b7\",\"Hepatic Flexure\":\"#bdd6ef\",\"Transverse\":\"#ff717a\",\"Descending\":\"#fe0001\",\"Sigmoid\":\"#c00101\",\n",
    "    # this one's global\n",
    "    \"nan\":\"#ffffff\",\n",
    "    # These are black and white for T and F\n",
    "    \"T\":\"#000000\",\"F\":\"#ffffff\",\n",
    "}\n",
    "stage_colordict = dict(zip([\"AD\",\"I\",\"II\",\"III/IV\"], sns.color_palette(\"Reds\", len([\"AD\",\"I\",\"II\",\"III/IV\"])).as_hex()))\n",
    "grade_colordict = dict(zip([\"G1\",\"G2\",\"G3\"], sns.color_palette(\"Reds\", len([\"G1\",\"G2\",\"G3\"])).as_hex()))\n",
    "cmap_dict = {**cmap_dict, **stage_colordict, **grade_colordict}"
   ]
  },
  {
   "cell_type": "code",
   "execution_count": null,
   "metadata": {},
   "outputs": [],
   "source": [
    "sns.set_style(\"white\")"
   ]
  },
  {
   "cell_type": "code",
   "execution_count": null,
   "metadata": {},
   "outputs": [],
   "source": [
    "plt.figure(figsize=(4,4.5))\n",
    "sns.scatterplot(\n",
    "    data=custom_df.loc[~((custom_df[\"CIN status\"]==\"CIN+\")&(custom_df[\"Tumor type\"]==\"MSI-H\")),:],\n",
    "    x=\"CNV_norm\", y=\"TMB_norm\", style=\"APC status\", hue=\"CIN status\", s=150, alpha=0.7, palette=cmap_dict, style_order=[\"WT\",\"APC mut.\"]\n",
    ")\n",
    "sns.scatterplot(\n",
    "    data=custom_df.loc[(custom_df[\"CIN status\"]==\"CIN+\")&(custom_df[\"Tumor type\"]==\"MSI-H\"),:],\n",
    "    x=\"CNV_norm\", y=\"TMB_norm\", style=\"APC status\", hue=\"CIN status\", s=150, alpha=0.7, palette=cmap_dict, style_order=[\"WT\",\"APC mut.\"], legend=False\n",
    ")\n",
    "sns.scatterplot(\n",
    "    data=custom_df.loc[(custom_df[\"CIN status\"]==\"CIN+\")&(custom_df[\"Tumor type\"]==\"MSI-H\"),:],\n",
    "    x=\"CNV_norm\", y=\"TMB_norm\", style=\"APC status\", hue=\"Tumor type\", s=70, alpha=1, palette=cmap_dict, style_order=[\"WT\",\"APC mut.\"], legend=False\n",
    ")\n",
    "\n",
    "# draw box and identity line\n",
    "plt.plot((0.4, -0.05), (0.4, 0.4), color=\"k\", ls=\"--\")\n",
    "plt.plot((0.4, 0.4), (0.4, -0.05), color=\"k\", ls=\"--\")\n",
    "plt.plot((0.4, 1.0), (0.4, 1.0), color=\"k\", ls=\"--\")\n",
    "\n",
    "plt.legend(bbox_to_anchor=(0, 1.02, 1, .02), loc='lower left', borderaxespad=0, mode=\"expand\", ncol=3, frameon=False)\n",
    "plt.xlabel(\"CNV Score\")\n",
    "plt.ylabel(\"TMB\")\n",
    "plt.tick_params(\n",
    "    axis='x',          # changes apply to the x-axis\n",
    "    which='both',      # both major and minor ticks are affected\n",
    "    bottom=False,      # ticks along the bottom edge are off\n",
    "    top=False,         # ticks along the top edge are off\n",
    "    labelbottom=False) # labels along the bottom edge are off\n",
    "plt.tick_params(\n",
    "    axis='y',          # changes apply to the x-axis\n",
    "    which='both',      # both major and minor ticks are affected\n",
    "    left=False,      # ticks along the bottom edge are off\n",
    "    right=False,         # ticks along the top edge are off\n",
    "    labelleft=False) # labels along the bottom edge are off\n",
    "sns.despine()\n",
    "plt.tight_layout()\n",
    "plt.savefig(\"ST_out/plots_overview/TMB_v_CNV_APC.png\")"
   ]
  },
  {
   "cell_type": "code",
   "execution_count": null,
   "metadata": {},
   "outputs": [],
   "source": [
    "plt.figure(figsize=(4,4.5))\n",
    "sns.scatterplot(\n",
    "    data=custom_df.loc[~((custom_df[\"CIN status\"]==\"CIN+\")&(custom_df[\"Tumor type\"]==\"MSI-H\")),:],\n",
    "    x=\"CNV_norm\", y=\"TMB_norm\", style=\"KRAS status\", hue=\"CIN status\", s=150, alpha=0.7, palette=cmap_dict, style_order=[\"WT\",\"KRAS mut.\"]\n",
    ")\n",
    "sns.scatterplot(\n",
    "    data=custom_df.loc[(custom_df[\"CIN status\"]==\"CIN+\")&(custom_df[\"Tumor type\"]==\"MSI-H\"),:],\n",
    "    x=\"CNV_norm\", y=\"TMB_norm\", style=\"KRAS status\", hue=\"CIN status\", s=150, alpha=0.7, palette=cmap_dict, style_order=[\"WT\",\"KRAS mut.\"], legend=False\n",
    ")\n",
    "sns.scatterplot(\n",
    "    data=custom_df.loc[(custom_df[\"CIN status\"]==\"CIN+\")&(custom_df[\"Tumor type\"]==\"MSI-H\"),:],\n",
    "    x=\"CNV_norm\", y=\"TMB_norm\", style=\"KRAS status\", hue=\"Tumor type\", s=70, alpha=1, palette=cmap_dict, style_order=[\"WT\",\"KRAS mut.\"], legend=False\n",
    ")\n",
    "\n",
    "# draw box and identity line\n",
    "plt.plot((0.4, -0.05), (0.4, 0.4), color=\"k\", ls=\"--\")\n",
    "plt.plot((0.4, 0.4), (0.4, -0.05), color=\"k\", ls=\"--\")\n",
    "plt.plot((0.4, 1.0), (0.4, 1.0), color=\"k\", ls=\"--\")\n",
    "\n",
    "plt.legend(bbox_to_anchor=(0, 1.02, 1, .02), loc='lower left', borderaxespad=0, mode=\"expand\", ncol=3, frameon=False)\n",
    "plt.xlabel(\"CNV Score\")\n",
    "plt.ylabel(\"TMB\")\n",
    "plt.tick_params(\n",
    "    axis='x',          # changes apply to the x-axis\n",
    "    which='both',      # both major and minor ticks are affected\n",
    "    bottom=False,      # ticks along the bottom edge are off\n",
    "    top=False,         # ticks along the top edge are off\n",
    "    labelbottom=False) # labels along the bottom edge are off\n",
    "plt.tick_params(\n",
    "    axis='y',          # changes apply to the x-axis\n",
    "    which='both',      # both major and minor ticks are affected\n",
    "    left=False,      # ticks along the bottom edge are off\n",
    "    right=False,         # ticks along the top edge are off\n",
    "    labelleft=False) # labels along the bottom edge are off\n",
    "sns.despine()\n",
    "plt.tight_layout()\n",
    "plt.savefig(\"ST_out/plots_overview/TMB_v_CNV_KRAS.png\")"
   ]
  },
  {
   "cell_type": "code",
   "execution_count": null,
   "metadata": {},
   "outputs": [],
   "source": [
    "plt.figure(figsize=(4,4.5))\n",
    "sns.scatterplot(\n",
    "    data=custom_df.loc[~((custom_df[\"CIN status\"]==\"CIN+\")&(custom_df[\"Tumor type\"]==\"MSI-H\")),:],\n",
    "    x=\"CNV_norm\", y=\"TMB_norm\", style=\"TP53 status\", hue=\"CIN status\", s=150, alpha=0.7, palette=cmap_dict, style_order=[\"WT\",\"TP53 mut.\"]\n",
    ")\n",
    "sns.scatterplot(\n",
    "    data=custom_df.loc[(custom_df[\"CIN status\"]==\"CIN+\")&(custom_df[\"Tumor type\"]==\"MSI-H\"),:],\n",
    "    x=\"CNV_norm\", y=\"TMB_norm\", style=\"TP53 status\", hue=\"CIN status\", s=150, alpha=0.7, palette=cmap_dict, style_order=[\"WT\",\"TP53 mut.\"], legend=False\n",
    ")\n",
    "sns.scatterplot(\n",
    "    data=custom_df.loc[(custom_df[\"CIN status\"]==\"CIN+\")&(custom_df[\"Tumor type\"]==\"MSI-H\"),:],\n",
    "    x=\"CNV_norm\", y=\"TMB_norm\", style=\"TP53 status\", hue=\"Tumor type\", s=70, alpha=1, palette=cmap_dict, style_order=[\"WT\",\"TP53 mut.\"], legend=False\n",
    ")\n",
    "\n",
    "# draw box and identity line\n",
    "plt.plot((0.4, -0.05), (0.4, 0.4), color=\"k\", ls=\"--\")\n",
    "plt.plot((0.4, 0.4), (0.4, -0.05), color=\"k\", ls=\"--\")\n",
    "plt.plot((0.4, 1.0), (0.4, 1.0), color=\"k\", ls=\"--\")\n",
    "\n",
    "plt.legend(bbox_to_anchor=(0, 1.02, 1, .02), loc='lower left', borderaxespad=0, mode=\"expand\", ncol=3, frameon=False)\n",
    "plt.xlabel(\"CNV Score\")\n",
    "plt.ylabel(\"TMB\")\n",
    "plt.tick_params(\n",
    "    axis='x',          # changes apply to the x-axis\n",
    "    which='both',      # both major and minor ticks are affected\n",
    "    bottom=False,      # ticks along the bottom edge are off\n",
    "    top=False,         # ticks along the top edge are off\n",
    "    labelbottom=False) # labels along the bottom edge are off\n",
    "plt.tick_params(\n",
    "    axis='y',          # changes apply to the x-axis\n",
    "    which='both',      # both major and minor ticks are affected\n",
    "    left=False,      # ticks along the bottom edge are off\n",
    "    right=False,         # ticks along the top edge are off\n",
    "    labelleft=False) # labels along the bottom edge are off\n",
    "sns.despine()\n",
    "plt.tight_layout()\n",
    "plt.savefig(\"ST_out/plots_overview/TMB_v_CNV_TP53.png\")"
   ]
  },
  {
   "cell_type": "code",
   "execution_count": null,
   "metadata": {},
   "outputs": [],
   "source": [
    "plt.figure(figsize=(4,4.5))\n",
    "sns.scatterplot(\n",
    "    data=custom_df.loc[~((custom_df[\"CIN status\"]==\"CIN+\")&(custom_df[\"Tumor type\"]==\"MSI-H\")),:],\n",
    "    x=\"CNV_norm\", y=\"TMB_norm\", style=\"BRAF status\", hue=\"CIN status\", s=150, alpha=0.7, palette=cmap_dict, style_order=[\"WT\",\"BRAF mut.\"]\n",
    ")\n",
    "sns.scatterplot(\n",
    "    data=custom_df.loc[(custom_df[\"CIN status\"]==\"CIN+\")&(custom_df[\"Tumor type\"]==\"MSI-H\"),:],\n",
    "    x=\"CNV_norm\", y=\"TMB_norm\", style=\"BRAF status\", hue=\"CIN status\", s=150, alpha=0.7, palette=cmap_dict, style_order=[\"WT\",\"BRAF mut.\"], legend=False\n",
    ")\n",
    "sns.scatterplot(\n",
    "    data=custom_df.loc[(custom_df[\"CIN status\"]==\"CIN+\")&(custom_df[\"Tumor type\"]==\"MSI-H\"),:],\n",
    "    x=\"CNV_norm\", y=\"TMB_norm\", style=\"BRAF status\", hue=\"Tumor type\", s=70, alpha=1, palette=cmap_dict, style_order=[\"WT\",\"BRAF mut.\"], legend=False\n",
    ")\n",
    "\n",
    "# draw box and identity line\n",
    "plt.plot((0.4, -0.05), (0.4, 0.4), color=\"k\", ls=\"--\")\n",
    "plt.plot((0.4, 0.4), (0.4, -0.05), color=\"k\", ls=\"--\")\n",
    "plt.plot((0.4, 1.0), (0.4, 1.0), color=\"k\", ls=\"--\")\n",
    "\n",
    "plt.legend(bbox_to_anchor=(0, 1.02, 1, .02), loc='lower left', borderaxespad=0, mode=\"expand\", ncol=3, frameon=False)\n",
    "plt.xlabel(\"CNV Score\")\n",
    "plt.ylabel(\"TMB\")\n",
    "plt.tick_params(\n",
    "    axis='x',          # changes apply to the x-axis\n",
    "    which='both',      # both major and minor ticks are affected\n",
    "    bottom=False,      # ticks along the bottom edge are off\n",
    "    top=False,         # ticks along the top edge are off\n",
    "    labelbottom=False) # labels along the bottom edge are off\n",
    "plt.tick_params(\n",
    "    axis='y',          # changes apply to the x-axis\n",
    "    which='both',      # both major and minor ticks are affected\n",
    "    left=False,      # ticks along the bottom edge are off\n",
    "    right=False,         # ticks along the top edge are off\n",
    "    labelleft=False) # labels along the bottom edge are off\n",
    "sns.despine()\n",
    "plt.tight_layout()\n",
    "plt.savefig(\"ST_out/plots_overview/TMB_v_CNV_BRAF.png\")"
   ]
  },
  {
   "cell_type": "code",
   "execution_count": null,
   "metadata": {},
   "outputs": [],
   "source": [
    "import matplotlib\n",
    "from matplotlib.gridspec import GridSpec"
   ]
  },
  {
   "cell_type": "code",
   "execution_count": null,
   "metadata": {},
   "outputs": [],
   "source": [
    "custom_df[\"CIN_status_bin\"] = \"CIN+\"\n",
    "custom_df.loc[custom_df[\"CIN status\"].isin([\"HM\",\"SSL/HP\"]),\"CIN_status_bin\"] = \"HM\""
   ]
  },
  {
   "cell_type": "code",
   "execution_count": null,
   "metadata": {},
   "outputs": [],
   "source": [
    "feature = \"PPT\"\n",
    "cmap_CIN = matplotlib.colors.LinearSegmentedColormap.from_list(\"\", [\"lightyellow\",\"#ffc101\"])\n",
    "cmap_HM = matplotlib.colors.LinearSegmentedColormap.from_list(\"\", [\"lavender\",\"#7a4fa3\"])\n",
    "\n",
    "fig = plt.figure(figsize=(5,5))\n",
    "gs = GridSpec(12,12)\n",
    "ax_scatter = fig.add_subplot(gs[3:11, 1:9])\n",
    "ax_hist_y = fig.add_subplot(gs[3:11, 9:11])\n",
    "ax_hist_x = fig.add_subplot(gs[1:3, 1:9])\n",
    "ax_cbar_x = fig.add_subplot(gs[11, 1:9])\n",
    "ax_cbar_y = fig.add_subplot(gs[3:11, 0])\n",
    "\n",
    "norm = plt.Normalize(0, 1)\n",
    "sm = plt.cm.ScalarMappable(cmap=cmap_CIN, norm=norm)\n",
    "sm.set_array([])\n",
    "cbar = fig.colorbar(sm, orientation=\"horizontal\", location=\"bottom\", ticks=[0.2, 0.4, 0.6, 0.8, 1.0], cax=ax_cbar_x)\n",
    "cbar.ax.set_xlabel(\"CIN+ PPT\")\n",
    "\n",
    "sm = plt.cm.ScalarMappable(cmap=cmap_HM, norm=norm)\n",
    "sm.set_array([])\n",
    "cbar = fig.colorbar(sm, orientation=\"vertical\", location=\"left\", ticks=[0.2, 0.4, 0.6, 0.8, 1.0], cax=ax_cbar_y)\n",
    "cbar.ax.set_ylabel(\"HM PPT\")\n",
    "\n",
    "ax_scatter.scatter(\n",
    "    data=custom_df.loc[custom_df[\"CIN status\"].isin([\"HM\",\"SSL/HP\"])],\n",
    "    x=\"CNV_norm\", y=\"TMB_norm\", c=feature, s=150, alpha=0.7, cmap=cmap_HM, edgecolor=(0,0,0,0.2)\n",
    ")\n",
    "sns.kdeplot(data=custom_df, y=\"TMB_norm\", ax=ax_hist_y, hue=\"CIN_status_bin\", legend=False, palette=cmap_dict, lw=2, alpha=0.7, common_norm=False)\n",
    "\n",
    "ax_scatter.scatter(\n",
    "    data=custom_df.loc[custom_df[\"CIN status\"].isin([\"CIN+\",\"NL\",\"TA/TVA\"])],\n",
    "    x=\"CNV_norm\", y=\"TMB_norm\", c=feature, s=150, alpha=0.7, cmap=cmap_CIN, edgecolors=(0,0,0,0.2)\n",
    ")\n",
    "sns.kdeplot(data=custom_df, x=\"CNV_norm\", ax=ax_hist_x, hue=\"CIN_status_bin\", legend=False, palette=cmap_dict, lw=2, alpha=0.7, common_norm=False)\n",
    "\n",
    "# draw box and identity line\n",
    "ax_scatter.plot((0.4, -0.05), (0.4, 0.4), color=\"k\", ls=\"--\", lw=2)\n",
    "ax_scatter.plot((0.4, 0.4), (0.4, -0.05), color=\"k\", ls=\"--\", lw=2)\n",
    "ax_scatter.plot((0.4, 1.0), (0.4, 1.0), color=\"k\", ls=\"--\", lw=2)\n",
    "\n",
    "for lax in [ax_scatter, ax_hist_x, ax_hist_y]:\n",
    "    lax.tick_params(\n",
    "        axis='x',          # changes apply to the x-axis\n",
    "        which='both',      # both major and minor ticks are affected\n",
    "        bottom=False,      # ticks along the bottom edge are off\n",
    "        top=False,         # ticks along the top edge are off\n",
    "        labelbottom=False) # labels along the bottom edge are off\n",
    "    lax.tick_params(\n",
    "        axis='y',          # changes apply to the x-axis\n",
    "        which='both',      # both major and minor ticks are affected\n",
    "        left=False,      # ticks along the bottom edge are off\n",
    "        right=False,         # ticks along the top edge are off\n",
    "        labelleft=False) # labels along the bottom edge are off\n",
    "    lax.set_xlabel(\"\")\n",
    "    lax.set_ylabel(\"\")\n",
    "    \n",
    "sns.despine(ax=ax_scatter, left=True, bottom=True)\n",
    "sns.despine(ax=ax_hist_x, left=True)\n",
    "sns.despine(ax=ax_hist_y, bottom=True)\n",
    "gs.update(wspace=0.18, hspace=0.18) # set the spacing between axes. \n",
    "plt.savefig(\"ST_out/plots_overview/TMB_v_CNV_{}.png\".format(feature))"
   ]
  },
  {
   "cell_type": "code",
   "execution_count": null,
   "metadata": {},
   "outputs": [],
   "source": [
    "for pat in custom_df.Patient.value_counts()[custom_df.Patient.value_counts() > 1].index:\n",
    "    print(\"Processing {}\".format(pat))\n",
    "    custom_df[\"{}_PPT\".format(pat)] = np.nan\n",
    "    custom_df.loc[custom_df.Patient==pat,\"{}_PPT\".format(pat)] = custom_df.loc[custom_df.Patient==pat,\"PPT\"]\n",
    "    \n",
    "    feature = \"{}_PPT\".format(pat)\n",
    "    cmap_CIN = matplotlib.colors.LinearSegmentedColormap.from_list(\"\", [\"lightyellow\",\"#ffc101\"])\n",
    "    cmap_HM = matplotlib.colors.LinearSegmentedColormap.from_list(\"\", [\"lavender\",\"#7a4fa3\"])\n",
    "\n",
    "    fig = plt.figure(figsize=(5,5))\n",
    "    gs = GridSpec(12,12)\n",
    "    ax_scatter = fig.add_subplot(gs[3:11, 1:9])\n",
    "    ax_hist_y = fig.add_subplot(gs[3:11, 9:11])\n",
    "    ax_hist_x = fig.add_subplot(gs[1:3, 1:9])\n",
    "    ax_cbar_x = fig.add_subplot(gs[11, 1:9])\n",
    "    ax_cbar_y = fig.add_subplot(gs[3:11, 0])\n",
    "\n",
    "    norm = plt.Normalize(0, 1)\n",
    "    sm = plt.cm.ScalarMappable(cmap=cmap_CIN, norm=norm)\n",
    "    sm.set_array([])\n",
    "    cbar = fig.colorbar(sm, orientation=\"horizontal\", location=\"bottom\", ticks=[0.2, 0.4, 0.6, 0.8, 1.0], cax=ax_cbar_x)\n",
    "    cbar.ax.set_xlabel(\"CIN+ PPT\")\n",
    "\n",
    "    sm = plt.cm.ScalarMappable(cmap=cmap_HM, norm=norm)\n",
    "    sm.set_array([])\n",
    "    cbar = fig.colorbar(sm, orientation=\"vertical\", location=\"left\", ticks=[0.2, 0.4, 0.6, 0.8, 1.0], cax=ax_cbar_y)\n",
    "    cbar.ax.set_ylabel(\"HM PPT\")\n",
    "\n",
    "    if custom_df.loc[custom_df[\"CIN status\"].isin([\"HM\",\"SSL/HP\"]), feature].isnull().all():\n",
    "        ax_scatter.scatter(\n",
    "            data=custom_df,\n",
    "            x=\"CNV_norm\", y=\"TMB_norm\", c=feature, s=150, alpha=0.7, cmap=cmap_CIN, norm=norm, edgecolors=\"k\", plotnonfinite=True\n",
    "        )\n",
    "    elif custom_df.loc[custom_df[\"CIN status\"].isin([\"CIN+\",\"NL\",\"TA/TVA\"]), feature].isnull().all():\n",
    "        ax_scatter.scatter(\n",
    "            data=custom_df,\n",
    "            x=\"CNV_norm\", y=\"TMB_norm\", c=feature, s=150, alpha=0.7, cmap=cmap_HM, norm=norm, edgecolors=\"k\", plotnonfinite=True\n",
    "        )\n",
    "    else:\n",
    "        ax_scatter.scatter(\n",
    "            data=custom_df.loc[custom_df[\"CIN status\"].isin([\"HM\",\"SSL/HP\"])],\n",
    "            x=\"CNV_norm\", y=\"TMB_norm\", c=feature, s=150, alpha=0.7, cmap=cmap_HM, norm=norm, edgecolors=\"k\", plotnonfinite=True\n",
    "        )\n",
    "        ax_scatter.scatter(\n",
    "            data=custom_df.loc[custom_df[\"CIN status\"].isin([\"CIN+\",\"NL\",\"TA/TVA\"])],\n",
    "            x=\"CNV_norm\", y=\"TMB_norm\", c=feature, s=150, alpha=0.7, cmap=cmap_CIN, norm=norm, edgecolors=\"k\", plotnonfinite=True\n",
    "        )\n",
    "        \n",
    "    sns.kdeplot(data=custom_df, y=\"TMB_norm\", ax=ax_hist_y, hue=\"CIN_status_bin\", legend=False, palette=cmap_dict, lw=2, alpha=0.7, common_norm=False)\n",
    "    sns.kdeplot(data=custom_df, x=\"CNV_norm\", ax=ax_hist_x, hue=\"CIN_status_bin\", legend=False, palette=cmap_dict, lw=2, alpha=0.7, common_norm=False)\n",
    "\n",
    "    # draw box and identity line\n",
    "    ax_scatter.plot((0.4, -0.05), (0.4, 0.4), color=\"k\", ls=\"--\", lw=2)\n",
    "    ax_scatter.plot((0.4, 0.4), (0.4, -0.05), color=\"k\", ls=\"--\", lw=2)\n",
    "    ax_scatter.plot((0.4, 1.0), (0.4, 1.0), color=\"k\", ls=\"--\", lw=2)\n",
    "\n",
    "    for lax in [ax_scatter, ax_hist_x, ax_hist_y]:\n",
    "        lax.tick_params(\n",
    "            axis='x',          # changes apply to the x-axis\n",
    "            which='both',      # both major and minor ticks are affected\n",
    "            bottom=False,      # ticks along the bottom edge are off\n",
    "            top=False,         # ticks along the top edge are off\n",
    "            labelbottom=False) # labels along the bottom edge are off\n",
    "        lax.tick_params(\n",
    "            axis='y',          # changes apply to the x-axis\n",
    "            which='both',      # both major and minor ticks are affected\n",
    "            left=False,      # ticks along the bottom edge are off\n",
    "            right=False,         # ticks along the top edge are off\n",
    "            labelleft=False) # labels along the bottom edge are off\n",
    "        lax.set_xlabel(\"\")\n",
    "        lax.set_ylabel(\"\")\n",
    "\n",
    "    sns.despine(ax=ax_scatter, left=True, bottom=True)\n",
    "    sns.despine(ax=ax_hist_x, left=True)\n",
    "    sns.despine(ax=ax_hist_y, bottom=True)\n",
    "    gs.update(wspace=0.18, hspace=0.18) # set the spacing between axes. \n",
    "    plt.savefig(\"ST_out/plots_overview/TMB_v_CNV_{}.png\".format(feature))"
   ]
  },
  {
   "cell_type": "markdown",
   "metadata": {},
   "source": [
    "---"
   ]
  },
  {
   "cell_type": "code",
   "execution_count": null,
   "metadata": {},
   "outputs": [],
   "source": [
    "plt.figure(figsize=(4.5,4.5))\n",
    "sns.scatterplot(\n",
    "    data=custom_df.loc[~((custom_df[\"CIN status\"]==\"CIN+\")&(custom_df[\"Tumor type\"]==\"MSI-H\")),:],\n",
    "    x=\"PPT\", y=\"CIN index\", style=\"APC status\", hue=\"CIN status\", s=150, alpha=0.7, palette=cmap_dict, style_order=[\"WT\",\"APC mut.\"]\n",
    ")\n",
    "sns.scatterplot(\n",
    "    data=custom_df.loc[(custom_df[\"CIN status\"]==\"CIN+\")&(custom_df[\"Tumor type\"]==\"MSI-H\"),:],\n",
    "    x=\"PPT\", y=\"CIN index\", style=\"APC status\", hue=\"CIN status\", s=150, alpha=0.7, palette=cmap_dict, style_order=[\"WT\",\"APC mut.\"], legend=False\n",
    ")\n",
    "sns.scatterplot(\n",
    "    data=custom_df.loc[(custom_df[\"CIN status\"]==\"CIN+\")&(custom_df[\"Tumor type\"]==\"MSI-H\"),:],\n",
    "    x=\"PPT\", y=\"CIN index\", style=\"APC status\", hue=\"Tumor type\", s=70, alpha=1, palette=cmap_dict, style_order=[\"WT\",\"APC mut.\"], legend=False\n",
    ")\n",
    "plt.legend(bbox_to_anchor=(0, 1.02, 1, .02), loc='lower left', borderaxespad=0, mode=\"expand\", ncol=3, frameon=False)\n",
    "plt.axhline(0, color=\"k\", ls=\"--\")\n",
    "plt.ylabel(\"CIN index\")\n",
    "plt.tick_params(\n",
    "    axis='x',          # changes apply to the x-axis\n",
    "    which='both',      # both major and minor ticks are affected\n",
    "    bottom=False,      # ticks along the bottom edge are off\n",
    "    top=False,         # ticks along the top edge are off\n",
    "    labelbottom=False) # labels along the bottom edge are off\n",
    "plt.tick_params(\n",
    "    axis='y',          # changes apply to the x-axis\n",
    "    which='both',      # both major and minor ticks are affected\n",
    "    left=False,      # ticks along the bottom edge are off\n",
    "    right=False,         # ticks along the top edge are off\n",
    "    labelleft=False) # labels along the bottom edge are off\n",
    "sns.despine(bottom=True)\n",
    "plt.tight_layout()\n",
    "plt.savefig(\"ST_out/plots_overview/CIN_index_APC.png\")"
   ]
  },
  {
   "cell_type": "code",
   "execution_count": null,
   "metadata": {},
   "outputs": [],
   "source": [
    "plt.figure(figsize=(4.5,4.5))\n",
    "sns.scatterplot(\n",
    "    data=custom_df,\n",
    "    x=\"PPT\", y=\"CIN index\", style=\"APC status\", hue=\"CIN status\", s=150, alpha=0.7, palette=cmap_dict, style_order=[\"WT\",\"APC mut.\"]\n",
    ")\n",
    "plt.legend(bbox_to_anchor=(0, 1.02, 1, .02), loc='lower left', borderaxespad=0, mode=\"expand\", ncol=3, frameon=False)\n",
    "plt.axhline(0, color=\"k\", ls=\"--\")\n",
    "plt.ylabel(\"CIN index\")\n",
    "plt.tick_params(\n",
    "    axis='x',          # changes apply to the x-axis\n",
    "    which='both',      # both major and minor ticks are affected\n",
    "    bottom=False,      # ticks along the bottom edge are off\n",
    "    top=False,         # ticks along the top edge are off\n",
    "    labelbottom=False) # labels along the bottom edge are off\n",
    "plt.tick_params(\n",
    "    axis='y',          # changes apply to the x-axis\n",
    "    which='both',      # both major and minor ticks are affected\n",
    "    left=False,      # ticks along the bottom edge are off\n",
    "    right=False,         # ticks along the top edge are off\n",
    "    labelleft=False) # labels along the bottom edge are off\n",
    "sns.despine(bottom=True)\n",
    "plt.tight_layout()\n",
    "plt.savefig(\"ST_out/plots_overview/CIN_index_CINstatus_APC.png\")"
   ]
  },
  {
   "cell_type": "code",
   "execution_count": null,
   "metadata": {},
   "outputs": [],
   "source": [
    "plt.figure(figsize=(4.5,4.5))\n",
    "sns.scatterplot(\n",
    "    data=custom_df,\n",
    "    x=\"PPT\", y=\"CIN index\", style=\"APC status\", hue=\"Tumor type\", s=150, alpha=0.7, palette=cmap_dict, style_order=[\"WT\",\"APC mut.\"]\n",
    ")\n",
    "plt.legend(bbox_to_anchor=(0, 1.02, 1, .02), loc='lower left', borderaxespad=0, mode=\"expand\", ncol=3, frameon=False)\n",
    "plt.axhline(0, color=\"k\", ls=\"--\")\n",
    "plt.ylabel(\"CIN index\")\n",
    "plt.tick_params(\n",
    "    axis='x',          # changes apply to the x-axis\n",
    "    which='both',      # both major and minor ticks are affected\n",
    "    bottom=False,      # ticks along the bottom edge are off\n",
    "    top=False,         # ticks along the top edge are off\n",
    "    labelbottom=False) # labels along the bottom edge are off\n",
    "plt.tick_params(\n",
    "    axis='y',          # changes apply to the x-axis\n",
    "    which='both',      # both major and minor ticks are affected\n",
    "    left=False,      # ticks along the bottom edge are off\n",
    "    right=False,         # ticks along the top edge are off\n",
    "    labelleft=False) # labels along the bottom edge are off\n",
    "sns.despine(bottom=True)\n",
    "plt.tight_layout()\n",
    "plt.savefig(\"ST_out/plots_overview/CIN_index_tumortype_APC.png\")"
   ]
  },
  {
   "cell_type": "code",
   "execution_count": null,
   "metadata": {},
   "outputs": [],
   "source": [
    "plt.figure(figsize=(4.5,4.5))\n",
    "sns.scatterplot(\n",
    "    data=custom_df.loc[~((custom_df[\"CIN status\"]==\"CIN+\")&(custom_df[\"Tumor type\"]==\"MSI-H\")),:],\n",
    "    x=\"PPT\", y=\"CIN index\", style=\"KRAS status\", hue=\"CIN status\", s=150, alpha=0.7, palette=cmap_dict, style_order=[\"WT\",\"KRAS mut.\"]\n",
    ")\n",
    "sns.scatterplot(\n",
    "    data=custom_df.loc[(custom_df[\"CIN status\"]==\"CIN+\")&(custom_df[\"Tumor type\"]==\"MSI-H\"),:],\n",
    "    x=\"PPT\", y=\"CIN index\", style=\"KRAS status\", hue=\"CIN status\", s=150, alpha=0.7, palette=cmap_dict, style_order=[\"WT\",\"KRAS mut.\"], legend=False\n",
    ")\n",
    "sns.scatterplot(\n",
    "    data=custom_df.loc[(custom_df[\"CIN status\"]==\"CIN+\")&(custom_df[\"Tumor type\"]==\"MSI-H\"),:],\n",
    "    x=\"PPT\", y=\"CIN index\", style=\"KRAS status\", hue=\"Tumor type\", s=70, alpha=1, palette=cmap_dict, style_order=[\"WT\",\"KRAS mut.\"], legend=False\n",
    ")\n",
    "plt.legend(bbox_to_anchor=(0, 1.02, 1, .02), loc='lower left', borderaxespad=0, mode=\"expand\", ncol=3, frameon=False)\n",
    "plt.axhline(0, color=\"k\", ls=\"--\")\n",
    "plt.ylabel(\"CIN index\")\n",
    "plt.tick_params(\n",
    "    axis='x',          # changes apply to the x-axis\n",
    "    which='both',      # both major and minor ticks are affected\n",
    "    bottom=False,      # ticks along the bottom edge are off\n",
    "    top=False,         # ticks along the top edge are off\n",
    "    labelbottom=False) # labels along the bottom edge are off\n",
    "plt.tick_params(\n",
    "    axis='y',          # changes apply to the x-axis\n",
    "    which='both',      # both major and minor ticks are affected\n",
    "    left=False,      # ticks along the bottom edge are off\n",
    "    right=False,         # ticks along the top edge are off\n",
    "    labelleft=False) # labels along the bottom edge are off\n",
    "sns.despine(bottom=True)\n",
    "plt.tight_layout()\n",
    "plt.savefig(\"ST_out/plots_overview/CIN_index_KRAS.png\")"
   ]
  },
  {
   "cell_type": "code",
   "execution_count": null,
   "metadata": {},
   "outputs": [],
   "source": [
    "plt.figure(figsize=(4.5,4.5))\n",
    "sns.scatterplot(\n",
    "    data=custom_df,\n",
    "    x=\"PPT\", y=\"CIN index\", style=\"KRAS status\", hue=\"CIN status\", s=150, alpha=0.7, palette=cmap_dict, style_order=[\"WT\",\"KRAS mut.\"]\n",
    ")\n",
    "plt.legend(bbox_to_anchor=(0, 1.02, 1, .02), loc='lower left', borderaxespad=0, mode=\"expand\", ncol=3, frameon=False)\n",
    "plt.axhline(0, color=\"k\", ls=\"--\")\n",
    "plt.ylabel(\"CIN index\")\n",
    "plt.tick_params(\n",
    "    axis='x',          # changes apply to the x-axis\n",
    "    which='both',      # both major and minor ticks are affected\n",
    "    bottom=False,      # ticks along the bottom edge are off\n",
    "    top=False,         # ticks along the top edge are off\n",
    "    labelbottom=False) # labels along the bottom edge are off\n",
    "plt.tick_params(\n",
    "    axis='y',          # changes apply to the x-axis\n",
    "    which='both',      # both major and minor ticks are affected\n",
    "    left=False,      # ticks along the bottom edge are off\n",
    "    right=False,         # ticks along the top edge are off\n",
    "    labelleft=False) # labels along the bottom edge are off\n",
    "sns.despine(bottom=True)\n",
    "plt.tight_layout()\n",
    "plt.savefig(\"ST_out/plots_overview/CIN_index_CINstatus_KRAS.png\")"
   ]
  },
  {
   "cell_type": "code",
   "execution_count": null,
   "metadata": {},
   "outputs": [],
   "source": [
    "plt.figure(figsize=(4.5,4.5))\n",
    "sns.scatterplot(\n",
    "    data=custom_df,\n",
    "    x=\"PPT\", y=\"CIN index\", style=\"KRAS status\", hue=\"Tumor type\", s=150, alpha=0.7, palette=cmap_dict, style_order=[\"WT\",\"KRAS mut.\"]\n",
    ")\n",
    "plt.legend(bbox_to_anchor=(0, 1.02, 1, .02), loc='lower left', borderaxespad=0, mode=\"expand\", ncol=3, frameon=False)\n",
    "plt.axhline(0, color=\"k\", ls=\"--\")\n",
    "plt.ylabel(\"CIN index\")\n",
    "plt.tick_params(\n",
    "    axis='x',          # changes apply to the x-axis\n",
    "    which='both',      # both major and minor ticks are affected\n",
    "    bottom=False,      # ticks along the bottom edge are off\n",
    "    top=False,         # ticks along the top edge are off\n",
    "    labelbottom=False) # labels along the bottom edge are off\n",
    "plt.tick_params(\n",
    "    axis='y',          # changes apply to the x-axis\n",
    "    which='both',      # both major and minor ticks are affected\n",
    "    left=False,      # ticks along the bottom edge are off\n",
    "    right=False,         # ticks along the top edge are off\n",
    "    labelleft=False) # labels along the bottom edge are off\n",
    "sns.despine(bottom=True)\n",
    "plt.tight_layout()\n",
    "plt.savefig(\"ST_out/plots_overview/CIN_index_tumortype_KRAS.png\")"
   ]
  },
  {
   "cell_type": "code",
   "execution_count": null,
   "metadata": {},
   "outputs": [],
   "source": [
    "custom_df.loc[((custom_df[\"CIN status\"]==\"CIN+\")&(custom_df[\"Tumor type\"]==\"MSI-H\")),:]"
   ]
  },
  {
   "cell_type": "code",
   "execution_count": null,
   "metadata": {},
   "outputs": [],
   "source": [
    "plt.figure(figsize=(4.5,4.5))\n",
    "sns.scatterplot(\n",
    "    data=custom_df.loc[~((custom_df[\"CIN status\"]==\"CIN+\")&(custom_df[\"Tumor type\"]==\"MSI-H\")),:],\n",
    "    x=\"PPT\", y=\"CIN index\", style=\"TP53 status\", hue=\"CIN status\", s=150, alpha=0.7, palette=cmap_dict, style_order=[\"WT\",\"TP53 mut.\"]\n",
    ")\n",
    "sns.scatterplot(\n",
    "    data=custom_df.loc[(custom_df[\"CIN status\"]==\"CIN+\")&(custom_df[\"Tumor type\"]==\"MSI-H\"),:],\n",
    "    x=\"PPT\", y=\"CIN index\", style=\"TP53 status\", hue=\"CIN status\", s=150, alpha=0.7, palette=cmap_dict, style_order=[\"WT\",\"TP53 mut.\"], legend=False\n",
    ")\n",
    "sns.scatterplot(\n",
    "    data=custom_df.loc[(custom_df[\"CIN status\"]==\"CIN+\")&(custom_df[\"Tumor type\"]==\"MSI-H\"),:],\n",
    "    x=\"PPT\", y=\"CIN index\", style=\"TP53 status\", hue=\"Tumor type\", s=70, alpha=1, palette=cmap_dict, style_order=[\"WT\",\"TP53 mut.\"], legend=False\n",
    ")\n",
    "plt.legend(bbox_to_anchor=(0, 1.02, 1, .02), loc='lower left', borderaxespad=0, mode=\"expand\", ncol=3, frameon=False)\n",
    "plt.axhline(0, color=\"k\", ls=\"--\")\n",
    "plt.ylabel(\"CIN index\")\n",
    "plt.tick_params(\n",
    "    axis='x',          # changes apply to the x-axis\n",
    "    which='both',      # both major and minor ticks are affected\n",
    "    bottom=False,      # ticks along the bottom edge are off\n",
    "    top=False,         # ticks along the top edge are off\n",
    "    labelbottom=False) # labels along the bottom edge are off\n",
    "plt.tick_params(\n",
    "    axis='y',          # changes apply to the x-axis\n",
    "    which='both',      # both major and minor ticks are affected\n",
    "    left=False,      # ticks along the bottom edge are off\n",
    "    right=False,         # ticks along the top edge are off\n",
    "    labelleft=False) # labels along the bottom edge are off\n",
    "sns.despine(bottom=True)\n",
    "plt.tight_layout()\n",
    "plt.savefig(\"ST_out/plots_overview/CIN_index_TP53.png\")"
   ]
  },
  {
   "cell_type": "code",
   "execution_count": null,
   "metadata": {},
   "outputs": [],
   "source": [
    "plt.figure(figsize=(4.5,4.5))\n",
    "sns.scatterplot(\n",
    "    data=custom_df,\n",
    "    x=\"PPT\", y=\"CIN index\", style=\"TP53 status\", hue=\"CIN status\", s=150, alpha=0.7, palette=cmap_dict, style_order=[\"WT\",\"TP53 mut.\"]\n",
    ")\n",
    "plt.legend(bbox_to_anchor=(0, 1.02, 1, .02), loc='lower left', borderaxespad=0, mode=\"expand\", ncol=3, frameon=False)\n",
    "plt.axhline(0, color=\"k\", ls=\"--\")\n",
    "plt.ylabel(\"CIN index\")\n",
    "plt.tick_params(\n",
    "    axis='x',          # changes apply to the x-axis\n",
    "    which='both',      # both major and minor ticks are affected\n",
    "    bottom=False,      # ticks along the bottom edge are off\n",
    "    top=False,         # ticks along the top edge are off\n",
    "    labelbottom=False) # labels along the bottom edge are off\n",
    "plt.tick_params(\n",
    "    axis='y',          # changes apply to the x-axis\n",
    "    which='both',      # both major and minor ticks are affected\n",
    "    left=False,      # ticks along the bottom edge are off\n",
    "    right=False,         # ticks along the top edge are off\n",
    "    labelleft=False) # labels along the bottom edge are off\n",
    "sns.despine(bottom=True)\n",
    "plt.tight_layout()\n",
    "plt.savefig(\"ST_out/plots_overview/CIN_index_CINstatus_TP53.png\")"
   ]
  },
  {
   "cell_type": "code",
   "execution_count": null,
   "metadata": {},
   "outputs": [],
   "source": [
    "plt.figure(figsize=(4.5,4.5))\n",
    "sns.scatterplot(\n",
    "    data=custom_df,\n",
    "    x=\"PPT\", y=\"CIN index\", style=\"TP53 status\", hue=\"Tumor type\", s=150, alpha=0.7, palette=cmap_dict, style_order=[\"WT\",\"TP53 mut.\"]\n",
    ")\n",
    "plt.legend(bbox_to_anchor=(0, 1.02, 1, .02), loc='lower left', borderaxespad=0, mode=\"expand\", ncol=3, frameon=False)\n",
    "plt.axhline(0, color=\"k\", ls=\"--\")\n",
    "plt.ylabel(\"CIN index\")\n",
    "plt.tick_params(\n",
    "    axis='x',          # changes apply to the x-axis\n",
    "    which='both',      # both major and minor ticks are affected\n",
    "    bottom=False,      # ticks along the bottom edge are off\n",
    "    top=False,         # ticks along the top edge are off\n",
    "    labelbottom=False) # labels along the bottom edge are off\n",
    "plt.tick_params(\n",
    "    axis='y',          # changes apply to the x-axis\n",
    "    which='both',      # both major and minor ticks are affected\n",
    "    left=False,      # ticks along the bottom edge are off\n",
    "    right=False,         # ticks along the top edge are off\n",
    "    labelleft=False) # labels along the bottom edge are off\n",
    "sns.despine(bottom=True)\n",
    "plt.tight_layout()\n",
    "plt.savefig(\"ST_out/plots_overview/CIN_index_tumortype_TP53.png\")"
   ]
  },
  {
   "cell_type": "code",
   "execution_count": null,
   "metadata": {},
   "outputs": [],
   "source": [
    "plt.figure(figsize=(4.5,4.5))\n",
    "sns.scatterplot(\n",
    "    data=custom_df.loc[~((custom_df[\"CIN status\"]==\"CIN+\")&(custom_df[\"Tumor type\"]==\"MSI-H\")),:],\n",
    "    x=\"PPT\", y=\"CIN index\", style=\"BRAF status\", hue=\"CIN status\", s=150, alpha=0.7, palette=cmap_dict, style_order=[\"WT\",\"BRAF mut.\"]\n",
    ")\n",
    "sns.scatterplot(\n",
    "    data=custom_df.loc[(custom_df[\"CIN status\"]==\"CIN+\")&(custom_df[\"Tumor type\"]==\"MSI-H\"),:],\n",
    "    x=\"PPT\", y=\"CIN index\", style=\"BRAF status\", hue=\"CIN status\", s=150, alpha=0.7, palette=cmap_dict, style_order=[\"WT\",\"BRAF mut.\"], legend=False\n",
    ")\n",
    "sns.scatterplot(\n",
    "    data=custom_df.loc[(custom_df[\"CIN status\"]==\"CIN+\")&(custom_df[\"Tumor type\"]==\"MSI-H\"),:],\n",
    "    x=\"PPT\", y=\"CIN index\", style=\"BRAF status\", hue=\"Tumor type\", s=70, alpha=1, palette=cmap_dict, style_order=[\"WT\",\"BRAF mut.\"], legend=False\n",
    ")\n",
    "plt.legend(bbox_to_anchor=(0, 1.02, 1, .02), loc='lower left', borderaxespad=0, mode=\"expand\", ncol=3, frameon=False)\n",
    "plt.axhline(0, color=\"k\", ls=\"--\")\n",
    "plt.ylabel(\"CIN index\")\n",
    "plt.tick_params(\n",
    "    axis='x',          # changes apply to the x-axis\n",
    "    which='both',      # both major and minor ticks are affected\n",
    "    bottom=False,      # ticks along the bottom edge are off\n",
    "    top=False,         # ticks along the top edge are off\n",
    "    labelbottom=False) # labels along the bottom edge are off\n",
    "plt.tick_params(\n",
    "    axis='y',          # changes apply to the x-axis\n",
    "    which='both',      # both major and minor ticks are affected\n",
    "    left=False,      # ticks along the bottom edge are off\n",
    "    right=False,         # ticks along the top edge are off\n",
    "    labelleft=False) # labels along the bottom edge are off\n",
    "sns.despine(bottom=True)\n",
    "plt.tight_layout()\n",
    "plt.savefig(\"ST_out/plots_overview/CIN_index_BRAF.png\")"
   ]
  },
  {
   "cell_type": "code",
   "execution_count": null,
   "metadata": {},
   "outputs": [],
   "source": [
    "plt.figure(figsize=(4.5,4.5))\n",
    "sns.scatterplot(\n",
    "    data=custom_df,\n",
    "    x=\"PPT\", y=\"CIN index\", style=\"BRAF status\", hue=\"CIN status\", s=150, alpha=0.7, palette=cmap_dict, style_order=[\"WT\",\"BRAF mut.\"]\n",
    ")\n",
    "plt.legend(bbox_to_anchor=(0, 1.02, 1, .02), loc='lower left', borderaxespad=0, mode=\"expand\", ncol=3, frameon=False)\n",
    "plt.axhline(0, color=\"k\", ls=\"--\")\n",
    "plt.ylabel(\"CIN index\")\n",
    "plt.tick_params(\n",
    "    axis='x',          # changes apply to the x-axis\n",
    "    which='both',      # both major and minor ticks are affected\n",
    "    bottom=False,      # ticks along the bottom edge are off\n",
    "    top=False,         # ticks along the top edge are off\n",
    "    labelbottom=False) # labels along the bottom edge are off\n",
    "plt.tick_params(\n",
    "    axis='y',          # changes apply to the x-axis\n",
    "    which='both',      # both major and minor ticks are affected\n",
    "    left=False,      # ticks along the bottom edge are off\n",
    "    right=False,         # ticks along the top edge are off\n",
    "    labelleft=False) # labels along the bottom edge are off\n",
    "sns.despine(bottom=True)\n",
    "plt.tight_layout()\n",
    "plt.savefig(\"ST_out/plots_overview/CIN_index_CINstatus_BRAF.png\")"
   ]
  },
  {
   "cell_type": "code",
   "execution_count": null,
   "metadata": {},
   "outputs": [],
   "source": [
    "plt.figure(figsize=(4.5,4.5))\n",
    "plt.axhline(0, color=\"k\", ls=\"--\")\n",
    "sns.scatterplot(\n",
    "    data=custom_df,\n",
    "    x=\"PPT\", y=\"CIN index\", style=\"BRAF status\", hue=\"Tumor type\", s=150, alpha=0.7, palette=cmap_dict, style_order=[\"WT\",\"BRAF mut.\"]\n",
    ")\n",
    "plt.legend(bbox_to_anchor=(0, 1.02, 1, .02), loc='lower left', borderaxespad=0, mode=\"expand\", ncol=3, frameon=False)\n",
    "plt.ylabel(\"CIN index\")\n",
    "plt.tick_params(\n",
    "    axis='x',          # changes apply to the x-axis\n",
    "    which='both',      # both major and minor ticks are affected\n",
    "    bottom=False,      # ticks along the bottom edge are off\n",
    "    top=False,         # ticks along the top edge are off\n",
    "    labelbottom=False) # labels along the bottom edge are off\n",
    "plt.tick_params(\n",
    "    axis='y',          # changes apply to the x-axis\n",
    "    which='both',      # both major and minor ticks are affected\n",
    "    left=False,      # ticks along the bottom edge are off\n",
    "    right=False,         # ticks along the top edge are off\n",
    "    labelleft=False) # labels along the bottom edge are off\n",
    "sns.despine(bottom=True)\n",
    "plt.tight_layout()\n",
    "plt.savefig(\"ST_out/plots_overview/CIN_index_tumortype_BRAF.png\")"
   ]
  },
  {
   "cell_type": "markdown",
   "metadata": {},
   "source": [
    "---"
   ]
  },
  {
   "cell_type": "code",
   "execution_count": null,
   "metadata": {},
   "outputs": [],
   "source": [
    "custom_df = custom_df.merge(\n",
    "    sample_key[[\"patient_name\",\"tumor_type\",\"tumor_stage\",\"tumor_stage_actual\",\"tumor_grade\",\"tumor_loc\",\"Evolution\"]],\n",
    "    left_on=[\"Patient\",\"Tumor type\"], right_on=[\"patient_name\",\"tumor_type\"], how=\"left\")"
   ]
  },
  {
   "cell_type": "code",
   "execution_count": null,
   "metadata": {},
   "outputs": [],
   "source": [
    "custom_df.index = custom_df[\"CNV_LCM\"]\n",
    "custom_df.index.name = \"LCM ROI-CNV clone\"\n",
    "custom_df.rename(columns={\n",
    "    \"CNV score\":\"CIN+ PPT (CNV score)\",\n",
    "    \"TMB\":\"HM PPT (TMB)\",\n",
    "    \"tumor_grade\":\"Tumor Grade\",\n",
    "    \"tumor_stage\":\"Tumor Stage\",\n",
    "    \"gender\":\"Gender\",\n",
    "    \"ethnicity\":\"Ethnicity\",\n",
    "    \"mets\":\"Metastasis\",\n",
    "    \"tumor_loc\":\"Tumor Location\",\n",
    "}, inplace=True)"
   ]
  },
  {
   "cell_type": "code",
   "execution_count": null,
   "metadata": {},
   "outputs": [],
   "source": [
    "custom_df.loc[custom_df[\"Tumor Stage\"].isin([\"AD\",\"NL\"]), \"Tumor Stage\"] = \"nan\"\n",
    "custom_df.loc[custom_df[\"Tumor Grade\"]==\"NL\", \"Tumor Grade\"] = \"nan\""
   ]
  },
  {
   "cell_type": "code",
   "execution_count": null,
   "metadata": {},
   "outputs": [],
   "source": [
    "# set up colormaps\n",
    "cmap_dict = {\n",
    "    \"SSL/HP\":\"#c4a4e1\",\"MSI-H\":\"#7a4fa3\",\"MSS\":\"#ffc101\",\"TA/TVA\":\"#fee799\",\"NL\":\"#1f77b4\",\n",
    "    \"CIN+\":\"#ffc101\",\"HM\":\"#7a4fa3\",\n",
    "    \"Cecum\":\"#62a32e\",\"Ascending\":\"#b0dc7d\",\"Hepatic Flexure\":\"#ebf6db\",\"Transverse\":\"#fbe6f1\",\"Descending\":\"#eeadd4\",\"Sigmoid\":\"#cf4191\",\n",
    "    #\"Cecum\":\"#1f4e79\",\"Ascending\":\"#2e74b7\",\"Hepatic Flexure\":\"#bdd6ef\",\"Transverse\":\"#ff717a\",\"Descending\":\"#fe0001\",\"Sigmoid\":\"#c00101\",\n",
    "    \"lymph_node\":\"#000000\",\n",
    "    \"nan\":\"#ffffff\",\n",
    "    \"KRAS mut.\":\"#000000\",\"APC mut.\":\"#000000\",\"TP53 mut.\":\"#000000\",\"BRAF mut.\":\"#000000\",\n",
    "    \"WT\":\"#ffffff\",\n",
    "    \"T\":\"#000000\",\"F\":\"#ffffff\",\n",
    "    \"N\":\"#1f77b4\",\"L\":\"#ff7f0e\",\"B\":\"#2ca02c\",\n",
    "    \"DOD\":\"#ff0000\",\"DOC\":\"#ff0000\",\"AWD\":\"#ffff00\",\"NED\":\"#008000\",\n",
    "}\n",
    "stagecolor_dict = dict(zip([\"I\",\"II\",\"III/IV\"], sns.color_palette(\"Greys\", 3).as_hex()))\n",
    "gradecolor_dict = dict(zip([\"G1\",\"G2\",\"G3\"], sns.color_palette(\"Greys\", 3).as_hex()))\n",
    "cnvcolor_dict = dict(zip(custom_df[\"CIN+ PPT (CNV score)\"].unique()[custom_df[\"CIN+ PPT (CNV score)\"].unique().argsort()].astype(str), sns.color_palette(\"Greys\", len(custom_df[\"CIN+ PPT (CNV score)\"].unique())).as_hex()))\n",
    "varcolor_dict = dict(zip(custom_df[\"HM PPT (TMB)\"].unique()[custom_df[\"HM PPT (TMB)\"].unique().argsort()].astype(str), sns.color_palette(\"Greys\", len(custom_df[\"HM PPT (TMB)\"].unique())).as_hex()))\n",
    "cmap_dict = {**stagecolor_dict, **cmap_dict, **gradecolor_dict, **cnvcolor_dict, **varcolor_dict}"
   ]
  },
  {
   "cell_type": "markdown",
   "metadata": {},
   "source": [
    "---"
   ]
  },
  {
   "cell_type": "code",
   "execution_count": null,
   "metadata": {},
   "outputs": [],
   "source": [
    "# set up box label strings\n",
    "tmp = custom_df[[\"CIN+ PPT (CNV score)\",\"HM PPT (TMB)\",\"Tumor type\",\"Tumor Location\",\"Tumor Grade\",\"tumor_stage_actual\",\"APC status\",\"KRAS status\",\"TP53 status\",\"BRAF status\",\"Evolution\"]].T\n",
    "tmp.loc[[\"CIN+ PPT (CNV score)\",\"HM PPT (TMB)\",\"Tumor type\",\"Tumor Location\",\"APC status\",\"KRAS status\",\"TP53 status\",\"BRAF status\"]] = \"\"\n",
    "tmp = tmp.fillna(\"\")\n",
    "tmp = tmp.replace(\"nan\", \"\")\n",
    "tmp = tmp.replace(\"F\", \"\")\n",
    "labels = np.asarray(tmp)"
   ]
  },
  {
   "cell_type": "code",
   "execution_count": null,
   "metadata": {},
   "outputs": [],
   "source": [
    "fig, ax = plt.subplots(1, 1, figsize=(28,8))\n",
    "# Plot the categorical columns as heatmap\n",
    "catheat.heatmap(\n",
    "    custom_df[\n",
    "        [\"CIN+ PPT (CNV score)\",\"HM PPT (TMB)\",\"Tumor type\",\"Tumor Location\",\"Tumor Grade\",\"Tumor Stage\",\"APC status\",\"KRAS status\",\"TP53 status\",\"BRAF status\",\"Evolution\"]\n",
    "    ].T.fillna(\"F\"),\n",
    "    cmap=cmap_dict,\n",
    "    ax=ax,\n",
    "    leg_pos=\"right\",\n",
    "    square=True,\n",
    "    linewidths=2,\n",
    "    legend=False,\n",
    "    annot=labels,\n",
    "    fmt=\"\",\n",
    "    annot_kws={\"fontsize\":12},\n",
    ")\n",
    "plt.xlabel(\"\")\n",
    "plt.tick_params(left = False, bottom = False)\n",
    "plt.tight_layout()\n",
    "plt.savefig(\"ST_out/plots_overview/CNV_LCM_heatmap_categorized.png\", dpi=800)"
   ]
  },
  {
   "cell_type": "markdown",
   "metadata": {},
   "source": [
    "---\n",
    "# Pared-down for Figure 3"
   ]
  },
  {
   "cell_type": "code",
   "execution_count": null,
   "metadata": {},
   "outputs": [],
   "source": [
    "# set up box label strings\n",
    "tmp = custom_df[[\"CIN+ PPT (CNV score)\",\"HM PPT (TMB)\",\"Tumor type\",\"Evolution\"]].T\n",
    "tmp.loc[[\"CIN+ PPT (CNV score)\",\"HM PPT (TMB)\",\"Tumor type\"]] = \"\"\n",
    "tmp = tmp.fillna(\"\")\n",
    "tmp = tmp.replace(\"nan\", \"\")\n",
    "tmp = tmp.replace(\"F\", \"\")\n",
    "labels = np.asarray(tmp)"
   ]
  },
  {
   "cell_type": "code",
   "execution_count": null,
   "metadata": {},
   "outputs": [],
   "source": [
    "fig, ax = plt.subplots(1, 1, figsize=(20,4))\n",
    "# Plot the categorical columns as heatmap\n",
    "catheat.heatmap(\n",
    "    custom_df[\n",
    "        [\"CIN+ PPT (CNV score)\",\"HM PPT (TMB)\",\"Tumor type\",\"Evolution\"]\n",
    "    ].T.fillna(\"F\"),\n",
    "    cmap=cmap_dict,\n",
    "    ax=ax,\n",
    "    leg_pos=\"right\",\n",
    "    square=True,\n",
    "    linewidths=2,\n",
    "    legend=False,\n",
    "    annot=labels,\n",
    "    fmt=\"\",\n",
    "    annot_kws={\"fontsize\":12},\n",
    ")\n",
    "plt.xlabel(\"\")\n",
    "plt.tick_params(left = False, bottom = False)\n",
    "plt.tight_layout()\n",
    "plt.savefig(\"ST_out/plots_overview/CNV_LCM_heatmap_categorized_Fig3.png\", dpi=800)"
   ]
  },
  {
   "cell_type": "code",
   "execution_count": null,
   "metadata": {},
   "outputs": [],
   "source": [
    "# set up box label strings\n",
    "tmp = custom_df[[\"CIN+ PPT (CNV score)\",\"HM PPT (TMB)\",\"Tumor type\",\"Evolution\",\"APC status\",\"KRAS status\",\"TP53 status\",\"BRAF status\"]].T\n",
    "tmp.loc[[\"CIN+ PPT (CNV score)\",\"HM PPT (TMB)\",\"Tumor type\",\"APC status\",\"KRAS status\",\"TP53 status\",\"BRAF status\"]] = \"\"\n",
    "tmp = tmp.fillna(\"\")\n",
    "tmp = tmp.replace(\"nan\", \"\")\n",
    "tmp = tmp.replace(\"F\", \"\")\n",
    "labels = np.asarray(tmp)"
   ]
  },
  {
   "cell_type": "code",
   "execution_count": null,
   "metadata": {},
   "outputs": [],
   "source": [
    "fig, ax = plt.subplots(1, 1, figsize=(20,4))\n",
    "# Plot the categorical columns as heatmap\n",
    "catheat.heatmap(\n",
    "    custom_df[\n",
    "        [\"CIN+ PPT (CNV score)\",\"HM PPT (TMB)\",\"Tumor type\",\"Evolution\",\"APC status\",\"KRAS status\",\"TP53 status\",\"BRAF status\"]\n",
    "    ].T.fillna(\"F\"),\n",
    "    cmap=cmap_dict,\n",
    "    ax=ax,\n",
    "    leg_pos=\"right\",\n",
    "    square=True,\n",
    "    linewidths=2,\n",
    "    legend=False,\n",
    "    annot=labels,\n",
    "    fmt=\"\",\n",
    "    annot_kws={\"fontsize\":12},\n",
    ")\n",
    "plt.xlabel(\"\")\n",
    "plt.tick_params(left = False, bottom = False)\n",
    "plt.tight_layout()\n",
    "plt.savefig(\"ST_out/plots_overview/CNV_LCM_heatmap_categorized_Fig3_drivermuts.png\", dpi=800)"
   ]
  },
  {
   "cell_type": "markdown",
   "metadata": {},
   "source": [
    "---"
   ]
  },
  {
   "cell_type": "code",
   "execution_count": null,
   "metadata": {},
   "outputs": [],
   "source": [
    "custom_df_2 = a_comb.obs.loc[\n",
    "    a_comb.obs[\"CNV_LCM\"].isin(custom_df[\"CNV_LCM\"].unique()),\n",
    "    [\"CNV_LCM\",\"iCMS3\",\"iCMS2\",\"IES\",\"CRC2\"]\n",
    "].groupby(\"CNV_LCM\").mean()\n",
    "\n",
    "custom_df_2 = custom_df.merge(custom_df_2, left_on=\"CNV_LCM\", right_index=True)"
   ]
  },
  {
   "cell_type": "code",
   "execution_count": null,
   "metadata": {},
   "outputs": [],
   "source": [
    "feature = \"CRC2\"\n",
    "\n",
    "plt.figure(figsize=(4.5,4.5))\n",
    "plt.axhline(0, color=\"k\", ls=\"--\")\n",
    "sns.scatterplot(\n",
    "    data=custom_df_2,\n",
    "    x=\"PPT\", y=\"CIN index\", hue=feature, s=150, alpha=0.7, palette=\"coolwarm\", legend=None,\n",
    ")\n",
    "\n",
    "norm = plt.Normalize(custom_df_2[feature].min(), custom_df_2[feature].max())\n",
    "cmap = sns.color_palette(\"coolwarm\", as_cmap=True)\n",
    "sm = plt.cm.ScalarMappable(cmap=cmap, norm=norm)\n",
    "sm.set_array([])\n",
    "cbar = plt.colorbar(sm, orientation=\"horizontal\", location=\"top\")\n",
    "cbar.ax.set_xlabel(feature)\n",
    "\n",
    "plt.ylabel(\"CIN index\")\n",
    "plt.tick_params(\n",
    "    axis='x',          # changes apply to the x-axis\n",
    "    which='both',      # both major and minor ticks are affected\n",
    "    bottom=False,      # ticks along the bottom edge are off\n",
    "    top=False,         # ticks along the top edge are off\n",
    "    labelbottom=False) # labels along the bottom edge are off\n",
    "plt.tick_params(\n",
    "    axis='y',          # changes apply to the x-axis\n",
    "    which='both',      # both major and minor ticks are affected\n",
    "    left=False,      # ticks along the bottom edge are off\n",
    "    right=False,         # ticks along the top edge are off\n",
    "    labelleft=False) # labels along the bottom edge are off\n",
    "sns.despine(bottom=True)\n",
    "plt.tight_layout()\n",
    "plt.savefig(\"ST_out/plots_overview/CIN_index_{}.png\".format(feature))"
   ]
  },
  {
   "cell_type": "code",
   "execution_count": null,
   "metadata": {},
   "outputs": [],
   "source": [
    "feature = \"iCMS2\"\n",
    "\n",
    "plt.figure(figsize=(4.5,4.5))\n",
    "plt.axhline(0, color=\"k\", ls=\"--\")\n",
    "sns.scatterplot(\n",
    "    data=custom_df_2,\n",
    "    x=\"PPT\", y=\"CIN index\", hue=feature, s=150, alpha=0.7, palette=\"coolwarm\", legend=None,\n",
    ")\n",
    "\n",
    "norm = plt.Normalize(custom_df_2[feature].min(), custom_df_2[feature].max())\n",
    "cmap = sns.color_palette(\"coolwarm\", as_cmap=True)\n",
    "sm = plt.cm.ScalarMappable(cmap=cmap, norm=norm)\n",
    "sm.set_array([])\n",
    "cbar = plt.colorbar(sm, orientation=\"horizontal\", location=\"top\")\n",
    "cbar.ax.set_xlabel(feature)\n",
    "\n",
    "plt.ylabel(\"CIN index\")\n",
    "plt.tick_params(\n",
    "    axis='x',          # changes apply to the x-axis\n",
    "    which='both',      # both major and minor ticks are affected\n",
    "    bottom=False,      # ticks along the bottom edge are off\n",
    "    top=False,         # ticks along the top edge are off\n",
    "    labelbottom=False) # labels along the bottom edge are off\n",
    "plt.tick_params(\n",
    "    axis='y',          # changes apply to the x-axis\n",
    "    which='both',      # both major and minor ticks are affected\n",
    "    left=False,      # ticks along the bottom edge are off\n",
    "    right=False,         # ticks along the top edge are off\n",
    "    labelleft=False) # labels along the bottom edge are off\n",
    "sns.despine(bottom=True)\n",
    "plt.tight_layout()\n",
    "plt.savefig(\"ST_out/plots_overview/CIN_index_{}.png\".format(feature))"
   ]
  },
  {
   "cell_type": "code",
   "execution_count": null,
   "metadata": {},
   "outputs": [],
   "source": [
    "feature = \"iCMS3\"\n",
    "\n",
    "plt.figure(figsize=(4.5,4.5))\n",
    "plt.axhline(0, color=\"k\", ls=\"--\")\n",
    "sns.scatterplot(\n",
    "    data=custom_df_2,\n",
    "    x=\"PPT\", y=\"CIN index\", hue=feature, s=150, alpha=0.7, palette=\"coolwarm\", legend=None,\n",
    ")\n",
    "\n",
    "norm = plt.Normalize(custom_df_2[feature].min(), custom_df_2[feature].max())\n",
    "cmap = sns.color_palette(\"coolwarm\", as_cmap=True)\n",
    "sm = plt.cm.ScalarMappable(cmap=cmap, norm=norm)\n",
    "sm.set_array([])\n",
    "cbar = plt.colorbar(sm, orientation=\"horizontal\", location=\"top\")\n",
    "cbar.ax.set_xlabel(feature)\n",
    "\n",
    "plt.ylabel(\"CIN index\")\n",
    "plt.tick_params(\n",
    "    axis='x',          # changes apply to the x-axis\n",
    "    which='both',      # both major and minor ticks are affected\n",
    "    bottom=False,      # ticks along the bottom edge are off\n",
    "    top=False,         # ticks along the top edge are off\n",
    "    labelbottom=False) # labels along the bottom edge are off\n",
    "plt.tick_params(\n",
    "    axis='y',          # changes apply to the x-axis\n",
    "    which='both',      # both major and minor ticks are affected\n",
    "    left=False,      # ticks along the bottom edge are off\n",
    "    right=False,         # ticks along the top edge are off\n",
    "    labelleft=False) # labels along the bottom edge are off\n",
    "sns.despine(bottom=True)\n",
    "plt.tight_layout()\n",
    "plt.savefig(\"ST_out/plots_overview/CIN_index_{}.png\".format(feature))"
   ]
  },
  {
   "cell_type": "code",
   "execution_count": null,
   "metadata": {},
   "outputs": [],
   "source": [
    "feature = \"IES\"\n",
    "\n",
    "plt.figure(figsize=(4.5,4.5))\n",
    "plt.axhline(0, color=\"k\", ls=\"--\")\n",
    "sns.scatterplot(\n",
    "    data=custom_df_2,\n",
    "    x=\"PPT\", y=\"CIN index\", hue=feature, s=150, alpha=0.7, palette=\"coolwarm\", legend=None,\n",
    ")\n",
    "\n",
    "norm = plt.Normalize(custom_df_2[feature].min(), custom_df_2[feature].max())\n",
    "cmap = sns.color_palette(\"coolwarm\", as_cmap=True)\n",
    "sm = plt.cm.ScalarMappable(cmap=cmap, norm=norm)\n",
    "sm.set_array([])\n",
    "cbar = plt.colorbar(sm, orientation=\"horizontal\", location=\"top\")\n",
    "cbar.ax.set_xlabel(feature)\n",
    "\n",
    "plt.ylabel(\"CIN index\")\n",
    "plt.tick_params(\n",
    "    axis='x',          # changes apply to the x-axis\n",
    "    which='both',      # both major and minor ticks are affected\n",
    "    bottom=False,      # ticks along the bottom edge are off\n",
    "    top=False,         # ticks along the top edge are off\n",
    "    labelbottom=False) # labels along the bottom edge are off\n",
    "plt.tick_params(\n",
    "    axis='y',          # changes apply to the x-axis\n",
    "    which='both',      # both major and minor ticks are affected\n",
    "    left=False,      # ticks along the bottom edge are off\n",
    "    right=False,         # ticks along the top edge are off\n",
    "    labelleft=False) # labels along the bottom edge are off\n",
    "sns.despine(bottom=True)\n",
    "plt.tight_layout()\n",
    "plt.savefig(\"ST_out/plots_overview/CIN_index_{}.png\".format(feature))"
   ]
  },
  {
   "cell_type": "code",
   "execution_count": null,
   "metadata": {},
   "outputs": [],
   "source": [
    "custom_df_2[\"PAT71662 IES\"] = np.nan\n",
    "custom_df_2.loc[custom_df_2.Patient==\"PAT71662\",\"PAT71662 IES\"] = custom_df_2.loc[custom_df_2.Patient==\"PAT71662\",\"IES\"]"
   ]
  },
  {
   "cell_type": "code",
   "execution_count": null,
   "metadata": {},
   "outputs": [],
   "source": [
    "feature = \"PAT71662 IES\"\n",
    "\n",
    "plt.figure(figsize=(4.5,4.5))\n",
    "plt.axhline(0, color=\"k\", ls=\"--\")\n",
    "\n",
    "cmap1 = plt.cm.get_cmap(\"coolwarm\").copy()\n",
    "cmap1.set_bad(\"lightgrey\", alpha=0.7)\n",
    "\n",
    "plt.scatter(\n",
    "    data=custom_df_2,\n",
    "    x=\"PPT\", y=\"CIN index\", c=feature, s=150, alpha=0.7, cmap=cmap1, plotnonfinite=True,\n",
    "    vmin=custom_df_2[\"IES\"].min(), vmax=custom_df_2[\"IES\"].max()\n",
    ")\n",
    "\n",
    "norm = plt.Normalize(custom_df_2[\"IES\"].min(), custom_df_2[\"IES\"].max())\n",
    "cmap = sns.color_palette(\"coolwarm\", as_cmap=True)\n",
    "sm = plt.cm.ScalarMappable(cmap=cmap, norm=norm)\n",
    "sm.set_array([])\n",
    "cbar = plt.colorbar(sm, orientation=\"horizontal\", location=\"top\")\n",
    "cbar.ax.set_xlabel(feature)\n",
    "\n",
    "plt.ylabel(\"CIN index\")\n",
    "plt.tick_params(\n",
    "    axis='x',          # changes apply to the x-axis\n",
    "    which='both',      # both major and minor ticks are affected\n",
    "    bottom=False,      # ticks along the bottom edge are off\n",
    "    top=False,         # ticks along the top edge are off\n",
    "    labelbottom=False) # labels along the bottom edge are off\n",
    "plt.tick_params(\n",
    "    axis='y',          # changes apply to the x-axis\n",
    "    which='both',      # both major and minor ticks are affected\n",
    "    left=False,      # ticks along the bottom edge are off\n",
    "    right=False,         # ticks along the top edge are off\n",
    "    labelleft=False) # labels along the bottom edge are off\n",
    "sns.despine(bottom=True)\n",
    "plt.tight_layout()\n",
    "plt.savefig(\"ST_out/plots_overview/CIN_index_{}.png\".format(feature.replace(\" \",\"_\")))"
   ]
  },
  {
   "cell_type": "code",
   "execution_count": null,
   "metadata": {},
   "outputs": [],
   "source": [
    "custom_df_2[\"PAT73458 IES\"] = np.nan\n",
    "custom_df_2.loc[custom_df_2.Patient==\"PAT73458\",\"PAT73458 IES\"] = custom_df_2.loc[custom_df_2.Patient==\"PAT73458\",\"IES\"]"
   ]
  },
  {
   "cell_type": "code",
   "execution_count": null,
   "metadata": {},
   "outputs": [],
   "source": [
    "feature = \"PAT73458 IES\"\n",
    "\n",
    "plt.figure(figsize=(4.5,4.5))\n",
    "plt.axhline(0, color=\"k\", ls=\"--\")\n",
    "\n",
    "cmap1 = plt.cm.get_cmap(\"coolwarm\").copy()\n",
    "cmap1.set_bad(\"lightgrey\", alpha=0.7)\n",
    "\n",
    "plt.scatter(\n",
    "    data=custom_df_2,\n",
    "    x=\"PPT\", y=\"CIN index\", c=feature, s=150, alpha=0.7, cmap=cmap1, plotnonfinite=True,\n",
    "    vmin=custom_df_2[\"IES\"].min(), vmax=custom_df_2[\"IES\"].max()\n",
    ")\n",
    "\n",
    "norm = plt.Normalize(custom_df_2[\"IES\"].min(), custom_df_2[\"IES\"].max())\n",
    "cmap = sns.color_palette(\"coolwarm\", as_cmap=True)\n",
    "sm = plt.cm.ScalarMappable(cmap=cmap, norm=norm)\n",
    "sm.set_array([])\n",
    "cbar = plt.colorbar(sm, orientation=\"horizontal\", location=\"top\")\n",
    "cbar.ax.set_xlabel(feature)\n",
    "\n",
    "plt.ylabel(\"CIN index\")\n",
    "plt.tick_params(\n",
    "    axis='x',          # changes apply to the x-axis\n",
    "    which='both',      # both major and minor ticks are affected\n",
    "    bottom=False,      # ticks along the bottom edge are off\n",
    "    top=False,         # ticks along the top edge are off\n",
    "    labelbottom=False) # labels along the bottom edge are off\n",
    "plt.tick_params(\n",
    "    axis='y',          # changes apply to the x-axis\n",
    "    which='both',      # both major and minor ticks are affected\n",
    "    left=False,      # ticks along the bottom edge are off\n",
    "    right=False,         # ticks along the top edge are off\n",
    "    labelleft=False) # labels along the bottom edge are off\n",
    "sns.despine(bottom=True)\n",
    "plt.tight_layout()\n",
    "plt.savefig(\"ST_out/plots_overview/CIN_index_{}.png\".format(feature.replace(\" \",\"_\")))"
   ]
  },
  {
   "cell_type": "code",
   "execution_count": null,
   "metadata": {},
   "outputs": [],
   "source": [
    "custom_df_2[\"SG00001 IES\"] = np.nan\n",
    "custom_df_2.loc[custom_df_2.Patient==\"SG00001\",\"SG00001 IES\"] = custom_df_2.loc[custom_df_2.Patient==\"SG00001\",\"IES\"]"
   ]
  },
  {
   "cell_type": "code",
   "execution_count": null,
   "metadata": {},
   "outputs": [],
   "source": [
    "feature = \"SG00001 IES\"\n",
    "\n",
    "plt.figure(figsize=(4.5,4.5))\n",
    "plt.axhline(0, color=\"k\", ls=\"--\")\n",
    "\n",
    "cmap1 = plt.cm.get_cmap(\"coolwarm\").copy()\n",
    "cmap1.set_bad(\"lightgrey\", alpha=0.7)\n",
    "\n",
    "plt.scatter(\n",
    "    data=custom_df_2,\n",
    "    x=\"PPT\", y=\"CIN index\", c=feature, s=150, alpha=0.7, cmap=cmap1, plotnonfinite=True,\n",
    "    vmin=custom_df_2[\"IES\"].min(), vmax=custom_df_2[\"IES\"].max()\n",
    ")\n",
    "\n",
    "norm = plt.Normalize(custom_df_2[\"IES\"].min(), custom_df_2[\"IES\"].max())\n",
    "cmap = sns.color_palette(\"coolwarm\", as_cmap=True)\n",
    "sm = plt.cm.ScalarMappable(cmap=cmap, norm=norm)\n",
    "sm.set_array([])\n",
    "cbar = plt.colorbar(sm, orientation=\"horizontal\", location=\"top\")\n",
    "cbar.ax.set_xlabel(feature)\n",
    "\n",
    "plt.ylabel(\"CIN index\")\n",
    "plt.tick_params(\n",
    "    axis='x',          # changes apply to the x-axis\n",
    "    which='both',      # both major and minor ticks are affected\n",
    "    bottom=False,      # ticks along the bottom edge are off\n",
    "    top=False,         # ticks along the top edge are off\n",
    "    labelbottom=False) # labels along the bottom edge are off\n",
    "plt.tick_params(\n",
    "    axis='y',          # changes apply to the x-axis\n",
    "    which='both',      # both major and minor ticks are affected\n",
    "    left=False,      # ticks along the bottom edge are off\n",
    "    right=False,         # ticks along the top edge are off\n",
    "    labelleft=False) # labels along the bottom edge are off\n",
    "sns.despine(bottom=True)\n",
    "plt.tight_layout()\n",
    "plt.savefig(\"ST_out/plots_overview/CIN_index_{}.png\".format(feature.replace(\" \",\"_\")))"
   ]
  },
  {
   "cell_type": "code",
   "execution_count": null,
   "metadata": {},
   "outputs": [],
   "source": [
    "custom_df_2[\"SG00002 IES\"] = np.nan\n",
    "custom_df_2.loc[custom_df_2.Patient==\"SG00002\",\"SG00002 IES\"] = custom_df_2.loc[custom_df_2.Patient==\"SG00002\",\"IES\"]"
   ]
  },
  {
   "cell_type": "code",
   "execution_count": null,
   "metadata": {},
   "outputs": [],
   "source": [
    "feature = \"SG00002 IES\"\n",
    "\n",
    "plt.figure(figsize=(4.5,4.5))\n",
    "plt.axhline(0, color=\"k\", ls=\"--\")\n",
    "\n",
    "cmap1 = plt.cm.get_cmap(\"coolwarm\").copy()\n",
    "cmap1.set_bad(\"lightgrey\", alpha=0.7)\n",
    "\n",
    "plt.scatter(\n",
    "    data=custom_df_2,\n",
    "    x=\"PPT\", y=\"CIN index\", c=feature, s=150, alpha=0.7, cmap=cmap1, plotnonfinite=True,\n",
    "    vmin=custom_df_2[\"IES\"].min(), vmax=custom_df_2[\"IES\"].max()\n",
    ")\n",
    "\n",
    "norm = plt.Normalize(custom_df_2[\"IES\"].min(), custom_df_2[\"IES\"].max())\n",
    "cmap = sns.color_palette(\"coolwarm\", as_cmap=True)\n",
    "sm = plt.cm.ScalarMappable(cmap=cmap, norm=norm)\n",
    "sm.set_array([])\n",
    "cbar = plt.colorbar(sm, orientation=\"horizontal\", location=\"top\")\n",
    "cbar.ax.set_xlabel(feature)\n",
    "\n",
    "plt.ylabel(\"CIN index\")\n",
    "plt.tick_params(\n",
    "    axis='x',          # changes apply to the x-axis\n",
    "    which='both',      # both major and minor ticks are affected\n",
    "    bottom=False,      # ticks along the bottom edge are off\n",
    "    top=False,         # ticks along the top edge are off\n",
    "    labelbottom=False) # labels along the bottom edge are off\n",
    "plt.tick_params(\n",
    "    axis='y',          # changes apply to the x-axis\n",
    "    which='both',      # both major and minor ticks are affected\n",
    "    left=False,      # ticks along the bottom edge are off\n",
    "    right=False,         # ticks along the top edge are off\n",
    "    labelleft=False) # labels along the bottom edge are off\n",
    "sns.despine(bottom=True)\n",
    "plt.tight_layout()\n",
    "plt.savefig(\"ST_out/plots_overview/CIN_index_{}.png\".format(feature.replace(\" \",\"_\")))"
   ]
  },
  {
   "cell_type": "markdown",
   "metadata": {},
   "source": [
    "---"
   ]
  },
  {
   "cell_type": "code",
   "execution_count": null,
   "metadata": {},
   "outputs": [],
   "source": [
    "import sys; sys.path.append(\"../resources/ST/\"); from visium_utils import *"
   ]
  },
  {
   "cell_type": "code",
   "execution_count": null,
   "metadata": {},
   "outputs": [],
   "source": [
    "import numpy as np\n",
    "import pandas as pd\n",
    "from scipy import stats\n",
    "import seaborn as sns # For pairplots and heatmaps\n",
    "import matplotlib.pyplot as plt"
   ]
  },
  {
   "cell_type": "code",
   "execution_count": null,
   "metadata": {},
   "outputs": [],
   "source": [
    "sns.set_style(\"white\")"
   ]
  },
  {
   "cell_type": "code",
   "execution_count": null,
   "metadata": {},
   "outputs": [],
   "source": [
    "def display_correlation(df, figsize=(10,10)):\n",
    "    r = df.corr(method=\"spearman\")\n",
    "    plt.figure(figsize=figsize)\n",
    "    heatmap = sns.clustermap(\n",
    "        df.corr(),\n",
    "        vmin=-1, \n",
    "        vmax=1,\n",
    "        annot=True,\n",
    "    )\n",
    "    heatmap.ax_row_dendrogram.set_visible(False)\n",
    "    plt.title(\"Spearman Correlation\")\n",
    "    return(r)\n",
    "\n",
    "\n",
    "def plot_data_corr(df, title, color=\"green\"):    \n",
    "    r = display_correlation(df)\n",
    "    fig, ax = plt.subplots(nrows=2, ncols=int((len(df.columns)-1)/2),figsize=(40,3))\n",
    "    for i in range(1,len(df.columns)):\n",
    "        ax[i-1].scatter(df[\"CNV score\"],df.values[:,i],color=color)\n",
    "        ax[i-1].title.set_text(title[i] +'\\n r = ' + \n",
    "                             \"{:.2f}\".format(r.values[0,i]))\n",
    "        ax[i-1].set(xlabel=df.columns[0],ylabel=df.columns[i])\n",
    "    fig.subplots_adjust(wspace=.7)    \n",
    "    plt.show()"
   ]
  },
  {
   "cell_type": "code",
   "execution_count": null,
   "metadata": {},
   "outputs": [],
   "source": [
    "def corrfunc(x, y, **kws):\n",
    "    r, _ = stats.pearsonr(x, y)\n",
    "    ax = plt.gca()\n",
    "    ax.annotate(\"r = {:.2f}\".format(r),\n",
    "                xy=(.1, .9), xycoords=ax.transAxes)"
   ]
  },
  {
   "cell_type": "markdown",
   "metadata": {},
   "source": [
    "---"
   ]
  },
  {
   "cell_type": "code",
   "execution_count": null,
   "metadata": {},
   "outputs": [],
   "source": [
    "for gene in [\"DDR1\",\"TGFBI\",\"PAK4\",\"DPEP1\"]:\n",
    "    a_comb.obs[gene] = a_comb[:,gene].X.todense()"
   ]
  },
  {
   "cell_type": "markdown",
   "metadata": {},
   "source": [
    "---"
   ]
  },
  {
   "cell_type": "code",
   "execution_count": null,
   "metadata": {},
   "outputs": [],
   "source": [
    "CIN_df = a_comb.obs.loc[\n",
    "    a_comb.obs[\"CNV_LCM\"].isin(custom_df.loc[custom_df[\"CIN status\"].isin([\"CIN+\",\"NL\",\"TA/TVA\"]), \"CNV_LCM\"].unique()),\n",
    "    [\"CNV_LCM\",\"CNV score\",\"iCMS2\",\"DDR1\",\"TGFBI\",\"PAK4\",\"DPEP1\"]\n",
    "].groupby(\"CNV_LCM\").mean()"
   ]
  },
  {
   "cell_type": "code",
   "execution_count": null,
   "metadata": {},
   "outputs": [],
   "source": [
    "g = sns.PairGrid(CIN_df, palette=[\"Greys\"], height=1.5)\n",
    "g.map_upper(plt.scatter, s=10, alpha=0.5, color=\"k\")\n",
    "g.map_diag(sns.histplot, bins=10, color=\"k\")\n",
    "g.map_lower(sns.kdeplot, cmap=\"Greys_d\")\n",
    "g.map_lower(corrfunc)\n",
    "for ax in g.axes.flatten():\n",
    "    # rotate x axis labels\n",
    "    ax.set_xlabel(ax.get_xlabel(), rotation = 45)\n",
    "    # set x labels alignment\n",
    "    ax.xaxis.get_label().set_horizontalalignment('right')\n",
    "    # rotate y axis labels\n",
    "    ax.set_ylabel(ax.get_ylabel(), rotation = 0)\n",
    "    # set y labels alignment\n",
    "    ax.yaxis.get_label().set_horizontalalignment('right')\n",
    "plt.tight_layout()\n",
    "plt.savefig(\"ST_out/plots_overview/immexcl_PTregression.png\")"
   ]
  },
  {
   "cell_type": "markdown",
   "metadata": {},
   "source": [
    "---"
   ]
  },
  {
   "cell_type": "code",
   "execution_count": null,
   "metadata": {},
   "outputs": [],
   "source": [
    "CIN_df = a_comb.obs.loc[\n",
    "    a_comb.obs[\"CNV_LCM\"].isin(custom_df.loc[custom_df[\"CIN status\"].isin([\"CIN+\",\"NL\",\"TA/TVA\"]), \"CNV_LCM\"].unique()),\n",
    "    [\"CNV_LCM\",\"CNV score\",\"iCMS2\",\"IES\",\"TL2\",\"T cell CD8\"]\n",
    "].groupby(\"CNV_LCM\").mean()"
   ]
  },
  {
   "cell_type": "code",
   "execution_count": null,
   "metadata": {},
   "outputs": [],
   "source": [
    "g = sns.PairGrid(CIN_df, palette=[\"Greys\"], height=1.5)\n",
    "g.map_upper(plt.scatter, s=10, alpha=0.5, color=\"k\")\n",
    "g.map_diag(sns.histplot, bins=10, color=\"k\")\n",
    "g.map_lower(sns.kdeplot, cmap=\"Greys_d\")\n",
    "g.map_lower(corrfunc)\n",
    "for ax in g.axes.flatten():\n",
    "    # rotate x axis labels\n",
    "    ax.set_xlabel(ax.get_xlabel(), rotation = 45)\n",
    "    # set x labels alignment\n",
    "    ax.xaxis.get_label().set_horizontalalignment('right')\n",
    "    # rotate y axis labels\n",
    "    ax.set_ylabel(ax.get_ylabel(), rotation = 0)\n",
    "    # set y labels alignment\n",
    "    ax.yaxis.get_label().set_horizontalalignment('right')\n",
    "plt.tight_layout()\n",
    "plt.savefig(\"ST_out/plots_overview/immexcl_vs_imminf_PTregression.png\")"
   ]
  },
  {
   "cell_type": "markdown",
   "metadata": {},
   "source": [
    "---"
   ]
  },
  {
   "cell_type": "code",
   "execution_count": null,
   "metadata": {},
   "outputs": [],
   "source": [
    "HM_df = a_comb.obs.loc[\n",
    "    a_comb.obs[\"CNV_LCM\"].isin(custom_df.loc[custom_df[\"CIN status\"].isin([\"HM\",\"SSL/HP\"]), \"CNV_LCM\"].unique()),\n",
    "    [\"CNV_LCM\",\"TMB\",\"iCMS3\",\"FIB3\",\"MYE2\",\"T cell CD8\"]\n",
    "].groupby(\"CNV_LCM\").mean()"
   ]
  },
  {
   "cell_type": "code",
   "execution_count": null,
   "metadata": {},
   "outputs": [],
   "source": [
    "g = sns.PairGrid(HM_df, palette=[\"Greys\"], height=1.5)\n",
    "g.map_upper(plt.scatter, s=10, alpha=0.5, color=\"k\")\n",
    "g.map_diag(sns.histplot, bins=10, color=\"k\")\n",
    "g.map_lower(sns.kdeplot, cmap=\"Greys_d\")\n",
    "g.map_lower(corrfunc)\n",
    "for ax in g.axes.flatten():\n",
    "    # rotate x axis labels\n",
    "    ax.set_xlabel(ax.get_xlabel(), rotation = 45)\n",
    "    # set x labels alignment\n",
    "    ax.xaxis.get_label().set_horizontalalignment('right')\n",
    "    # rotate y axis labels\n",
    "    ax.set_ylabel(ax.get_ylabel(), rotation = 0)\n",
    "    # set y labels alignment\n",
    "    ax.yaxis.get_label().set_horizontalalignment('right')\n",
    "plt.tight_layout()\n",
    "plt.savefig(\"ST_out/plots_overview/immexcl_HM_PTregression.png\")"
   ]
  },
  {
   "cell_type": "markdown",
   "metadata": {},
   "source": [
    "---\n",
    "# Prep for traDE-seq"
   ]
  },
  {
   "cell_type": "code",
   "execution_count": null,
   "metadata": {},
   "outputs": [],
   "source": [
    "from sklearn.preprocessing import MinMaxScaler\n",
    "\n",
    "def generate_pt_df(adata, columns, pt_order, pt_column=\"CNV_LCM\"):\n",
    "    df = adata.obs.loc[a_comb.obs[pt_column].isin(pt_order), [pt_column] + columns].copy()\n",
    "    scaler = MinMaxScaler()\n",
    "    df[columns] = scaler.fit_transform(df[columns])\n",
    "    df[\"Pseudotime\"] = df[pt_column].replace(dict(zip(pt_order, range(len(pt_order)))))\n",
    "    return df"
   ]
  },
  {
   "cell_type": "code",
   "execution_count": null,
   "metadata": {},
   "outputs": [],
   "source": [
    "sns.set_theme(style=\"ticks\")\n",
    "from matplotlib.lines import Line2D\n",
    "\n",
    "def pt_plot(df, stat=\"frequency\", figsize=(7,3), cmap=\"tab10\", bw_adjust=1.5, save=None, dpi=400, ylim=35, show_bars=False, **kwargs):\n",
    "    f, ax = plt.subplots(figsize=figsize)\n",
    "    sns.despine(f)\n",
    "    sns.histplot(\n",
    "        data=df.melt(id_vars=[\"Pseudotime\",\"CNV_LCM\"]),\n",
    "        x=\"Pseudotime\",\n",
    "        hue=\"variable\",\n",
    "        weights=\"value\",\n",
    "        stat=stat,\n",
    "        multiple=\"layer\",\n",
    "        palette=cmap,\n",
    "        bins=len(df.CNV_LCM.unique()),\n",
    "        kde=True,\n",
    "        alpha=0.2 if show_bars else 0,\n",
    "        kde_kws={\"bw_adjust\":bw_adjust},\n",
    "        line_kws={\"lw\":4,\"alpha\":0.8},\n",
    "        legend=False,\n",
    "        **kwargs,\n",
    "    )\n",
    "    plt.ylim([0,ylim])\n",
    "    plt.xlim([-1, len(df.CNV_LCM.unique()) + 1])\n",
    "    plt.ylabel(\"Weighted Frequency\")\n",
    "    custom_lines = [Line2D([0], [0], color=sns.color_palette(cmap)[x], lw=4, alpha=0.8) for x in range(len(df.melt(id_vars=[\"Pseudotime\",\"CNV_LCM\"]).variable.unique()))]\n",
    "    ax.legend(\n",
    "        custom_lines,\n",
    "        list(df.melt(id_vars=[\"Pseudotime\",\"CNV_LCM\"]).variable.unique()),\n",
    "        loc=\"upper center\",\n",
    "        bbox_to_anchor=(0.5, 1.2),\n",
    "        ncol=len(df.melt(id_vars=[\"Pseudotime\",\"CNV_LCM\"]).variable.unique()),\n",
    "        frameon=False,\n",
    "    )\n",
    "    plt.tick_params(bottom = False, labelbottom=False)\n",
    "    ax.plot((len(df.CNV_LCM.unique()) + 0.75), (0), ls=\"\", marker=\">\", ms=8, color=\"k\", transform=ax.get_xaxis_transform(), clip_on=False)\n",
    "    if save:\n",
    "        plt.tight_layout()\n",
    "        plt.savefig(save, dpi=dpi)"
   ]
  },
  {
   "cell_type": "markdown",
   "metadata": {},
   "source": [
    "---"
   ]
  },
  {
   "cell_type": "code",
   "execution_count": null,
   "metadata": {},
   "outputs": [],
   "source": [
    "AD_CIN_order = custom_df.loc[custom_df[\"CIN status\"].isin([\"CIN+\",\"NL\",\"TA/TVA\"]), \"CNV_LCM\"].values"
   ]
  },
  {
   "cell_type": "code",
   "execution_count": null,
   "metadata": {},
   "outputs": [],
   "source": [
    "CIN_df = generate_pt_df(\n",
    "    a_comb,\n",
    "    columns=[\"iCMS2\",\"IES\",\"Fibrosis\",\"CRC2\",\"CT\",\"ABS\",\"GOB\"],\n",
    "    pt_order=AD_CIN_order,\n",
    "    pt_column=\"CNV_LCM\",\n",
    ")"
   ]
  },
  {
   "cell_type": "code",
   "execution_count": null,
   "metadata": {},
   "outputs": [],
   "source": [
    "CIN_df.Pseudotime.max()"
   ]
  },
  {
   "cell_type": "code",
   "execution_count": null,
   "metadata": {},
   "outputs": [],
   "source": [
    "pt_plot(\n",
    "    CIN_df,\n",
    "    figsize=(8,4),\n",
    "    cmap=\"tab20c\",\n",
    "    bw_adjust=1.8,\n",
    "    save=\"ST_out/plots_overview/test_PPT_regression_fits.png\",\n",
    "    dpi=400,\n",
    "    ylim=34,\n",
    ")"
   ]
  },
  {
   "cell_type": "code",
   "execution_count": null,
   "metadata": {},
   "outputs": [],
   "source": [
    "CIN_df = generate_pt_df(\n",
    "    a_comb,\n",
    "    columns=[\"CNV score\",\"TMB\"],\n",
    "    pt_order=AD_CIN_order,\n",
    "    pt_column=\"CNV_LCM\",\n",
    ")"
   ]
  },
  {
   "cell_type": "code",
   "execution_count": null,
   "metadata": {},
   "outputs": [],
   "source": [
    "CIN_df.Pseudotime = CIN_df[\"CNV score\"].copy()\n",
    "CIN_df[\"CIN\"] = 1\n",
    "CIN_df[\"HM\"] = 0"
   ]
  },
  {
   "cell_type": "markdown",
   "metadata": {},
   "source": [
    "---"
   ]
  },
  {
   "cell_type": "code",
   "execution_count": null,
   "metadata": {},
   "outputs": [],
   "source": [
    "SER_HM_order = custom_df.loc[custom_df[\"CIN status\"].isin([\"HM\",\"SSL/HP\"]), \"CNV_LCM\"].values"
   ]
  },
  {
   "cell_type": "code",
   "execution_count": null,
   "metadata": {},
   "outputs": [],
   "source": [
    "HM_df = generate_pt_df(\n",
    "    a_comb,\n",
    "    columns=[\"CNV score\",\"TMB\"],\n",
    "    pt_order=SER_HM_order,\n",
    "    pt_column=\"CNV_LCM\",\n",
    ")"
   ]
  },
  {
   "cell_type": "code",
   "execution_count": null,
   "metadata": {},
   "outputs": [],
   "source": [
    "HM_df.Pseudotime = HM_df[\"TMB\"].copy()\n",
    "HM_df[\"HM\"] = 1\n",
    "HM_df[\"CIN\"] = 0"
   ]
  },
  {
   "cell_type": "code",
   "execution_count": null,
   "metadata": {},
   "outputs": [],
   "source": [
    "tradeseq_df = pd.concat([CIN_df,HM_df])"
   ]
  },
  {
   "cell_type": "code",
   "execution_count": null,
   "metadata": {},
   "outputs": [],
   "source": [
    "tradeseq_df"
   ]
  },
  {
   "cell_type": "code",
   "execution_count": null,
   "metadata": {},
   "outputs": [],
   "source": [
    "tradeseq_df.to_csv(\"ST_out/tradeseq.csv\")"
   ]
  },
  {
   "cell_type": "markdown",
   "metadata": {},
   "source": [
    "---\n",
    "### Regular genes first"
   ]
  },
  {
   "cell_type": "code",
   "execution_count": null,
   "metadata": {},
   "outputs": [],
   "source": [
    "a_tradeseq = a_comb[a_comb.obs.CNV_LCM.isin(custom_df.CNV_LCM),:].copy(); a_tradeseq"
   ]
  },
  {
   "cell_type": "code",
   "execution_count": null,
   "metadata": {},
   "outputs": [],
   "source": [
    "%%time\n",
    "a_tradeseq.layers[\"raw_counts\"] = a_tradeseq.X.copy()\n",
    "sc.pp.normalize_total(a_tradeseq)\n",
    "sc.pp.log1p(a_tradeseq)\n",
    "sc.pp.scale(a_tradeseq)"
   ]
  },
  {
   "cell_type": "code",
   "execution_count": null,
   "metadata": {},
   "outputs": [],
   "source": [
    "sc.pp.highly_variable_genes(a_tradeseq, n_top_genes=10000)"
   ]
  },
  {
   "cell_type": "code",
   "execution_count": null,
   "metadata": {},
   "outputs": [],
   "source": [
    "np.array(a_tradeseq.layers[\"raw_counts\"].sum(axis=0)).squeeze()"
   ]
  },
  {
   "cell_type": "code",
   "execution_count": null,
   "metadata": {},
   "outputs": [],
   "source": [
    "a_tradeseq.var[\"total_counts\"] = np.array(a_tradeseq.layers[\"raw_counts\"].sum(axis=0)).squeeze()"
   ]
  },
  {
   "cell_type": "code",
   "execution_count": null,
   "metadata": {},
   "outputs": [],
   "source": [
    "a_tradeseq.var.loc[[\"DDR1\",\"DPEP1\",\"PAK4\",\"TGFBI\"]]"
   ]
  },
  {
   "cell_type": "code",
   "execution_count": null,
   "metadata": {},
   "outputs": [],
   "source": [
    "a_tradeseq.X = a_tradeseq.layers[\"raw_counts\"].copy()"
   ]
  },
  {
   "cell_type": "code",
   "execution_count": null,
   "metadata": {},
   "outputs": [],
   "source": [
    "a_tradeseq[:, a_tradeseq.var.total_counts > 80000].to_df().to_csv(\"ST_out/tradeseq_counts.csv\")"
   ]
  },
  {
   "cell_type": "markdown",
   "metadata": {},
   "source": [
    "---\n",
    "### Now gene signatures and cell states"
   ]
  },
  {
   "cell_type": "code",
   "execution_count": null,
   "metadata": {},
   "outputs": [],
   "source": [
    "a_tradeseq = a_comb[tradeseq_df.index,:].copy()"
   ]
  },
  {
   "cell_type": "code",
   "execution_count": null,
   "metadata": {},
   "outputs": [],
   "source": [
    "columns = [\n",
    "    'CytoTRACE','Cytotoxicity','Exhaustion','Cytokines','Chemokines','MHC','Fetal','Stem','Metaplasia',\n",
    "    'Bacterial response','Proliferation','Translation','Neutrophils','RSC','CBC','T cell exhaustion',\n",
    "    'B cell','NK cell','Plasma cell','T reg resting','T reg suppressive','T reg tissue homing','T reg cytokines',\n",
    "    'T reg activation','TH1','TH2','TH17','TRM','M1','M2','Costimulatory MYE','Stimulatory DCs',\n",
    "    'IFN stimulated MYE','Senescence','SASP','IFN stimulated EPI','Stress response','Fibrosis',\n",
    "    'T cell','Myeloid','Stroma','T reg','T cell CD4','T cell CD8','cDC2','cDC1','Macrophage','Classical monocytes',\n",
    "    'Cycle','Stress','Interferon','Hypoxia','Oxphos','Metal','Mesenchymal','pEMT','Alveolar','Basal','Squamous',\n",
    "    'iCMS2','iCMS3','IES',\n",
    "    'STM','END1','BL1','FIB1','CRC1','MYE1','TL1','MYE2','CRC2','CT','SSC','CRC3','EE1','MYE3','PLA','FIB2',\n",
    "    'MYE4','GOB','MAS','MYE5','CRC4','ABS','TUF','FIB3','FIB4','TL2','END2','TL3','EE2','BL2',\n",
    "    #'LYSOZYME','CD20','MUC5AC','CD11B','CD45','FOXP3','CD8','CD3D','SOX9','CGA','DPEP1','PEGFR','NAKATPASE',\n",
    "    #'AQP5','HLAA','PSTAT3','PCNA','CD4','CD68','CEACAM5','CDX2','COLLAGEN','OLFM4','VIMENTIN','PANCK','SMA',\n",
    "    #'CD27','GAMMAACTIN','BCATENIN','MUC2','ERBB2','COX2'\n",
    "]\n",
    "\n",
    "scaler = MinMaxScaler()\n",
    "a_tradeseq = sc.AnnData(\n",
    "    scaler.fit_transform(a_tradeseq.obs[columns]),\n",
    "    obs = a_tradeseq.obs[['Sample', 'Patient', 'Block ID', 'Tumor Type']],\n",
    ")\n",
    "\n",
    "a_tradeseq.var_names = columns\n",
    "\n",
    "a_tradeseq"
   ]
  },
  {
   "cell_type": "code",
   "execution_count": null,
   "metadata": {},
   "outputs": [],
   "source": [
    "a_tradeseq.X"
   ]
  },
  {
   "cell_type": "code",
   "execution_count": null,
   "metadata": {},
   "outputs": [],
   "source": [
    "a_tradeseq.to_df().to_csv(\"ST_out/tradeseq_signatures_cellstates.csv\")"
   ]
  }
 ],
 "metadata": {
  "kernelspec": {
   "display_name": "scanpy",
   "language": "python",
   "name": "scanpy"
  },
  "language_info": {
   "codemirror_mode": {
    "name": "ipython",
    "version": 3
   },
   "file_extension": ".py",
   "mimetype": "text/x-python",
   "name": "python",
   "nbconvert_exporter": "python",
   "pygments_lexer": "ipython3",
   "version": "3.8.10"
  }
 },
 "nbformat": 4,
 "nbformat_minor": 4
}
