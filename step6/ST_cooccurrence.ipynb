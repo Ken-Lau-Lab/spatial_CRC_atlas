{
 "cells": [
  {
   "cell_type": "code",
   "execution_count": null,
   "metadata": {},
   "outputs": [],
   "source": [
    "import scanpy as sc\n",
    "\n",
    "import matplotlib.pyplot as plt\n",
    "import sys; sys.path.append(\"../resources/\")\n",
    "from visium_utils import *\n",
    "from pl_cooccurrence import *\n",
    "\n",
    "from skimage import io\n",
    "from MILWRM.MxIF import *"
   ]
  },
  {
   "cell_type": "code",
   "execution_count": null,
   "metadata": {},
   "outputs": [],
   "source": [
    "# make output directories\n",
    "import os\n",
    "if not os.path.exists(\"ST_out\"):\n",
    "    os.mkdir(\"ST_out\")\n",
    "\n",
    "if not os.path.exists(\"ST_out/immune_exclusion/\"):\n",
    "    os.mkdir(\"ST_out/immune_exclusion/\")"
   ]
  },
  {
   "cell_type": "code",
   "execution_count": null,
   "metadata": {},
   "outputs": [],
   "source": [
    "sc.set_figure_params(transparent=True, dpi_save=400)\n",
    "import seaborn as sns; sns.set_style(\"white\")\n",
    "sc.settings.figdir = \"ST_out/immune_exclusion/\""
   ]
  },
  {
   "cell_type": "markdown",
   "metadata": {},
   "source": [
    "---"
   ]
  },
  {
   "cell_type": "code",
   "execution_count": null,
   "metadata": {},
   "outputs": [],
   "source": [
    "sample_key = pd.read_csv(\"../resources/ST/visium_sample_key.csv\", index_col=0)\n",
    "\n",
    "sample_key.ws_adata = sample_key.ws_adata.fillna(\"\")\n",
    "sample_key.TMA = sample_key.TMA.fillna(\"F\")"
   ]
  },
  {
   "cell_type": "code",
   "execution_count": null,
   "metadata": {},
   "outputs": [],
   "source": [
    "rename_dict = {\n",
    "    \"FIB2_VUMCrefNMF30\":\"FIB2\",\n",
    "    \"FIB3_VUMCrefNMF30\":\"FIB3\",\n",
    "    \"MYE1_VUMCrefNMF30\":\"MYE1\",\n",
    "    \"MYE2_VUMCrefNMF30\":\"MYE2\",\n",
    "    \"MYE3_VUMCrefNMF30\":\"MYE3\",\n",
    "    \"MYE4_VUMCrefNMF30\":\"MYE4\",\n",
    "    \"MYE5_VUMCrefNMF30\":\"MYE5\",\n",
    "    \"TL1_VUMCrefNMF30\":\"TL1\",\n",
    "    \"TL2_VUMCrefNMF30\":\"TL2\",\n",
    "    \"TL3_VUMCrefNMF30\":\"TL3\",\n",
    "    \"Immune Exclusion\":\"IES\",  # rename IES\n",
    "}\n",
    "\n",
    "markers_thresh = [\n",
    "    \"IES\",\n",
    "    \"DDR1\",\n",
    "    \"TGFBI\",\n",
    "    \"PAK4\",\n",
    "    \"DPEP1\",\n",
    "    \"FIB2\",\n",
    "    \"FIB3\",\n",
    "    \"MYE1\",\n",
    "    \"MYE2\",\n",
    "    \"MYE3\",\n",
    "    \"MYE4\",\n",
    "    \"MYE5\",\n",
    "    \"TL1\",\n",
    "    \"TL2\",\n",
    "    \"TL3\",\n",
    "]\n",
    "\n",
    "markers_thresh_dict = dict(zip(markers_thresh, [80] * len(markers_thresh)))"
   ]
  },
  {
   "cell_type": "markdown",
   "metadata": {},
   "source": [
    "---"
   ]
  },
  {
   "cell_type": "code",
   "execution_count": null,
   "metadata": {},
   "outputs": [],
   "source": [
    "sample_key.patient_name.unique()"
   ]
  },
  {
   "cell_type": "code",
   "execution_count": null,
   "metadata": {},
   "outputs": [],
   "source": [
    "for pat in [\"SG00001\",\"SG00002\",\"SG00003\",\"SG00004\"]:#sample_key.patient_name.unique():\n",
    "    print(\"\\nStarting {}\".format(pat))\n",
    "    sample_key_tmp = sample_key.loc[sample_key.patient_name == pat,:].copy()\n",
    "    \n",
    "    # check for vTMA sample first\n",
    "    if any(sample_key_tmp.TMA==\"T\"):\n",
    "        # identify index of TMA sample\n",
    "        sample_key_tma = sample_key_tmp.loc[sample_key_tmp.TMA==\"T\",:].index\n",
    "        assert len(sample_key_tma)==1, \"Should only be one TMA per sample...\"\n",
    "        print(\"Detected vTMA sample: {}\".format(sample_key_tma[0]))\n",
    "        a_ws = sc.read(\"../data/ST/{}_master.h5ad\".format(sample_key_tma[0]))\n",
    "        a_ws.obs.rename(columns=rename_dict, inplace=True)\n",
    "        block = sample_key.loc[sample_key_tma[0], \"block_name\"]\n",
    "        # perform analyses\n",
    "        immune_excl_cooccurrence(a_ws, pat, block, markers_thresh_dict, TMA_dist=sample_key.loc[sample_key_tma[0], \"cooccurrence_dist\"], percentiles=True)\n",
    "        # remove TMA sample and move on\n",
    "        sample_key_tmp = sample_key_tmp.loc[sample_key_tmp.TMA==\"F\",:].copy()\n",
    "    \n",
    "    # check for whole-slide sample next\n",
    "    if any(sample_key_tmp.ws_adata!=\"\"):\n",
    "        # identify path to WS sample\n",
    "        ws_samples = sample_key_tmp.loc[sample_key_tmp.ws_adata!=\"\", \"ws_adata\"].unique()\n",
    "        for ws_sample in ws_samples:\n",
    "            sample_key_ws = sample_key_tmp.loc[sample_key_tmp.ws_adata==ws_sample, \"ws_adata\"]\n",
    "            print(\"Detected {} whole-slide sample(s) saved in {}\".format(len(sample_key_ws), sample_key_ws[0]))\n",
    "            a_ws = sc.read(sample_key_ws[0])\n",
    "            a_ws.obs.rename(columns=rename_dict, inplace=True)\n",
    "            block = sample_key.loc[sample_key.ws_adata == sample_key_ws[0], \"block_name\"]\n",
    "            if len(block) > 0:\n",
    "                block = block[0]\n",
    "            # perform analyses\n",
    "            immune_excl_cooccurrence(a_ws, pat, block, markers_thresh_dict, percentiles=True)\n",
    "        # remove whole-slide sample and move on\n",
    "        sample_key_tmp = sample_key_tmp.loc[sample_key_tmp.ws_adata==\"\",:].copy()\n",
    "        \n",
    "    # check for \"regular\" visium samples\n",
    "    if len(sample_key_tmp) > 0:\n",
    "        print(\"Detected {} 'regular' ST samples(s):\".format(len(sample_key_tmp)))\n",
    "        reg_samples = sample_key_tmp.index\n",
    "        for reg_sample in reg_samples:\n",
    "            print(reg_sample)\n",
    "            a_ws = sc.read(\"../data/ST/{}_master.h5ad\".format(reg_sample))\n",
    "            a_ws.obs.rename(columns=rename_dict, inplace=True)\n",
    "            block = sample_key.loc[reg_sample, \"block_name\"]\n",
    "            # perform analyses\n",
    "            immune_excl_cooccurrence(a_ws, pat, block, markers_thresh_dict, percentiles=True)\n",
    "    else:\n",
    "        print(\"No 'regular' ST samples for {}\".format(pat))\n",
    "        \n",
    "    print(\"DONE.\\n\")"
   ]
  }
 ],
 "metadata": {
  "kernelspec": {
   "display_name": "scanpy",
   "language": "python",
   "name": "scanpy"
  },
  "language_info": {
   "codemirror_mode": {
    "name": "ipython",
    "version": 3
   },
   "file_extension": ".py",
   "mimetype": "text/x-python",
   "name": "python",
   "nbconvert_exporter": "python",
   "pygments_lexer": "ipython3",
   "version": "3.8.10"
  }
 },
 "nbformat": 4,
 "nbformat_minor": 4
}
