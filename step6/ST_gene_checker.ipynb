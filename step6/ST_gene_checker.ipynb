{
 "cells": [
  {
   "cell_type": "code",
   "execution_count": null,
   "metadata": {},
   "outputs": [],
   "source": [
    "import sys; sys.path.append(\"../resources/\")\n",
    "from dotplot_utils import *\n",
    "import pandas as pd\n",
    "import seaborn as sns\n",
    "# make this notebook work better with Scanpy\n",
    "import warnings; warnings.simplefilter(action='ignore', category=FutureWarning)"
   ]
  },
  {
   "cell_type": "code",
   "execution_count": null,
   "metadata": {},
   "outputs": [],
   "source": [
    "# make output directories\n",
    "import os\n",
    "if not os.path.exists(\"ST_out\"):\n",
    "    os.mkdir(\"ST_out\")\n",
    "\n",
    "if not os.path.exists(\"ST_out/plots_overview/\"):\n",
    "    os.mkdir(\"ST_out/plots_overview/\")"
   ]
  },
  {
   "cell_type": "code",
   "execution_count": null,
   "metadata": {},
   "outputs": [],
   "source": [
    "sc.set_figure_params(transparent=True, dpi_save=400)\n",
    "sc.settings.figdir = \"ST_out/plots_overview/\""
   ]
  },
  {
   "cell_type": "markdown",
   "metadata": {
    "tags": []
   },
   "source": [
    "---\n",
    "## Read in NMF scRNA-seq reference to check for genes in cell state loadings"
   ]
  },
  {
   "cell_type": "code",
   "execution_count": null,
   "metadata": {},
   "outputs": [],
   "source": [
    "a_sc = sc.read(\"../data/scRNA/VUMC_NMF/VUMC_NMF_k30_dt0_1.h5ad\"); a_sc"
   ]
  },
  {
   "cell_type": "code",
   "execution_count": null,
   "metadata": {},
   "outputs": [],
   "source": [
    "a_sc.var_names[a_sc.var_names.isin([\n",
    "    \"DPEP1\",\n",
    "    \"NT5E\",\n",
    "    \"IL6\",\n",
    "    \"ITGB1\",\n",
    "    \"ITGA2\",\n",
    "    \"ITGA11\",\n",
    "    \"ITGAV\",\n",
    "    \"ITGB5\",\n",
    "    \"ITGB3\",\n",
    "    \"THBS1\",\n",
    "    \"CD47\",\n",
    "    \"CD36\",\n",
    "])]"
   ]
  },
  {
   "cell_type": "code",
   "execution_count": null,
   "metadata": {},
   "outputs": [],
   "source": [
    "rename_refNMF = {\n",
    "    \"usage_1\":\"STM\",\n",
    "    \"usage_2\":\"END1\",\n",
    "    \"usage_3\":\"BL1\",\n",
    "    \"usage_4\":\"FIB1\",\n",
    "    \"usage_5\":\"CRC1\",\n",
    "    \"usage_6\":\"MYE1\",\n",
    "    \"usage_7\":\"TL1\",\n",
    "    \"usage_8\":\"MYE2\",\n",
    "    \"usage_9\":\"CRC2\",\n",
    "    \"usage_10\":\"CT\",\n",
    "    \"usage_11\":\"SSC\",\n",
    "    \"usage_12\":\"CRC3\",\n",
    "    \"usage_13\":\"EE1\",\n",
    "    \"usage_14\":\"MYE3\",\n",
    "    \"usage_15\":\"PLA\",\n",
    "    \"usage_16\":\"FIB2\",\n",
    "    \"usage_17\":\"MYE4\",\n",
    "    \"usage_18\":\"GOB\",\n",
    "    \"usage_19\":\"MAS\",\n",
    "    \"usage_20\":\"MYE5\",\n",
    "    \"usage_21\":\"CRC4\",\n",
    "    \"usage_22\":\"ABS\",\n",
    "    \"usage_23\":\"TUF\",\n",
    "    \"usage_24\":\"FIB3\",\n",
    "    \"usage_25\":\"FIB4\",\n",
    "    \"usage_26\":\"TL2\",\n",
    "    \"usage_27\":\"END2\",\n",
    "    \"usage_28\":\"TL3\",\n",
    "    \"usage_29\":\"EE2\",\n",
    "    \"usage_30\":\"BL2\",\n",
    "}"
   ]
  },
  {
   "cell_type": "markdown",
   "metadata": {},
   "source": [
    "---"
   ]
  },
  {
   "cell_type": "code",
   "execution_count": null,
   "metadata": {},
   "outputs": [],
   "source": [
    "from cNMF.cnmf import cnmf_markers\n",
    "\n",
    "cnmf_markers(\n",
    "    adata=a_sc,\n",
    "    n_genes=300,\n",
    "    spectra_score_file=\"../data/scRNA/VUMC_NMF/VUMC_NMF.gene_spectra_score.k_30.dt_0_1.txt\",\n",
    ")\n",
    "markers = a_sc.uns[\"cnmf_markers\"].copy()\n",
    "markers.columns = list(rename_refNMF.values())"
   ]
  },
  {
   "cell_type": "code",
   "execution_count": null,
   "metadata": {},
   "outputs": [],
   "source": [
    "markers.head()"
   ]
  },
  {
   "cell_type": "code",
   "execution_count": null,
   "metadata": {},
   "outputs": [],
   "source": [
    "import kitchen.ingredients as k"
   ]
  },
  {
   "cell_type": "code",
   "execution_count": null,
   "metadata": {},
   "outputs": [],
   "source": [
    "p = k.rank_genes_cnmf(comb_k, ncols=2, n_points=24, titles=list(comb_k.obs.columns[comb_k.obs.columns.str.startswith(\"usage_\")]))\n",
    "#plt.savefig(\"cnmf_spectra_test.png\")"
   ]
  },
  {
   "cell_type": "markdown",
   "metadata": {},
   "source": [
    "---"
   ]
  },
  {
   "cell_type": "code",
   "execution_count": null,
   "metadata": {},
   "outputs": [],
   "source": [
    "from collections import Counter\n",
    "\n",
    "def locate_genes_in_loadings(markers, genes):\n",
    "    counts = []\n",
    "    for gene in genes:\n",
    "        cols = markers.columns[(markers.values==gene).any(0)].tolist()\n",
    "        if len(cols) > 0:\n",
    "            print(\"{} detected in {}\".format(gene, cols))\n",
    "            counts.extend(cols)\n",
    "            for col in cols:\n",
    "                i = markers.loc[markers[col] == gene].index[0]\n",
    "                print(\"\\t{} ranking = {}\".format(col, i))\n",
    "        else:\n",
    "            print(\"{} not detected\".format(gene))\n",
    "    print(\"\\n{}\".format(Counter(counts)))"
   ]
  },
  {
   "cell_type": "code",
   "execution_count": null,
   "metadata": {},
   "outputs": [],
   "source": [
    "locate_genes_in_loadings(markers, [\n",
    "    \"DPEP1\",\n",
    "    \"DDR1\",\n",
    "    \"PAK4\",\n",
    "    \"TGFBI\",\n",
    "    \"PMCA4b\",\n",
    "    \"RNLS\",\n",
    "])"
   ]
  },
  {
   "cell_type": "markdown",
   "metadata": {
    "tags": []
   },
   "source": [
    "---\n",
    "## Read in ST data"
   ]
  },
  {
   "cell_type": "code",
   "execution_count": null,
   "metadata": {},
   "outputs": [],
   "source": [
    "sample_key = pd.read_csv(\"../resources/ST/visium_sample_key.csv\", index_col=0)"
   ]
  },
  {
   "cell_type": "code",
   "execution_count": null,
   "metadata": {},
   "outputs": [],
   "source": [
    "%%time\n",
    "outs = []\n",
    "for s in sample_key.index:\n",
    "    a = sc.read(\"../data/ST/{}_master.h5ad\".format(s))\n",
    "    print(\"Read adata from ../data/ST/{}_master.h5ad\".format(s))\n",
    "\n",
    "    # compile training data\n",
    "    outs.append(a)\n",
    "\n",
    "assert len(outs) == len(sample_key), \"Check length of outs\""
   ]
  },
  {
   "cell_type": "code",
   "execution_count": null,
   "metadata": {},
   "outputs": [],
   "source": [
    "%%time\n",
    "# concatenate anndata objects\n",
    "a_comb = outs[0].concatenate(\n",
    "    outs[1:],\n",
    "    join=\"outer\",\n",
    "    batch_categories=list(sample_key.index),\n",
    "    fill_value=0,\n",
    ")\n",
    "del a_comb.obsm\n",
    "del a_comb.var"
   ]
  },
  {
   "cell_type": "markdown",
   "metadata": {},
   "source": [
    "---\n",
    "## Rename things and set up for plotting"
   ]
  },
  {
   "cell_type": "code",
   "execution_count": null,
   "metadata": {},
   "outputs": [],
   "source": [
    "# rename cell state columns in master anndata.obs\n",
    "et = list(a_comb.obs.columns[a_comb.obs.columns.str.endswith(\"_VUMCrefNMF30\")])\n",
    "et_new = [x.replace(\"_VUMCrefNMF30\", \"\") for x in et]\n",
    "a_comb.obs.rename(columns=dict(zip(et, et_new)), inplace=True)"
   ]
  },
  {
   "cell_type": "code",
   "execution_count": null,
   "metadata": {},
   "outputs": [],
   "source": [
    "cmap_dict = {\n",
    "    # Tumor Type\n",
    "    'SSL/HP':\"#c4a4e1\",'MSI-H':\"#7a4fa3\",'MSS':\"#ffc101\",'TA/TVA':\"#fee799\",'NL':\"#1f77b4\",\n",
    "    # Tumor Location\n",
    "    \"Cecum\":\"#1f4e79\",\"Ascending\":\"#2e74b7\",\"Hepatic Flexure\":\"#bdd6ef\",\"Transverse\":\"#ff717a\",\"Descending\":\"#fe0001\",\"Sigmoid\":\"#c00101\",\n",
    "    # this one's global\n",
    "    \"nan\":\"#ffffff\",\n",
    "    # These are black and white for T and F\n",
    "    \"T\":\"#000000\",\"F\":\"#ffffff\",\n",
    "}\n",
    "stage_colordict = dict(zip([\"AD\",\"I\",\"II\",\"III/IV\"], sns.color_palette(\"Reds\", len([\"AD\",\"I\",\"II\",\"III/IV\"])).as_hex()))\n",
    "grade_colordict = dict(zip([\"G1\",\"G2\",\"G3\"], sns.color_palette(\"Reds\", len([\"G1\",\"G2\",\"G3\"])).as_hex()))\n",
    "cmap_dict = {**cmap_dict, **stage_colordict, **grade_colordict}"
   ]
  },
  {
   "cell_type": "code",
   "execution_count": null,
   "metadata": {},
   "outputs": [],
   "source": [
    "patient_colordict = dict(zip(sample_key.patient_name, [cmap_dict[x] for x in sample_key.tumor_type]))"
   ]
  },
  {
   "cell_type": "code",
   "execution_count": null,
   "metadata": {},
   "outputs": [],
   "source": [
    "# define heatmap widths\n",
    "milwrm_width = 4.1\n",
    "tumor_type_width = 3.8\n",
    "tumor_loc_width = 3.7\n",
    "tumor_stage_width = 3.2\n",
    "tumor_grade_width = 3.0\n",
    "patient_width = 8.7\n",
    "pathology_width = 4.0\n",
    "evolution_width = 3.0\n",
    "cnv_domain_width = 3.0"
   ]
  },
  {
   "cell_type": "markdown",
   "metadata": {},
   "source": [
    "---\n",
    "# Gene plots"
   ]
  },
  {
   "cell_type": "code",
   "execution_count": null,
   "metadata": {},
   "outputs": [],
   "source": [
    "a_comb.X = a_comb.X.todense()"
   ]
  },
  {
   "cell_type": "code",
   "execution_count": null,
   "metadata": {},
   "outputs": [],
   "source": [
    "a_comb.layers[\"raw_counts\"] = a_comb.X.copy()"
   ]
  },
  {
   "cell_type": "code",
   "execution_count": null,
   "metadata": {},
   "outputs": [],
   "source": [
    "custom_dict = {\n",
    "    \"\": [\n",
    "        \"DPEP1\",\n",
    "        \"DDR1\",\n",
    "        \"PAK4\",\n",
    "        \"TGFBI\",\n",
    "        \"RNLS\",\n",
    "    ],\n",
    "    \"MSS\": [\"iCMS2\",\"Stem\",\"IES\"],\n",
    "    \"MSI-H\": [\"iCMS3\",\"GOB\",\"SSC\",\"Metaplasia\"],\n",
    "    \"NL\": [\"ABS\",\"CT\"],\n",
    "}\n",
    "custom_dict_height = 4"
   ]
  },
  {
   "cell_type": "code",
   "execution_count": null,
   "metadata": {},
   "outputs": [],
   "source": [
    "for features_name, features_list, height in zip(\n",
    "        [\"custom_genes\"],\n",
    "        [custom_dict],\n",
    "        [custom_dict_height],\n",
    "    ):\n",
    "    for group_name, group, width, groupby_order, groupby_colordict, in zip(\n",
    "        [\"tumortype\", \"tumorloc\", \"tumorstage\", \"tumorgrade\", \"patient\", \"pathology_annotation\"],\n",
    "        [\"Tumor Type\", \"Tumor Location\", \"Tumor Stage\", \"Tumor Grade\", \"Patient\", \"pathology_annotation\"],\n",
    "        [tumor_type_width, tumor_loc_width, tumor_stage_width, tumor_grade_width, patient_width, pathology_width],\n",
    "        [None, [\"Cecum\",\"Ascending\",\"Hepatic Flexure\",\"Transverse\",\"Descending\",\"Sigmoid\"], [\"NL\",\"AD\",\"I\",\"II\",\"III/IV\"], [\"NL\",\"G1\",\"G2\",\"G3\"], None, None],\n",
    "        [cmap_dict, cmap_dict, cmap_dict, cmap_dict, patient_colordict, None],\n",
    "    ):\n",
    "        cody_heatmap(\n",
    "            a_comb,\n",
    "            groupby=group,\n",
    "            features=sum(custom_dict.values(), []),\n",
    "            cluster_vars=False,\n",
    "            vars_dict=custom_dict,\n",
    "            groupby_order=groupby_order,\n",
    "            groupby_colordict=groupby_colordict,\n",
    "            cluster_obs=True if groupby_order is None else False,\n",
    "            figsize=(width, height),\n",
    "            save=\"ST_out/plots_overview/{}_{}_dotplot.png\".format(group_name, features_name),\n",
    "            dpi=400,\n",
    "            cmap=\"Greys\",\n",
    "            size_title=\"Fraction of spots\\nin group (%)\",\n",
    "        )"
   ]
  }
 ],
 "metadata": {
  "kernelspec": {
   "display_name": "scanpy",
   "language": "python",
   "name": "scanpy"
  },
  "language_info": {
   "codemirror_mode": {
    "name": "ipython",
    "version": 3
   },
   "file_extension": ".py",
   "mimetype": "text/x-python",
   "name": "python",
   "nbconvert_exporter": "python",
   "pygments_lexer": "ipython3",
   "version": "3.8.10"
  }
 },
 "nbformat": 4,
 "nbformat_minor": 4
}
