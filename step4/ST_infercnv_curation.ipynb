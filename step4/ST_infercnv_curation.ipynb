{
 "cells": [
  {
   "cell_type": "code",
   "execution_count": null,
   "metadata": {},
   "outputs": [],
   "source": [
    "import sys; sys.path.append(\"../resources/\")\n",
    "from infercnv_utils import *\n",
    "import pandas as pd\n",
    "# make this notebook work better with Scanpy\n",
    "import warnings; warnings.simplefilter(action='ignore', category=FutureWarning)"
   ]
  },
  {
   "cell_type": "code",
   "execution_count": null,
   "metadata": {},
   "outputs": [],
   "source": [
    "# make output directories\n",
    "import os\n",
    "if not os.path.exists(\"ST_out\"):\n",
    "    os.mkdir(\"ST_out\")\n",
    "\n",
    "if not os.path.exists(\"ST_out/infercnv/\"):\n",
    "    os.mkdir(\"ST_out/infercnv/\")"
   ]
  },
  {
   "cell_type": "code",
   "execution_count": null,
   "metadata": {},
   "outputs": [],
   "source": [
    "sc.set_figure_params(transparent=True, dpi_save=300)\n",
    "sc.settings.figdir = \"ST_out/infercnv/\""
   ]
  },
  {
   "cell_type": "markdown",
   "metadata": {
    "tags": []
   },
   "source": [
    "---\n",
    "### Read in key dataframe with sample information"
   ]
  },
  {
   "cell_type": "code",
   "execution_count": null,
   "metadata": {},
   "outputs": [],
   "source": [
    "sample_key = pd.read_csv(\"../resources/ST/visium_sample_key.csv\", index_col=0)"
   ]
  },
  {
   "cell_type": "code",
   "execution_count": null,
   "metadata": {},
   "outputs": [],
   "source": [
    "sample_key.CNV_group.value_counts()  # we have at least two Visium samples per \"patient\" group"
   ]
  },
  {
   "cell_type": "markdown",
   "metadata": {},
   "source": [
    "---\n",
    "## PAT71397"
   ]
  },
  {
   "cell_type": "code",
   "execution_count": null,
   "metadata": {},
   "outputs": [],
   "source": [
    "# define dictionary to remap cnv_leiden\n",
    "d = {\n",
    "    \"B\":\"S\",\n",
    "    \"0\":\"S\",\n",
    "    \"1\":\"S\",\n",
    "    \"2\":\"E\",\n",
    "    \"3\":\"1\",\n",
    "    \"5\":\"2\",\n",
    "    \"6\":\"3\",\n",
    "}\n",
    "\n",
    "pat = \"PAT71397\""
   ]
  },
  {
   "cell_type": "code",
   "execution_count": null,
   "metadata": {},
   "outputs": [],
   "source": [
    "curate_cnv_ST(pat=pat, d=d, sample_key=sample_key, infercnv_dir=\"../step3/ST_out/infercnv/\", dataset_dir=\"../data/ST/\")"
   ]
  },
  {
   "cell_type": "markdown",
   "metadata": {},
   "source": [
    "---\n",
    "## PAT71662"
   ]
  },
  {
   "cell_type": "code",
   "execution_count": null,
   "metadata": {},
   "outputs": [],
   "source": [
    "# define dictionary to remap cnv_leiden\n",
    "d = {\n",
    "    \"B\":\"S\",\n",
    "    \"0\":\"E\",\n",
    "    \"1\":\"1\",\n",
    "    \"3\":\"1\",\n",
    "    \"4\":\"S\",\n",
    "}\n",
    "\n",
    "pat = \"PAT71662\""
   ]
  },
  {
   "cell_type": "code",
   "execution_count": null,
   "metadata": {},
   "outputs": [],
   "source": [
    "curate_cnv_ST(pat=pat, d=d, sample_key=sample_key, infercnv_dir=\"../step3/ST_out/infercnv/\", dataset_dir=\"../data/ST/\")"
   ]
  },
  {
   "cell_type": "markdown",
   "metadata": {},
   "source": [
    "---\n",
    "## PAT73899"
   ]
  },
  {
   "cell_type": "code",
   "execution_count": null,
   "metadata": {},
   "outputs": [],
   "source": [
    "# define dictionary to remap cnv_leiden\n",
    "d = {\n",
    "    \"B\":\"S\",\n",
    "    \"1\":\"1B\",\n",
    "    \"3\":\"1A\",\n",
    "    \"4\":\"2\",\n",
    "}\n",
    "\n",
    "pat = \"PAT73899\""
   ]
  },
  {
   "cell_type": "code",
   "execution_count": null,
   "metadata": {},
   "outputs": [],
   "source": [
    "curate_cnv_ST(pat=pat, d=d, sample_key=sample_key, infercnv_dir=\"../step3/ST_out/infercnv/\", dataset_dir=\"../data/ST/\")"
   ]
  },
  {
   "cell_type": "markdown",
   "metadata": {},
   "source": [
    "---\n",
    "## PAT05785"
   ]
  },
  {
   "cell_type": "code",
   "execution_count": null,
   "metadata": {},
   "outputs": [],
   "source": [
    "# define dictionary to remap cnv_leiden\n",
    "d = {\n",
    "    \"B\":\"S\",\n",
    "    \"0\":\"E\",\n",
    "    \"1\":\"1A\",\n",
    "    \"2\":\"S\",\n",
    "    \"5\":\"1B\",\n",
    "    \n",
    "}\n",
    "\n",
    "pat = \"PAT05785\""
   ]
  },
  {
   "cell_type": "code",
   "execution_count": null,
   "metadata": {},
   "outputs": [],
   "source": [
    "curate_cnv_ST(pat=pat, d=d, sample_key=sample_key, infercnv_dir=\"../step3/ST_out/infercnv/\", dataset_dir=\"../data/ST/\")"
   ]
  },
  {
   "cell_type": "markdown",
   "metadata": {},
   "source": [
    "---\n",
    "## PAT30884"
   ]
  },
  {
   "cell_type": "code",
   "execution_count": null,
   "metadata": {},
   "outputs": [],
   "source": [
    "# define dictionary to remap cnv_leiden\n",
    "d = {\n",
    "    \"B\":\"S\",\n",
    "    \"1\":\"1\",\n",
    "    \"4\":\"2\",\n",
    "    \"2\":\"3\"\n",
    "}\n",
    "\n",
    "pat = \"PAT30884\""
   ]
  },
  {
   "cell_type": "code",
   "execution_count": null,
   "metadata": {},
   "outputs": [],
   "source": [
    "curate_cnv_ST(pat=pat, d=d, sample_key=sample_key, infercnv_dir=\"../step3/ST_out/infercnv/\", dataset_dir=\"../data/ST/\")"
   ]
  },
  {
   "cell_type": "markdown",
   "metadata": {},
   "source": [
    "---\n",
    "## PAT59667"
   ]
  },
  {
   "cell_type": "code",
   "execution_count": null,
   "metadata": {},
   "outputs": [],
   "source": [
    "# define dictionary to remap cnv_leiden\n",
    "d = {\n",
    "    \"B\":\"S\",\n",
    "    \"0\":\"E\",\n",
    "    \"2\":\"1\",\n",
    "}\n",
    "\n",
    "pat = \"PAT59667\""
   ]
  },
  {
   "cell_type": "code",
   "execution_count": null,
   "metadata": {},
   "outputs": [],
   "source": [
    "curate_cnv_ST(pat=pat, d=d, sample_key=sample_key, infercnv_dir=\"../step3/ST_out/infercnv/\", dataset_dir=\"../data/ST/\")"
   ]
  },
  {
   "cell_type": "markdown",
   "metadata": {},
   "source": [
    "---\n",
    "## PAT59600"
   ]
  },
  {
   "cell_type": "code",
   "execution_count": null,
   "metadata": {},
   "outputs": [],
   "source": [
    "# define dictionary to remap cnv_leiden\n",
    "d = {\n",
    "    \"B\":\"S\",\n",
    "    \"1\":\"E\",\n",
    "    \"0\":\"1\",\n",
    "    \"4\":\"2\",\n",
    "}\n",
    "\n",
    "pat = \"PAT59600\""
   ]
  },
  {
   "cell_type": "code",
   "execution_count": null,
   "metadata": {},
   "outputs": [],
   "source": [
    "curate_cnv_ST(pat=pat, d=d, sample_key=sample_key, infercnv_dir=\"../step3/ST_out/infercnv/\", dataset_dir=\"../data/ST/\")"
   ]
  },
  {
   "cell_type": "markdown",
   "metadata": {},
   "source": [
    "---\n",
    "## PAT74143"
   ]
  },
  {
   "cell_type": "code",
   "execution_count": null,
   "metadata": {},
   "outputs": [],
   "source": [
    "# define dictionary to remap cnv_leiden\n",
    "d = {\n",
    "    \"B\":\"S\",\n",
    "    \"0\":\"E\",\n",
    "    \"1\":\"1A\",\n",
    "    \"4\":\"S\",\n",
    "    \"5\":\"S\",\n",
    "    \"6\":\"S\",\n",
    "    \"7\":\"S\",\n",
    "    \"10\":\"S\",\n",
    "    \"12\":\"1B\",\n",
    "}\n",
    "\n",
    "pat = \"PAT74143\""
   ]
  },
  {
   "cell_type": "code",
   "execution_count": null,
   "metadata": {},
   "outputs": [],
   "source": [
    "curate_cnv_ST(pat=pat, d=d, sample_key=sample_key, infercnv_dir=\"../step3/ST_out/infercnv/\", dataset_dir=\"../data/ST/\")"
   ]
  },
  {
   "cell_type": "markdown",
   "metadata": {},
   "source": [
    "---\n",
    "## PAT73458"
   ]
  },
  {
   "cell_type": "code",
   "execution_count": null,
   "metadata": {},
   "outputs": [],
   "source": [
    "# define dictionary to remap cnv_leiden\n",
    "d = {\n",
    "    \"B\":\"S\",\n",
    "    \"0\":\"S\",\n",
    "    \"2\":\"1\",\n",
    "    \"3\":\"E\",\n",
    "    \"5\":\"S\",\n",
    "    \"6\":\"E\",\n",
    "    \"7\":\"E\",\n",
    "    \"8\":\"1\",\n",
    "}\n",
    "\n",
    "pat = \"PAT73458\""
   ]
  },
  {
   "cell_type": "code",
   "execution_count": null,
   "metadata": {},
   "outputs": [],
   "source": [
    "curate_cnv_ST(pat=pat, d=d, sample_key=sample_key, infercnv_dir=\"../step3/ST_out/infercnv/\", dataset_dir=\"../data/ST/\")"
   ]
  },
  {
   "cell_type": "markdown",
   "metadata": {},
   "source": [
    "---\n",
    "## PAT59460"
   ]
  },
  {
   "cell_type": "code",
   "execution_count": null,
   "metadata": {},
   "outputs": [],
   "source": [
    "# define dictionary to remap cnv_leiden\n",
    "d = {\n",
    "    \"B\":\"S\",\n",
    "    \"0\":\"E\",\n",
    "    \"3\":\"1A\",\n",
    "    \"2\":\"1B\",\n",
    "    \"9\":\"S\",\n",
    "    \"10\":\"S\",\n",
    "    \"1\":\"S\",\n",
    "}\n",
    "\n",
    "pat = \"PAT59460\""
   ]
  },
  {
   "cell_type": "code",
   "execution_count": null,
   "metadata": {},
   "outputs": [],
   "source": [
    "curate_cnv_ST(pat=pat, d=d, sample_key=sample_key, infercnv_dir=\"../step3/ST_out/infercnv/\", dataset_dir=\"../data/ST/\")"
   ]
  },
  {
   "cell_type": "markdown",
   "metadata": {},
   "source": [
    "---\n",
    "## PAT40364"
   ]
  },
  {
   "cell_type": "code",
   "execution_count": null,
   "metadata": {},
   "outputs": [],
   "source": [
    "# define dictionary to remap cnv_leiden\n",
    "d = {\n",
    "    \"B\":\"S\",\n",
    "    \"3\":\"E\",\n",
    "    \"5\":\"1\",\n",
    "    \"0\":\"S\",\n",
    "    \"6\":\"2\",\n",
    "}\n",
    "\n",
    "pat = \"PAT40364\""
   ]
  },
  {
   "cell_type": "code",
   "execution_count": null,
   "metadata": {},
   "outputs": [],
   "source": [
    "curate_cnv_ST(pat=pat, d=d, sample_key=sample_key, infercnv_dir=\"../step3/ST_out/infercnv/\", dataset_dir=\"../data/ST/\")"
   ]
  },
  {
   "cell_type": "markdown",
   "metadata": {},
   "source": [
    "---\n",
    "## PAT00222"
   ]
  },
  {
   "cell_type": "code",
   "execution_count": null,
   "metadata": {},
   "outputs": [],
   "source": [
    "# define dictionary to remap cnv_leiden\n",
    "d = {\n",
    "    \"B\":\"S\",\n",
    "    \"0\":\"S\",\n",
    "    \"2\":\"1A\",\n",
    "    \"4\":\"1B\",\n",
    "}\n",
    "\n",
    "pat = \"PAT00222\""
   ]
  },
  {
   "cell_type": "code",
   "execution_count": null,
   "metadata": {},
   "outputs": [],
   "source": [
    "curate_cnv_ST(pat=pat, d=d, sample_key=sample_key, infercnv_dir=\"../step3/ST_out/infercnv/\", dataset_dir=\"../data/ST/\")"
   ]
  },
  {
   "cell_type": "markdown",
   "metadata": {},
   "source": [
    "---\n",
    "## PAT01587"
   ]
  },
  {
   "cell_type": "code",
   "execution_count": null,
   "metadata": {},
   "outputs": [],
   "source": [
    "# define dictionary to remap cnv_leiden\n",
    "d = {\n",
    "    \"B\":\"S\",\n",
    "    \"0\":\"E\",\n",
    "    \"1\":\"1A\",\n",
    "    \"3\":\"1B\",\n",
    "}\n",
    "\n",
    "pat = \"PAT01587\""
   ]
  },
  {
   "cell_type": "code",
   "execution_count": null,
   "metadata": {},
   "outputs": [],
   "source": [
    "curate_cnv_ST(pat=pat, d=d, sample_key=sample_key, infercnv_dir=\"../step3/ST_out/infercnv/\", dataset_dir=\"../data/ST/\")"
   ]
  },
  {
   "cell_type": "markdown",
   "metadata": {},
   "source": [
    "---\n",
    "## PAT54273"
   ]
  },
  {
   "cell_type": "code",
   "execution_count": null,
   "metadata": {},
   "outputs": [],
   "source": [
    "# define dictionary to remap cnv_leiden\n",
    "d = {\n",
    "    \"B\":\"S\",\n",
    "    \"6\":\"S\",\n",
    "    \"9\":\"1\",\n",
    "    \"7\":\"2\",\n",
    "    \"2\":\"2\",\n",
    "    \"0\":\"E\",\n",
    "}\n",
    "\n",
    "pat = \"PAT54273\""
   ]
  },
  {
   "cell_type": "code",
   "execution_count": null,
   "metadata": {},
   "outputs": [],
   "source": [
    "curate_cnv_ST(pat=pat, d=d, sample_key=sample_key, infercnv_dir=\"../step3/ST_out/infercnv/\", dataset_dir=\"../data/ST/\")"
   ]
  },
  {
   "cell_type": "markdown",
   "metadata": {},
   "source": [
    "---\n",
    "## PAT33430"
   ]
  },
  {
   "cell_type": "code",
   "execution_count": null,
   "metadata": {},
   "outputs": [],
   "source": [
    "# define dictionary to remap cnv_leiden\n",
    "d = {\n",
    "    \"B\":\"S\",\n",
    "    \"3\":\"S\",\n",
    "    \"0\":\"E\",\n",
    "    \"1\":\"1A\",\n",
    "    \"7\":\"1B\",\n",
    "}\n",
    "\n",
    "pat = \"PAT33430\""
   ]
  },
  {
   "cell_type": "code",
   "execution_count": null,
   "metadata": {},
   "outputs": [],
   "source": [
    "curate_cnv_ST(pat=pat, d=d, sample_key=sample_key, infercnv_dir=\"../step3/ST_out/infercnv/\", dataset_dir=\"../data/ST/\")"
   ]
  },
  {
   "cell_type": "markdown",
   "metadata": {},
   "source": [
    "---\n",
    "## HTA11_07862"
   ]
  },
  {
   "cell_type": "code",
   "execution_count": null,
   "metadata": {},
   "outputs": [],
   "source": [
    "# define dictionary to remap cnv_leiden\n",
    "d = {\n",
    "    \"B\":\"S\",\n",
    "    \"1\":\"S\",\n",
    "    \"2\":\"S\",\n",
    "    \"3\":\"1A\",\n",
    "    \"4\":\"1B\",\n",
    "    \"6\":\"S\",\n",
    "    \"8\":\"S\",\n",
    "    \"10\":\"S\",\n",
    "}\n",
    "\n",
    "pat = \"HTA11_07862\""
   ]
  },
  {
   "cell_type": "code",
   "execution_count": null,
   "metadata": {},
   "outputs": [],
   "source": [
    "curate_cnv_ST(pat=pat, d=d, sample_key=sample_key, infercnv_dir=\"../step3/ST_out/infercnv/\", dataset_dir=\"../data/ST/\")"
   ]
  },
  {
   "cell_type": "markdown",
   "metadata": {},
   "source": [
    "---\n",
    "## HTA11_10711"
   ]
  },
  {
   "cell_type": "code",
   "execution_count": null,
   "metadata": {},
   "outputs": [],
   "source": [
    "# define dictionary to remap cnv_leiden\n",
    "d = {\n",
    "    \"B\":\"S\",\n",
    "    \"1\":\"S\",\n",
    "    \"2\":\"1\",\n",
    "    \"3\":\"E\",\n",
    "    \"5\":\"S\",\n",
    "    \"9\":\"S\",\n",
    "}\n",
    "\n",
    "pat = \"HTA11_10711\""
   ]
  },
  {
   "cell_type": "code",
   "execution_count": null,
   "metadata": {},
   "outputs": [],
   "source": [
    "curate_cnv_ST(pat=pat, d=d, sample_key=sample_key, infercnv_dir=\"../step3/ST_out/infercnv/\", dataset_dir=\"../data/ST/\")"
   ]
  },
  {
   "cell_type": "markdown",
   "metadata": {},
   "source": [
    "---\n",
    "## HTA11_07663"
   ]
  },
  {
   "cell_type": "code",
   "execution_count": null,
   "metadata": {},
   "outputs": [],
   "source": [
    "# define dictionary to remap cnv_leiden\n",
    "d = {\n",
    "    \"B\":\"S\",\n",
    "    \"1\":\"E\",\n",
    "    \"2\":\"1A\",\n",
    "    \"3\":\"1B\",\n",
    "    \"4\":\"E\",\n",
    "    \"5\":\"S\",\n",
    "    \"6\":\"S\",\n",
    "    \"11\":\"S\",\n",
    "}\n",
    "\n",
    "pat = \"HTA11_07663\""
   ]
  },
  {
   "cell_type": "code",
   "execution_count": null,
   "metadata": {},
   "outputs": [],
   "source": [
    "curate_cnv_ST(pat=pat, d=d, sample_key=sample_key, infercnv_dir=\"../step3/ST_out/infercnv/\", dataset_dir=\"../data/ST/\")"
   ]
  },
  {
   "cell_type": "markdown",
   "metadata": {},
   "source": [
    "---\n",
    "## HTA11_07862"
   ]
  },
  {
   "cell_type": "code",
   "execution_count": null,
   "metadata": {},
   "outputs": [],
   "source": [
    "# define dictionary to remap cnv_leiden\n",
    "d = {\n",
    "    \"B\":\"S\",\n",
    "    \"0\":\"E\",\n",
    "    \"1\":\"S\",\n",
    "    \"2\":\"S\",\n",
    "    \"5\":\"1\",\n",
    "    \"6\":\"E\",\n",
    "    \"7\":\"E\",\n",
    "}\n",
    "\n",
    "pat = \"HTA11_08622\""
   ]
  },
  {
   "cell_type": "code",
   "execution_count": null,
   "metadata": {},
   "outputs": [],
   "source": [
    "curate_cnv_ST(pat=pat, d=d, sample_key=sample_key, infercnv_dir=\"../step3/ST_out/infercnv/\", dataset_dir=\"../data/ST/\")"
   ]
  },
  {
   "cell_type": "markdown",
   "metadata": {},
   "source": [
    "---\n",
    "## HTA11_06134"
   ]
  },
  {
   "cell_type": "code",
   "execution_count": null,
   "metadata": {},
   "outputs": [],
   "source": [
    "# define dictionary to remap cnv_leiden\n",
    "d = {\n",
    "    \"B\":\"S\",\n",
    "    \"0\":\"S\",\n",
    "    \"3\":\"1\",\n",
    "}\n",
    "\n",
    "pat = \"HTA11_06134\""
   ]
  },
  {
   "cell_type": "code",
   "execution_count": null,
   "metadata": {},
   "outputs": [],
   "source": [
    "curate_cnv_ST(pat=pat, d=d, sample_key=sample_key, infercnv_dir=\"../step3/ST_out/infercnv/\", dataset_dir=\"../data/ST/\")"
   ]
  },
  {
   "cell_type": "markdown",
   "metadata": {},
   "source": [
    "---\n",
    "# Combined\n",
    "### SR00001 (NL)\n",
    "### PAT06439 (MSS)\n",
    "### PAT15211 (MSS)\n",
    "### PAT01586 (MSI-H)\n",
    "### HTA11_01938 (TVA)"
   ]
  },
  {
   "cell_type": "code",
   "execution_count": null,
   "metadata": {},
   "outputs": [],
   "source": [
    "# define dictionary to remap cnv_leiden\n",
    "d = {\n",
    "    \"B\":\"S\",\n",
    "    \"2\":\"S\",\n",
    "    \"3\":\"S\",\n",
    "    \"4\":\"1\",\n",
    "    \"6\":\"2\",\n",
    "    \"8\":\"S\",\n",
    "}\n",
    "\n",
    "pat = \"SR00001\""
   ]
  },
  {
   "cell_type": "code",
   "execution_count": null,
   "metadata": {},
   "outputs": [],
   "source": [
    "curate_cnv_ST(pat=pat, d=d, sample_key=sample_key, CNV_group=\"patient_name\", infercnv_dir=\"../step3/ST_out/infercnv/\", dataset_dir=\"../data/ST/\")"
   ]
  },
  {
   "cell_type": "code",
   "execution_count": null,
   "metadata": {},
   "outputs": [],
   "source": [
    "# define dictionary to remap cnv_leiden\n",
    "d = {\n",
    "    \"B\":\"S\",\n",
    "    \"2\":\"S\",\n",
    "    \"3\":\"S\",\n",
    "    \"4\":\"S\",\n",
    "    \"6\":\"S\",\n",
    "    \"8\":\"2\",\n",
    "    \"9\":\"1\",\n",
    "}\n",
    "\n",
    "pat = \"PAT06439\""
   ]
  },
  {
   "cell_type": "code",
   "execution_count": null,
   "metadata": {},
   "outputs": [],
   "source": [
    "curate_cnv_ST(pat=pat, d=d, sample_key=sample_key, CNV_group=\"patient_name\", infercnv_dir=\"../step3/ST_out/infercnv/\", dataset_dir=\"../data/ST/\")"
   ]
  },
  {
   "cell_type": "code",
   "execution_count": null,
   "metadata": {},
   "outputs": [],
   "source": [
    "# define dictionary to remap cnv_leiden\n",
    "d = {\n",
    "    \"B\":\"S\",\n",
    "    \"2\":\"E\",\n",
    "    \"3\":\"S\",\n",
    "    \"4\":\"S\",\n",
    "    \"6\":\"S\",\n",
    "    \"8\":\"1\",\n",
    "}\n",
    "\n",
    "pat = \"PAT15211\""
   ]
  },
  {
   "cell_type": "code",
   "execution_count": null,
   "metadata": {},
   "outputs": [],
   "source": [
    "curate_cnv_ST(pat=pat, d=d, sample_key=sample_key, CNV_group=\"patient_name\", infercnv_dir=\"../step3/ST_out/infercnv/\", dataset_dir=\"../data/ST/\")"
   ]
  },
  {
   "cell_type": "code",
   "execution_count": null,
   "metadata": {},
   "outputs": [],
   "source": [
    "# define dictionary to remap cnv_leiden\n",
    "d = {\n",
    "    \"B\":\"S\",\n",
    "    \"2\":\"S\",\n",
    "    \"3\":\"1\",\n",
    "    \"4\":\"S\",\n",
    "    \"6\":\"S\",\n",
    "    \"8\":\"1\",\n",
    "}\n",
    "\n",
    "pat = \"PAT01586\""
   ]
  },
  {
   "cell_type": "code",
   "execution_count": null,
   "metadata": {},
   "outputs": [],
   "source": [
    "curate_cnv_ST(pat=pat, d=d, sample_key=sample_key, CNV_group=\"patient_name\", infercnv_dir=\"../step3/ST_out/infercnv/\", dataset_dir=\"../data/ST/\")"
   ]
  },
  {
   "cell_type": "code",
   "execution_count": null,
   "metadata": {},
   "outputs": [],
   "source": [
    "# define dictionary to remap cnv_leiden\n",
    "d = {\n",
    "    \"B\":\"S\",\n",
    "    \"2\":\"S\",\n",
    "    \"3\":\"S\",\n",
    "    \"4\":\"S\",\n",
    "    \"5\":\"1\",\n",
    "    \"6\":\"S\",\n",
    "    \"8\":\"S\",\n",
    "}\n",
    "\n",
    "pat = \"HTA11_01938\""
   ]
  },
  {
   "cell_type": "code",
   "execution_count": null,
   "metadata": {},
   "outputs": [],
   "source": [
    "curate_cnv_ST(pat=pat, d=d, sample_key=sample_key, CNV_group=\"patient_name\", infercnv_dir=\"../step3/ST_out/infercnv/\", dataset_dir=\"../data/ST/\")"
   ]
  },
  {
   "cell_type": "markdown",
   "metadata": {},
   "source": [
    "---\n",
    "## S18_12464_1H"
   ]
  },
  {
   "cell_type": "code",
   "execution_count": null,
   "metadata": {},
   "outputs": [],
   "source": [
    "# define dictionary to remap cnv_leiden\n",
    "d = {\n",
    "    \"B\":\"S\",\n",
    "    \"4\":\"S\",\n",
    "    \"5\":\"S\",\n",
    "    \"6\":\"S\",\n",
    "    \"3\":\"E\",\n",
    "    \"2\":\"1\",\n",
    "    \"1\":\"2\",\n",
    "}\n",
    "\n",
    "pat = \"S18_12464_1H\""
   ]
  },
  {
   "cell_type": "code",
   "execution_count": null,
   "metadata": {},
   "outputs": [],
   "source": [
    "curate_cnv_ST(pat=pat, d=d, sample_key=sample_key, infercnv_dir=\"../step3/ST_out/infercnv/\", dataset_dir=\"../data/ST/\")"
   ]
  },
  {
   "cell_type": "markdown",
   "metadata": {},
   "source": [
    "---\n",
    "## S21_34686_1N"
   ]
  },
  {
   "cell_type": "code",
   "execution_count": null,
   "metadata": {},
   "outputs": [],
   "source": [
    "# define dictionary to remap cnv_leiden\n",
    "d = {\n",
    "    \"B\":\"S\",\n",
    "    \"2\":\"1\",\n",
    "    \"1\":\"2\",\n",
    "}\n",
    "\n",
    "pat = \"S21_34686_1N\""
   ]
  },
  {
   "cell_type": "code",
   "execution_count": null,
   "metadata": {},
   "outputs": [],
   "source": [
    "curate_cnv_ST(pat=pat, d=d, sample_key=sample_key, infercnv_dir=\"../step3/ST_out/infercnv/\", dataset_dir=\"../data/ST/\")"
   ]
  },
  {
   "cell_type": "markdown",
   "metadata": {},
   "source": [
    "---\n",
    "## S19_19913_1J"
   ]
  },
  {
   "cell_type": "code",
   "execution_count": null,
   "metadata": {},
   "outputs": [],
   "source": [
    "# define dictionary to remap cnv_leiden\n",
    "d = {\n",
    "    \"B\":\"S\",\n",
    "    \"5\":\"3\",\n",
    "    \"10\":\"3\",\n",
    "    \"4\":\"E\",\n",
    "    \"6\":\"E\",\n",
    "    \"1\":\"1\",\n",
    "    \"7\":\"2\",\n",
    "    \"11\":\"1\",\n",
    "    \"8\":\"S\",\n",
    "}\n",
    "\n",
    "pat = \"S19_19913_1J\""
   ]
  },
  {
   "cell_type": "code",
   "execution_count": null,
   "metadata": {},
   "outputs": [],
   "source": [
    "curate_cnv_ST(pat=pat, d=d, sample_key=sample_key, infercnv_dir=\"../step3/ST_out/infercnv/\", dataset_dir=\"../data/ST/\")"
   ]
  },
  {
   "cell_type": "markdown",
   "metadata": {},
   "source": [
    "---\n",
    "## S20_39567_1H"
   ]
  },
  {
   "cell_type": "code",
   "execution_count": null,
   "metadata": {},
   "outputs": [],
   "source": [
    "# define dictionary to remap cnv_leiden\n",
    "d = {\n",
    "    \"B\":\"S\",\n",
    "    \"1\":\"S\",\n",
    "    \"3\":\"S\",\n",
    "    \"0\":\"E\",\n",
    "    \"2\":\"1\",\n",
    "    \"5\":\"1\",\n",
    "}\n",
    "\n",
    "pat = \"S20_39567_1H\""
   ]
  },
  {
   "cell_type": "code",
   "execution_count": null,
   "metadata": {},
   "outputs": [],
   "source": [
    "curate_cnv_ST(pat=pat, d=d, sample_key=sample_key, infercnv_dir=\"../step3/ST_out/infercnv/\", dataset_dir=\"../data/ST/\")"
   ]
  }
 ],
 "metadata": {
  "kernelspec": {
   "display_name": "scanpy",
   "language": "python",
   "name": "scanpy"
  },
  "language_info": {
   "codemirror_mode": {
    "name": "ipython",
    "version": 3
   },
   "file_extension": ".py",
   "mimetype": "text/x-python",
   "name": "python",
   "nbconvert_exporter": "python",
   "pygments_lexer": "ipython3",
   "version": "3.8.10"
  }
 },
 "nbformat": 4,
 "nbformat_minor": 4
}
