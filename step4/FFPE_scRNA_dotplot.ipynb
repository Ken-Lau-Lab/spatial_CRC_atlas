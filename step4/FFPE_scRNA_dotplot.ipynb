{
 "cells": [
  {
   "cell_type": "markdown",
   "metadata": {},
   "source": [
    "# Signatures by sample heatmap/dot plot\n",
    "- make dotplot forFigure S1\n",
    "- signatures are from the paper table S2, grouped to 3"
   ]
  },
  {
   "cell_type": "code",
   "execution_count": null,
   "metadata": {},
   "outputs": [],
   "source": [
    "import scanpy as sc\n",
    "import numpy as np\n",
    "import pandas as pd\n",
    "from matplotlib import pyplot as plt\n",
    "from scipy import stats\n",
    "import seaborn as sn"
   ]
  },
  {
   "cell_type": "code",
   "execution_count": null,
   "metadata": {},
   "outputs": [],
   "source": [
    "import sys; sys.path.append(\"../resources/\")\n",
    "import dotplot_utils as cody_dot # copied from cody's resources/dotplot_utils.py into my directory"
   ]
  },
  {
   "cell_type": "code",
   "execution_count": null,
   "metadata": {},
   "outputs": [],
   "source": [
    "import anndata as ad\n",
    "sys.path.append(\"../resources/scRNA/\")\n",
    "import zc_function as zc"
   ]
  },
  {
   "cell_type": "code",
   "execution_count": null,
   "metadata": {},
   "outputs": [],
   "source": [
    "# make output directory\n",
    "import os\n",
    "if not os.path.exists(\"scRNA_out\"):\n",
    "    os.mkdir(\"scRNA_out\")\n",
    "\n",
    "if not os.path.exists(\"scRNA_out/FFPE_scRNA/\"):\n",
    "    os.mkdir(\"scRNA_out/FFPE_scRNA/\")"
   ]
  },
  {
   "cell_type": "markdown",
   "metadata": {},
   "source": [
    "## load data and signature"
   ]
  },
  {
   "cell_type": "code",
   "execution_count": null,
   "metadata": {},
   "outputs": [],
   "source": [
    "dat_path = '/home/lucy/Dropbox (VU Basic Sciences)/immune_exclusion/h5ad_files/'\n",
    "dat = sc.read( dat_path + \"outer_combined_all4_dat.h5ad\")"
   ]
  },
  {
   "cell_type": "code",
   "execution_count": null,
   "metadata": {},
   "outputs": [],
   "source": [
    "dat.obs.SampleId.unique()"
   ]
  },
  {
   "cell_type": "code",
   "execution_count": null,
   "metadata": {
    "tags": []
   },
   "outputs": [],
   "source": [
    "sigs = pd.read_csv(\"./tableS2.csv\", header = 0, index_col = None) # suppl. table 2 from the paper\n",
    "sigs.head()"
   ]
  },
  {
   "cell_type": "code",
   "execution_count": null,
   "metadata": {},
   "outputs": [],
   "source": [
    "test_group = ['Cytotoxicity', 'Exhaustion']"
   ]
  },
  {
   "cell_type": "code",
   "execution_count": null,
   "metadata": {},
   "outputs": [],
   "source": [
    "#sigs.iloc[:, 8:15 ].head()"
   ]
  },
  {
   "cell_type": "code",
   "execution_count": null,
   "metadata": {},
   "outputs": [],
   "source": []
  },
  {
   "cell_type": "markdown",
   "metadata": {
    "tags": []
   },
   "source": [
    "## define dictionaries for plotting"
   ]
  },
  {
   "cell_type": "code",
   "execution_count": null,
   "metadata": {},
   "outputs": [],
   "source": [
    "# copied from Cody's step3/scRNA_summaries.ipynb\n",
    "\n",
    "cmap_dict = {\n",
    "    # Tumor Type\n",
    "    'SSL/HP':\"#c4a4e1\",'MSI-H':\"#7a4fa3\",'MSS':\"#ffc101\",'TA/TVA':\"#fee799\",'NL':\"#1f77b4\",\n",
    "    # Tumor Location\n",
    "    \"Cecum\":\"#62a32e\",\"Ascending\":\"#b0dc7d\",\"Hepatic Flexure\":\"#ebf6db\",\"Transverse\":\"#fbe6f1\",\"Descending\":\"#eeadd4\",\"Sigmoid\":\"#cf4191\",\n",
    "    # this one's global\n",
    "    \"nan\":\"#ffffff\",\n",
    "    # These are black and white for T and F\n",
    "    \"T\":\"#000000\",\"F\":\"#ffffff\",\n",
    "}"
   ]
  },
  {
   "cell_type": "code",
   "execution_count": null,
   "metadata": {},
   "outputs": [],
   "source": [
    "patient_id_ls = list(dat.obs.SampleId.unique()) \n",
    "print( list(dat.obs.SampleId.unique()) )"
   ]
  },
  {
   "cell_type": "code",
   "execution_count": null,
   "metadata": {},
   "outputs": [],
   "source": [
    "tumor_type_dict = {'9142_s2':'MSS', '9142_s1':'MSI-H', \n",
    "                   '10096_s1':'MSI-H', '10096_s2':'MSS', '10096_s3':'MSS', '10096_s4':'MSI-H', \n",
    "                   '10180_01_s1': 'MSI-H', '10180_01_s2':'MSI-H', '10180_01_s3':'MSI-H', '10180_01_s4':'MSS', \n",
    "                   '10180_02_s1':'MSS', '10180_02_s2':'TA/TVA', '10180_02_s3':'MSS', '10180_02_s4':'MSS', \n",
    "                   '10284_s1':'MSI-H', '10284_s2':'MSS', '10284_s3':'MSS', '10284_s4':'MSI-H'}"
   ]
  },
  {
   "cell_type": "code",
   "execution_count": null,
   "metadata": {},
   "outputs": [],
   "source": [
    "# mapping sample ID to tumor type cmap\n",
    "patient_color_dict = dict(zip( patient_id_ls , [cmap_dict[tumor_type_dict[s] ] for s in patient_id_ls]) )"
   ]
  },
  {
   "cell_type": "markdown",
   "metadata": {
    "jp-MarkdownHeadingCollapsed": true,
    "tags": []
   },
   "source": [
    "## test dotplot with 2 signatures\n",
    "- pass test"
   ]
  },
  {
   "cell_type": "code",
   "execution_count": null,
   "metadata": {},
   "outputs": [],
   "source": [
    "#dat.X.sum(axis = 1) #check if raw data"
   ]
  },
  {
   "cell_type": "code",
   "execution_count": null,
   "metadata": {},
   "outputs": [],
   "source": [
    "dat.raw = dat.copy()"
   ]
  },
  {
   "cell_type": "code",
   "execution_count": null,
   "metadata": {
    "tags": []
   },
   "outputs": [],
   "source": [
    "zc.normalization(dat)"
   ]
  },
  {
   "cell_type": "code",
   "execution_count": null,
   "metadata": {
    "tags": []
   },
   "outputs": [],
   "source": [
    "for i in range(len( test_group)): # score a subset of the signatures\n",
    "    gl = sigs[test_group[i]].dropna()\n",
    "    sc.tl.score_genes(dat, gene_list=gl, score_name= test_group[i], use_raw = False)"
   ]
  },
  {
   "cell_type": "code",
   "execution_count": null,
   "metadata": {
    "tags": []
   },
   "outputs": [],
   "source": [
    "dat"
   ]
  },
  {
   "cell_type": "code",
   "execution_count": null,
   "metadata": {},
   "outputs": [],
   "source": [
    "#sc.pl.umap(dat, color = 'Cytotoxicity')"
   ]
  },
  {
   "cell_type": "code",
   "execution_count": null,
   "metadata": {
    "tags": []
   },
   "outputs": [],
   "source": [
    "patient_color_dict"
   ]
  },
  {
   "cell_type": "code",
   "execution_count": null,
   "metadata": {},
   "outputs": [],
   "source": [
    "tumor_type = [tumor_type_dict[s] for s in dat.obs.SampleId]"
   ]
  },
  {
   "cell_type": "code",
   "execution_count": null,
   "metadata": {},
   "outputs": [],
   "source": [
    "dat.obs[\"Tumor_Type\"] = tumor_type"
   ]
  },
  {
   "cell_type": "code",
   "execution_count": null,
   "metadata": {},
   "outputs": [],
   "source": [
    "cody_dot.cody_heatmap(\n",
    "        dat,\n",
    "        groupby='SampleId',\n",
    "        features=test_group,\n",
    "        cluster_vars=False,\n",
    "        vars_dict=None,\n",
    "        groupby_order=None,\n",
    "        groupby_colordict=patient_color_dict,\n",
    "        \n",
    "        \n",
    "        save=None,\n",
    "        dpi=400,\n",
    "        cmap=\"Greys\",\n",
    "        size_title=\"Fraction of spots\\nin group (%)\",\n",
    "    )\n",
    "#save=\"ST_out/plots_overview/{}_archetypes_dotplot.png\".format(group_name)\n",
    "#figsize=(width, archetypes_height)\n",
    "#cluster_obs=True if groupby_order is None else False"
   ]
  },
  {
   "cell_type": "markdown",
   "metadata": {
    "tags": []
   },
   "source": [
    "## score all signatures"
   ]
  },
  {
   "cell_type": "code",
   "execution_count": null,
   "metadata": {},
   "outputs": [],
   "source": [
    "dat.raw= dat.copy()"
   ]
  },
  {
   "cell_type": "code",
   "execution_count": null,
   "metadata": {
    "tags": []
   },
   "outputs": [],
   "source": [
    "zc.normalization(dat)"
   ]
  },
  {
   "cell_type": "code",
   "execution_count": null,
   "metadata": {
    "tags": []
   },
   "outputs": [],
   "source": [
    "sigs.columns"
   ]
  },
  {
   "cell_type": "markdown",
   "metadata": {},
   "source": [
    "separate signatures into 3 groups : g1, g2, g3"
   ]
  },
  {
   "cell_type": "code",
   "execution_count": null,
   "metadata": {},
   "outputs": [],
   "source": [
    "g1 = ['Cytotoxicity', 'Exhaustion', 'Cytokines', 'Chemokines', 'MHC', 'Fetal',\n",
    "       'Stem', 'Metaplasia', 'Bacterial response', 'iCMS2_Up', \n",
    "       'iCMS3_Up', 'Proliferation', 'Translation']"
   ]
  },
  {
   "cell_type": "code",
   "execution_count": null,
   "metadata": {},
   "outputs": [],
   "source": [
    "len(g1)"
   ]
  },
  {
   "cell_type": "code",
   "execution_count": null,
   "metadata": {},
   "outputs": [],
   "source": [
    "g2 = [ 'T cell exhaustion', 'B cell', 'NK cell', 'Plasma cell',\n",
    "       'T reg resting', 'T reg suppressive', 'T reg tissue homing',\n",
    "       'T reg cytokines', 'T reg activation', 'TH1', 'TH2', 'TH17', 'TRM',\n",
    "       'M1', 'M2', 'Costimulatory MYE', 'Stimulatory DCs',\n",
    "       'IFN stimulated MYE', 'EMT', 'Senescence', 'SASP', 'IFN stimulated EPI',\n",
    "       'Stress response', 'Fibrosis', 'T cell', 'Myeloid', 'Stroma', 'T reg',\n",
    "       'T cell CD4', 'T cell CD8', 'cDC2', 'cDC1', 'Macrophage','Classical monocytes']"
   ]
  },
  {
   "cell_type": "code",
   "execution_count": null,
   "metadata": {},
   "outputs": [],
   "source": [
    "len(g2)"
   ]
  },
  {
   "cell_type": "code",
   "execution_count": null,
   "metadata": {},
   "outputs": [],
   "source": [
    "g3 = ['Cycle', 'Stress', 'Interferon', 'Hypoxia',\n",
    "       'Metal', 'Mesenchymal', 'pEMT', 'Alveolar', 'Basal', 'Squamous',\n",
    "       'Glandular', 'Ciliated', 'AC', 'OPC', 'NPC'] "
   ]
  },
  {
   "cell_type": "code",
   "execution_count": null,
   "metadata": {},
   "outputs": [],
   "source": [
    "len(g3)"
   ]
  },
  {
   "cell_type": "code",
   "execution_count": null,
   "metadata": {},
   "outputs": [],
   "source": [
    "fond_dict = dict() # dictionary of signatures names as keys and genes found in the dataset's gene space as values"
   ]
  },
  {
   "cell_type": "code",
   "execution_count": null,
   "metadata": {
    "tags": []
   },
   "outputs": [],
   "source": [
    "\n",
    "for i in range(len(g1)):\n",
    "    c = g1[i] # column name\n",
    "    gl = sigs[c].dropna() #gene list\n",
    "    gl2 = gl[np.isin(gl, dat.var_names)] # make sure all genes are in the dataset's gene space\n",
    "    \n",
    "    print(f\"scoring {c}\")\n",
    "    print(f\"{len(gl2)}/{len(gl)} genes scored for this signature\")\n",
    "    fond_dict[c] = gl2 # save the genes in the dound dictionary\n",
    "    \n",
    "    sc.tl.score_genes(dat, gene_list=gl2, score_name=c, use_raw=False) \n",
    "    "
   ]
  },
  {
   "cell_type": "markdown",
   "metadata": {},
   "source": [
    "group 2 signatures"
   ]
  },
  {
   "cell_type": "code",
   "execution_count": null,
   "metadata": {
    "tags": []
   },
   "outputs": [],
   "source": [
    "for i in range(15):\n",
    "    c = g2[i] # column name\n",
    "    gl = sigs[c].dropna() #gene list\n",
    "    gl2 = gl[np.isin(gl, dat.var_names)]\n",
    "    \n",
    "    print(f\"scoring {c}\")\n",
    "    print(f\"{len(gl2)}/{len(gl)} genes scored for this signature\")\n",
    "    fond_dict[c] = gl2\n",
    "    \n",
    "    sc.tl.score_genes(dat, gene_list=gl2, score_name=c, use_raw=False) "
   ]
  },
  {
   "cell_type": "code",
   "execution_count": null,
   "metadata": {
    "tags": []
   },
   "outputs": [],
   "source": [
    "dat"
   ]
  },
  {
   "cell_type": "code",
   "execution_count": null,
   "metadata": {
    "tags": []
   },
   "outputs": [],
   "source": [
    "for i in range(15, len(g2)):\n",
    "    c = g2[i] # column name\n",
    "    gl = sigs[c].dropna() #gene list\n",
    "    gl2 = gl[np.isin(gl, dat.var_names)]\n",
    "    \n",
    "    print(f\"({i}) scoring {c}\")\n",
    "    print(f\"{len(gl2)}/{len(gl)} genes scored for this signature\")\n",
    "    fond_dict[c] = gl2\n",
    "    \n",
    "    sc.tl.score_genes(dat, gene_list=gl2, score_name=c, use_raw=False) "
   ]
  },
  {
   "cell_type": "code",
   "execution_count": null,
   "metadata": {
    "tags": []
   },
   "outputs": [],
   "source": [
    "for i in range(len(g3)):\n",
    "    c = g3[i] # column name\n",
    "    gl = sigs[c].dropna() #gene list\n",
    "    gl2 = gl[np.isin(gl, dat.var_names)]\n",
    "    \n",
    "    print(f\"({i}) scoring {c}\")\n",
    "    print(f\"{len(gl2)}/{len(gl)} genes scored for this signature\")\n",
    "    fond_dict[c] = gl2\n",
    "    \n",
    "    sc.tl.score_genes(dat, gene_list=gl2, score_name=c, use_raw=False) "
   ]
  },
  {
   "cell_type": "markdown",
   "metadata": {
    "tags": []
   },
   "source": [
    "## encode sample ID with patient ID names and combine replicates of each sample"
   ]
  },
  {
   "cell_type": "code",
   "execution_count": null,
   "metadata": {},
   "outputs": [],
   "source": [
    "FFPE_tabel = pd.read_excel(\"./FFPE_metatable.xlsx\", sheet_name='Sheet1', engine='openpyxl' , header = 0)"
   ]
  },
  {
   "cell_type": "code",
   "execution_count": null,
   "metadata": {
    "tags": []
   },
   "outputs": [],
   "source": [
    "FFPE_tabel"
   ]
  },
  {
   "cell_type": "code",
   "execution_count": null,
   "metadata": {},
   "outputs": [],
   "source": [
    "#find replicate samples"
   ]
  },
  {
   "cell_type": "code",
   "execution_count": null,
   "metadata": {
    "tags": []
   },
   "outputs": [],
   "source": [
    "FFPE_tabel[FFPE_tabel.duplicated(['Block ID'])]"
   ]
  },
  {
   "cell_type": "code",
   "execution_count": null,
   "metadata": {},
   "outputs": [],
   "source": [
    "FFPE_tabel[FFPE_tabel.duplicated(['Patient_label'])]"
   ]
  },
  {
   "cell_type": "markdown",
   "metadata": {},
   "source": [
    "there are only two patient ID has duplicates, so find the duplicates' block ID and create a new patient ID col with suffix for different blocks"
   ]
  },
  {
   "cell_type": "code",
   "execution_count": null,
   "metadata": {},
   "outputs": [],
   "source": [
    "new_patID = FFPE_tabel['Patient_label'].copy()\n",
    "new_patID.head()"
   ]
  },
  {
   "cell_type": "code",
   "execution_count": null,
   "metadata": {},
   "outputs": [],
   "source": [
    "FFPE_tabel[FFPE_tabel['Patient_label'] == 'PAT71397'] # they are from different blocks and should map to different plot IDs "
   ]
  },
  {
   "cell_type": "code",
   "execution_count": null,
   "metadata": {},
   "outputs": [],
   "source": [
    "new_patID[9] = 'PAT71397_1'\n",
    "new_patID[10] = 'PAT71397_2'"
   ]
  },
  {
   "cell_type": "code",
   "execution_count": null,
   "metadata": {},
   "outputs": [],
   "source": [
    "FFPE_tabel[FFPE_tabel['Patient_label'] == 'SG00001'] # they are replicates, should not change"
   ]
  },
  {
   "cell_type": "code",
   "execution_count": null,
   "metadata": {},
   "outputs": [],
   "source": [
    "FFPE_tabel['plot_id'] = new_patID"
   ]
  },
  {
   "cell_type": "markdown",
   "metadata": {
    "tags": []
   },
   "source": [
    "## make dot plot"
   ]
  },
  {
   "cell_type": "code",
   "execution_count": null,
   "metadata": {},
   "outputs": [],
   "source": [
    "tumor_type = [tumor_type_dict[s] for s in dat.obs.SampleId]"
   ]
  },
  {
   "cell_type": "code",
   "execution_count": null,
   "metadata": {},
   "outputs": [],
   "source": [
    "dat.obs[\"Tumor_Type\"] = tumor_type"
   ]
  },
  {
   "cell_type": "markdown",
   "metadata": {},
   "source": [
    "### map patient ID to tumor type colors"
   ]
  },
  {
   "cell_type": "code",
   "execution_count": null,
   "metadata": {
    "tags": []
   },
   "outputs": [],
   "source": [
    "FFPE_tabel2 = FFPE_tabel[['plot_id', 'MSS status'] ] #a FFPE meta table with only unique plot_ids \n",
    "FFPE_tabel2.drop_duplicates()"
   ]
  },
  {
   "cell_type": "markdown",
   "metadata": {},
   "source": [
    "make a cmap to map plot ID to MSS status color"
   ]
  },
  {
   "cell_type": "code",
   "execution_count": null,
   "metadata": {},
   "outputs": [],
   "source": [
    "patient_color_dict2 = dict(zip( list(FFPE_tabel2['plot_id']) , [ cmap_dict[i ] for i in list( FFPE_tabel2['MSS status'] ) ] ) )"
   ]
  },
  {
   "cell_type": "code",
   "execution_count": null,
   "metadata": {
    "tags": []
   },
   "outputs": [],
   "source": [
    "patient_color_dict2"
   ]
  },
  {
   "cell_type": "markdown",
   "metadata": {},
   "source": [
    "add plot id column to dat.obs"
   ]
  },
  {
   "cell_type": "code",
   "execution_count": null,
   "metadata": {},
   "outputs": [],
   "source": [
    "sample_plot_id_dict = dict(zip(list(FFPE_tabel[\"SampleId\"]), list(FFPE_tabel[\"plot_id\"]) ))"
   ]
  },
  {
   "cell_type": "code",
   "execution_count": null,
   "metadata": {},
   "outputs": [],
   "source": [
    "dat_plotId =[sample_plot_id_dict[s] for s in dat.obs.SampleId]"
   ]
  },
  {
   "cell_type": "code",
   "execution_count": null,
   "metadata": {},
   "outputs": [],
   "source": [
    "dat.obs['plot_id'] = dat_plotId"
   ]
  },
  {
   "cell_type": "markdown",
   "metadata": {},
   "source": [
    "sort plot id to match Cody's orders"
   ]
  },
  {
   "cell_type": "code",
   "execution_count": null,
   "metadata": {},
   "outputs": [],
   "source": [
    "FFPE_tabel.sort_values(by=['MSS status', 'plot_id'], inplace=True)"
   ]
  },
  {
   "cell_type": "code",
   "execution_count": null,
   "metadata": {
    "tags": []
   },
   "outputs": [],
   "source": [
    "FFPE_tabel[['plot_id','MSS status'] ]"
   ]
  },
  {
   "cell_type": "code",
   "execution_count": null,
   "metadata": {
    "tags": []
   },
   "outputs": [],
   "source": [
    "print(list( FFPE_tabel['plot_id']) )"
   ]
  },
  {
   "cell_type": "code",
   "execution_count": null,
   "metadata": {},
   "outputs": [],
   "source": [
    "ordered_plot_id = ['PAT71397_1', 'PAT30884', 'PAT59600', 'PAT59667', 'PAT71397_2', 'PAT71662', 'PAT73899', 'PAT74143', 'SG00003', 'SG00004',\n",
    "                   'PAT00222', 'PAT33430', 'PAT54273', 'PAT59460', 'PAT73458', 'SG00001', 'SG00001', 'SG00002']"
   ]
  },
  {
   "cell_type": "markdown",
   "metadata": {},
   "source": [
    "### plot"
   ]
  },
  {
   "cell_type": "code",
   "execution_count": null,
   "metadata": {
    "tags": []
   },
   "outputs": [],
   "source": [
    "cody_dot.cody_heatmap(\n",
    "        dat,\n",
    "        groupby='plot_id',\n",
    "        features=g1,\n",
    "        cluster_vars=False,\n",
    "        vars_dict=None,\n",
    "        groupby_order=ordered_plot_id,\n",
    "        groupby_colordict=patient_color_dict2,\n",
    "        \n",
    "        figsize = [8,5],\n",
    "        save=None,\n",
    "        dpi=400,\n",
    "        cmap=\"Greys\",\n",
    "        size_title=\"Fraction of spots\\nin group (%)\",\n",
    "    )\n",
    "#save=\"ST_out/plots_overview/{}_archetypes_dotplot.png\".format(group_name)\n",
    "#figsize=(width, archetypes_height)\n",
    "#cluster_obs=True if groupby_order is None else False"
   ]
  },
  {
   "cell_type": "code",
   "execution_count": null,
   "metadata": {
    "tags": []
   },
   "outputs": [],
   "source": [
    "cody_dot.cody_heatmap(\n",
    "        dat,\n",
    "        groupby='plot_id',\n",
    "        features=g2,\n",
    "        cluster_vars=False,\n",
    "        vars_dict=None,\n",
    "        groupby_order=ordered_plot_id,\n",
    "        groupby_colordict=patient_color_dict2,\n",
    "        \n",
    "        figsize = [8,15],\n",
    "        save=None,\n",
    "        dpi=400,\n",
    "        cmap=\"Greys\",\n",
    "        size_title=\"Fraction of spots\\nin group (%)\",\n",
    "    )"
   ]
  },
  {
   "cell_type": "code",
   "execution_count": null,
   "metadata": {},
   "outputs": [],
   "source": [
    "cody_dot.cody_heatmap(\n",
    "        dat,\n",
    "        groupby='plot_id',\n",
    "        features=g3,\n",
    "        cluster_vars=False,\n",
    "        vars_dict=None,\n",
    "        groupby_order=ordered_plot_id,\n",
    "        groupby_colordict=patient_color_dict2,\n",
    "        \n",
    "        figsize = [8,5],\n",
    "        save=None,\n",
    "        dpi=400,\n",
    "        cmap=\"Greys\",\n",
    "        size_title=\"Fraction of spots\\nin group (%)\",\n",
    "    )"
   ]
  },
  {
   "cell_type": "code",
   "execution_count": null,
   "metadata": {},
   "outputs": [],
   "source": [
    "sig_and_id = ['Cytotoxicity', 'Exhaustion', 'Cytokines', 'Chemokines', 'MHC', 'Fetal', 'Stem', 'Metaplasia', 'Bacterial response', 'iCMS2_Up', 'iCMS3_Up', 'Proliferation', 'Translation', 'Tumor_Type', 'T cell exhaustion', 'B cell', 'NK cell', 'Plasma cell', 'T reg resting', 'T reg suppressive', 'T reg tissue homing', 'T reg cytokines', 'T reg activation', 'TH1', 'TH2', 'TH17', 'TRM', 'M1', 'M2', 'Costimulatory MYE', 'Stimulatory DCs', 'IFN stimulated MYE', 'EMT', 'Senescence', 'SASP', 'IFN stimulated EPI', 'Stress response', 'Fibrosis', 'T cell', 'Myeloid', 'Stroma', 'T reg', 'T cell CD4', 'T cell CD8', 'cDC2', 'cDC1', 'Macrophage', 'Classical monocytes', 'Cycle', 'Stress', 'Interferon', 'Hypoxia', 'Metal', 'Mesenchymal', 'pEMT', 'Alveolar', 'Basal', 'Squamous', 'Glandular', 'Ciliated', 'AC', 'OPC', 'NPC', 'plot_id']"
   ]
  },
  {
   "cell_type": "code",
   "execution_count": null,
   "metadata": {},
   "outputs": [],
   "source": [
    "dot_plot_signature_df = dat.obs[sig_and_id].copy()"
   ]
  },
  {
   "cell_type": "code",
   "execution_count": null,
   "metadata": {
    "tags": []
   },
   "outputs": [],
   "source": [
    "dot_plot_signature_df.head()"
   ]
  },
  {
   "cell_type": "markdown",
   "metadata": {},
   "source": [
    "## save data"
   ]
  },
  {
   "cell_type": "code",
   "execution_count": null,
   "metadata": {},
   "outputs": [],
   "source": [
    "dot_plot_signature_df.to_csv(\"scRNA_out/FFPE_scRNA/dotplot_signature_score_df.csv\", header = True, index = True)"
   ]
  }
 ],
 "metadata": {
  "kernelspec": {
   "display_name": "scanpy",
   "language": "python",
   "name": "scanpy"
  },
  "language_info": {
   "codemirror_mode": {
    "name": "ipython",
    "version": 3
   },
   "file_extension": ".py",
   "mimetype": "text/x-python",
   "name": "python",
   "nbconvert_exporter": "python",
   "pygments_lexer": "ipython3",
   "version": "3.8.10"
  }
 },
 "nbformat": 4,
 "nbformat_minor": 5
}
