{
 "cells": [
  {
   "cell_type": "markdown",
   "metadata": {},
   "source": [
    "# Immune exclusion signature scoring and T cell quantification\n",
    "- Correspond to Figure R1-4"
   ]
  },
  {
   "cell_type": "code",
   "execution_count": null,
   "metadata": {},
   "outputs": [],
   "source": [
    "import scanpy as sc\n",
    "import numpy as np\n",
    "import pandas as pd\n",
    "from matplotlib import pyplot as plt\n",
    "from scipy import stats\n",
    "import seaborn as sn"
   ]
  },
  {
   "cell_type": "code",
   "execution_count": null,
   "metadata": {},
   "outputs": [],
   "source": [
    "import anndata as ad\n",
    "sys.path.append(\"../resources/scRNA/\")\n",
    "import zc_function as zc"
   ]
  },
  {
   "cell_type": "code",
   "execution_count": null,
   "metadata": {},
   "outputs": [],
   "source": [
    "# make output directory\n",
    "import os\n",
    "if not os.path.exists(\"scRNA_out\"):\n",
    "    os.mkdir(\"scRNA_out\")\n",
    "\n",
    "if not os.path.exists(\"scRNA_out/FFPE_scRNA/\"):\n",
    "    os.mkdir(\"scRNA_out/FFPE_scRNA/\")"
   ]
  },
  {
   "cell_type": "code",
   "execution_count": null,
   "metadata": {},
   "outputs": [],
   "source": [
    "def convert_cell_type( dat, orig_obs_col = \"celltype_annotation\", new_obs_col = \"Cell_Type\"):\n",
    "    \"\"\"Convert cell type annotation string format\n",
    "    @param dat: the anndata object intended to be modified\n",
    "    @param orig_obs_col: original obs column where the format wants to be changed\n",
    "    @param new_obs_col: the new obs column where the formated annotation will be stored\n",
    "    \n",
    "    return the anndata object with the new_obs_col added\"\"\"\n",
    "    \n",
    "    ct_df = dat.obs[orig_obs_col] # cell type dataframe\n",
    "    ct_df2 = [ct_df[i].split(\"_\")[1] for i in range( len(ct_df) )] #eg  '2_Goblet cells' --> 'Goblet cells'\n",
    "    dat.obs[new_obs_col ] = ct_df2\n",
    "    \n",
    "    return dat"
   ]
  },
  {
   "cell_type": "markdown",
   "metadata": {
    "tags": []
   },
   "source": [
    "## check signatures in the entire dataset"
   ]
  },
  {
   "cell_type": "code",
   "execution_count": null,
   "metadata": {},
   "outputs": [],
   "source": [
    "dat = sc.read(\"../data/scRNA/outer_combined_all4_dat.h5ad\")"
   ]
  },
  {
   "cell_type": "code",
   "execution_count": null,
   "metadata": {},
   "outputs": [],
   "source": [
    "dat"
   ]
  },
  {
   "cell_type": "code",
   "execution_count": null,
   "metadata": {},
   "outputs": [],
   "source": [
    "#dat.X.sum(axis = 1) #check if is raw"
   ]
  },
  {
   "cell_type": "code",
   "execution_count": null,
   "metadata": {},
   "outputs": [],
   "source": [
    "dat.raw = dat.copy() # save raw layer"
   ]
  },
  {
   "cell_type": "code",
   "execution_count": null,
   "metadata": {},
   "outputs": [],
   "source": [
    "dat.layers['arcsin'] = dat.raw.X.copy() # prep for an arcsin layer"
   ]
  },
  {
   "cell_type": "code",
   "execution_count": null,
   "metadata": {},
   "outputs": [],
   "source": [
    "sc.pp.normalize_total(dat, layer = 'arcsin') # normalize library size"
   ]
  },
  {
   "cell_type": "code",
   "execution_count": null,
   "metadata": {},
   "outputs": [],
   "source": [
    "dat.layers['arcsin'] = np.arcsinh(dat.layers['arcsin'])"
   ]
  },
  {
   "cell_type": "markdown",
   "metadata": {
    "tags": []
   },
   "source": [
    "### get signatures"
   ]
  },
  {
   "cell_type": "code",
   "execution_count": null,
   "metadata": {},
   "outputs": [],
   "source": [
    "immune_exclusive = [\"DDR1\", \"TGFBI\", \"PAK4\", \"DPEP1\"]"
   ]
  },
  {
   "cell_type": "markdown",
   "metadata": {
    "tags": []
   },
   "source": [
    "### make signature scores"
   ]
  },
  {
   "cell_type": "code",
   "execution_count": null,
   "metadata": {},
   "outputs": [],
   "source": [
    "dat.X.sum(axis = 1) #check if data is raw"
   ]
  },
  {
   "cell_type": "code",
   "execution_count": null,
   "metadata": {},
   "outputs": [],
   "source": [
    "dat.raw = dat.copy()"
   ]
  },
  {
   "cell_type": "code",
   "execution_count": null,
   "metadata": {},
   "outputs": [],
   "source": [
    "#dat.raw.X.sum(axis = 1)"
   ]
  },
  {
   "cell_type": "code",
   "execution_count": null,
   "metadata": {},
   "outputs": [],
   "source": [
    "zc.normalization(dat) #normalize library size, arcsin transform and z-score scalling within genes "
   ]
  },
  {
   "cell_type": "code",
   "execution_count": null,
   "metadata": {
    "tags": []
   },
   "outputs": [],
   "source": [
    "dat.X.sum(axis = 1)"
   ]
  },
  {
   "cell_type": "code",
   "execution_count": null,
   "metadata": {},
   "outputs": [],
   "source": [
    "sc.tl.score_genes(dat, gene_list=immune_exclusive, score_name='IES', use_raw = True) # use raw layer"
   ]
  },
  {
   "cell_type": "code",
   "execution_count": null,
   "metadata": {},
   "outputs": [],
   "source": [
    "sc.tl.score_genes(dat, gene_list=immune_exclusive, score_name='IES_norm', use_raw = False) #use normalized layer"
   ]
  },
  {
   "cell_type": "code",
   "execution_count": null,
   "metadata": {
    "tags": []
   },
   "outputs": [],
   "source": [
    "sc.pl.umap(dat, color = ['Cell_Type', 'SampleId'  ], ncols=1)"
   ]
  },
  {
   "cell_type": "code",
   "execution_count": null,
   "metadata": {
    "tags": []
   },
   "outputs": [],
   "source": [
    "sc.pl.umap(dat, color = immune_exclusive, use_raw = False, ncols=2, vmax = 5) # plot individual gene expression level"
   ]
  },
  {
   "cell_type": "code",
   "execution_count": null,
   "metadata": {
    "tags": []
   },
   "outputs": [],
   "source": [
    "sc.pl.umap(dat, color = ['IES_norm'  , 'IES'], ncols=1, vmax = 2, vmin = 0, s= 2)"
   ]
  },
  {
   "cell_type": "markdown",
   "metadata": {},
   "source": [
    "examine the distribution of the signature scores (raw and normalized)"
   ]
  },
  {
   "cell_type": "code",
   "execution_count": null,
   "metadata": {
    "tags": []
   },
   "outputs": [],
   "source": [
    "dat.obs[\"IES_norm\"].hist(bins = 100)"
   ]
  },
  {
   "cell_type": "code",
   "execution_count": null,
   "metadata": {
    "tags": []
   },
   "outputs": [],
   "source": [
    "dat.obs[\"IES\"].hist(bins = 100)"
   ]
  },
  {
   "cell_type": "markdown",
   "metadata": {},
   "source": [
    "make a dictionary where keys are major cell types and values are cell type annotations"
   ]
  },
  {
   "cell_type": "code",
   "execution_count": null,
   "metadata": {},
   "outputs": [],
   "source": [
    "cell_category = dict()\n",
    "cell_category[\"Epithelial\"] = [ 'Goblet cells', 'Enterocytes','Cholangiocytes','Basal cells','Crypt cells',\n",
    "                               'Epithelial cells', 'Ductal cells' ] \n",
    "cell_category[\"Immune\"] = ['Macrophages', 'T memory cells', 'T cells','Plasma cells',\n",
    "                           'B cells memory','B cells',  'Mast cells','NK cells', 'Neutrophils',\n",
    "                           'Plasmacytoid dendritic cells','Dendritic cells','Alveolar macrophages',]\n",
    "cell_category[\"Mesenchymal\"] = ['Fibroblasts','Pericytes'] \n",
    "cell_category[\"Neuronal\"] = ['Enteric glia cells', 'Schwann cells','Enteric neurons',]\n",
    "cell_category[\"Endothelial\"] = [ 'Endothelial cells',]\n",
    "cell_category[\"Other\"] = ['Smooth muscle cells', 'Adipocytes',]"
   ]
  },
  {
   "cell_type": "markdown",
   "metadata": {},
   "source": [
    "reverse the key and values to make new adata obs column"
   ]
  },
  {
   "cell_type": "code",
   "execution_count": null,
   "metadata": {},
   "outputs": [],
   "source": [
    "cell_category_rev = dict()\n",
    "for k,v in cell_category.items():\n",
    "    for j in range(len(v)):\n",
    "        cell_category_rev[v[j]] = k\n",
    "        "
   ]
  },
  {
   "cell_type": "code",
   "execution_count": null,
   "metadata": {
    "tags": []
   },
   "outputs": [],
   "source": [
    "#cell_category_rev"
   ]
  },
  {
   "cell_type": "code",
   "execution_count": null,
   "metadata": {},
   "outputs": [],
   "source": [
    "#dat.obs.Cell_Type.unique().shape"
   ]
  },
  {
   "cell_type": "code",
   "execution_count": null,
   "metadata": {},
   "outputs": [],
   "source": [
    "dat.obs[\"Major_cell_type\"] = [cell_category_rev[k] for k in dat.obs.Cell_Type]"
   ]
  },
  {
   "cell_type": "code",
   "execution_count": null,
   "metadata": {},
   "outputs": [],
   "source": [
    "dat.obs.Major_cell_type.unique()"
   ]
  },
  {
   "cell_type": "markdown",
   "metadata": {
    "tags": []
   },
   "source": [
    "## Check immune signatures in T cells"
   ]
  },
  {
   "cell_type": "markdown",
   "metadata": {},
   "source": [
    "### extract T cells"
   ]
  },
  {
   "cell_type": "code",
   "execution_count": null,
   "metadata": {},
   "outputs": [],
   "source": [
    "dat = sc.read(\"../data/scRNA/outer_combined_all4_dat.h5ad\",) # re-read in the data if needed"
   ]
  },
  {
   "cell_type": "code",
   "execution_count": null,
   "metadata": {},
   "outputs": [],
   "source": [
    "dat.obs.Major_cell_type.unique()"
   ]
  },
  {
   "cell_type": "code",
   "execution_count": null,
   "metadata": {
    "tags": []
   },
   "outputs": [],
   "source": [
    "sc.pl.umap(dat, color = ['Cell_Type','SampleId'], ncols=1)"
   ]
  },
  {
   "cell_type": "code",
   "execution_count": null,
   "metadata": {},
   "outputs": [],
   "source": [
    "dat.obs.Cell_Type.unique()"
   ]
  },
  {
   "cell_type": "code",
   "execution_count": null,
   "metadata": {},
   "outputs": [],
   "source": [
    "tc = dat[np.isin( dat.obs.Cell_Type, ['T memory cells', 'T cells'] ) ] # extract T cells based on cell type annotation "
   ]
  },
  {
   "cell_type": "code",
   "execution_count": null,
   "metadata": {
    "tags": []
   },
   "outputs": [],
   "source": [
    "tc"
   ]
  },
  {
   "cell_type": "code",
   "execution_count": null,
   "metadata": {
    "tags": []
   },
   "outputs": [],
   "source": [
    "tc.X.sum(axis = 1) # check if raw"
   ]
  },
  {
   "cell_type": "code",
   "execution_count": null,
   "metadata": {},
   "outputs": [],
   "source": [
    "tc.raw = tc.copy()"
   ]
  },
  {
   "cell_type": "code",
   "execution_count": null,
   "metadata": {},
   "outputs": [],
   "source": [
    "zc.normalization(tc)"
   ]
  },
  {
   "cell_type": "code",
   "execution_count": null,
   "metadata": {
    "tags": []
   },
   "outputs": [],
   "source": [
    "sc.pl.umap(tc, color = ['Cell_Type', 'CD8A','SampleId'], ncols=1)"
   ]
  },
  {
   "cell_type": "markdown",
   "metadata": {
    "tags": []
   },
   "source": [
    "## calculate CD8+ T cell abundance in each sample "
   ]
  },
  {
   "cell_type": "code",
   "execution_count": null,
   "metadata": {},
   "outputs": [],
   "source": [
    "dat.raw.X.sum(axis = 1)"
   ]
  },
  {
   "cell_type": "code",
   "execution_count": null,
   "metadata": {},
   "outputs": [],
   "source": [
    "zc.normalization(dat)"
   ]
  },
  {
   "cell_type": "code",
   "execution_count": null,
   "metadata": {
    "tags": []
   },
   "outputs": [],
   "source": [
    "#check CD8A expression \n",
    "sc.pl.umap(dat, color = ['CD8A', 'SampleId','Cell_Type','CD8T_core9'], use_raw = False, ncols=1, vmin = 0, vmax = 8)"
   ]
  },
  {
   "cell_type": "markdown",
   "metadata": {
    "tags": []
   },
   "source": [
    "### check histogram"
   ]
  },
  {
   "cell_type": "code",
   "execution_count": null,
   "metadata": {},
   "outputs": [],
   "source": [
    "cd8 = dat.to_df()['CD8A'] # CD8A gene expression per cell"
   ]
  },
  {
   "cell_type": "code",
   "execution_count": null,
   "metadata": {},
   "outputs": [],
   "source": [
    "cd8.shape"
   ]
  },
  {
   "cell_type": "code",
   "execution_count": null,
   "metadata": {},
   "outputs": [],
   "source": [
    "cd8_positive = cd8[cd8>-0.2]\n",
    "cd8_positive.shape"
   ]
  },
  {
   "cell_type": "code",
   "execution_count": null,
   "metadata": {
    "tags": []
   },
   "outputs": [],
   "source": [
    "cd8_positive.hist(bins = 100 )"
   ]
  },
  {
   "cell_type": "code",
   "execution_count": null,
   "metadata": {},
   "outputs": [],
   "source": [
    "# use otsu\n",
    "zc.get_otsu_threshold(cd8)"
   ]
  },
  {
   "cell_type": "markdown",
   "metadata": {},
   "source": [
    "will use 0 as threshold since the otsu threshold is too large based on "
   ]
  },
  {
   "cell_type": "code",
   "execution_count": null,
   "metadata": {},
   "outputs": [],
   "source": [
    "is_cd8 = [str(cd8[i] > 0 and np.isin(dat.obs.Cell_Type[i], ['T cells', 'T memory cells' ])  ) for i in range(dat.n_obs)]"
   ]
  },
  {
   "cell_type": "code",
   "execution_count": null,
   "metadata": {},
   "outputs": [],
   "source": [
    "len(is_cd8)"
   ]
  },
  {
   "cell_type": "code",
   "execution_count": null,
   "metadata": {
    "tags": []
   },
   "outputs": [],
   "source": [
    "#is_cd8"
   ]
  },
  {
   "cell_type": "code",
   "execution_count": null,
   "metadata": {},
   "outputs": [],
   "source": [
    "dat.obs[\"is_CD8\"] = is_cd8"
   ]
  },
  {
   "cell_type": "code",
   "execution_count": null,
   "metadata": {
    "tags": []
   },
   "outputs": [],
   "source": [
    "sc.pl.umap(dat, color = ['CD8A', 'SampleId','Cell_Type','is_CD8'], use_raw = False, ncols=1, vmin = 0, vmax = 8)"
   ]
  },
  {
   "cell_type": "code",
   "execution_count": null,
   "metadata": {},
   "outputs": [],
   "source": [
    "cd8_df = pd.concat([dat.obs.SampleId, dat.obs.is_CD8], axis = 1)"
   ]
  },
  {
   "cell_type": "code",
   "execution_count": null,
   "metadata": {
    "tags": []
   },
   "outputs": [],
   "source": [
    "cd8_df.head()"
   ]
  },
  {
   "cell_type": "code",
   "execution_count": null,
   "metadata": {},
   "outputs": [],
   "source": [
    "bool_convert_dict = {'True':1, 'False':0}"
   ]
  },
  {
   "cell_type": "code",
   "execution_count": null,
   "metadata": {},
   "outputs": [],
   "source": [
    "cd8_df['is_CD8_int'] = [bool_convert_dict[k] for k in cd8_df[\"is_CD8\"]]"
   ]
  },
  {
   "cell_type": "code",
   "execution_count": null,
   "metadata": {},
   "outputs": [],
   "source": [
    "cd8_df[\"is_CD8_int\"].sum()"
   ]
  },
  {
   "cell_type": "code",
   "execution_count": null,
   "metadata": {
    "tags": []
   },
   "outputs": [],
   "source": [
    "cd8_samples = cd8_df[[\"is_CD8_int\", 'SampleId' ] ].groupby(by = 'SampleId').sum()"
   ]
  },
  {
   "cell_type": "code",
   "execution_count": null,
   "metadata": {},
   "outputs": [],
   "source": [
    "cd8_samples.head()"
   ]
  },
  {
   "cell_type": "code",
   "execution_count": null,
   "metadata": {
    "tags": []
   },
   "outputs": [],
   "source": [
    "cd8_samples[\"CD8_cell_pct\"] = cd8_df[[\"is_CD8_int\", 'SampleId' ] ].groupby(by = 'SampleId').mean()"
   ]
  },
  {
   "cell_type": "markdown",
   "metadata": {},
   "source": [
    "## save data"
   ]
  },
  {
   "cell_type": "code",
   "execution_count": null,
   "metadata": {},
   "outputs": [],
   "source": [
    "dat.X.sum(axis = 1)"
   ]
  },
  {
   "cell_type": "code",
   "execution_count": null,
   "metadata": {},
   "outputs": [],
   "source": [
    "dat.X = dat.raw.X # SAVE ONLY RAW COUNTS"
   ]
  },
  {
   "cell_type": "code",
   "execution_count": null,
   "metadata": {
    "tags": []
   },
   "outputs": [],
   "source": [
    "dat"
   ]
  },
  {
   "cell_type": "code",
   "execution_count": null,
   "metadata": {},
   "outputs": [],
   "source": [
    "dat.write(\"../data/scRNA/outer_combined_all4_dat.h5ad\", compression = 'gzip')"
   ]
  },
  {
   "cell_type": "code",
   "execution_count": null,
   "metadata": {},
   "outputs": [],
   "source": [
    "tc.X = tc.raw.X"
   ]
  },
  {
   "cell_type": "code",
   "execution_count": null,
   "metadata": {},
   "outputs": [],
   "source": [
    "tc.X.sum(axis = 1)"
   ]
  },
  {
   "cell_type": "code",
   "execution_count": null,
   "metadata": {},
   "outputs": [],
   "source": [
    "tc.write('../data/scRNA/combined_all4_tcell_dat.h5ad', compression = 'gzip' )"
   ]
  },
  {
   "cell_type": "code",
   "execution_count": null,
   "metadata": {},
   "outputs": [],
   "source": [
    "cd8_samples.to_csv(\"scRNA_out/FFPE_scRNA/cd8_cell_sample_wise.csv\", header = True, index = True)"
   ]
  }
 ],
 "metadata": {
  "kernelspec": {
   "display_name": "scanpy",
   "language": "python",
   "name": "scanpy"
  },
  "language_info": {
   "codemirror_mode": {
    "name": "ipython",
    "version": 3
   },
   "file_extension": ".py",
   "mimetype": "text/x-python",
   "name": "python",
   "nbconvert_exporter": "python",
   "pygments_lexer": "ipython3",
   "version": "3.8.10"
  }
 },
 "nbformat": 4,
 "nbformat_minor": 5
}
