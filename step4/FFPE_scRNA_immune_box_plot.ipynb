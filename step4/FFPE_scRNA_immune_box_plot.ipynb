{
 "cells": [
  {
   "cell_type": "markdown",
   "metadata": {},
   "source": [
    "# Immune signature expression in T cells\n",
    "- score the T cell signatures in Fernande-Garcia paper and a SD5 table in the T cell subset of the combined-all_4 dataset\n",
    "- correlate the scores with single-cell Epithelial - stromal scores"
   ]
  },
  {
   "cell_type": "code",
   "execution_count": null,
   "metadata": {},
   "outputs": [],
   "source": [
    "import scanpy as sc\n",
    "import numpy as np\n",
    "import pandas as pd\n",
    "from matplotlib import pyplot as plt\n",
    "from scipy import stats"
   ]
  },
  {
   "cell_type": "code",
   "execution_count": null,
   "metadata": {},
   "outputs": [],
   "source": [
    "import seaborn as sn"
   ]
  },
  {
   "cell_type": "code",
   "execution_count": null,
   "metadata": {},
   "outputs": [],
   "source": [
    "import anndata as ad\n",
    "import sys; sys.path.append(\"../resources/scRNA/\")\n",
    "import zc_function as zc"
   ]
  },
  {
   "cell_type": "code",
   "execution_count": null,
   "metadata": {},
   "outputs": [],
   "source": [
    "# make output directory\n",
    "import os\n",
    "if not os.path.exists(\"scRNA_out\"):\n",
    "    os.mkdir(\"scRNA_out\")\n",
    "\n",
    "if not os.path.exists(\"scRNA_out/FFPE_scRNA/\"):\n",
    "    os.mkdir(\"scRNA_out/FFPE_scRNA/\")"
   ]
  },
  {
   "cell_type": "markdown",
   "metadata": {},
   "source": [
    "## load data"
   ]
  },
  {
   "cell_type": "code",
   "execution_count": null,
   "metadata": {},
   "outputs": [],
   "source": [
    "tcell = sc.read(\"../data/scRNA/combined_all4_tcell_dat.h5ad\")"
   ]
  },
  {
   "cell_type": "code",
   "execution_count": null,
   "metadata": {
    "tags": []
   },
   "outputs": [],
   "source": [
    "tcell # check anndata"
   ]
  },
  {
   "cell_type": "code",
   "execution_count": null,
   "metadata": {},
   "outputs": [],
   "source": [
    "#tcell.X.sum(axis = 1) #check if raw\n",
    "tcell.raw = tcell.copy()"
   ]
  },
  {
   "cell_type": "markdown",
   "metadata": {},
   "source": [
    "keep selected obs columns"
   ]
  },
  {
   "cell_type": "code",
   "execution_count": null,
   "metadata": {},
   "outputs": [],
   "source": [
    "tcell.obs = tcell.obs[[ 'SampleId', 'percent.mt', 'exp_num', 'active_ident', 'Cell_Type', 'n_genes_by_counts',  'total_counts','pct_counts_in_top_200_genes', 'pct_counts_in_top_500_genes', 'CD8T_core9', 'CD8T_cytokine', 'Major_cell_type', 'leiden', 'session_id',]]"
   ]
  },
  {
   "cell_type": "code",
   "execution_count": null,
   "metadata": {
    "tags": []
   },
   "outputs": [],
   "source": [
    "list( tcell.obs.SampleId.unique() ) "
   ]
  },
  {
   "cell_type": "markdown",
   "metadata": {
    "jp-MarkdownHeadingCollapsed": true,
    "tags": []
   },
   "source": [
    "### check absent samples (10096_s2 and 10180_01_s2 )\n",
    "- confirmed that these 2 samples do not have T cells "
   ]
  },
  {
   "cell_type": "code",
   "execution_count": null,
   "metadata": {},
   "outputs": [],
   "source": [
    "dat = sc.read(\"../data/scRNA/outer_combined_all4_dat.h5ad\")"
   ]
  },
  {
   "cell_type": "code",
   "execution_count": null,
   "metadata": {
    "tags": []
   },
   "outputs": [],
   "source": [
    "dat"
   ]
  },
  {
   "cell_type": "code",
   "execution_count": null,
   "metadata": {},
   "outputs": [],
   "source": [
    "dat.obs.Cell_Type.unique()"
   ]
  },
  {
   "cell_type": "code",
   "execution_count": null,
   "metadata": {},
   "outputs": [],
   "source": [
    "tc = dat[np.isin( dat.obs.Cell_Type,['T memory cells','T cells',] )]"
   ]
  },
  {
   "cell_type": "code",
   "execution_count": null,
   "metadata": {
    "tags": []
   },
   "outputs": [],
   "source": [
    "tc.obs.SampleId.unique()"
   ]
  },
  {
   "cell_type": "code",
   "execution_count": null,
   "metadata": {
    "tags": []
   },
   "outputs": [],
   "source": [
    "dat.obs.SampleId.unique()"
   ]
  },
  {
   "cell_type": "markdown",
   "metadata": {},
   "source": [
    "### load signatures"
   ]
  },
  {
   "cell_type": "code",
   "execution_count": null,
   "metadata": {},
   "outputs": [],
   "source": [
    "fern_found = pd.read_csv(\"../resources/scRNA/fernande_garcia_found_in_var.csv\", header = 0, index_col = None)"
   ]
  },
  {
   "cell_type": "code",
   "execution_count": null,
   "metadata": {
    "tags": []
   },
   "outputs": [],
   "source": [
    "fern_found.head()"
   ]
  },
  {
   "cell_type": "code",
   "execution_count": null,
   "metadata": {
    "tags": []
   },
   "outputs": [],
   "source": [
    "sd5 = pd.read_excel(\"../resources/scRNA/SD5_immune_signatures.xlsx\", engine = 'openpyxl', skiprows=1)\n",
    "sd5"
   ]
  },
  {
   "cell_type": "code",
   "execution_count": null,
   "metadata": {},
   "outputs": [],
   "source": [
    "sd5.columns  = ['Resting0_Treg', 'Resting1_CD4 NV/CM', 'Resting2_CD4/CD8', \n",
    "                'Activated0_IFN Response', 'Activated1_Proliferation', 'Activated2_CD8 Cytotoxic', 'Activated3_CD8 Cytokine']"
   ]
  },
  {
   "cell_type": "code",
   "execution_count": null,
   "metadata": {
    "tags": []
   },
   "outputs": [],
   "source": [
    "sd5"
   ]
  },
  {
   "cell_type": "markdown",
   "metadata": {},
   "source": [
    "### load IES sum table"
   ]
  },
  {
   "cell_type": "code",
   "execution_count": null,
   "metadata": {},
   "outputs": [],
   "source": [
    "ies_sumtab = pd.read_csv(\"../resources/scRNA/sc_st_IES_sumtab.csv\", header = 0, index_col = 0 ) # immune exclusion score summary table\n",
    "ies_sumtab.head()"
   ]
  },
  {
   "cell_type": "markdown",
   "metadata": {},
   "source": [
    "- table derived from the scRNA-seq data IES gene score expression (scIES) and spatial transcriptomic data (stIES) \n",
    "- E-S denotes 'Epithelial expression minus stromal expression'"
   ]
  },
  {
   "cell_type": "markdown",
   "metadata": {},
   "source": [
    "## score signatures (use_raw = True) "
   ]
  },
  {
   "cell_type": "code",
   "execution_count": null,
   "metadata": {},
   "outputs": [],
   "source": [
    "fern_found.shape"
   ]
  },
  {
   "cell_type": "code",
   "execution_count": null,
   "metadata": {},
   "outputs": [],
   "source": [
    "fern_found.iloc[:,0].dropna()"
   ]
  },
  {
   "cell_type": "markdown",
   "metadata": {
    "jp-MarkdownHeadingCollapsed": true,
    "tags": []
   },
   "source": [
    "### check if all genes can be find in the data gene space\n",
    "- all genes in fern_found and sd5 are found in the data"
   ]
  },
  {
   "cell_type": "code",
   "execution_count": null,
   "metadata": {
    "tags": []
   },
   "outputs": [],
   "source": [
    "found_dict = dict()\n",
    "\n",
    "for i in range(fern_found.shape[1]):\n",
    "    gl = fern_found.iloc[:,i].dropna()\n",
    "    gl2 = gl[np.isin(gl, tcell.var_names)] \n",
    "    \n",
    "    print( fern_found.columns[i])\n",
    "    gl3 = gl[np.isin(gl, tcell.var_names, invert=True)]\n",
    "    \n",
    "    if(len(gl3) > 0 ):\n",
    "        print(f\"{len(gl3)}/{len(gl)} not found\")\n",
    "    \n",
    "    found_dict[fern_found.columns[i]] = gl2"
   ]
  },
  {
   "cell_type": "code",
   "execution_count": null,
   "metadata": {
    "tags": []
   },
   "outputs": [],
   "source": [
    "found_dict_sd5 = dict()\n",
    "\n",
    "for i in range(sd5.shape[1]):\n",
    "    gl = sd5.iloc[:,i].dropna()\n",
    "    gl2 = gl[np.isin(gl, tcell.var_names)] \n",
    "    \n",
    "    print( sd5.columns[i])\n",
    "    gl3 = gl[np.isin(gl, tcell.var_names, invert=True)]\n",
    "    \n",
    "    if(len(gl3) > 0 ):\n",
    "        print(f\"{len(gl3)}/{len(gl)} not found\")\n",
    "    \n",
    "    found_dict_sd5[sd5.columns[i]] = gl2\n",
    "    "
   ]
  },
  {
   "cell_type": "markdown",
   "metadata": {},
   "source": [
    "### score"
   ]
  },
  {
   "cell_type": "code",
   "execution_count": null,
   "metadata": {
    "tags": []
   },
   "outputs": [],
   "source": [
    "#score fern\n",
    "for k in found_dict.keys():\n",
    "    sc.tl.score_genes(tcell, gene_list= found_dict[k], score_name=k, use_raw = True)"
   ]
  },
  {
   "cell_type": "code",
   "execution_count": null,
   "metadata": {},
   "outputs": [],
   "source": [
    "#score sd5\n",
    "for k in found_dict_sd5.keys():\n",
    "    sc.tl.score_genes(tcell, gene_list= found_dict_sd5[k], score_name=k, use_raw = True)"
   ]
  },
  {
   "cell_type": "code",
   "execution_count": null,
   "metadata": {
    "tags": []
   },
   "outputs": [],
   "source": [
    "tcell"
   ]
  },
  {
   "cell_type": "code",
   "execution_count": null,
   "metadata": {},
   "outputs": [],
   "source": [
    "sc.pl.umap(tcell, color = ['SampleId', 'Oxphos' , 'Cell_Type'])"
   ]
  },
  {
   "cell_type": "code",
   "execution_count": null,
   "metadata": {},
   "outputs": [],
   "source": [
    "score_names = ['Aerobic glycolysis', 'Oxphos', 'Oxphos vs. Glycolysis_Up', 'Oxphos vs. Glycolysis_Down', 'FA oxidation', 'FA synthesis', 'FA oxidation vs. synthesis_Up', 'FA oxidation vs. synthesis_Down', 'Glutamine catabolism_Up', 'Glutamine catabolism_Down', 'Polyamine synthesis_Up', 'Polyamine synthesis_Down', 'Metionine cycle', 'NEAA synthesis', 'AA uptake', 'Mevalonate pathway', 'PI3K-AKT-mTOR-MYC signaling_Up', 'PI3K-AKT-mTOR-MYC signaling_Down', 'Cytokine production', 'Resting0_Treg', 'Resting1_CD4 NV/CM', 'Resting2_CD4/CD8', 'Activated0_IFN Response', 'Activated1_Proliferation', 'Activated2_CD8 Cytotoxic', 'Activated3_CD8 Cytokine']"
   ]
  },
  {
   "cell_type": "code",
   "execution_count": null,
   "metadata": {},
   "outputs": [],
   "source": [
    "len(score_names)"
   ]
  },
  {
   "cell_type": "markdown",
   "metadata": {},
   "source": [
    "## Correlate the immune signatures with IES "
   ]
  },
  {
   "cell_type": "code",
   "execution_count": null,
   "metadata": {},
   "outputs": [],
   "source": [
    "score_df = tcell.obs[score_names] #dataframe for signature scores"
   ]
  },
  {
   "cell_type": "code",
   "execution_count": null,
   "metadata": {
    "tags": []
   },
   "outputs": [],
   "source": [
    "score_df[\"SampleId\"] = tcell.obs[\"SampleId\"]"
   ]
  },
  {
   "cell_type": "code",
   "execution_count": null,
   "metadata": {
    "tags": []
   },
   "outputs": [],
   "source": [
    "score_df.head()"
   ]
  },
  {
   "cell_type": "code",
   "execution_count": null,
   "metadata": {
    "tags": []
   },
   "outputs": [],
   "source": [
    "sample_score_df = score_df.groupby(by = 'SampleId').mean() # pseudo-bulk from single cell level to sample level"
   ]
  },
  {
   "cell_type": "markdown",
   "metadata": {},
   "source": [
    "get information from the ies summary table to the score_df"
   ]
  },
  {
   "cell_type": "code",
   "execution_count": null,
   "metadata": {},
   "outputs": [],
   "source": [
    "sample_score_df['scE-S'] = ies_sumtab[\"sc_E-S\"] # single cell epithelial - stromal gene expression "
   ]
  },
  {
   "cell_type": "code",
   "execution_count": null,
   "metadata": {},
   "outputs": [],
   "source": [
    "sample_score_df['cd8_high'] = ies_sumtab[\"cd8_high\"]"
   ]
  },
  {
   "cell_type": "code",
   "execution_count": null,
   "metadata": {
    "tags": []
   },
   "outputs": [],
   "source": [
    "sample_score_df['scE-S']"
   ]
  },
  {
   "cell_type": "code",
   "execution_count": null,
   "metadata": {},
   "outputs": [],
   "source": [
    "sample_score_df2 = sample_score_df.drop('10096_s3', axis = 0 ) # outlier"
   ]
  },
  {
   "cell_type": "code",
   "execution_count": null,
   "metadata": {
    "tags": []
   },
   "outputs": [],
   "source": [
    "ies_sumtab"
   ]
  },
  {
   "cell_type": "markdown",
   "metadata": {
    "tags": []
   },
   "source": [
    "## box plots for selected signatures"
   ]
  },
  {
   "cell_type": "code",
   "execution_count": null,
   "metadata": {
    "tags": []
   },
   "outputs": [],
   "source": [
    "sample_score_df.columns"
   ]
  },
  {
   "cell_type": "code",
   "execution_count": null,
   "metadata": {},
   "outputs": [],
   "source": [
    "sn.boxplot(data = sample_score_df, y = 'scE-S',x = 'cd8_high', palette = 'Set2', order = [True, False])"
   ]
  },
  {
   "cell_type": "code",
   "execution_count": null,
   "metadata": {},
   "outputs": [],
   "source": [
    "sn.boxplot(data = sample_score_df, y =  'Activated2_CD8 Cytotoxic',x = 'cd8_high', palette = 'Set2', order = [True, False])"
   ]
  },
  {
   "cell_type": "code",
   "execution_count": null,
   "metadata": {},
   "outputs": [],
   "source": [
    "sn.boxplot(data = sample_score_df, y = 'Activated3_CD8 Cytokine',x = 'cd8_high', palette = 'Set2', order = [True, False])"
   ]
  },
  {
   "cell_type": "code",
   "execution_count": null,
   "metadata": {},
   "outputs": [],
   "source": [
    "sn.boxplot(data = ies_sumtab, y = 'CD8_cell_pct',x = 'cd8_high', palette = 'Set2', order = [True, False])"
   ]
  },
  {
   "cell_type": "markdown",
   "metadata": {
    "tags": []
   },
   "source": [
    "## stat annotation"
   ]
  },
  {
   "cell_type": "code",
   "execution_count": null,
   "metadata": {},
   "outputs": [],
   "source": [
    "from statannotations.Annotator import Annotator"
   ]
  },
  {
   "cell_type": "code",
   "execution_count": null,
   "metadata": {},
   "outputs": [],
   "source": [
    "def make_stat_plot(hue_plot_params, data, pairs, test):\n",
    "    #with sn.plotting_context(\"notebook\", font_scale=1.4):\n",
    "    # Create new plot\n",
    "    _, ax = plt.subplots()\n",
    "\n",
    "    # Plot with seaborn\n",
    "    ax = sn.boxplot(ax=ax, **hue_plot_params)\n",
    "\n",
    "    # Add annotations\n",
    "    annotator = Annotator(ax, pairs, **hue_plot_params)\n",
    "    annotator.configure(test=test).apply_and_annotate()\n",
    "    \n",
    "    \n",
    "\n",
    "    # Label and show\n",
    "    #add_legend(ax)\n",
    "    #label_plot_for_subcats(ax)\n",
    "    plt.show()"
   ]
  },
  {
   "cell_type": "code",
   "execution_count": null,
   "metadata": {},
   "outputs": [],
   "source": [
    "pairs =  [(True, False)] # groups to be compared with stat tests"
   ]
  },
  {
   "cell_type": "code",
   "execution_count": null,
   "metadata": {
    "tags": []
   },
   "outputs": [],
   "source": [
    "hue_plot_params = {\n",
    "    'data': sample_score_df, \n",
    "    'y':  'Activated3_CD8 Cytokine',\n",
    "    'x': 'cd8_high', \n",
    "    'palette':  'Set2', \n",
    "    'order': [True, False]\n",
    "    \n",
    "}\n",
    "\n",
    "make_stat_plot(hue_plot_params, sample_score_df, pairs, test = 't-test_ind')"
   ]
  },
  {
   "cell_type": "code",
   "execution_count": null,
   "metadata": {},
   "outputs": [],
   "source": [
    "hue_plot_params = {\n",
    "    'data': sample_score_df, \n",
    "    'y':  'Activated2_CD8 Cytotoxic',\n",
    "    'x': 'cd8_high', \n",
    "    'palette':  'Set2', \n",
    "    'order': [True, False]\n",
    "    \n",
    "}\n",
    "\n",
    "make_stat_plot(hue_plot_params, sample_score_df, pairs, test = 't-test_ind')"
   ]
  },
  {
   "cell_type": "code",
   "execution_count": null,
   "metadata": {},
   "outputs": [],
   "source": [
    "hue_plot_params = {\n",
    "    'data': sample_score_df, \n",
    "    'y':  'scE-S',\n",
    "    'x': 'cd8_high', \n",
    "    'palette':  'Set2', \n",
    "    'order': [True, False]\n",
    "    \n",
    "}\n",
    "\n",
    "make_stat_plot(hue_plot_params, sample_score_df, pairs, test = 't-test_ind')"
   ]
  },
  {
   "cell_type": "code",
   "execution_count": null,
   "metadata": {},
   "outputs": [],
   "source": [
    "#data = ies_sumtab, y = 'CD8_cell_pct'\n",
    "\n",
    "hue_plot_params = {\n",
    "    'data': ies_sumtab, \n",
    "    'y':  'CD8_cell_pct',\n",
    "    'x': 'cd8_high', \n",
    "    'palette':  'Set2', \n",
    "    'order': [True, False]\n",
    "    \n",
    "}\n",
    "\n",
    "make_stat_plot(hue_plot_params, ies_sumtab, pairs, test = 't-test_ind')"
   ]
  },
  {
   "cell_type": "markdown",
   "metadata": {},
   "source": [
    "## Save result"
   ]
  },
  {
   "cell_type": "code",
   "execution_count": null,
   "metadata": {},
   "outputs": [],
   "source": [
    "tcell.write(\"scRNA_out/FFPE_scRNA/combined_all4_tcell_dat.h5ad\")"
   ]
  },
  {
   "cell_type": "code",
   "execution_count": null,
   "metadata": {},
   "outputs": [],
   "source": [
    "sample_score_df.to_csv(\"scRNA_out/FFPE_scRNA/sample_immune_sig_score.csv\", header = True, index = True) "
   ]
  }
 ],
 "metadata": {
  "kernelspec": {
   "display_name": "scanpy",
   "language": "python",
   "name": "scanpy"
  },
  "language_info": {
   "codemirror_mode": {
    "name": "ipython",
    "version": 3
   },
   "file_extension": ".py",
   "mimetype": "text/x-python",
   "name": "python",
   "nbconvert_exporter": "python",
   "pygments_lexer": "ipython3",
   "version": "3.8.10"
  }
 },
 "nbformat": 4,
 "nbformat_minor": 5
}
