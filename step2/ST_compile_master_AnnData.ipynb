{
 "cells": [
  {
   "cell_type": "code",
   "execution_count": null,
   "metadata": {},
   "outputs": [],
   "source": [
    "import os\n",
    "import numpy as np\n",
    "import pandas as pd\n",
    "import scanpy as sc"
   ]
  },
  {
   "cell_type": "markdown",
   "metadata": {
    "tags": []
   },
   "source": [
    "---\n",
    "### Read in key dataframe with sample information"
   ]
  },
  {
   "cell_type": "code",
   "execution_count": null,
   "metadata": {},
   "outputs": [],
   "source": [
    "sample_key = pd.read_csv(\"../resources/ST/visium_sample_key.csv\", index_col=0)"
   ]
  },
  {
   "cell_type": "code",
   "execution_count": null,
   "metadata": {},
   "outputs": [],
   "source": [
    "sample_key.head()"
   ]
  },
  {
   "cell_type": "code",
   "execution_count": null,
   "metadata": {},
   "outputs": [],
   "source": [
    "# markers in COLON MAP PCA data\n",
    "allmarkers = [\"ACTININ\",\"BCATENIN\",\"CD3D\",\"CD4_\",\"CD8\",\"CD11B\",\"CD20\",\"CD45\",\"CD68\",\n",
    "              \"CGA\",\"COLLAGEN\",\"COX2\",\"DAPI\",\"ERBB2\",\"FOXP3\",\"GAMMAACTIN\",\"HLAA\",\"LYSOZYME\",\"MUC2\",\n",
    "              \"NAKATPASE\",\"OLFM4\",\"SOX9\",\"PANCK\",\"PCNA\",\"PEGFR\",\"PSTAT3\",\"SMA\",\"SNA\",\"VIMENTIN\"]\n",
    "\n",
    "eliotmarkers = [\"VIMENTIN\",\"SOX9\",\"SMA\",\"PSTAT3\",\"PEGFR\",\"PCNA\",\"PANCK\",\"OLFM4\",\n",
    "                \"NAKATPASE\",\"MUC5AC\",\"MUC2\",\"LYSOZYME\",\"HLAA\",\"GAMMAACTIN\",\"FOXP3\",\n",
    "                \"ERBB2\",\"COLLAGEN\",\"CGA\",\"CDX2\",\"CD68\",\"CD45\",\"CD20\",\"CD11B\",\"CD8\",\n",
    "                \"CD4_\",\"CD3D\",\"BCATENIN\",\"AQP5\",\"COX2\"]\n",
    "\n",
    "channels_26sep22 = [\"CEACAM5\",\"DPEP1\",\"CD27\",\"AQP5\",\"VIMENTIN\",\"SOX9\",\"SMA\",\"PSTAT3\",\"PEGFR\",\"PCNA\",\n",
    "                    \"PANCK\",\"OLFM4\",\"NAKATPASE\",\"MUC5AC\",\"MUC2\",\"LYSOZYME\",\"HLAA\",\"GAMMAACTIN\",\n",
    "                    \"FOXP3\",\"COLLAGEN\",\"CGA\",\"CDX2\",\"CD68\",\"CD45\",\"CD20\",\"CD11B\",\"CD8\",\"CD4\",\n",
    "                    \"CD3D\",\"BCATENIN\"]"
   ]
  },
  {
   "cell_type": "code",
   "execution_count": null,
   "metadata": {},
   "outputs": [],
   "source": [
    "MxIF_cols = list(set(channels_26sep22).union(set(allmarkers).union(set(eliotmarkers))))"
   ]
  },
  {
   "cell_type": "code",
   "execution_count": null,
   "metadata": {},
   "outputs": [],
   "source": [
    "len(MxIF_cols)"
   ]
  },
  {
   "cell_type": "markdown",
   "metadata": {},
   "source": [
    "---"
   ]
  },
  {
   "cell_type": "code",
   "execution_count": null,
   "metadata": {},
   "outputs": [],
   "source": [
    "for s in sample_key.index:\n",
    "    print(\"Starting {}:\".format(s), end=\"\\n\\t\")\n",
    "    a = sc.read(os.path.join(\"../\", sample_key.loc[s, \"trimmed_adata\"]))  # read in anndata\n",
    "\n",
    "    # select obs and var columns\n",
    "    a.obs = a.obs[[\"in_tissue\", \"array_row\", \"array_col\"]].copy()\n",
    "    a.var = a.var[[\"gene_ids\", \"feature_types\", \"genome\", \"n_cells\", \"Morans_I\", \"Morans_I_p_val\", \"Morans_I_adj_p_val\"]].copy()\n",
    "\n",
    "    # add sample-level metadata\n",
    "    a.obs[\"Sample\"] = sample_key.loc[s, \"sample_key_short\"]\n",
    "    a.obs[\"Patient\"] = sample_key.loc[s, \"patient_name\"]\n",
    "    a.obs[\"Block ID\"] = sample_key.loc[s, \"block_name\"]\n",
    "    a.obs[\"Tumor Type\"] = sample_key.loc[s, \"tumor_type\"]\n",
    "    a.obs[\"Tumor Location\"] = sample_key.loc[s, \"tumor_loc\"]\n",
    "    a.obs[\"Tumor Stage\"] = sample_key.loc[s, \"tumor_stage\"]\n",
    "    a.obs[\"Tumor Grade\"] = sample_key.loc[s, \"tumor_grade\"]\n",
    "    a.obs[\"Gender\"] = sample_key.loc[s, \"gender\"]\n",
    "    a.obs[\"Ethnicity\"] = sample_key.loc[s, \"ethnicity\"]\n",
    "    a.obs[\"Evolution\"] = sample_key.loc[s, \"Evolution\"]\n",
    "    if sample_key.loc[s, \"tumor_type\"] in [\"SSL/HP\",\"TA/TVA\",\"NL\"]:\n",
    "        a.obs[\"CIN Status\"] = sample_key.loc[s, \"tumor_type\"]\n",
    "    else:\n",
    "        a.obs[\"CIN Status\"] = sample_key.loc[s, \"CIN Status\"]\n",
    "    \n",
    "    # get manual pathology annotations\n",
    "    try:\n",
    "        path = pd.read_csv(\"../resources/ST/{}_pathology_annotation.csv\".format(sample_key.loc[s, \"sample_key_short\"]), index_col=0)\n",
    "        a.obs = a.obs.merge(path, left_index=True, right_index=True, how=\"left\")\n",
    "        print(\"Manual pathology annotations\", end=\", \")\n",
    "    except:\n",
    "        print(\"No manual path. annotations found for {}\".format(s), end=\", \")\n",
    "    \n",
    "    # get VUMC refNMF fractions\n",
    "    print(\"VUMC refNMF fractions & MILWRM domains\", end=\", \")\n",
    "    tmp = sc.read(os.path.join(\"../\", sample_key.loc[s, \"MILWRM_VUMCrefNMF30_adata\"]))\n",
    "    old_cols = list(tmp.obs.columns[tmp.obs.columns.str.startswith(\"usage_\")])\n",
    "    new_cols = [x + \"_VUMCrefNMF30\" for x in tmp.obs.columns[tmp.obs.columns.str.startswith(\"usage_\")].str.split(\"_\").str[-1]]\n",
    "    tmp.obs.rename(columns = dict(zip(old_cols, new_cols)), inplace=True)\n",
    "    a.obs = a.obs.merge(tmp.obs[new_cols + [\"MILWRM Domain\", \"MILWRM Confidence Score\"]], left_index=True, right_index=True, how=\"left\")\n",
    "\n",
    "    # get MxIF MILWRM\n",
    "    try:\n",
    "        # filter to MxIF pixels and add marker intensities, MILWRM domains\n",
    "        obs = pd.read_csv(os.path.join(\"../\", sample_key.loc[s, \"MILWRM_VUMCrefNMF30_MxIF_obs\"]), index_col=0)\n",
    "        #a = a[list(set(a.obs_names).intersection(set(obs.index))),:].copy()  # filter to spots within MxIF mask\n",
    "        # add _MxIF label to protein stain markers in .obs\n",
    "        new_cols = [x + \"_MxIF\" for x in MxIF_cols]\n",
    "        obs.rename(columns = dict(zip(MxIF_cols, new_cols)), inplace=True)\n",
    "        a.obs = a.obs.merge(\n",
    "            obs[list(set(new_cols).intersection(set(obs.columns))) + [\"refNMF-MxIF MILWRM Domain\", \"refNMF-MxIF MILWRM Confidence Score\"]],\n",
    "            left_index=True,\n",
    "            right_index=True,\n",
    "            how=\"left\",\n",
    "        )\n",
    "        print(\"MxIF + refNMF MILWRM domains\".format(s), end=\", \")\n",
    "    except:\n",
    "        print(\"No MxIF MILWRM detected for {}\".format(s), end=\", \")\n",
    "\n",
    "    # get LCM masks\n",
    "    try:\n",
    "        mask = pd.read_csv(\"../resources/WES/{}_ROIs_{}.csv\".format(sample_key.loc[s, \"block_name\"], str(sample_key.loc[s, \"sample_key_short\"])), index_col=\"Barcode\")\n",
    "        print(\"Read LCM masks from ../resources/WES/{}_ROIs_{}.csv\".format(sample_key.loc[s, \"block_name\"], sample_key.loc[s, \"sample_key_short\"]))\n",
    "        # merge LCM masks with .obs\n",
    "        a.obs = a.obs.merge(mask, left_index=True, right_index=True)\n",
    "        a.obs.LCM_ROI = a.obs.LCM_ROI.astype(str)  # coerce to string for subsetting later\n",
    "    except:\n",
    "        print(\"No LCM mask(s) found for {}\".format(s))\n",
    "\n",
    "    # save to master anndata object\n",
    "    print(\"\\tSaving to ../data/ST/{}_master.h5ad\".format(s), end=\"\\n\\n\")\n",
    "    a.write(\"../data/ST/{}_master.h5ad\".format(s), compression=\"gzip\")"
   ]
  },
  {
   "cell_type": "markdown",
   "metadata": {},
   "source": [
    "---\n",
    "## Re-map `LCM_ROI` values for PAT71397"
   ]
  },
  {
   "cell_type": "code",
   "execution_count": null,
   "metadata": {},
   "outputs": [],
   "source": [
    "mapper = {\n",
    "    \"WD86055_ROI4\":\"ROI1\",\n",
    "    \"WD86055_ROI2\":\"ROI2\",\n",
    "    \"WD86055_ROI3\":\"ROI3\",\n",
    "    \"WD86055_ROI1\":\"ROI4\",\n",
    "    \"WD86056_ROI2\":\"ROI5\",\n",
    "    \"WD86056_ROI1\":\"ROI6\",\n",
    "    \"WD86056_ROI4\":\"ROI7\",\n",
    "    \"WD86056_ROI3\":\"ROI8\",\n",
    "}\n",
    "\n",
    "for s in sample_key.loc[sample_key.patient_name == \"PAT71397\", :].index:\n",
    "    print(\"Starting {}:\".format(s), end=\"\\n\\t\")\n",
    "    a = sc.read(\"../data/ST/{}_master.h5ad\".format(s))\n",
    "        \n",
    "    try:\n",
    "        print(a.obs.LCM_ROI.value_counts())\n",
    "        a.obs.LCM_ROI.replace(mapper, inplace=True)\n",
    "        print(a.obs.LCM_ROI.value_counts())\n",
    "        # save to master anndata object\n",
    "        print(\"\\tSaving to ../data/ST/{}_master.h5ad\".format(s), end=\"\\n\\n\")\n",
    "        a.write(\"../data/ST/{}_master.h5ad\".format(s), compression=\"gzip\")\n",
    "    except:\n",
    "        print(\"Error on {}!!!\".format(s))"
   ]
  },
  {
   "cell_type": "markdown",
   "metadata": {},
   "source": [
    "---\n",
    "\n",
    "## Re-map `LCM_ROI` values for the rest of the patients\n",
    "\n",
    "(split off tumor block ID by '_' so it's only 'ROI#')"
   ]
  },
  {
   "cell_type": "code",
   "execution_count": null,
   "metadata": {},
   "outputs": [],
   "source": [
    "for s in sample_key.loc[sample_key.project.isin([\"7003_AS\"]), :].index:\n",
    "    print(\"Starting {}:\".format(s), end=\"\\n\\t\")\n",
    "    a = sc.read(\"../data/ST/{}_master.h5ad\".format(s))\n",
    "        \n",
    "    try:\n",
    "        print(a.obs.LCM_ROI.value_counts())\n",
    "        a.obs.LCM_ROI = a.obs.LCM_ROI.str.split(\"_\").str[1]\n",
    "        print(a.obs.LCM_ROI.value_counts())\n",
    "        # save to master anndata object\n",
    "        print(\"\\tSaving to ../data/ST/{}_master.h5ad\".format(s), end=\"\\n\\n\")\n",
    "        a.write(\"../data/ST/{}_master.h5ad\".format(s), compression=\"gzip\")\n",
    "    except:\n",
    "        print(\"Error on {}!!!\".format(s))"
   ]
  },
  {
   "cell_type": "markdown",
   "metadata": {},
   "source": [
    "---\n",
    "## Read in new MILWRM data for all patients and add to master AnnData"
   ]
  },
  {
   "cell_type": "code",
   "execution_count": null,
   "metadata": {},
   "outputs": [],
   "source": [
    "for s in sample_key.index:\n",
    "    print(\"Starting {}:\".format(s), end=\"\\n\\t\")\n",
    "    a = sc.read(\"../data/ST/{}_master.h5ad\".format(s))\n",
    "    \n",
    "    # drop refNMF, MxIF, MILWRM columns\n",
    "    a.obs.drop(columns=a.obs.columns[a.obs.columns.duplicated()])\n",
    "    a.obs.drop(\n",
    "        columns=list(set(list(a.obs.columns[a.obs.columns.str.endswith(\"_VUMCrefNMF30\")]) + \n",
    "        list(a.obs.columns[a.obs.columns.str.endswith(\"_MxIF\")]) + \n",
    "        [\"MILWRM Domain\", \"refNMF-MxIF MILWRM Domain\", \"MILWRM Confidence Score\", \"refNMF-MxIF MILWRM Confidence Score\"]).intersection(set(a.obs.columns))),\n",
    "        inplace=True,\n",
    "    )\n",
    "    \n",
    "    # get VUMC refNMF fractions\n",
    "    print(\"VUMC refNMF fractions & MILWRM domains\", end=\", \")\n",
    "    tmp = sc.read(os.path.join(\"../../\", sample_key.loc[s, \"MILWRM_VUMCrefNMF30_adata\"]))\n",
    "    old_cols = list(tmp.obs.columns[tmp.obs.columns.str.startswith(\"usage_\")])\n",
    "    new_cols = [x + \"_VUMCrefNMF30\" for x in tmp.obs.columns[tmp.obs.columns.str.startswith(\"usage_\")].str.split(\"_\").str[-1]]\n",
    "    tmp.obs.rename(columns = dict(zip(old_cols, new_cols)), inplace=True)\n",
    "    a.obs = a.obs.merge(tmp.obs[new_cols + [\"MILWRM Domain\", \"MILWRM Confidence Score\"]], left_index=True, right_index=True, how=\"left\")\n",
    "\n",
    "    # get MxIF MILWRM\n",
    "    try:\n",
    "        # filter to MxIF pixels and add marker intensities, MILWRM domains\n",
    "        obs = pd.read_csv(os.path.join(\"../../\", sample_key.loc[s, \"MILWRM_VUMCrefNMF30_MxIF_obs\"]), index_col=0)\n",
    "        #a = a[list(set(a.obs_names).intersection(set(obs.index))),:].copy()  # filter to spots within MxIF mask\n",
    "        # add _MxIF label to protein stain markers in .obs\n",
    "        new_cols = [x + \"_MxIF\" for x in MxIF_cols] + [\"refNMF-MxIF MILWRM Domain\", \"refNMF-MxIF MILWRM Confidence Score\"]\n",
    "        obs.rename(columns = dict(zip(MxIF_cols + [\"VUMCrefNMF30_MxIF_MILWRM_domain\", \"VUMCrefNMF30_MxIF_MILWRM_confidence_score\"], new_cols)), inplace=True)\n",
    "        a.obs = a.obs.merge(\n",
    "            obs[list(set([x + \"_MxIF\" for x in MxIF_cols]).intersection(set(obs.columns))) + [\"refNMF-MxIF MILWRM Domain\", \"refNMF-MxIF MILWRM Confidence Score\"]],\n",
    "            left_index=True,\n",
    "            right_index=True,\n",
    "            how=\"left\",\n",
    "        )\n",
    "        print(\"MxIF + refNMF MILWRM domains\".format(s), end=\", \")\n",
    "    except:\n",
    "        print(\"No MxIF MILWRM detected for {}\".format(s), end=\", \")\n",
    "\n",
    "    # save to master anndata object\n",
    "    print(\"\\tSaving to ../data/ST/{}_master.h5ad\".format(s), end=\"\\n\\n\")\n",
    "    a.write(\"../data/ST/{}_master.h5ad\".format(s), compression=\"gzip\")"
   ]
  },
  {
   "cell_type": "markdown",
   "metadata": {},
   "source": [
    "---\n",
    "## Add number of WES variants detected by `LCM_ROI` or bulk for polyps"
   ]
  },
  {
   "cell_type": "code",
   "execution_count": null,
   "metadata": {},
   "outputs": [],
   "source": [
    "muts = pd.read_csv(\"../step1/WES_out/LCM_variants_per_sample.csv\", index_col=0)\n",
    "\n",
    "# rename PAT71397 ROIs to final mapping (changed from WES to ST)\n",
    "mapper = {\n",
    "    \"WD86055_ROI4\":\"WD86055_ROI1\",\n",
    "    \"WD86055_ROI2\":\"WD86055_ROI2\",\n",
    "    \"WD86055_ROI3\":\"WD86055_ROI3\",\n",
    "    \"WD86055_ROI1\":\"WD86055_ROI4\",\n",
    "    \"WD86056_ROI2\":\"WD86055_ROI5\",\n",
    "    \"WD86056_ROI1\":\"WD86055_ROI6\",\n",
    "    \"WD86056_ROI4\":\"WD86055_ROI7\",\n",
    "    \"WD86056_ROI3\":\"WD86055_ROI8\",\n",
    "    \"WD33475_ROI4\":\"WD33475_ROI3\",\n",
    "    \"WD33475_ROI5\":\"WD33475_ROI4\",\n",
    "}\n",
    "muts.Tumor_Sample_Barcode.replace(mapper, inplace=True)\n",
    "\n",
    "muts[\"Tumor_Sample_Barcode\"] = [sample_key.loc[sample_key.block_name==x.split(\"_\")[0],\"patient_name\"][0] + \"_\" + x.split(\"_\")[1] for x in muts[\"Tumor_Sample_Barcode\"]]\n",
    "muts[[\"Patient\", \"ROI\"]] = muts[\"Tumor_Sample_Barcode\"].str.split(\"_\", expand=True)"
   ]
  },
  {
   "cell_type": "code",
   "execution_count": null,
   "metadata": {},
   "outputs": [],
   "source": [
    "muts = muts.merge(\n",
    "    sample_key.loc[sample_key.tumor_type.isin([\"MSS\",\"MSI-H\"]),[\"patient_name\",\"tumor_type\"]],\n",
    "    left_on=\"Patient\",\n",
    "    right_on=\"patient_name\",\n",
    "    how=\"left\",\n",
    ").drop_duplicates()\n",
    "muts = muts.drop(columns=[\"patient_name\"])"
   ]
  },
  {
   "cell_type": "code",
   "execution_count": null,
   "metadata": {},
   "outputs": [],
   "source": [
    "muts"
   ]
  },
  {
   "cell_type": "code",
   "execution_count": null,
   "metadata": {},
   "outputs": [],
   "source": [
    "muts2 = pd.read_csv(\"../step1/WES_out/pseudobulk_variants_per_sample.csv\", index_col=0)"
   ]
  },
  {
   "cell_type": "code",
   "execution_count": null,
   "metadata": {},
   "outputs": [],
   "source": [
    "muts2[\"Tumor_Sample_Barcode\"] = muts2[\"Tumor_Sample_Barcode\"].str.split(\"_polyp\").str[0].str.replace(\"MAP.\",\"HTA11_\")"
   ]
  },
  {
   "cell_type": "code",
   "execution_count": null,
   "metadata": {},
   "outputs": [],
   "source": [
    "muts2"
   ]
  },
  {
   "cell_type": "markdown",
   "metadata": {},
   "source": [
    "---"
   ]
  },
  {
   "cell_type": "code",
   "execution_count": null,
   "metadata": {},
   "outputs": [],
   "source": [
    "for s in sample_key.index:\n",
    "    a = sc.read(\"../data/ST/{}_master.h5ad\".format(s))\n",
    "    print(\"Read adata from ../data/ST/{}_master.h5ad\".format(s))\n",
    "    \n",
    "    if \"LCM_ROI\" in a.obs.columns:\n",
    "        a.obs.LCM_ROI = a.obs.LCM_ROI.astype(str)\n",
    "        \n",
    "        # add number of detected Variants\n",
    "        a.obs = a.obs.reset_index().merge(\n",
    "            muts[[\"Patient\",\"ROI\",\"Variants\"]],\n",
    "            left_on=[\"Patient\",\"LCM_ROI\"],\n",
    "            right_on=[\"Patient\",\"ROI\"],\n",
    "            how=\"left\",\n",
    "        ).drop(columns=\"ROI\").set_index(\"index\")\n",
    "    else:\n",
    "        try:\n",
    "            # add number of detected Variants\n",
    "            a.obs = a.obs.reset_index().merge(\n",
    "                muts[[\"Patient\",\"ROI\",\"Variants\"]],\n",
    "                left_on=[\"Patient\",\"LCM_ROI\"],\n",
    "                right_on=[\"Patient\",\"ROI\"],\n",
    "                how=\"left\",\n",
    "            ).drop(columns=\"ROI\").set_index(\"index\")\n",
    "        except:\n",
    "            print(\"No LCM variants found\")\n",
    "        try:\n",
    "            a.obs[\"Variants\"] = muts2.loc[muts2.Tumor_Sample_Barcode==sample_key.loc[s,:].block_name,\"Variants\"].values[0]\n",
    "        except:\n",
    "            print(\"No bulk variants found\")\n",
    "\n",
    "    if (\"LCM_ROI\" not in a.obs.columns) & (sample_key.loc[s,\"block_name\"].startswith(\"WD\")):\n",
    "        print(\"skipping\")\n",
    "    elif (\"LCM_ROI\" not in a.obs.columns) & (sample_key.loc[s,\"block_name\"].startswith(\"S\")):\n",
    "        print(\"skipping\")\n",
    "    else:\n",
    "        # save to master anndata object\n",
    "        print(\"\\tSaving to ../data/ST/{}_master.h5ad\".format(s), end=\"\\n\\n\")\n",
    "        a.write(\"../data/ST/{}_master.h5ad\".format(s), compression=\"gzip\")"
   ]
  }
 ],
 "metadata": {
  "kernelspec": {
   "display_name": "scanpy",
   "language": "python",
   "name": "scanpy"
  },
  "language_info": {
   "codemirror_mode": {
    "name": "ipython",
    "version": 3
   },
   "file_extension": ".py",
   "mimetype": "text/x-python",
   "name": "python",
   "nbconvert_exporter": "python",
   "pygments_lexer": "ipython3",
   "version": "3.8.10"
  }
 },
 "nbformat": 4,
 "nbformat_minor": 4
}
