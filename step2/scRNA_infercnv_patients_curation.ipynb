{
 "cells": [
  {
   "cell_type": "code",
   "execution_count": null,
   "metadata": {},
   "outputs": [],
   "source": [
    "import sys; sys.path.append(\"../resources/\")\n",
    "from infercnv_utils import *\n",
    "import pandas as pd\n",
    "# make this notebook work better with Scanpy\n",
    "import warnings; warnings.simplefilter(action='ignore', category=FutureWarning)"
   ]
  },
  {
   "cell_type": "code",
   "execution_count": null,
   "metadata": {},
   "outputs": [],
   "source": [
    "# make output directories\n",
    "import os\n",
    "if not os.path.exists(\"scRNA_out\"):\n",
    "    os.mkdir(\"scRNA_out\")\n",
    "\n",
    "if not os.path.exists(\"scRNA_out/infercnv/\"):\n",
    "    os.mkdir(\"scRNA_out/infercnv/\")"
   ]
  },
  {
   "cell_type": "code",
   "execution_count": null,
   "metadata": {},
   "outputs": [],
   "source": [
    "sc.set_figure_params(transparent=True, dpi_save=400)\n",
    "sc.settings.figdir = \"scRNA_out/infercnv/\""
   ]
  },
  {
   "cell_type": "markdown",
   "metadata": {
    "tags": []
   },
   "source": [
    "---\n",
    "# Read in data"
   ]
  },
  {
   "cell_type": "code",
   "execution_count": null,
   "metadata": {},
   "outputs": [],
   "source": [
    "a_comb = sc.read(\"../data/scRNA/VUMC_COMBINED.h5ad\"); a_comb"
   ]
  },
  {
   "cell_type": "code",
   "execution_count": null,
   "metadata": {},
   "outputs": [],
   "source": [
    "a = a_comb[a_comb.obs.Patient != \"\", :].copy() ; a"
   ]
  },
  {
   "cell_type": "code",
   "execution_count": null,
   "metadata": {},
   "outputs": [],
   "source": [
    "# read in results from previous run\n",
    "# read in CNV matrix and put in a.obsm slot\n",
    "tmp = np.load(\"../step1/scRNA_out/infercnv/VUMC_cnv.npz\", allow_pickle=\"TRUE\")\n",
    "a.obsm[\"X_cnv\"] = tmp.f.arr_0.item()\n",
    "# read in CNV genomic partitions\n",
    "a.uns[\"cnv\"] = np.load(\"../step1/scRNA_out/infercnv/uns_cnv_VUMC.npy\", allow_pickle=\"TRUE\").item()\n",
    "# read in cnv_score and cnv_leiden\n",
    "a.obs = a.obs.merge(\n",
    "    pd.read_csv(\"../step1/scRNA_out/infercnv/VUMC_cnv_leiden.csv\", index_col=0),\n",
    "    left_index=True,\n",
    "    right_index=True\n",
    ")"
   ]
  },
  {
   "cell_type": "code",
   "execution_count": null,
   "metadata": {},
   "outputs": [],
   "source": [
    "a.obs.cnv_leiden = a.obs.cnv_leiden.astype(str)\n",
    "a.obs.cnv_leiden = a.obs.cnv_leiden.astype(\"category\")"
   ]
  },
  {
   "cell_type": "markdown",
   "metadata": {},
   "source": [
    "---\n",
    "## PAT71397"
   ]
  },
  {
   "cell_type": "code",
   "execution_count": null,
   "metadata": {},
   "outputs": [],
   "source": [
    "cnv.pl.chromosome_heatmap(\n",
    "    a[a.obs[\"Patient\"]==\"PAT71397\",:],\n",
    "    groupby=\"cnv_leiden\",\n",
    "    dendrogram=True,\n",
    "    figsize=(12,8),\n",
    ")"
   ]
  },
  {
   "cell_type": "code",
   "execution_count": null,
   "metadata": {},
   "outputs": [],
   "source": [
    "# define dictionary to remap cnv_leiden\n",
    "d = {\n",
    "    \"5\":\"1\",\n",
    "    \"1\":\"2A\",\n",
    "    \"18\":\"2B\",\n",
    "}\n",
    "\n",
    "pat = \"PAT71397\""
   ]
  },
  {
   "cell_type": "code",
   "execution_count": null,
   "metadata": {},
   "outputs": [],
   "source": [
    "curate_cnv_scRNA(adata=a, pat=pat, d=d, infercnv_dir=\"scRNA_out/infercnv/\")"
   ]
  },
  {
   "cell_type": "markdown",
   "metadata": {},
   "source": [
    "---\n",
    "## PAT71662"
   ]
  },
  {
   "cell_type": "code",
   "execution_count": null,
   "metadata": {},
   "outputs": [],
   "source": [
    "cnv.pl.chromosome_heatmap(\n",
    "    a[a.obs[\"Patient\"]==\"PAT71662\",:],\n",
    "    groupby=\"cnv_leiden\",\n",
    "    dendrogram=True,\n",
    "    figsize=(12,8),\n",
    ")"
   ]
  },
  {
   "cell_type": "code",
   "execution_count": null,
   "metadata": {},
   "outputs": [],
   "source": [
    "# define dictionary to remap cnv_leiden\n",
    "d = {\n",
    "    \"1\":\"1A\",\n",
    "    \"9\":\"1B\",\n",
    "}\n",
    "\n",
    "pat = \"PAT71662\""
   ]
  },
  {
   "cell_type": "code",
   "execution_count": null,
   "metadata": {},
   "outputs": [],
   "source": [
    "curate_cnv_scRNA(adata=a, pat=pat, d=d, infercnv_dir=\"scRNA_out/infercnv/\")"
   ]
  },
  {
   "cell_type": "markdown",
   "metadata": {},
   "source": [
    "---\n",
    "## PAT73899"
   ]
  },
  {
   "cell_type": "code",
   "execution_count": null,
   "metadata": {},
   "outputs": [],
   "source": [
    "cnv.pl.chromosome_heatmap(\n",
    "    a[a.obs[\"Patient\"]==\"PAT73899\",:],\n",
    "    groupby=\"cnv_leiden\",\n",
    "    dendrogram=True,\n",
    "    figsize=(12,8),\n",
    ")"
   ]
  },
  {
   "cell_type": "code",
   "execution_count": null,
   "metadata": {},
   "outputs": [],
   "source": [
    "# define dictionary to remap cnv_leiden\n",
    "d = {\n",
    "    \"1\":\"1A\",\n",
    "    \"15\":\"1B\",\n",
    "}\n",
    "\n",
    "pat = \"PAT73899\""
   ]
  },
  {
   "cell_type": "code",
   "execution_count": null,
   "metadata": {},
   "outputs": [],
   "source": [
    "curate_cnv_scRNA(adata=a, pat=pat, d=d, infercnv_dir=\"scRNA_out/infercnv/\")"
   ]
  },
  {
   "cell_type": "markdown",
   "metadata": {},
   "source": [
    "---\n",
    "## PAT74143"
   ]
  },
  {
   "cell_type": "code",
   "execution_count": null,
   "metadata": {},
   "outputs": [],
   "source": [
    "cnv.pl.chromosome_heatmap(\n",
    "    a[a.obs[\"Patient\"]==\"PAT74143\",:],\n",
    "    groupby=\"cnv_leiden\",\n",
    "    dendrogram=True,\n",
    "    figsize=(12,8),\n",
    ")"
   ]
  },
  {
   "cell_type": "code",
   "execution_count": null,
   "metadata": {},
   "outputs": [],
   "source": [
    "# define dictionary to remap cnv_leiden\n",
    "d = {\n",
    "    \"11\":\"1\",\n",
    "}\n",
    "\n",
    "pat = \"PAT74143\""
   ]
  },
  {
   "cell_type": "code",
   "execution_count": null,
   "metadata": {},
   "outputs": [],
   "source": [
    "curate_cnv_scRNA(adata=a, pat=pat, d=d, infercnv_dir=\"scRNA_out/infercnv/\")"
   ]
  },
  {
   "cell_type": "markdown",
   "metadata": {},
   "source": [
    "---\n",
    "## PAT73458"
   ]
  },
  {
   "cell_type": "code",
   "execution_count": null,
   "metadata": {},
   "outputs": [],
   "source": [
    "cnv.pl.chromosome_heatmap(\n",
    "    a[a.obs[\"Patient\"]==\"PAT73458\",:],\n",
    "    groupby=\"cnv_leiden\",\n",
    "    dendrogram=True,\n",
    "    figsize=(12,8),\n",
    ")"
   ]
  },
  {
   "cell_type": "code",
   "execution_count": null,
   "metadata": {},
   "outputs": [],
   "source": [
    "# define dictionary to remap cnv_leiden\n",
    "d = {\n",
    "    \"14\":\"1\",\n",
    "}\n",
    "\n",
    "pat = \"PAT73458\""
   ]
  },
  {
   "cell_type": "code",
   "execution_count": null,
   "metadata": {},
   "outputs": [],
   "source": [
    "curate_cnv_scRNA(adata=a, pat=pat, d=d, infercnv_dir=\"scRNA_out/infercnv/\")"
   ]
  },
  {
   "cell_type": "markdown",
   "metadata": {},
   "source": [
    "---\n",
    "## MAP07862"
   ]
  },
  {
   "cell_type": "code",
   "execution_count": null,
   "metadata": {},
   "outputs": [],
   "source": [
    "cnv.pl.chromosome_heatmap(\n",
    "    a[a.obs[\"Patient\"]==\"HTA11_07862\",:],\n",
    "    groupby=\"cnv_leiden\",\n",
    "    dendrogram=True,\n",
    "    figsize=(12,8),\n",
    ")"
   ]
  },
  {
   "cell_type": "code",
   "execution_count": null,
   "metadata": {},
   "outputs": [],
   "source": [
    "# define dictionary to remap cnv_leiden\n",
    "d = {\n",
    "    \"5\":\"2B\",\n",
    "    \"4\":\"2A\",\n",
    "    \"7\":\"1\",\n",
    "}\n",
    "\n",
    "pat = \"HTA11_07862\""
   ]
  },
  {
   "cell_type": "code",
   "execution_count": null,
   "metadata": {},
   "outputs": [],
   "source": [
    "curate_cnv_scRNA(adata=a, pat=pat, d=d, infercnv_dir=\"scRNA_out/infercnv/\")"
   ]
  },
  {
   "cell_type": "markdown",
   "metadata": {},
   "source": [
    "---\n",
    "## MAP10711"
   ]
  },
  {
   "cell_type": "code",
   "execution_count": null,
   "metadata": {},
   "outputs": [],
   "source": [
    "cnv.pl.chromosome_heatmap(\n",
    "    a[a.obs[\"Patient\"]==\"HTA11_10711\",:],\n",
    "    groupby=\"cnv_leiden\",\n",
    "    dendrogram=True,\n",
    "    figsize=(12,8),\n",
    ")"
   ]
  },
  {
   "cell_type": "code",
   "execution_count": null,
   "metadata": {},
   "outputs": [],
   "source": [
    "# define dictionary to remap cnv_leiden\n",
    "d = {\n",
    "    \"3\":\"1\",\n",
    "}\n",
    "\n",
    "pat = \"HTA11_10711\""
   ]
  },
  {
   "cell_type": "code",
   "execution_count": null,
   "metadata": {},
   "outputs": [],
   "source": [
    "curate_cnv_scRNA(adata=a, pat=pat, d=d, infercnv_dir=\"scRNA_out/infercnv/\")"
   ]
  },
  {
   "cell_type": "markdown",
   "metadata": {},
   "source": [
    "---\n",
    "## HTA11_07663"
   ]
  },
  {
   "cell_type": "code",
   "execution_count": null,
   "metadata": {},
   "outputs": [],
   "source": [
    "cnv.pl.chromosome_heatmap(\n",
    "    a[a.obs[\"Patient\"]==\"HTA11_07663\",:],\n",
    "    groupby=\"cnv_leiden\",\n",
    "    dendrogram=True,\n",
    "    figsize=(12,8),\n",
    ")"
   ]
  },
  {
   "cell_type": "code",
   "execution_count": null,
   "metadata": {},
   "outputs": [],
   "source": [
    "# define dictionary to remap cnv_leiden\n",
    "d = {\n",
    "    \"4\":\"2\",\n",
    "    \"7\":\"1\",\n",
    "}\n",
    "\n",
    "pat = \"HTA11_07663\""
   ]
  },
  {
   "cell_type": "code",
   "execution_count": null,
   "metadata": {},
   "outputs": [],
   "source": [
    "curate_cnv_scRNA(adata=a, pat=pat, d=d, infercnv_dir=\"scRNA_out/infercnv/\")"
   ]
  },
  {
   "cell_type": "markdown",
   "metadata": {},
   "source": [
    "---\n",
    "## HTA11_06134"
   ]
  },
  {
   "cell_type": "code",
   "execution_count": null,
   "metadata": {},
   "outputs": [],
   "source": [
    "cnv.pl.chromosome_heatmap(\n",
    "    a[a.obs[\"Patient\"]==\"HTA11_06134\",:],\n",
    "    groupby=\"cnv_leiden\",\n",
    "    dendrogram=True,\n",
    "    figsize=(12,8),\n",
    ")"
   ]
  },
  {
   "cell_type": "code",
   "execution_count": null,
   "metadata": {},
   "outputs": [],
   "source": [
    "# define dictionary to remap cnv_leiden\n",
    "d = {\n",
    "    \"5\":\"1A\",\n",
    "    \"3\":\"1B\",\n",
    "}\n",
    "\n",
    "pat = \"HTA11_06134\""
   ]
  },
  {
   "cell_type": "code",
   "execution_count": null,
   "metadata": {},
   "outputs": [],
   "source": [
    "curate_cnv_scRNA(adata=a, pat=pat, d=d, infercnv_dir=\"scRNA_out/infercnv/\")"
   ]
  },
  {
   "cell_type": "markdown",
   "metadata": {},
   "source": [
    "---\n",
    "## HTA11_01938"
   ]
  },
  {
   "cell_type": "code",
   "execution_count": null,
   "metadata": {},
   "outputs": [],
   "source": [
    "cnv.pl.chromosome_heatmap(\n",
    "    a[a.obs[\"Patient\"]==\"HTA11_01938\",:],\n",
    "    groupby=\"cnv_leiden\",\n",
    "    dendrogram=True,\n",
    "    figsize=(12,8),\n",
    ")"
   ]
  },
  {
   "cell_type": "code",
   "execution_count": null,
   "metadata": {},
   "outputs": [],
   "source": [
    "# define dictionary to remap cnv_leiden\n",
    "d = {\n",
    "    \"5\":\"1\",\n",
    "}\n",
    "\n",
    "pat = \"HTA11_01938\""
   ]
  },
  {
   "cell_type": "code",
   "execution_count": null,
   "metadata": {},
   "outputs": [],
   "source": [
    "curate_cnv_scRNA(adata=a, pat=pat, d=d, infercnv_dir=\"scRNA_out/infercnv/\")"
   ]
  },
  {
   "cell_type": "markdown",
   "metadata": {},
   "source": [
    "---\n",
    "## HTA11_08622"
   ]
  },
  {
   "cell_type": "code",
   "execution_count": null,
   "metadata": {},
   "outputs": [],
   "source": [
    "cnv.pl.chromosome_heatmap(\n",
    "    a[a.obs[\"Patient\"]==\"HTA11_08622\",:],\n",
    "    groupby=\"cnv_leiden\",\n",
    "    dendrogram=True,\n",
    "    figsize=(12,8),\n",
    ")"
   ]
  },
  {
   "cell_type": "code",
   "execution_count": null,
   "metadata": {},
   "outputs": [],
   "source": [
    "# define dictionary to remap cnv_leiden\n",
    "d = {\n",
    "    \"7\":\"1\",\n",
    "    \"4\":\"2A\",\n",
    "    \"3\":\"2B\",\n",
    "}\n",
    "\n",
    "pat = \"HTA11_08622\""
   ]
  },
  {
   "cell_type": "code",
   "execution_count": null,
   "metadata": {},
   "outputs": [],
   "source": [
    "curate_cnv_scRNA(adata=a, pat=pat, d=d, infercnv_dir=\"scRNA_out/infercnv/\")"
   ]
  },
  {
   "cell_type": "markdown",
   "metadata": {},
   "source": [
    "---\n",
    "# Save 'CNV Clone' to `.csv` file"
   ]
  },
  {
   "cell_type": "code",
   "execution_count": null,
   "metadata": {},
   "outputs": [],
   "source": [
    "a.obs[[\"cnv_leiden\", \"cnv_score\", \"CNV clone\"]].to_csv(\"scRNA_out/infercnv/VUMC_cnv_leiden.csv\")"
   ]
  }
 ],
 "metadata": {
  "kernelspec": {
   "display_name": "scanpy",
   "language": "python",
   "name": "scanpy"
  },
  "language_info": {
   "codemirror_mode": {
    "name": "ipython",
    "version": 3
   },
   "file_extension": ".py",
   "mimetype": "text/x-python",
   "name": "python",
   "nbconvert_exporter": "python",
   "pygments_lexer": "ipython3",
   "version": "3.8.10"
  }
 },
 "nbformat": 4,
 "nbformat_minor": 4
}
