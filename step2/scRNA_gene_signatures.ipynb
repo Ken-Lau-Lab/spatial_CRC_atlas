{
 "cells": [
  {
   "cell_type": "code",
   "execution_count": null,
   "metadata": {},
   "outputs": [],
   "source": [
    "import numpy as np\n",
    "import pandas as pd\n",
    "import scanpy as sc\n",
    "import MILWRM.ST as st\n",
    "\n",
    "# some stuff to make this notebook work better with Scanpy\n",
    "import warnings\n",
    "warnings.simplefilter(action='ignore', category=FutureWarning)\n",
    "\n",
    "import matplotlib.pyplot as plt\n",
    "import matplotlib.gridspec as gridspec\n",
    "import seaborn as sns"
   ]
  },
  {
   "cell_type": "code",
   "execution_count": null,
   "metadata": {},
   "outputs": [],
   "source": [
    "# make output directories\n",
    "import os\n",
    "if not os.path.exists(\"scRNA_out\"):\n",
    "    os.mkdir(\"scRNA_out\")\n",
    "\n",
    "if not os.path.exists(\"scRNA_out/gene_signatures/\"):\n",
    "    os.mkdir(\"scRNA_out/gene_signatures/\")"
   ]
  },
  {
   "cell_type": "code",
   "execution_count": null,
   "metadata": {},
   "outputs": [],
   "source": [
    "sc.set_figure_params(transparent=True, dpi_save=400)\n",
    "sns.set_style(\"white\")\n",
    "sc.settings.figdir = \"scRNA_out/gene_signatures/\""
   ]
  },
  {
   "cell_type": "markdown",
   "metadata": {
    "tags": []
   },
   "source": [
    "---\n",
    "### Define gene signatures"
   ]
  },
  {
   "cell_type": "code",
   "execution_count": null,
   "metadata": {},
   "outputs": [],
   "source": [
    "g = pd.read_csv(\"../resources/gene_signatures.csv\")\n",
    "g = g.fillna(0)\n",
    "g.columns"
   ]
  },
  {
   "cell_type": "code",
   "execution_count": null,
   "metadata": {},
   "outputs": [],
   "source": [
    "genes = {}\n",
    "for k in g.keys():\n",
    "    genes[k] = [x for x in g[k] if x !=0]"
   ]
  },
  {
   "cell_type": "code",
   "execution_count": null,
   "metadata": {},
   "outputs": [],
   "source": [
    "len(genes.keys())"
   ]
  },
  {
   "cell_type": "code",
   "execution_count": null,
   "metadata": {},
   "outputs": [],
   "source": [
    "# exclude CBC, RSC, iCMS2 and iCMS3 lists\n",
    "# we're going to concatenate them into two respective signature scores\n",
    "genes_short = [key for key in genes.keys() if key not in [\n",
    "    'iCMS2_Up','iCMS2_Down','iCMS3_Up','iCMS3_Down'\n",
    "]]\n",
    "len(genes_short)"
   ]
  },
  {
   "cell_type": "code",
   "execution_count": null,
   "metadata": {},
   "outputs": [],
   "source": [
    "# recombine signatures into useful categories\n",
    "signatures_epi_stroma = [\n",
    "    'IFN Stimulated EPI',\n",
    "    'iCMS2',\n",
    "    'iCMS3',\n",
    "    'CBC', # Gil Vasquez, et al. 2022\n",
    "    'RSC', # Gil Vasquez, et al. 2022\n",
    "    'Basal',\n",
    "    'Squamous',\n",
    "    'Mesenchymal',\n",
    "    'Glandular',\n",
    "    'Ciliated',\n",
    "    'Alveolar',\n",
    "    'AC', # astrocyte\n",
    "    'OPC', # oligodendrocyte progenitor\n",
    "    'NPC', # neural progenitor\n",
    "    'IES', # custom epithelial-intrinsic exclusion signature\n",
    "]\n",
    "\n",
    "signatures_myeloid = [\n",
    "    'Myeloid',\n",
    "    'cDC2',\n",
    "    'cDC1',\n",
    "    'Macrophage',\n",
    "    'Classical Monocytes',\n",
    "    'M1',\n",
    "    'M2',\n",
    "    'Neutrophils',\n",
    "    'Costimulatory MYE',\n",
    "    'Stimulatory DCs',\n",
    "    'IFN Stimulated MYE',\n",
    "]\n",
    "\n",
    "signatures_lymphoid = [\n",
    "    'T cell',\n",
    "    'T reg',\n",
    "    'T cell CD4',\n",
    "    'T cell CD8',\n",
    "    'T reg Resting',\n",
    "    'T reg Suppressive',\n",
    "    'T reg Tissue_Homing',\n",
    "    'T reg Cytokines',\n",
    "    'T reg Activation',\n",
    "    'TH1',\n",
    "    'TH2',\n",
    "    'TH17',\n",
    "    'T cell Exhaustion',\n",
    "    'TRM', # tissue-resident memory T cells\n",
    "    'NK cell',\n",
    "    'B cell',\n",
    "    'Plasma cell',\n",
    "]\n",
    "\n",
    "signatures_activity = [\n",
    "    'EMT',\n",
    "    'pEMT',\n",
    "    'Senescence',\n",
    "    'SASP',\n",
    "    'Interferon',\n",
    "    'Hypoxia',\n",
    "    'Oxphos',\n",
    "    'Stress',\n",
    "    'Stress Response',\n",
    "    'Bacterial Response',\n",
    "    'Fibrosis',\n",
    "    'Cytotoxicity',\n",
    "    'Exhaustion',\n",
    "    'Cytokines',\n",
    "    'Chemokines',\n",
    "    'MHC',\n",
    "    'Fetal',\n",
    "    'Stem',\n",
    "    'Metaplasia',\n",
    "    'Proliferation',\n",
    "    'Translation',\n",
    "    'Cycle',\n",
    "    'Metal',\n",
    "]\n",
    "\n",
    "signatures_curated = [\n",
    "    # activity\n",
    "    'pEMT',\n",
    "    'Metaplasia',\n",
    "    'Stem',\n",
    "    'CytoTRACE',\n",
    "    'MHC',\n",
    "    'Fibrosis',\n",
    "    'Bacterial Response',\n",
    "    # epi/stroma\n",
    "    'IFN Stimulated EPI',\n",
    "    'iCMS2',\n",
    "    'iCMS3',\n",
    "    'CBC', # Gil Vasquez, et al. 2022\n",
    "    'RSC', # Gil Vasquez, et al. 2022\n",
    "    'Squamous',\n",
    "    'IES', # custom epithelial-intrinsic exclusion signature\n",
    "    # lymphoid\n",
    "    'T reg Suppressive',\n",
    "    'T cell CD4',\n",
    "    'T cell CD8',\n",
    "    'T cell Exhaustion',\n",
    "    # myeloid\n",
    "    'IFN Stimulated MYE',\n",
    "    'Neutrophils',\n",
    "]\n",
    "\n",
    "signatures_fig_1_2 = [\n",
    "    # activity\n",
    "    'Metaplasia',\n",
    "    'Stem',\n",
    "    'CytoTRACE',\n",
    "    # epi/stroma\n",
    "    'IFN Stimulated EPI',\n",
    "    'iCMS2',\n",
    "    'iCMS3',\n",
    "    'CBC', # Gil Vasquez, et al. 2022\n",
    "    'RSC', # Gil Vasquez, et al. 2022\n",
    "    # lymphoid\n",
    "    'T reg Suppressive',\n",
    "    'T cell CD4',\n",
    "    'T cell CD8',\n",
    "    'T cell Exhaustion',\n",
    "    # myeloid\n",
    "    'IFN Stimulated MYE',\n",
    "    'Neutrophils',\n",
    "]"
   ]
  },
  {
   "cell_type": "markdown",
   "metadata": {
    "tags": []
   },
   "source": [
    "---\n",
    "### Read in samples"
   ]
  },
  {
   "cell_type": "code",
   "execution_count": null,
   "metadata": {},
   "outputs": [],
   "source": [
    "nl_epi = sc.read(\"../data/scRNA/VUMC_HTAN_DIS_EPI_V2.h5ad\")\n",
    "epi = sc.read(\"../data/scRNA/abnormal_epithelium.h5ad\")\n",
    "stroma = sc.read(\"../data/scRNA/VUMC_HTAN_VAL_DIS_NONEPI_V2.h5ad\")\n",
    "broad = sc.read(\"../data/scRNA/Broad_Epi_sub.h5ad\")"
   ]
  },
  {
   "cell_type": "code",
   "execution_count": null,
   "metadata": {},
   "outputs": [],
   "source": [
    "%%time\n",
    "for a in [broad, nl_epi, epi, stroma]:\n",
    "    # score gene signatures\n",
    "    for sig in list(genes.keys()):\n",
    "        try:\n",
    "            print(sig)\n",
    "            sc.tl.score_genes(a, genes[sig], score_name=sig)\n",
    "        except:\n",
    "            print(\"{} failed!\".format(sig))\n",
    "\n",
    "    # score Stem_Cell_Index from Gil Vasquez, et al. using CBC and RSC lists\n",
    "    #try:\n",
    "    #    print(\"Stem Cell Index\")\n",
    "    #    sc.tl.score_genes(\n",
    "    #        a,\n",
    "    #        gene_list=genes[\"RSC\"],\n",
    "    #        gene_pool=genes[\"CBC\"]+genes[\"RSC\"],\n",
    "    #        ctrl_size=len(genes[\"CBC\"]),\n",
    "    #        score_name=\"Stem Cell Index\",\n",
    "    #    )\n",
    "    #except:\n",
    "    #    print(\"Stem_Cell_Index failed!\")\n",
    "\n",
    "    # score iCMS2 & iCMS3 using both of their respective lists (Up and Down)\n",
    "    try:\n",
    "        print(\"iCMS2\")\n",
    "        sc.tl.score_genes(\n",
    "            a,\n",
    "            gene_list=genes[\"iCMS2_Up\"],\n",
    "            gene_pool=genes[\"iCMS2_Down\"]+genes[\"iCMS2_Up\"],\n",
    "            ctrl_size=len(genes[\"iCMS2_Down\"]),\n",
    "            score_name=\"iCMS2\",\n",
    "        )\n",
    "    except:\n",
    "        print(\"iCMS2 failed!\")\n",
    "    try:\n",
    "        print(\"iCMS3\")\n",
    "        sc.tl.score_genes(\n",
    "            a,\n",
    "            gene_list=genes[\"iCMS3_Up\"],\n",
    "            gene_pool=genes[\"iCMS3_Down\"]+genes[\"iCMS3_Up\"],\n",
    "            ctrl_size=len(genes[\"iCMS3_Down\"]),\n",
    "            score_name=\"iCMS3\",\n",
    "        )\n",
    "    except:\n",
    "        print(\"iCMS3 failed!\")"
   ]
  },
  {
   "cell_type": "markdown",
   "metadata": {},
   "source": [
    "---\n",
    "## Get CytoTRACE values"
   ]
  },
  {
   "cell_type": "code",
   "execution_count": null,
   "metadata": {},
   "outputs": [],
   "source": [
    "a_comb = sc.read(\"../data/scRNA/VUMC_COMBINED.h5ad\")"
   ]
  },
  {
   "cell_type": "code",
   "execution_count": null,
   "metadata": {},
   "outputs": [],
   "source": [
    "cyto = pd.read_csv(\"../step1/scRNA_out/Broad_Epi_sub_CytoTRACE.csv\", index_col=0)\n",
    "cyto.columns = [\"CytoTRACE\"]\n",
    "cyto"
   ]
  },
  {
   "cell_type": "code",
   "execution_count": null,
   "metadata": {},
   "outputs": [],
   "source": [
    "a_comb.obs = a_comb.obs.merge(cyto, left_index=True, right_index=True, how=\"left\")"
   ]
  },
  {
   "cell_type": "code",
   "execution_count": null,
   "metadata": {},
   "outputs": [],
   "source": [
    "a_comb.obs.Compartment.value_counts()"
   ]
  },
  {
   "cell_type": "code",
   "execution_count": null,
   "metadata": {},
   "outputs": [],
   "source": [
    "tmp = a_comb[a_comb.obs.Compartment==\"Normal_Epithelium\",:].copy()"
   ]
  },
  {
   "cell_type": "code",
   "execution_count": null,
   "metadata": {},
   "outputs": [],
   "source": [
    "nl_epi.obs[\"CytoTRACE\"] = np.nan\n",
    "nl_epi.obs.loc[list(set(tmp.obs_names).intersection(set(nl_epi.obs_names))), \"CytoTRACE\"] = tmp.obs.loc[\n",
    "    list(set(tmp.obs_names).intersection(set(nl_epi.obs_names))),\n",
    "    \"CytoTRACE\"\n",
    "].values"
   ]
  },
  {
   "cell_type": "code",
   "execution_count": null,
   "metadata": {},
   "outputs": [],
   "source": [
    "tmp = a_comb[a_comb.obs.Compartment==\"Abnormal_Epithelium\",:].copy()"
   ]
  },
  {
   "cell_type": "code",
   "execution_count": null,
   "metadata": {},
   "outputs": [],
   "source": [
    "epi.obs[\"CytoTRACE\"] = np.nan\n",
    "epi.obs.loc[list(set(tmp.obs_names).intersection(set(epi.obs_names))), \"CytoTRACE\"] = tmp.obs.loc[\n",
    "    list(set(tmp.obs_names).intersection(set(epi.obs_names))),\n",
    "    \"CytoTRACE\"\n",
    "].values"
   ]
  },
  {
   "cell_type": "code",
   "execution_count": null,
   "metadata": {},
   "outputs": [],
   "source": [
    "tmp = a_comb[a_comb.obs.Compartment==\"Stroma\",:].copy()"
   ]
  },
  {
   "cell_type": "code",
   "execution_count": null,
   "metadata": {},
   "outputs": [],
   "source": [
    "stroma.obs[\"CytoTRACE\"] = np.nan\n",
    "stroma.obs.loc[list(set(tmp.obs_names).intersection(set(stroma.obs_names))), \"CytoTRACE\"] = tmp.obs.loc[\n",
    "    list(set(tmp.obs_names).intersection(set(stroma.obs_names))),\n",
    "    \"CytoTRACE\"\n",
    "].values"
   ]
  },
  {
   "cell_type": "markdown",
   "metadata": {},
   "source": [
    "---\n",
    "### Plot gene signatures"
   ]
  },
  {
   "cell_type": "code",
   "execution_count": null,
   "metadata": {},
   "outputs": [],
   "source": [
    "import kitchen.ingredients as k"
   ]
  },
  {
   "cell_type": "code",
   "execution_count": null,
   "metadata": {},
   "outputs": [],
   "source": [
    "%%time\n",
    "for a, name in zip([nl_epi, epi, stroma],[\"NLEPI\",\"EPI\",\"STROMA\"]):\n",
    "    # plot signature overlays (EPI/STROMA)\n",
    "    p = k.plot_embedding(\n",
    "        a,\n",
    "        colors=[\"Cell_Type\",\"Tumor_Type\"] + signatures_epi_stroma,\n",
    "        save_to=\"scRNA_out/gene_signatures/VUMC_{}_signatures_epi_stroma.png\".format(name),\n",
    "        ncols=5,\n",
    "        figsize_scale=0.6,\n",
    "        show_clustering=False,\n",
    "        cmap=\"viridis\",\n",
    "    )\n",
    "    # plot signature overlays (MYE)\n",
    "    p = k.plot_embedding(\n",
    "        a,\n",
    "        colors=[\"Cell_Type\",\"Tumor_Type\"] + signatures_myeloid,\n",
    "        save_to=\"scRNA_out/gene_signatures/VUMC_{}_signatures_myeloid.png\".format(name),\n",
    "        ncols=5,\n",
    "        figsize_scale=0.6,\n",
    "        show_clustering=False,\n",
    "        cmap=\"viridis\",\n",
    "    )\n",
    "    # plot signature overlays (LYMPH)\n",
    "    p = k.plot_embedding(\n",
    "        a,\n",
    "        colors=[\"Cell_Type\",\"Tumor_Type\"] + signatures_lymphoid,\n",
    "        save_to=\"scRNA_out/gene_signatures/VUMC_{}_signatures_lymphoid.png\".format(name),\n",
    "        ncols=5,\n",
    "        figsize_scale=0.6,\n",
    "        show_clustering=False,\n",
    "        cmap=\"viridis\",\n",
    "    )\n",
    "    # plot signature overlays (ACT)\n",
    "    p = k.plot_embedding(\n",
    "        a,\n",
    "        colors=[\"Cell_Type\",\"Tumor_Type\"] + signatures_activity,\n",
    "        save_to=\"scRNA_out/gene_signatures/VUMC_{}_signatures_activity.png\".format(name),\n",
    "        ncols=5,\n",
    "        figsize_scale=0.6,\n",
    "        show_clustering=False,\n",
    "        cmap=\"viridis\",\n",
    "    )"
   ]
  },
  {
   "cell_type": "markdown",
   "metadata": {},
   "source": [
    "---\n",
    "### Write updated anndata objects"
   ]
  },
  {
   "cell_type": "code",
   "execution_count": null,
   "metadata": {},
   "outputs": [],
   "source": [
    "nl_epi.write(\"../data/scRNA/VUMC_HTAN_DIS_EPI_V2.h5ad\", compression=\"gzip\")"
   ]
  },
  {
   "cell_type": "code",
   "execution_count": null,
   "metadata": {},
   "outputs": [],
   "source": [
    "epi.write(\"../data/scRNA/abnormal_epithelium.h5ad\", compression=\"gzip\")"
   ]
  },
  {
   "cell_type": "code",
   "execution_count": null,
   "metadata": {},
   "outputs": [],
   "source": [
    "stroma.write(\"../data/scRNA/VUMC_HTAN_VAL_DIS_NONEPI_V2.h5ad\", compression=\"gzip\")"
   ]
  },
  {
   "cell_type": "code",
   "execution_count": null,
   "metadata": {},
   "outputs": [],
   "source": [
    "broad.write(\"../data/scRNA/Broad_Epi_sub.h5ad\", compression=\"gzip\")"
   ]
  }
 ],
 "metadata": {
  "kernelspec": {
   "display_name": "scanpy",
   "language": "python",
   "name": "scanpy"
  },
  "language_info": {
   "codemirror_mode": {
    "name": "ipython",
    "version": 3
   },
   "file_extension": ".py",
   "mimetype": "text/x-python",
   "name": "python",
   "nbconvert_exporter": "python",
   "pygments_lexer": "ipython3",
   "version": "3.8.10"
  }
 },
 "nbformat": 4,
 "nbformat_minor": 5
}
