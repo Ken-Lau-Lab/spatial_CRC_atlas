{
 "cells": [
  {
   "cell_type": "markdown",
   "metadata": {},
   "source": [
    "# Immune Exclusion Signature (IES) validation\n",
    "\n",
    "1. score IES in all cells from VUMC and Broad datasets\n",
    "2. perform refNMF to identify immune cell state scores\n",
    "3. look for correlation between IES and TL2/TL3 abundance"
   ]
  },
  {
   "cell_type": "code",
   "execution_count": null,
   "metadata": {},
   "outputs": [],
   "source": [
    "# make output directories\n",
    "import os\n",
    "if not os.path.exists(\"scRNA_out\"):\n",
    "    os.mkdir(\"scRNA_out\")\n",
    "\n",
    "if not os.path.exists(\"scRNA_out/immexcl/\"):\n",
    "    os.mkdir(\"scRNA_out/immexcl/\")"
   ]
  },
  {
   "cell_type": "code",
   "execution_count": null,
   "metadata": {},
   "outputs": [],
   "source": [
    "import numpy as np\n",
    "import scanpy as sc\n",
    "import seaborn as sns\n",
    "import pandas as pd\n",
    "import sys; sys.path.append(\"../resources/ST/\")\n",
    "from visium_utils import deconvolve_cnmf"
   ]
  },
  {
   "cell_type": "code",
   "execution_count": null,
   "metadata": {},
   "outputs": [],
   "source": [
    "sc.set_figure_params(transparent=True, dpi_save=400)\n",
    "sc.settings.figdir = \"scRNA_out/immexcl/\""
   ]
  },
  {
   "cell_type": "markdown",
   "metadata": {
    "tags": []
   },
   "source": [
    "---\n",
    "### Define gene signatures"
   ]
  },
  {
   "cell_type": "code",
   "execution_count": null,
   "metadata": {},
   "outputs": [],
   "source": [
    "g = pd.read_csv(\"../resources/gene_signatures.csv\")\n",
    "g = g.fillna(0)\n",
    "g.columns"
   ]
  },
  {
   "cell_type": "code",
   "execution_count": null,
   "metadata": {},
   "outputs": [],
   "source": [
    "genes = {}\n",
    "for k in g.keys():\n",
    "    genes[k] = [x for x in g[k] if x !=0]"
   ]
  },
  {
   "cell_type": "code",
   "execution_count": null,
   "metadata": {},
   "outputs": [],
   "source": [
    "len(genes.keys())"
   ]
  },
  {
   "cell_type": "code",
   "execution_count": null,
   "metadata": {},
   "outputs": [],
   "source": [
    "# exclude CBC, RSC, iCMS2 and iCMS3 lists\n",
    "# we're going to concatenate them into two respective signature scores\n",
    "genes_short = [key for key in genes.keys() if key not in [\n",
    "    'iCMS2_Up','iCMS2_Down','iCMS3_Up','iCMS3_Down'\n",
    "]]\n",
    "len(genes_short)"
   ]
  },
  {
   "cell_type": "markdown",
   "metadata": {
    "tags": []
   },
   "source": [
    "---\n",
    "### Read in samples"
   ]
  },
  {
   "cell_type": "code",
   "execution_count": null,
   "metadata": {},
   "outputs": [],
   "source": [
    "v = sc.read(\"../data/scRNA/VUMC_HTAN_DIS_EPI_V2.h5ad\")\n",
    "v.obs.rename(columns={\"Immune Exclusion\":\"IES\"}, inplace=True)\n",
    "v.obs.Patient = v.obs.Patient.astype(str).replace(\"nan\",np.nan).fillna(v.obs[\"HTAN Specimen ID\"].astype(str).replace(\"nan\",np.nan))\n",
    "v.obs[\"Compartment\"] = \"Epithelium\"; v"
   ]
  },
  {
   "cell_type": "code",
   "execution_count": null,
   "metadata": {},
   "outputs": [],
   "source": [
    "v2 = sc.read(\"../data/scRNA/abnormal_epithelium.h5ad\")\n",
    "v2.obs.Patient = v2.obs.Patient.astype(str).replace(\"nan\",np.nan).fillna(v2.obs[\"HTAN Specimen ID\"].astype(str).replace(\"nan\",np.nan))\n",
    "v2.obs[\"Compartment\"] = \"Epithelium\"; v2"
   ]
  },
  {
   "cell_type": "code",
   "execution_count": null,
   "metadata": {},
   "outputs": [],
   "source": [
    "v_stroma = sc.read(\"../data/scRNA/VUMC_HTAN_VAL_DIS_NONEPI_V2.h5ad\")\n",
    "v_stroma.obs.Patient = v_stroma.obs[\"HTAN Specimen ID\"].values\n",
    "v_stroma.obs[\"Compartment\"] = \"Stroma\"; v_stroma"
   ]
  },
  {
   "cell_type": "code",
   "execution_count": null,
   "metadata": {},
   "outputs": [],
   "source": [
    "broad = sc.read(\"../data/scRNA/Broad_Epi_CRC_NoNormal_ReFiltered_Counts.h5ad\")\n",
    "broad.obs[\"Patient\"] = broad.obs_names.str.split(\"_\").str[0]\n",
    "broad.obs[\"Compartment\"] = \"Epithelium\"; broad"
   ]
  },
  {
   "cell_type": "code",
   "execution_count": null,
   "metadata": {},
   "outputs": [],
   "source": [
    "broad_stroma = sc.read(\"../data/scRNA/Broad_NonEpi_sub.h5ad\")\n",
    "broad_stroma.obs[\"Patient\"] = broad_stroma.obs_names.str.split(\"_\").str[0]\n",
    "broad_stroma.obs[\"Compartment\"] = \"Stroma\"; broad_stroma"
   ]
  },
  {
   "cell_type": "markdown",
   "metadata": {},
   "source": [
    "---\n",
    "### Calculate gene signatures in Broad dataset"
   ]
  },
  {
   "cell_type": "code",
   "execution_count": null,
   "metadata": {},
   "outputs": [],
   "source": [
    "%%time\n",
    "for a in [broad, broad_stroma]:\n",
    "    # score gene signatures\n",
    "    for sig in list(genes.keys()):\n",
    "        try:\n",
    "            print(sig)\n",
    "            sc.tl.score_genes(a, genes[sig], score_name=sig)\n",
    "        except:\n",
    "            print(\"{} failed!\".format(sig))\n",
    "    \n",
    "    # score Stem_Cell_Index from Gil Vasquez, et al. using CBC and RSC lists\n",
    "    try:\n",
    "        print(\"Stem Cell Index\")\n",
    "        sc.tl.score_genes(\n",
    "            a,\n",
    "            gene_list=genes[\"RSC\"],\n",
    "            gene_pool=genes[\"CBC\"]+genes[\"RSC\"],\n",
    "            ctrl_size=len(genes[\"CBC\"]),\n",
    "            score_name=\"Stem Cell Index\",\n",
    "        )\n",
    "    except:\n",
    "        print(\"Stem_Cell_Index failed!\")\n",
    "        \n",
    "    # score iCMS2 & iCMS3 using both of their respective lists (Up and Down)\n",
    "    try:\n",
    "        print(\"iCMS2\")\n",
    "        sc.tl.score_genes(\n",
    "            a,\n",
    "            gene_list=genes[\"iCMS2_Up\"],\n",
    "            gene_pool=genes[\"iCMS2_Down\"]+genes[\"iCMS2_Up\"],\n",
    "            ctrl_size=len(genes[\"iCMS2_Down\"]),\n",
    "            score_name=\"iCMS2\",\n",
    "        )\n",
    "    except:\n",
    "        print(\"iCMS2 failed!\")\n",
    "    try:\n",
    "        print(\"iCMS3\")\n",
    "        sc.tl.score_genes(\n",
    "            a,\n",
    "            gene_list=genes[\"iCMS3_Up\"],\n",
    "            gene_pool=genes[\"iCMS3_Down\"]+genes[\"iCMS3_Up\"],\n",
    "            ctrl_size=len(genes[\"iCMS3_Down\"]),\n",
    "            score_name=\"iCMS3\",\n",
    "        )\n",
    "    except:\n",
    "        print(\"iCMS3 failed!\")"
   ]
  },
  {
   "cell_type": "markdown",
   "metadata": {},
   "source": [
    "---\n",
    "### Now infer cNMF usage scores for cells by factorizing with reference consensus gene spectra"
   ]
  },
  {
   "cell_type": "code",
   "execution_count": null,
   "metadata": {},
   "outputs": [],
   "source": [
    "import kitchen.ingredients as k"
   ]
  },
  {
   "cell_type": "code",
   "execution_count": null,
   "metadata": {},
   "outputs": [],
   "source": [
    "# how to rename usage columns\n",
    "rename_dict = {\n",
    "    \"usage_1\":\"STM\",\n",
    "    \"usage_2\":\"END1\",\n",
    "    \"usage_3\":\"BL1\",\n",
    "    \"usage_4\":\"FIB1\",\n",
    "    \"usage_5\":\"CRC1\",\n",
    "    \"usage_6\":\"MYE1\",\n",
    "    \"usage_7\":\"TL1\",\n",
    "    \"usage_8\":\"MYE2\",\n",
    "    \"usage_9\":\"CRC2\",\n",
    "    \"usage_10\":\"CT\",\n",
    "    \"usage_11\":\"SSC\",\n",
    "    \"usage_12\":\"CRC3\",\n",
    "    \"usage_13\":\"EE1\",\n",
    "    \"usage_14\":\"MYE3\",\n",
    "    \"usage_15\":\"PLA\",\n",
    "    \"usage_16\":\"FIB2\",\n",
    "    \"usage_17\":\"MYE4\",\n",
    "    \"usage_18\":\"GOB\",\n",
    "    \"usage_19\":\"MAS\",\n",
    "    \"usage_20\":\"MYE5\",\n",
    "    \"usage_21\":\"CRC4\",\n",
    "    \"usage_22\":\"ABS\",\n",
    "    \"usage_23\":\"TUF\",\n",
    "    \"usage_24\":\"FIB3\",\n",
    "    \"usage_25\":\"FIB4\",\n",
    "    \"usage_26\":\"TL2\",\n",
    "    \"usage_27\":\"END2\",\n",
    "    \"usage_28\":\"TL3\",\n",
    "    \"usage_29\":\"EE2\",\n",
    "    \"usage_30\":\"BL2\",\n",
    "}"
   ]
  },
  {
   "cell_type": "code",
   "execution_count": null,
   "metadata": {},
   "outputs": [],
   "source": [
    "# deconvolve with refNMF\n",
    "v, spectra, spectra_ref, niter = deconvolve_cnmf(adata=v, cnmf_dir=\"../data/scRNA/VUMC_NMF/\", k=30)\n",
    "v.obs.rename(columns=rename_dict, inplace=True)\n",
    "# plot refNMF fractions\n",
    "_ = k.plot_embedding(\n",
    "    v,\n",
    "    colors=[\"Cell_Type\"] + list(rename_dict.values()),\n",
    "    show_clustering=False,\n",
    "    #save_to=\"{}_VUMCrefNMF30.png\".format(s),\n",
    "    #vmin=a.obs[list(rename_dict.values())].values.min(),\n",
    "    #vmax=a.obs[list(rename_dict.values())].values.max(),\n",
    "    ncols=5,\n",
    "    cmap=\"viridis\",\n",
    "    figsize_scale=0.7,\n",
    ")"
   ]
  },
  {
   "cell_type": "code",
   "execution_count": null,
   "metadata": {},
   "outputs": [],
   "source": [
    "# deconvolve with refNMF\n",
    "v2, spectra, spectra_ref, niter = deconvolve_cnmf(adata=v2, cnmf_dir=\"../data/scRNA/VUMC_NMF/\", k=30)\n",
    "v2.obs.rename(columns=rename_dict, inplace=True)\n",
    "# plot refNMF fractions\n",
    "_ = k.plot_embedding(\n",
    "    v2,\n",
    "    colors=[\"Cell_Type\"] + list(rename_dict.values()),\n",
    "    show_clustering=False,\n",
    "    #save_to=\"{}_VUMCrefNMF30.png\".format(s),\n",
    "    #vmin=a.obs[list(rename_dict.values())].values.min(),\n",
    "    #vmax=a.obs[list(rename_dict.values())].values.max(),\n",
    "    ncols=5,\n",
    "    cmap=\"viridis\",\n",
    "    figsize_scale=0.7,\n",
    ")"
   ]
  },
  {
   "cell_type": "code",
   "execution_count": null,
   "metadata": {},
   "outputs": [],
   "source": [
    "# deconvolve with refNMF\n",
    "v_stroma, spectra, spectra_ref, niter = deconvolve_cnmf(adata=v_stroma, cnmf_dir=\"../data/scRNA/VUMC_NMF/\", k=30)\n",
    "v_stroma.obs.rename(columns=rename_dict, inplace=True)\n",
    "# plot refNMF fractions\n",
    "_ = k.plot_embedding(\n",
    "    v_stroma,\n",
    "    colors=[\"Cell_Type\"] + list(rename_dict.values()),\n",
    "    show_clustering=False,\n",
    "    #save_to=\"{}_VUMCrefNMF30.png\".format(s),\n",
    "    #vmin=a.obs[list(rename_dict.values())].values.min(),\n",
    "    #vmax=a.obs[list(rename_dict.values())].values.max(),\n",
    "    ncols=5,\n",
    "    cmap=\"viridis\",\n",
    "    figsize_scale=0.7,\n",
    ")"
   ]
  },
  {
   "cell_type": "code",
   "execution_count": null,
   "metadata": {},
   "outputs": [],
   "source": [
    "\n",
    "# plot refNMF fractions\n",
    "_ = k.plot_embedding(\n",
    "    v_stroma,\n",
    "    colors=[\"Cell_Type\",\"Exhaustion\",\"Cytotoxicity\"],\n",
    "    show_clustering=False,\n",
    "    #save_to=\"{}_VUMCrefNMF30.png\".format(s),\n",
    "    #vmin=a.obs[list(rename_dict.values())].values.min(),\n",
    "    #vmax=a.obs[list(rename_dict.values())].values.max(),\n",
    "    ncols=5,\n",
    "    cmap=\"viridis\",\n",
    "    figsize_scale=0.7,\n",
    ")"
   ]
  },
  {
   "cell_type": "code",
   "execution_count": null,
   "metadata": {},
   "outputs": [],
   "source": [
    "# deconvolve with refNMF\n",
    "broad, spectra, spectra_ref, niter = deconvolve_cnmf(adata=broad, cnmf_dir=\"../data/scRNA/VUMC_NMF/\", k=30)\n",
    "broad.obs.rename(columns=rename_dict, inplace=True)\n",
    "# plot refNMF fractions\n",
    "_ = k.plot_embedding(\n",
    "    broad,\n",
    "    colors=list(rename_dict.values()),\n",
    "    show_clustering=False,\n",
    "    #save_to=\"{}_VUMCrefNMF30.png\".format(s),\n",
    "    #vmin=a.obs[list(rename_dict.values())].values.min(),\n",
    "    #vmax=a.obs[list(rename_dict.values())].values.max(),\n",
    "    ncols=5,\n",
    "    cmap=\"viridis\",\n",
    "    figsize_scale=0.7,\n",
    ")"
   ]
  },
  {
   "cell_type": "code",
   "execution_count": null,
   "metadata": {},
   "outputs": [],
   "source": [
    "# plot refNMF fractions\n",
    "_ = k.plot_embedding(\n",
    "    broad,\n",
    "    colors=[\"Cell_Type\"],\n",
    "    show_clustering=False,\n",
    "    #save_to=\"{}_VUMCrefNMF30.png\".format(s),\n",
    "    #vmin=a.obs[list(rename_dict.values())].values.min(),\n",
    "    #vmax=a.obs[list(rename_dict.values())].values.max(),\n",
    "    ncols=5,\n",
    "    cmap=\"viridis\",\n",
    "    figsize_scale=0.7,\n",
    ")"
   ]
  },
  {
   "cell_type": "code",
   "execution_count": null,
   "metadata": {},
   "outputs": [],
   "source": [
    "# deconvolve with refNMF\n",
    "broad_stroma, spectra, spectra_ref, niter = deconvolve_cnmf(adata=broad_stroma, cnmf_dir=\"../data/scRNA/VUMC_NMF/\", k=30)\n",
    "broad_stroma.obs.rename(columns=rename_dict, inplace=True)\n",
    "# plot refNMF fractions\n",
    "_ = k.plot_embedding(\n",
    "    broad_stroma,\n",
    "    colors=[\"Cell_Type\"] + list(rename_dict.values()),\n",
    "    show_clustering=False,\n",
    "    #save_to=\"{}_VUMCrefNMF30.png\".format(s),\n",
    "    #vmin=a.obs[list(rename_dict.values())].values.min(),\n",
    "    #vmax=a.obs[list(rename_dict.values())].values.max(),\n",
    "    ncols=5,\n",
    "    cmap=\"viridis\",\n",
    "    figsize_scale=0.7,\n",
    ")"
   ]
  },
  {
   "cell_type": "code",
   "execution_count": null,
   "metadata": {},
   "outputs": [],
   "source": [
    "\n",
    "# plot refNMF fractions\n",
    "_ = k.plot_embedding(\n",
    "    broad_stroma,\n",
    "    colors=[\"Cell_Type\",\"Exhaustion\",\"Cytotoxicity\"],\n",
    "    show_clustering=False,\n",
    "    #save_to=\"{}_VUMCrefNMF30.png\".format(s),\n",
    "    #vmin=a.obs[list(rename_dict.values())].values.min(),\n",
    "    #vmax=a.obs[list(rename_dict.values())].values.max(),\n",
    "    ncols=5,\n",
    "    cmap=\"viridis\",\n",
    "    figsize_scale=0.7,\n",
    ")"
   ]
  },
  {
   "cell_type": "markdown",
   "metadata": {},
   "source": [
    "---"
   ]
  },
  {
   "cell_type": "code",
   "execution_count": null,
   "metadata": {},
   "outputs": [],
   "source": [
    "v.obs.drop(columns=[\"B cell\",\"Macrophage\"], inplace=True)"
   ]
  },
  {
   "cell_type": "code",
   "execution_count": null,
   "metadata": {},
   "outputs": [],
   "source": [
    "v2.obs.drop(columns=[\"B cell\",\"Macrophage\"], inplace=True)"
   ]
  },
  {
   "cell_type": "code",
   "execution_count": null,
   "metadata": {},
   "outputs": [],
   "source": [
    "v_stroma.obs.drop(columns=[\"B cell\",\"Macrophage\"], inplace=True)"
   ]
  },
  {
   "cell_type": "code",
   "execution_count": null,
   "metadata": {},
   "outputs": [],
   "source": [
    "broad_stroma.obs.drop(columns=[\"B cell\",\"Macrophage\"], inplace=True)"
   ]
  },
  {
   "cell_type": "code",
   "execution_count": null,
   "metadata": {},
   "outputs": [],
   "source": [
    "broad.obs.drop(columns=[\"B cell\",\"Macrophage\"], inplace=True)"
   ]
  },
  {
   "cell_type": "markdown",
   "metadata": {},
   "source": [
    "---\n",
    "### Call B cells"
   ]
  },
  {
   "cell_type": "code",
   "execution_count": null,
   "metadata": {},
   "outputs": [],
   "source": [
    "broad_stroma.obs[\"B cell\"] = np.nan\n",
    "broad_stroma.obs.loc[broad_stroma.obs.BL1 >= 0.3, \"B cell\"] = \"BL1\"\n",
    "broad_stroma.obs.loc[broad_stroma.obs.BL2 >= 0.3, \"B cell\"] = \"BL2\"\n",
    "broad_stroma.obs.loc[broad_stroma.obs.PLA >= 0.3, \"B cell\"] = \"PLA\"\n",
    "broad_stroma.obs[\"B cell\"].value_counts()"
   ]
  },
  {
   "cell_type": "code",
   "execution_count": null,
   "metadata": {},
   "outputs": [],
   "source": [
    "v_stroma.obs[\"B cell\"] = np.nan\n",
    "v_stroma.obs.loc[v_stroma.obs.BL1 >= 0.3, \"B cell\"] = \"BL1\"\n",
    "v_stroma.obs.loc[v_stroma.obs.BL2 >= 0.3, \"B cell\"] = \"BL2\"\n",
    "v_stroma.obs.loc[v_stroma.obs.PLA >= 0.3, \"B cell\"] = \"PLA\"\n",
    "v_stroma.obs[\"B cell\"].value_counts()"
   ]
  },
  {
   "cell_type": "markdown",
   "metadata": {},
   "source": [
    "---\n",
    "### Call Macrophages"
   ]
  },
  {
   "cell_type": "code",
   "execution_count": null,
   "metadata": {},
   "outputs": [],
   "source": [
    "broad_stroma.obs[\"Macrophage\"] = np.nan\n",
    "broad_stroma.obs.loc[broad_stroma.obs.MYE1 >= 0.3, \"Macrophage\"] = \"MYE1\"\n",
    "broad_stroma.obs.loc[broad_stroma.obs.MYE2 >= 0.3, \"Macrophage\"] = \"MYE2\"\n",
    "broad_stroma.obs.loc[broad_stroma.obs.MYE3 >= 0.3, \"Macrophage\"] = \"MYE3\"\n",
    "broad_stroma.obs[\"Macrophage\"].value_counts()"
   ]
  },
  {
   "cell_type": "code",
   "execution_count": null,
   "metadata": {},
   "outputs": [],
   "source": [
    "v_stroma.obs[\"Macrophage\"] = np.nan\n",
    "v_stroma.obs.loc[v_stroma.obs.MYE1 >= 0.3, \"Macrophage\"] = \"MYE1\"\n",
    "v_stroma.obs.loc[v_stroma.obs.MYE2 >= 0.3, \"Macrophage\"] = \"MYE2\"\n",
    "v_stroma.obs.loc[v_stroma.obs.MYE3 >= 0.3, \"Macrophage\"] = \"MYE3\"\n",
    "v_stroma.obs[\"Macrophage\"].value_counts()"
   ]
  },
  {
   "cell_type": "markdown",
   "metadata": {},
   "source": [
    "---\n",
    "### Call Neutrophils"
   ]
  },
  {
   "cell_type": "code",
   "execution_count": null,
   "metadata": {},
   "outputs": [],
   "source": [
    "broad_stroma.obs[\"Neutrophil\"] = np.nan\n",
    "broad_stroma.obs.loc[broad_stroma.obs.MYE4 >= 0.3, \"Neutrophil\"] = \"MYE4\"\n",
    "broad_stroma.obs[\"Neutrophil\"].value_counts()"
   ]
  },
  {
   "cell_type": "code",
   "execution_count": null,
   "metadata": {},
   "outputs": [],
   "source": [
    "v_stroma.obs[\"Neutrophil\"] = np.nan\n",
    "v_stroma.obs.loc[v_stroma.obs.MYE4 >= 0.3, \"Neutrophil\"] = \"MYE4\"\n",
    "v_stroma.obs[\"Neutrophil\"].value_counts()"
   ]
  },
  {
   "cell_type": "markdown",
   "metadata": {},
   "source": [
    "---\n",
    "### Call TL1 cells"
   ]
  },
  {
   "cell_type": "code",
   "execution_count": null,
   "metadata": {},
   "outputs": [],
   "source": [
    "broad_stroma.obs[\"T helper\"] = np.nan\n",
    "broad_stroma.obs.loc[broad_stroma.obs.TL1 >= 0.3, \"T helper\"] = \"TL1\"\n",
    "broad_stroma.obs[\"T helper\"].value_counts()"
   ]
  },
  {
   "cell_type": "code",
   "execution_count": null,
   "metadata": {},
   "outputs": [],
   "source": [
    "v_stroma.obs[\"T helper\"] = np.nan\n",
    "v_stroma.obs.loc[v_stroma.obs.TL1 >= 0.3, \"T helper\"] = \"TL1\"\n",
    "v_stroma.obs[\"T helper\"].value_counts()"
   ]
  },
  {
   "cell_type": "markdown",
   "metadata": {},
   "source": [
    "---\n",
    "### Call TL2 and TL3 cells"
   ]
  },
  {
   "cell_type": "code",
   "execution_count": null,
   "metadata": {},
   "outputs": [],
   "source": [
    "broad_stroma.obs[\"T cytotoxic\"] = np.nan\n",
    "broad_stroma.obs.loc[broad_stroma.obs.TL3 >= 0.3, \"T cytotoxic\"] = \"TL3\"\n",
    "broad_stroma.obs.loc[broad_stroma.obs.TL2 >= 0.3, \"T cytotoxic\"] = \"TL2\"\n",
    "broad_stroma.obs[\"T cytotoxic\"].value_counts()"
   ]
  },
  {
   "cell_type": "code",
   "execution_count": null,
   "metadata": {},
   "outputs": [],
   "source": [
    "v_stroma.obs[\"T cytotoxic\"] = np.nan\n",
    "v_stroma.obs.loc[v_stroma.obs.TL3 >= 0.3, \"T cytotoxic\"] = \"TL3\"\n",
    "v_stroma.obs.loc[v_stroma.obs.TL2 >= 0.3, \"T cytotoxic\"] = \"TL2\"\n",
    "v_stroma.obs[\"T cytotoxic\"].value_counts()"
   ]
  },
  {
   "cell_type": "code",
   "execution_count": null,
   "metadata": {},
   "outputs": [],
   "source": [
    "a_comb.obs[[\"B cell\",\"Neutrophil\",\"T cytotoxic\",\"T helper\",\"Macrophage\"]] = a_comb.obs[[\"B cell\",\"Neutrophil\",\"T cytotoxic\",\"T helper\",\"Macrophage\"]].replace(\"nan\",np.nan)"
   ]
  },
  {
   "cell_type": "markdown",
   "metadata": {
    "tags": []
   },
   "source": [
    "---\n",
    "## Prep for dotplots"
   ]
  },
  {
   "cell_type": "code",
   "execution_count": null,
   "metadata": {},
   "outputs": [],
   "source": [
    "import sys; sys.path.append(\"../resources/\")\n",
    "from dotplot_utils import *\n",
    "sns.set_style(\"white\")"
   ]
  },
  {
   "cell_type": "code",
   "execution_count": null,
   "metadata": {},
   "outputs": [],
   "source": [
    "sample_key = pd.read_csv(\"../resources/ST/visium_sample_key.csv\", index_col=0)"
   ]
  },
  {
   "cell_type": "code",
   "execution_count": null,
   "metadata": {},
   "outputs": [],
   "source": [
    "cmap_dict = {\n",
    "    # Tumor Type\n",
    "    'SSL/HP':\"#c4a4e1\",'MSI':\"#7a4fa3\",'MSS':\"#ffc101\",'TA/TVA':\"#fee799\",'NL':\"#1f77b4\",'AD':\"tab:orange\",'CRC':\"tab:red\",\n",
    "    # this one's global\n",
    "    \"nan\":\"#ffffff\",\n",
    "}"
   ]
  },
  {
   "cell_type": "markdown",
   "metadata": {},
   "source": [
    "---\n",
    "# refNMF Cell States"
   ]
  },
  {
   "cell_type": "code",
   "execution_count": null,
   "metadata": {},
   "outputs": [],
   "source": [
    "a_comb = None\n",
    "for a in [v, v2, v_stroma, broad, broad_stroma]:\n",
    "    tmp = a[:,:2].copy()\n",
    "    tmp.obs = tmp.obs.loc[:,tmp.obs.columns.isin(list(rename_dict.values()) + [\n",
    "        \"IES\",\"Patient\",\"Cell_Type\",\"Tumor_Type\",\"Polyp_Type\",\"MMRStatusTumor\",\"Sample_Classification\",\n",
    "        \"Compartment\",\"IES+\",\"T cytotoxic\",\"T helper\",\"Macrophage\",\"Neutrophil\",\"B cell\",\"Cytotoxicity\",\"Exhaustion\"\n",
    "    ])]\n",
    "    list_str_obj_cols = tmp.obs.columns[tmp.obs.dtypes == \"category\"].tolist()\n",
    "    for str_obj_col in list_str_obj_cols:\n",
    "        tmp.obs[str_obj_col] = tmp.obs[str_obj_col].astype(str)\n",
    "        \n",
    "    del tmp.var\n",
    "    del tmp.obsm\n",
    "    del tmp.varm\n",
    "    del tmp.uns\n",
    "    \n",
    "    if a_comb is None:\n",
    "        a_comb = tmp.copy()\n",
    "\n",
    "    else:\n",
    "        a_comb = a_comb.concatenate(tmp, join=\"outer\", batch_key=None, fill_value=0)"
   ]
  },
  {
   "cell_type": "code",
   "execution_count": null,
   "metadata": {},
   "outputs": [],
   "source": [
    "a_comb.obs.Tumor_Type = a_comb.obs.Tumor_Type.astype(str).replace(\"nan\",np.nan).fillna(a_comb.obs.MMRStatusTumor.astype(str).replace(\"nan\",np.nan))\n",
    "a_comb.obs.Polyp_Type = a_comb.obs.Polyp_Type.replace(\"TA\",\"TA/TVA\")\n",
    "a_comb.obs.Polyp_Type = a_comb.obs.Polyp_Type.replace(\"TVA\",\"TA/TVA\")\n",
    "a_comb.obs.Polyp_Type = a_comb.obs.Polyp_Type.replace(\"HP\",\"SSL/HP\")\n",
    "a_comb.obs.Polyp_Type = a_comb.obs.Polyp_Type.replace(\"SSL\",\"SSL/HP\")\n",
    "a_comb.obs.Tumor_Type = a_comb.obs.Tumor_Type.fillna(a_comb.obs.Polyp_Type.astype(str).replace(\"nan\",np.nan))\n",
    "a_comb.obs.Tumor_Type = a_comb.obs.Tumor_Type.replace(\"UNC\",\"AD\")"
   ]
  },
  {
   "cell_type": "code",
   "execution_count": null,
   "metadata": {},
   "outputs": [],
   "source": [
    "a_comb.obs.Tumor_Type.value_counts()"
   ]
  },
  {
   "cell_type": "code",
   "execution_count": null,
   "metadata": {},
   "outputs": [],
   "source": [
    "a_comb.obs.loc[(a_comb.obs.Tumor_Type.isin([\"TA/TVA\",\"SSL/HP\",\"UNC\"]))|(a_comb.obs.Sample_Classification.isin([\"SER\",\"UNC\"])), \"Sample_Classification\"] = \"AD\"\n",
    "a_comb.obs.loc[(a_comb.obs.Tumor_Type.isin([\"MSS\",\"MSI\",\"MSI-H\"]))|(a_comb.obs.Sample_Classification.isin([\"MSS\",\"MSI\",\"MSI-H\"])), \"Sample_Classification\"] = \"CRC\"\n",
    "a_comb.obs.loc[a_comb.obs.Tumor_Type.isin([\"NL\"]), \"Sample_Classification\"] = \"NL\"\n",
    "a_comb.obs.Sample_Classification = a_comb.obs.Sample_Classification.astype(str)\n",
    "a_comb.obs.Sample_Classification = a_comb.obs.Sample_Classification.replace(\"nan\",\"AD\")"
   ]
  },
  {
   "cell_type": "code",
   "execution_count": null,
   "metadata": {},
   "outputs": [],
   "source": [
    "a_comb.obs.Sample_Classification.value_counts()"
   ]
  },
  {
   "cell_type": "code",
   "execution_count": null,
   "metadata": {},
   "outputs": [],
   "source": [
    "a_comb.obs.loc[a_comb.obs.Cell_Type==\"T\", \"Cell_Type\"] = \"TL\"\n",
    "a_comb.obs.loc[a_comb.obs.Cell_Type==\"B\", \"Cell_Type\"] = \"BL\""
   ]
  },
  {
   "cell_type": "code",
   "execution_count": null,
   "metadata": {},
   "outputs": [],
   "source": [
    "a_comb.obs.Cell_Type = a_comb.obs.Cell_Type.astype(str)\n",
    "a_comb.obs.Cell_Type.value_counts()"
   ]
  },
  {
   "cell_type": "code",
   "execution_count": null,
   "metadata": {},
   "outputs": [],
   "source": [
    "fig, ax = plt.subplots(1,1,figsize=(10,5))\n",
    "sc.pl.violin(a_comb, [\"IES\"], groupby=\"Cell_Type\", rotation=90, ax=ax)"
   ]
  },
  {
   "cell_type": "code",
   "execution_count": null,
   "metadata": {},
   "outputs": [],
   "source": [
    "fig, ax = plt.subplots(1,1,figsize=(7,5))\n",
    "sc.pl.violin(a_comb, [\"IES\"], groupby=\"Tumor_Type\", rotation=90, ax=ax)"
   ]
  },
  {
   "cell_type": "code",
   "execution_count": null,
   "metadata": {},
   "outputs": [],
   "source": [
    "fig, ax = plt.subplots(1,1,figsize=(5,5))\n",
    "sc.pl.violin(a_comb, [\"IES\"], groupby=\"Sample_Classification\", rotation=90, ax=ax)"
   ]
  },
  {
   "cell_type": "code",
   "execution_count": null,
   "metadata": {},
   "outputs": [],
   "source": [
    "# split refNMF cell states by compartment\n",
    "nmf_epi = [\n",
    " 'STM',\n",
    " 'CRC1',\n",
    " 'CRC2',\n",
    " 'CT',\n",
    " 'SSC',\n",
    " 'CRC3',\n",
    " 'EE1',\n",
    " 'GOB',\n",
    " 'CRC4',\n",
    " 'ABS',\n",
    " 'TUF',\n",
    " 'EE2',\n",
    "]\n",
    "nmf_epi.sort()\n",
    "\n",
    "nmf_stroma = [\n",
    " 'END1',\n",
    " 'FIB1',\n",
    " 'FIB2',\n",
    " 'FIB3',\n",
    " 'FIB4',\n",
    " 'END2',\n",
    "]\n",
    "nmf_stroma.sort()\n",
    "\n",
    "nmf_immune = [\n",
    " 'BL1',\n",
    " 'MYE1',\n",
    " 'TL1',\n",
    " 'MYE2',\n",
    " 'MYE3',\n",
    " 'PLA',\n",
    " 'MYE4',\n",
    " 'MAS',\n",
    " 'MYE5',\n",
    " 'TL2',\n",
    " 'TL3',\n",
    " 'BL2'\n",
    "]\n",
    "nmf_immune.sort()\n",
    "\n",
    "marker_states_dict = {\n",
    "    \"Act.\": [\"IES\",\"Cytotoxicity\",\"Exhaustion\"],\n",
    "    \"Epithelial\": nmf_epi,\n",
    "    \"Stromal\": nmf_stroma,\n",
    "    \"Immune\": nmf_immune,\n",
    "}"
   ]
  },
  {
   "cell_type": "code",
   "execution_count": null,
   "metadata": {},
   "outputs": [],
   "source": [
    "cody_heatmap(\n",
    "    a_comb,\n",
    "    groupby=\"Cell_Type\",\n",
    "    features=sum(marker_states_dict.values(), []),\n",
    "    cluster_vars=False,\n",
    "    vars_dict=marker_states_dict,\n",
    "    groupby_order=None,\n",
    "    groupby_colordict=None,\n",
    "    cluster_obs=True,\n",
    "    figsize=(7.0, 8.2),\n",
    "    save=\"scRNA_out/immexcl/celltype_VUMCrefNMF30_dotplot.png\",\n",
    "    dpi=400,\n",
    "    cmap=\"Greys\",\n",
    "    size_title=\"Fraction of cells\\nin group (%)\",\n",
    ")"
   ]
  },
  {
   "cell_type": "code",
   "execution_count": null,
   "metadata": {},
   "outputs": [],
   "source": [
    "a_comb.write(\"scRNA_out/immexcl/scRNA_combined_IES_refNMF.h5ad\", compression=\"gzip\")"
   ]
  },
  {
   "cell_type": "code",
   "execution_count": null,
   "metadata": {},
   "outputs": [],
   "source": [
    "a_comb = sc.read(\"scRNA_out/immexcl/scRNA_combined_IES_refNMF.h5ad\")"
   ]
  },
  {
   "cell_type": "markdown",
   "metadata": {},
   "source": [
    "---\n",
    "# Correlating IES with TL2/3 cells by IES value"
   ]
  },
  {
   "cell_type": "code",
   "execution_count": null,
   "metadata": {},
   "outputs": [],
   "source": [
    "t_counts = pd.DataFrame(a_comb.obs.groupby(\"Patient\")[\"T cytotoxic\"].count().sort_values())"
   ]
  },
  {
   "cell_type": "code",
   "execution_count": null,
   "metadata": {},
   "outputs": [],
   "source": [
    "ies_counts = pd.DataFrame(a_comb.obs.loc[a_comb.obs.Compartment==\"Epithelium\"].groupby(\"Patient\")[\"IES\"].mean().sort_values())"
   ]
  },
  {
   "cell_type": "code",
   "execution_count": null,
   "metadata": {},
   "outputs": [],
   "source": [
    "counts_df = t_counts.merge(ies_counts, left_index=True, right_index=True, how=\"inner\")"
   ]
  },
  {
   "cell_type": "code",
   "execution_count": null,
   "metadata": {},
   "outputs": [],
   "source": [
    "counts_df = counts_df.reset_index().merge(a_comb.obs[[\"Tumor_Type\",\"Patient\",\"Sample_Classification\"]].drop_duplicates(), on=\"Patient\", how=\"left\").set_index(\"Patient\")"
   ]
  },
  {
   "cell_type": "code",
   "execution_count": null,
   "metadata": {},
   "outputs": [],
   "source": [
    "counts_df = counts_df.dropna()"
   ]
  },
  {
   "cell_type": "code",
   "execution_count": null,
   "metadata": {},
   "outputs": [],
   "source": [
    "cell_totals = a_comb.obs.loc[a_comb.obs.Compartment==\"Epithelium\"].groupby(\"Patient\")[\"Patient\"].count().reset_index(name=\"total_epi_cells\")\n",
    "counts_df = counts_df.reset_index().merge(cell_totals, on=\"Patient\", how=\"left\").set_index(\"Patient\")"
   ]
  },
  {
   "cell_type": "code",
   "execution_count": null,
   "metadata": {},
   "outputs": [],
   "source": [
    "cell_totals = a_comb.obs.loc[a_comb.obs.Compartment==\"Stroma\"].groupby(\"Patient\")[\"Patient\"].count().reset_index(name=\"total_stroma_cells\")\n",
    "counts_df = counts_df.reset_index().merge(cell_totals, on=\"Patient\", how=\"left\").set_index(\"Patient\")"
   ]
  },
  {
   "cell_type": "code",
   "execution_count": null,
   "metadata": {},
   "outputs": [],
   "source": [
    "counts_df = counts_df.loc[(counts_df.total_stroma_cells > 1)&(counts_df.total_epi_cells > 1)].copy()"
   ]
  },
  {
   "cell_type": "code",
   "execution_count": null,
   "metadata": {},
   "outputs": [],
   "source": [
    "counts_df[\"pct_Tcytotoxic\"] = round((counts_df[\"T cytotoxic\"] / counts_df[\"total_stroma_cells\"])*100, 3)"
   ]
  },
  {
   "cell_type": "code",
   "execution_count": null,
   "metadata": {},
   "outputs": [],
   "source": [
    "ies_thresh = a_comb.obs.loc[(a_comb.obs.Compartment==\"Stroma\"), \"IES\"].mean() + a_comb.obs.loc[(a_comb.obs.Compartment==\"Stroma\"), \"IES\"].std()"
   ]
  },
  {
   "cell_type": "code",
   "execution_count": null,
   "metadata": {},
   "outputs": [],
   "source": [
    "len(a_comb.obs.loc[(a_comb.obs.Compartment==\"Stroma\"), \"IES\"])"
   ]
  },
  {
   "cell_type": "code",
   "execution_count": null,
   "metadata": {},
   "outputs": [],
   "source": [
    "counts_df[\"IES_status\"] = np.nan\n",
    "counts_df.loc[counts_df.IES >= ies_thresh, \"IES_status\"] = \"IES+\"\n",
    "counts_df.loc[counts_df.IES < ies_thresh, \"IES_status\"] = \"IES-\""
   ]
  },
  {
   "cell_type": "code",
   "execution_count": null,
   "metadata": {},
   "outputs": [],
   "source": [
    "fig, axes = plt.subplots(1, 2, sharey=True, figsize=(5, 3.5), width_ratios=(3,1))\n",
    "axes[0].axvline(ies_thresh, ls=\"--\", lw=1.8, alpha=0.7, c=\"k\")\n",
    "#axes[0].annotate(\"Stromal\\nMean+SD: {}\".format(round(ies_thresh,2)), xy=(1.1*ies_thresh,85), fontsize=\"medium\")\n",
    "sns.scatterplot(\n",
    "    data=counts_df,\n",
    "    x=\"IES\",\n",
    "    y=\"pct_Tcytotoxic\",\n",
    "    hue=\"Sample_Classification\",\n",
    "    hue_order=[\"NL\",\"AD\",\"CRC\"],\n",
    "    palette=cmap_dict,\n",
    "    s=50,\n",
    "    alpha=0.7,\n",
    "    ax=axes[0],\n",
    ")\n",
    "\n",
    "PROPS = {\n",
    "    'boxprops':{'facecolor':'none', 'edgecolor':'k'},\n",
    "    'medianprops':{'color':'k'},\n",
    "    'whiskerprops':{'color':'k'},\n",
    "    'capprops':{'color':'k'}\n",
    "}\n",
    "sns.boxplot(\n",
    "    data=counts_df,\n",
    "    x=\"IES_status\",\n",
    "    y=\"pct_Tcytotoxic\",\n",
    "    order=[\"IES-\",\"IES+\"],\n",
    "    #hue=\"Sample_Classification\",\n",
    "    dodge=True,\n",
    "    orient=\"v\",\n",
    "    fliersize=5,\n",
    "    linewidth=1.8,\n",
    "    ax=axes[1],\n",
    "    saturation=1,\n",
    "    showcaps=False,\n",
    "    **PROPS,\n",
    ")\n",
    "\n",
    "lgd = fig.legend(bbox_to_anchor=(0.95, 0.88), loc=\"upper left\", fontsize=\"small\", frameon=False)\n",
    "tit = fig.suptitle(\"T cytotoxic\", fontsize=18)\n",
    "axes[0].get_legend().remove()\n",
    "#axes[1].get_legend().remove()\n",
    "axes[0].set_ylabel(\"% Stromal Cells (scRNA)\")\n",
    "axes[1].set_xlabel(\"\")\n",
    "axes[1].set_ylabel(\"\")\n",
    "\n",
    "sns.despine()\n",
    "plt.tight_layout()\n",
    "plt.savefig(\"scRNA_out/immexcl/pctCD8_vs_IESscore.png\", dpi=400, bbox_extra_artists=(lgd,tit), bbox_inches='tight')"
   ]
  },
  {
   "cell_type": "markdown",
   "metadata": {},
   "source": [
    "---\n",
    "# Correlating IES with TL1 cells by IES value"
   ]
  },
  {
   "cell_type": "code",
   "execution_count": null,
   "metadata": {},
   "outputs": [],
   "source": [
    "t_counts = pd.DataFrame(a_comb.obs.groupby(\"Patient\")[\"T helper\"].count().sort_values())"
   ]
  },
  {
   "cell_type": "code",
   "execution_count": null,
   "metadata": {},
   "outputs": [],
   "source": [
    "ies_counts = pd.DataFrame(a_comb.obs.loc[a_comb.obs.Compartment==\"Epithelium\"].groupby(\"Patient\")[\"IES\"].mean().sort_values())"
   ]
  },
  {
   "cell_type": "code",
   "execution_count": null,
   "metadata": {},
   "outputs": [],
   "source": [
    "counts_df = t_counts.merge(ies_counts, left_index=True, right_index=True, how=\"inner\")"
   ]
  },
  {
   "cell_type": "code",
   "execution_count": null,
   "metadata": {},
   "outputs": [],
   "source": [
    "counts_df = counts_df.reset_index().merge(a_comb.obs[[\"Tumor_Type\",\"Patient\",\"Sample_Classification\"]].drop_duplicates(), on=\"Patient\", how=\"left\").set_index(\"Patient\")"
   ]
  },
  {
   "cell_type": "code",
   "execution_count": null,
   "metadata": {},
   "outputs": [],
   "source": [
    "counts_df = counts_df.dropna()"
   ]
  },
  {
   "cell_type": "code",
   "execution_count": null,
   "metadata": {},
   "outputs": [],
   "source": [
    "cell_totals = a_comb.obs.loc[a_comb.obs.Compartment==\"Epithelium\"].groupby(\"Patient\")[\"Patient\"].count().reset_index(name=\"total_epi_cells\")\n",
    "counts_df = counts_df.reset_index().merge(cell_totals, on=\"Patient\", how=\"left\").set_index(\"Patient\")"
   ]
  },
  {
   "cell_type": "code",
   "execution_count": null,
   "metadata": {},
   "outputs": [],
   "source": [
    "cell_totals = a_comb.obs.loc[a_comb.obs.Compartment==\"Stroma\"].groupby(\"Patient\")[\"Patient\"].count().reset_index(name=\"total_stroma_cells\")\n",
    "counts_df = counts_df.reset_index().merge(cell_totals, on=\"Patient\", how=\"left\").set_index(\"Patient\")"
   ]
  },
  {
   "cell_type": "code",
   "execution_count": null,
   "metadata": {},
   "outputs": [],
   "source": [
    "counts_df = counts_df.loc[(counts_df.total_stroma_cells > 1)&(counts_df.total_epi_cells > 1)].copy()"
   ]
  },
  {
   "cell_type": "code",
   "execution_count": null,
   "metadata": {},
   "outputs": [],
   "source": [
    "counts_df[\"pct_Thelper\"] = round((counts_df[\"T helper\"] / counts_df[\"total_stroma_cells\"])*100, 3)"
   ]
  },
  {
   "cell_type": "code",
   "execution_count": null,
   "metadata": {},
   "outputs": [],
   "source": [
    "ies_thresh = a_comb.obs.loc[(a_comb.obs.Compartment==\"Stroma\"), \"IES\"].mean() + a_comb.obs.loc[(a_comb.obs.Compartment==\"Stroma\"), \"IES\"].std()"
   ]
  },
  {
   "cell_type": "code",
   "execution_count": null,
   "metadata": {},
   "outputs": [],
   "source": [
    "counts_df[\"IES_status\"] = np.nan\n",
    "counts_df.loc[counts_df.IES >= ies_thresh, \"IES_status\"] = \"IES+\"\n",
    "counts_df.loc[counts_df.IES < ies_thresh, \"IES_status\"] = \"IES-\""
   ]
  },
  {
   "cell_type": "code",
   "execution_count": null,
   "metadata": {},
   "outputs": [],
   "source": [
    "fig, axes = plt.subplots(1, 2, sharey=True, figsize=(5, 3.5), width_ratios=(3,1))\n",
    "axes[0].axvline(ies_thresh, ls=\"--\", lw=1.8, alpha=0.7, c=\"k\")\n",
    "#axes[0].annotate(\"Stromal\\nMean+SD: {}\".format(round(ies_thresh,2)), xy=(1.1*ies_thresh,85), fontsize=\"medium\")\n",
    "sns.scatterplot(\n",
    "    data=counts_df,\n",
    "    x=\"IES\",\n",
    "    y=\"pct_Thelper\",\n",
    "    hue=\"Sample_Classification\",\n",
    "    hue_order=[\"NL\",\"AD\",\"CRC\"],\n",
    "    palette=cmap_dict,\n",
    "    s=50,\n",
    "    alpha=0.7,\n",
    "    ax=axes[0],\n",
    ")\n",
    "\n",
    "PROPS = {\n",
    "    'boxprops':{'facecolor':'none', 'edgecolor':'k'},\n",
    "    'medianprops':{'color':'k'},\n",
    "    'whiskerprops':{'color':'k'},\n",
    "    'capprops':{'color':'k'}\n",
    "}\n",
    "sns.boxplot(\n",
    "    data=counts_df,\n",
    "    x=\"IES_status\",\n",
    "    y=\"pct_Thelper\",\n",
    "    order=[\"IES-\",\"IES+\"],\n",
    "    #hue=\"Sample_Classification\",\n",
    "    dodge=True,\n",
    "    orient=\"v\",\n",
    "    fliersize=5,\n",
    "    linewidth=1.8,\n",
    "    ax=axes[1],\n",
    "    saturation=1,\n",
    "    showcaps=False,\n",
    "    **PROPS,\n",
    ")\n",
    "\n",
    "lgd = fig.legend(bbox_to_anchor=(0.95, 0.88), loc=\"upper left\", fontsize=\"small\", frameon=False)\n",
    "tit = fig.suptitle(\"T helper\", fontsize=18)\n",
    "axes[0].get_legend().remove()\n",
    "#axes[1].get_legend().remove()\n",
    "axes[0].set_ylabel(\"% Stromal Cells (scRNA)\")\n",
    "axes[1].set_xlabel(\"\")\n",
    "axes[1].set_ylabel(\"\")\n",
    "\n",
    "sns.despine()\n",
    "plt.tight_layout()\n",
    "plt.savefig(\"scRNA_out/immexcl/pctCD4_vs_IESscore.png\", dpi=400, bbox_extra_artists=(lgd,tit), bbox_inches='tight')"
   ]
  },
  {
   "cell_type": "markdown",
   "metadata": {},
   "source": [
    "---\n",
    "# Correlating IES with Neutrophils by IES value"
   ]
  },
  {
   "cell_type": "code",
   "execution_count": null,
   "metadata": {},
   "outputs": [],
   "source": [
    "t_counts = pd.DataFrame(a_comb.obs.groupby(\"Patient\")[\"Neutrophil\"].count().sort_values())"
   ]
  },
  {
   "cell_type": "code",
   "execution_count": null,
   "metadata": {},
   "outputs": [],
   "source": [
    "ies_counts = pd.DataFrame(a_comb.obs.loc[a_comb.obs.Compartment==\"Epithelium\"].groupby(\"Patient\")[\"IES\"].mean().sort_values())"
   ]
  },
  {
   "cell_type": "code",
   "execution_count": null,
   "metadata": {},
   "outputs": [],
   "source": [
    "counts_df = t_counts.merge(ies_counts, left_index=True, right_index=True, how=\"inner\")"
   ]
  },
  {
   "cell_type": "code",
   "execution_count": null,
   "metadata": {},
   "outputs": [],
   "source": [
    "counts_df = counts_df.reset_index().merge(a_comb.obs[[\"Tumor_Type\",\"Patient\",\"Sample_Classification\"]].drop_duplicates(), on=\"Patient\", how=\"left\").set_index(\"Patient\")"
   ]
  },
  {
   "cell_type": "code",
   "execution_count": null,
   "metadata": {},
   "outputs": [],
   "source": [
    "counts_df = counts_df.dropna()"
   ]
  },
  {
   "cell_type": "code",
   "execution_count": null,
   "metadata": {},
   "outputs": [],
   "source": [
    "cell_totals = a_comb.obs.loc[a_comb.obs.Compartment==\"Epithelium\"].groupby(\"Patient\")[\"Patient\"].count().reset_index(name=\"total_epi_cells\")\n",
    "counts_df = counts_df.reset_index().merge(cell_totals, on=\"Patient\", how=\"left\").set_index(\"Patient\")"
   ]
  },
  {
   "cell_type": "code",
   "execution_count": null,
   "metadata": {},
   "outputs": [],
   "source": [
    "cell_totals = a_comb.obs.loc[a_comb.obs.Compartment==\"Stroma\"].groupby(\"Patient\")[\"Patient\"].count().reset_index(name=\"total_stroma_cells\")\n",
    "counts_df = counts_df.reset_index().merge(cell_totals, on=\"Patient\", how=\"left\").set_index(\"Patient\")"
   ]
  },
  {
   "cell_type": "code",
   "execution_count": null,
   "metadata": {},
   "outputs": [],
   "source": [
    "counts_df = counts_df.loc[(counts_df.total_stroma_cells > 1)&(counts_df.total_epi_cells > 1)].copy()"
   ]
  },
  {
   "cell_type": "code",
   "execution_count": null,
   "metadata": {},
   "outputs": [],
   "source": [
    "counts_df[\"pct_Neutrophil\"] = round((counts_df[\"Neutrophil\"] / counts_df[\"total_stroma_cells\"])*100, 3)"
   ]
  },
  {
   "cell_type": "code",
   "execution_count": null,
   "metadata": {},
   "outputs": [],
   "source": [
    "ies_thresh = a_comb.obs.loc[(a_comb.obs.Compartment==\"Stroma\"), \"IES\"].mean() + a_comb.obs.loc[(a_comb.obs.Compartment==\"Stroma\"), \"IES\"].std()"
   ]
  },
  {
   "cell_type": "code",
   "execution_count": null,
   "metadata": {},
   "outputs": [],
   "source": [
    "counts_df[\"IES_status\"] = np.nan\n",
    "counts_df.loc[counts_df.IES >= ies_thresh, \"IES_status\"] = \"IES+\"\n",
    "counts_df.loc[counts_df.IES < ies_thresh, \"IES_status\"] = \"IES-\""
   ]
  },
  {
   "cell_type": "code",
   "execution_count": null,
   "metadata": {},
   "outputs": [],
   "source": [
    "fig, axes = plt.subplots(1, 2, sharey=True, figsize=(5, 3.5), width_ratios=(3,1))\n",
    "axes[0].axvline(ies_thresh, ls=\"--\", lw=1.8, alpha=0.7, c=\"k\")\n",
    "#axes[0].annotate(\"Stromal\\nMean+SD: {}\".format(round(ies_thresh,2)), xy=(1.1*ies_thresh,85), fontsize=\"medium\")\n",
    "sns.scatterplot(\n",
    "    data=counts_df,\n",
    "    x=\"IES\",\n",
    "    y=\"pct_Neutrophil\",\n",
    "    hue=\"Sample_Classification\",\n",
    "    hue_order=[\"NL\",\"AD\",\"CRC\"],\n",
    "    palette=cmap_dict,\n",
    "    s=50,\n",
    "    alpha=0.7,\n",
    "    ax=axes[0],\n",
    ")\n",
    "\n",
    "PROPS = {\n",
    "    'boxprops':{'facecolor':'none', 'edgecolor':'k'},\n",
    "    'medianprops':{'color':'k'},\n",
    "    'whiskerprops':{'color':'k'},\n",
    "    'capprops':{'color':'k'}\n",
    "}\n",
    "sns.boxplot(\n",
    "    data=counts_df,\n",
    "    x=\"IES_status\",\n",
    "    y=\"pct_Neutrophil\",\n",
    "    order=[\"IES-\",\"IES+\"],\n",
    "    #hue=\"Sample_Classification\",\n",
    "    dodge=True,\n",
    "    orient=\"v\",\n",
    "    fliersize=5,\n",
    "    linewidth=1.8,\n",
    "    ax=axes[1],\n",
    "    saturation=1,\n",
    "    showcaps=False,\n",
    "    **PROPS,\n",
    ")\n",
    "\n",
    "lgd = fig.legend(bbox_to_anchor=(0.95, 0.88), loc=\"upper left\", fontsize=\"small\", frameon=False)\n",
    "tit = fig.suptitle(\"Neutrophil\", fontsize=18)\n",
    "axes[0].get_legend().remove()\n",
    "#axes[1].get_legend().remove()\n",
    "axes[0].set_ylabel(\"% Stromal Cells (scRNA)\")\n",
    "axes[1].set_xlabel(\"\")\n",
    "axes[1].set_ylabel(\"\")\n",
    "\n",
    "sns.despine()\n",
    "plt.tight_layout()\n",
    "plt.savefig(\"scRNA_out/immexcl/pctNeutrophil_vs_IESscore.png\", dpi=400, bbox_extra_artists=(lgd,tit), bbox_inches='tight')"
   ]
  },
  {
   "cell_type": "markdown",
   "metadata": {},
   "source": [
    "---\n",
    "# Correlating IES with Macrophages by IES value"
   ]
  },
  {
   "cell_type": "code",
   "execution_count": null,
   "metadata": {},
   "outputs": [],
   "source": [
    "t_counts = pd.DataFrame(a_comb.obs.groupby(\"Patient\")[\"Macrophage\"].count().sort_values())"
   ]
  },
  {
   "cell_type": "code",
   "execution_count": null,
   "metadata": {},
   "outputs": [],
   "source": [
    "ies_counts = pd.DataFrame(a_comb.obs.loc[a_comb.obs.Compartment==\"Epithelium\"].groupby(\"Patient\")[\"IES\"].mean().sort_values())"
   ]
  },
  {
   "cell_type": "code",
   "execution_count": null,
   "metadata": {},
   "outputs": [],
   "source": [
    "counts_df = t_counts.merge(ies_counts, left_index=True, right_index=True, how=\"inner\")"
   ]
  },
  {
   "cell_type": "code",
   "execution_count": null,
   "metadata": {},
   "outputs": [],
   "source": [
    "counts_df = counts_df.reset_index().merge(a_comb.obs[[\"Tumor_Type\",\"Patient\",\"Sample_Classification\"]].drop_duplicates(), on=\"Patient\", how=\"left\").set_index(\"Patient\")"
   ]
  },
  {
   "cell_type": "code",
   "execution_count": null,
   "metadata": {},
   "outputs": [],
   "source": [
    "counts_df = counts_df.dropna()"
   ]
  },
  {
   "cell_type": "code",
   "execution_count": null,
   "metadata": {},
   "outputs": [],
   "source": [
    "cell_totals = a_comb.obs.loc[a_comb.obs.Compartment==\"Epithelium\"].groupby(\"Patient\")[\"Patient\"].count().reset_index(name=\"total_epi_cells\")\n",
    "counts_df = counts_df.reset_index().merge(cell_totals, on=\"Patient\", how=\"left\").set_index(\"Patient\")"
   ]
  },
  {
   "cell_type": "code",
   "execution_count": null,
   "metadata": {},
   "outputs": [],
   "source": [
    "cell_totals = a_comb.obs.loc[a_comb.obs.Compartment==\"Stroma\"].groupby(\"Patient\")[\"Patient\"].count().reset_index(name=\"total_stroma_cells\")\n",
    "counts_df = counts_df.reset_index().merge(cell_totals, on=\"Patient\", how=\"left\").set_index(\"Patient\")"
   ]
  },
  {
   "cell_type": "code",
   "execution_count": null,
   "metadata": {},
   "outputs": [],
   "source": [
    "counts_df = counts_df.loc[(counts_df.total_stroma_cells > 1)&(counts_df.total_epi_cells > 1)].copy()"
   ]
  },
  {
   "cell_type": "code",
   "execution_count": null,
   "metadata": {},
   "outputs": [],
   "source": [
    "counts_df[\"pct_Macrophage\"] = round((counts_df[\"Macrophage\"] / counts_df[\"total_stroma_cells\"])*100, 3)"
   ]
  },
  {
   "cell_type": "code",
   "execution_count": null,
   "metadata": {},
   "outputs": [],
   "source": [
    "ies_thresh = a_comb.obs.loc[(a_comb.obs.Compartment==\"Stroma\"), \"IES\"].mean() + a_comb.obs.loc[(a_comb.obs.Compartment==\"Stroma\"), \"IES\"].std()"
   ]
  },
  {
   "cell_type": "code",
   "execution_count": null,
   "metadata": {},
   "outputs": [],
   "source": [
    "counts_df[\"IES_status\"] = np.nan\n",
    "counts_df.loc[counts_df.IES >= ies_thresh, \"IES_status\"] = \"IES+\"\n",
    "counts_df.loc[counts_df.IES < ies_thresh, \"IES_status\"] = \"IES-\""
   ]
  },
  {
   "cell_type": "code",
   "execution_count": null,
   "metadata": {},
   "outputs": [],
   "source": [
    "fig, axes = plt.subplots(1, 2, sharey=True, figsize=(5, 3.5), width_ratios=(3,1))\n",
    "axes[0].axvline(ies_thresh, ls=\"--\", lw=1.8, alpha=0.7, c=\"k\")\n",
    "#axes[0].annotate(\"Stromal\\nMean+SD: {}\".format(round(ies_thresh,2)), xy=(1.1*ies_thresh,85), fontsize=\"medium\")\n",
    "sns.scatterplot(\n",
    "    data=counts_df,\n",
    "    x=\"IES\",\n",
    "    y=\"pct_Macrophage\",\n",
    "    hue=\"Sample_Classification\",\n",
    "    hue_order=[\"NL\",\"AD\",\"CRC\"],\n",
    "    palette=cmap_dict,\n",
    "    s=50,\n",
    "    alpha=0.7,\n",
    "    ax=axes[0],\n",
    ")\n",
    "\n",
    "PROPS = {\n",
    "    'boxprops':{'facecolor':'none', 'edgecolor':'k'},\n",
    "    'medianprops':{'color':'k'},\n",
    "    'whiskerprops':{'color':'k'},\n",
    "    'capprops':{'color':'k'}\n",
    "}\n",
    "sns.boxplot(\n",
    "    data=counts_df,\n",
    "    x=\"IES_status\",\n",
    "    y=\"pct_Macrophage\",\n",
    "    order=[\"IES-\",\"IES+\"],\n",
    "    #hue=\"Sample_Classification\",\n",
    "    dodge=True,\n",
    "    orient=\"v\",\n",
    "    fliersize=5,\n",
    "    linewidth=1.8,\n",
    "    ax=axes[1],\n",
    "    saturation=1,\n",
    "    showcaps=False,\n",
    "    **PROPS,\n",
    ")\n",
    "\n",
    "lgd = fig.legend(bbox_to_anchor=(0.95, 0.88), loc=\"upper left\", fontsize=\"small\", frameon=False)\n",
    "tit = fig.suptitle(\"Macrophage\", fontsize=18)\n",
    "axes[0].get_legend().remove()\n",
    "#axes[1].get_legend().remove()\n",
    "axes[0].set_ylabel(\"% Stromal Cells (scRNA)\")\n",
    "axes[1].set_xlabel(\"\")\n",
    "axes[1].set_ylabel(\"\")\n",
    "\n",
    "sns.despine()\n",
    "plt.tight_layout()\n",
    "plt.savefig(\"scRNA_out/immexcl/pctMacrophage_vs_IESscore.png\", dpi=400, bbox_extra_artists=(lgd,tit), bbox_inches='tight')"
   ]
  },
  {
   "cell_type": "markdown",
   "metadata": {},
   "source": [
    "---\n",
    "# Correlating IES with B cells by IES value"
   ]
  },
  {
   "cell_type": "code",
   "execution_count": null,
   "metadata": {},
   "outputs": [],
   "source": [
    "t_counts = pd.DataFrame(a_comb.obs.groupby(\"Patient\")[\"B cell\"].count().sort_values())"
   ]
  },
  {
   "cell_type": "code",
   "execution_count": null,
   "metadata": {},
   "outputs": [],
   "source": [
    "ies_counts = pd.DataFrame(a_comb.obs.loc[a_comb.obs.Compartment==\"Epithelium\"].groupby(\"Patient\")[\"IES\"].mean().sort_values())"
   ]
  },
  {
   "cell_type": "code",
   "execution_count": null,
   "metadata": {},
   "outputs": [],
   "source": [
    "counts_df = t_counts.merge(ies_counts, left_index=True, right_index=True, how=\"inner\")"
   ]
  },
  {
   "cell_type": "code",
   "execution_count": null,
   "metadata": {},
   "outputs": [],
   "source": [
    "counts_df = counts_df.reset_index().merge(a_comb.obs[[\"Tumor_Type\",\"Patient\",\"Sample_Classification\"]].drop_duplicates(), on=\"Patient\", how=\"left\").set_index(\"Patient\")"
   ]
  },
  {
   "cell_type": "code",
   "execution_count": null,
   "metadata": {},
   "outputs": [],
   "source": [
    "counts_df = counts_df.dropna()"
   ]
  },
  {
   "cell_type": "code",
   "execution_count": null,
   "metadata": {},
   "outputs": [],
   "source": [
    "cell_totals = a_comb.obs.loc[a_comb.obs.Compartment==\"Epithelium\"].groupby(\"Patient\")[\"Patient\"].count().reset_index(name=\"total_epi_cells\")\n",
    "counts_df = counts_df.reset_index().merge(cell_totals, on=\"Patient\", how=\"left\").set_index(\"Patient\")"
   ]
  },
  {
   "cell_type": "code",
   "execution_count": null,
   "metadata": {},
   "outputs": [],
   "source": [
    "cell_totals = a_comb.obs.loc[a_comb.obs.Compartment==\"Stroma\"].groupby(\"Patient\")[\"Patient\"].count().reset_index(name=\"total_stroma_cells\")\n",
    "counts_df = counts_df.reset_index().merge(cell_totals, on=\"Patient\", how=\"left\").set_index(\"Patient\")"
   ]
  },
  {
   "cell_type": "code",
   "execution_count": null,
   "metadata": {},
   "outputs": [],
   "source": [
    "counts_df = counts_df.loc[(counts_df.total_stroma_cells > 1)&(counts_df.total_epi_cells > 1)].copy()"
   ]
  },
  {
   "cell_type": "code",
   "execution_count": null,
   "metadata": {},
   "outputs": [],
   "source": [
    "counts_df[\"pct_B cell\"] = round((counts_df[\"B cell\"] / counts_df[\"total_stroma_cells\"])*100, 3)"
   ]
  },
  {
   "cell_type": "code",
   "execution_count": null,
   "metadata": {},
   "outputs": [],
   "source": [
    "ies_thresh = a_comb.obs.loc[(a_comb.obs.Compartment==\"Stroma\"), \"IES\"].mean() + a_comb.obs.loc[(a_comb.obs.Compartment==\"Stroma\"), \"IES\"].std()"
   ]
  },
  {
   "cell_type": "code",
   "execution_count": null,
   "metadata": {},
   "outputs": [],
   "source": [
    "counts_df[\"IES_status\"] = np.nan\n",
    "counts_df.loc[counts_df.IES >= ies_thresh, \"IES_status\"] = \"IES+\"\n",
    "counts_df.loc[counts_df.IES < ies_thresh, \"IES_status\"] = \"IES-\""
   ]
  },
  {
   "cell_type": "code",
   "execution_count": null,
   "metadata": {},
   "outputs": [],
   "source": [
    "fig, axes = plt.subplots(1, 2, sharey=True, figsize=(5, 3.5), width_ratios=(3,1))\n",
    "axes[0].axvline(ies_thresh, ls=\"--\", lw=1.8, alpha=0.7, c=\"k\")\n",
    "#axes[0].annotate(\"Stromal\\nMean+SD: {}\".format(round(ies_thresh,2)), xy=(1.1*ies_thresh,0.9*counts_df[\"pct_B cell\"].max()), fontsize=\"medium\")\n",
    "sns.scatterplot(\n",
    "    data=counts_df,\n",
    "    x=\"IES\",\n",
    "    y=\"pct_B cell\",\n",
    "    hue=\"Sample_Classification\",\n",
    "    hue_order=[\"NL\",\"AD\",\"CRC\"],\n",
    "    palette=cmap_dict,\n",
    "    s=50,\n",
    "    alpha=0.7,\n",
    "    ax=axes[0],\n",
    ")\n",
    "\n",
    "PROPS = {\n",
    "    'boxprops':{'facecolor':'none', 'edgecolor':'k'},\n",
    "    'medianprops':{'color':'k'},\n",
    "    'whiskerprops':{'color':'k'},\n",
    "    'capprops':{'color':'k'}\n",
    "}\n",
    "sns.boxplot(\n",
    "    data=counts_df,\n",
    "    x=\"IES_status\",\n",
    "    y=\"pct_B cell\",\n",
    "    order=[\"IES-\",\"IES+\"],\n",
    "    #hue=\"Sample_Classification\",\n",
    "    dodge=True,\n",
    "    orient=\"v\",\n",
    "    fliersize=5,\n",
    "    linewidth=1.8,\n",
    "    ax=axes[1],\n",
    "    saturation=1,\n",
    "    showcaps=False,\n",
    "    **PROPS,\n",
    ")\n",
    "\n",
    "lgd = fig.legend(bbox_to_anchor=(0.95, 0.88), loc=\"upper left\", fontsize=\"small\", frameon=False)\n",
    "tit = fig.suptitle(\"B cell\", fontsize=18)\n",
    "axes[0].get_legend().remove()\n",
    "#axes[1].get_legend().remove()\n",
    "axes[0].set_ylabel(\"% Stromal Cells (scRNA)\")\n",
    "axes[1].set_xlabel(\"\")\n",
    "axes[1].set_ylabel(\"\")\n",
    "\n",
    "sns.despine()\n",
    "plt.tight_layout()\n",
    "plt.savefig(\"scRNA_out/immexcl/pctBcell_vs_IESscore.png\", dpi=400, bbox_extra_artists=(lgd,tit), bbox_inches='tight')"
   ]
  },
  {
   "cell_type": "markdown",
   "metadata": {},
   "source": [
    "---\n",
    "# Correlating IES with Exhaustion by IES value"
   ]
  },
  {
   "cell_type": "code",
   "execution_count": null,
   "metadata": {},
   "outputs": [],
   "source": [
    "t_counts = pd.DataFrame(a_comb.obs.loc[a_comb.obs.Cell_Type==\"TL\"].groupby(\"Patient\")[\"Exhaustion\"].mean().sort_values())"
   ]
  },
  {
   "cell_type": "code",
   "execution_count": null,
   "metadata": {},
   "outputs": [],
   "source": [
    "ies_counts = pd.DataFrame(a_comb.obs.loc[a_comb.obs.Compartment==\"Epithelium\"].groupby(\"Patient\")[\"IES\"].mean().sort_values())"
   ]
  },
  {
   "cell_type": "code",
   "execution_count": null,
   "metadata": {},
   "outputs": [],
   "source": [
    "counts_df = t_counts.merge(ies_counts, left_index=True, right_index=True, how=\"inner\")"
   ]
  },
  {
   "cell_type": "code",
   "execution_count": null,
   "metadata": {},
   "outputs": [],
   "source": [
    "counts_df = counts_df.reset_index().merge(a_comb.obs[[\"Tumor_Type\",\"Patient\",\"Sample_Classification\"]].drop_duplicates(), on=\"Patient\", how=\"left\").set_index(\"Patient\")"
   ]
  },
  {
   "cell_type": "code",
   "execution_count": null,
   "metadata": {},
   "outputs": [],
   "source": [
    "counts_df = counts_df.dropna()"
   ]
  },
  {
   "cell_type": "code",
   "execution_count": null,
   "metadata": {},
   "outputs": [],
   "source": [
    "ies_thresh = a_comb.obs.loc[(a_comb.obs.Compartment==\"Stroma\"), \"IES\"].mean() + a_comb.obs.loc[(a_comb.obs.Compartment==\"Stroma\"), \"IES\"].std()"
   ]
  },
  {
   "cell_type": "code",
   "execution_count": null,
   "metadata": {},
   "outputs": [],
   "source": [
    "counts_df[\"IES_status\"] = np.nan\n",
    "counts_df.loc[counts_df.IES >= ies_thresh, \"IES_status\"] = \"IES+\"\n",
    "counts_df.loc[counts_df.IES < ies_thresh, \"IES_status\"] = \"IES-\""
   ]
  },
  {
   "cell_type": "code",
   "execution_count": null,
   "metadata": {},
   "outputs": [],
   "source": [
    "fig, axes = plt.subplots(1, 2, sharey=True, figsize=(5, 3.5), width_ratios=(3,1))\n",
    "axes[0].axvline(ies_thresh, ls=\"--\", lw=1.8, alpha=0.7, c=\"k\")\n",
    "#axes[0].annotate(\"Stromal\\nMean+SD: {}\".format(round(ies_thresh,2)), xy=(1.1*ies_thresh,0.9*counts_df[\"Exhaustion\"].max()), fontsize=\"medium\")\n",
    "sns.scatterplot(\n",
    "    data=counts_df,\n",
    "    x=\"IES\",\n",
    "    y=\"Exhaustion\",\n",
    "    hue=\"Sample_Classification\",\n",
    "    hue_order=[\"NL\",\"AD\",\"CRC\"],\n",
    "    palette=cmap_dict,\n",
    "    s=50,\n",
    "    alpha=0.7,\n",
    "    ax=axes[0],\n",
    ")\n",
    "\n",
    "PROPS = {\n",
    "    'boxprops':{'facecolor':'none', 'edgecolor':'k'},\n",
    "    'medianprops':{'color':'k'},\n",
    "    'whiskerprops':{'color':'k'},\n",
    "    'capprops':{'color':'k'}\n",
    "}\n",
    "sns.boxplot(\n",
    "    data=counts_df,\n",
    "    x=\"IES_status\",\n",
    "    y=\"Exhaustion\",\n",
    "    order=[\"IES-\",\"IES+\"],\n",
    "    #hue=\"Sample_Classification\",\n",
    "    dodge=True,\n",
    "    orient=\"v\",\n",
    "    fliersize=5,\n",
    "    linewidth=1.8,\n",
    "    ax=axes[1],\n",
    "    saturation=1,\n",
    "    showcaps=False,\n",
    "    **PROPS,\n",
    ")\n",
    "\n",
    "lgd = fig.legend(bbox_to_anchor=(0.95, 0.88), loc=\"upper left\", fontsize=\"small\", frameon=False)\n",
    "tit = fig.suptitle(\"Exhaustion\", fontsize=18)\n",
    "axes[0].get_legend().remove()\n",
    "#axes[1].get_legend().remove()\n",
    "axes[0].set_ylabel(\"Exhaustion\")\n",
    "axes[1].set_xlabel(\"\")\n",
    "axes[1].set_ylabel(\"\")\n",
    "\n",
    "sns.despine()\n",
    "plt.tight_layout()\n",
    "plt.savefig(\"scRNA_out/immexcl/exhaustion_vs_IESscore.png\", dpi=400, bbox_extra_artists=(lgd,tit), bbox_inches='tight')"
   ]
  },
  {
   "cell_type": "markdown",
   "metadata": {},
   "source": [
    "---\n",
    "# Correlating IES with Cytotoxicity by IES value"
   ]
  },
  {
   "cell_type": "code",
   "execution_count": null,
   "metadata": {},
   "outputs": [],
   "source": [
    "t_counts = pd.DataFrame(a_comb.obs.loc[a_comb.obs.Cell_Type==\"TL\"].groupby(\"Patient\")[\"Cytotoxicity\"].mean().sort_values())"
   ]
  },
  {
   "cell_type": "code",
   "execution_count": null,
   "metadata": {},
   "outputs": [],
   "source": [
    "ies_counts = pd.DataFrame(a_comb.obs.loc[a_comb.obs.Compartment==\"Epithelium\"].groupby(\"Patient\")[\"IES\"].mean().sort_values())"
   ]
  },
  {
   "cell_type": "code",
   "execution_count": null,
   "metadata": {},
   "outputs": [],
   "source": [
    "counts_df = t_counts.merge(ies_counts, left_index=True, right_index=True, how=\"inner\")"
   ]
  },
  {
   "cell_type": "code",
   "execution_count": null,
   "metadata": {},
   "outputs": [],
   "source": [
    "counts_df = counts_df.reset_index().merge(a_comb.obs[[\"Tumor_Type\",\"Patient\",\"Sample_Classification\"]].drop_duplicates(), on=\"Patient\", how=\"left\").set_index(\"Patient\")"
   ]
  },
  {
   "cell_type": "code",
   "execution_count": null,
   "metadata": {},
   "outputs": [],
   "source": [
    "counts_df = counts_df.dropna()"
   ]
  },
  {
   "cell_type": "code",
   "execution_count": null,
   "metadata": {},
   "outputs": [],
   "source": [
    "ies_thresh = a_comb.obs.loc[(a_comb.obs.Compartment==\"Stroma\"), \"IES\"].mean() + a_comb.obs.loc[(a_comb.obs.Compartment==\"Stroma\"), \"IES\"].std()"
   ]
  },
  {
   "cell_type": "code",
   "execution_count": null,
   "metadata": {},
   "outputs": [],
   "source": [
    "counts_df[\"IES_status\"] = np.nan\n",
    "counts_df.loc[counts_df.IES >= ies_thresh, \"IES_status\"] = \"IES+\"\n",
    "counts_df.loc[counts_df.IES < ies_thresh, \"IES_status\"] = \"IES-\""
   ]
  },
  {
   "cell_type": "code",
   "execution_count": null,
   "metadata": {},
   "outputs": [],
   "source": [
    "fig, axes = plt.subplots(1, 2, sharey=True, figsize=(5, 3.5), width_ratios=(3,1))\n",
    "axes[0].axvline(ies_thresh, ls=\"--\", lw=1.8, alpha=0.7, c=\"k\")\n",
    "#axes[0].annotate(\"Stromal\\nMean+SD: {}\".format(round(ies_thresh,2)), xy=(1.1*ies_thresh,0.9*counts_df[\"Exhaustion\"].max()), fontsize=\"medium\")\n",
    "sns.scatterplot(\n",
    "    data=counts_df,\n",
    "    x=\"IES\",\n",
    "    y=\"Cytotoxicity\",\n",
    "    hue=\"Sample_Classification\",\n",
    "    hue_order=[\"NL\",\"AD\",\"CRC\"],\n",
    "    palette=cmap_dict,\n",
    "    s=50,\n",
    "    alpha=0.7,\n",
    "    ax=axes[0],\n",
    ")\n",
    "\n",
    "PROPS = {\n",
    "    'boxprops':{'facecolor':'none', 'edgecolor':'k'},\n",
    "    'medianprops':{'color':'k'},\n",
    "    'whiskerprops':{'color':'k'},\n",
    "    'capprops':{'color':'k'}\n",
    "}\n",
    "sns.boxplot(\n",
    "    data=counts_df,\n",
    "    x=\"IES_status\",\n",
    "    y=\"Cytotoxicity\",\n",
    "    order=[\"IES-\",\"IES+\"],\n",
    "    #hue=\"Sample_Classification\",\n",
    "    dodge=True,\n",
    "    orient=\"v\",\n",
    "    fliersize=5,\n",
    "    linewidth=1.8,\n",
    "    ax=axes[1],\n",
    "    saturation=1,\n",
    "    showcaps=False,\n",
    "    **PROPS,\n",
    ")\n",
    "\n",
    "lgd = fig.legend(bbox_to_anchor=(0.95, 0.88), loc=\"upper left\", fontsize=\"small\", frameon=False)\n",
    "tit = fig.suptitle(\"Cytotoxicity\", fontsize=18)\n",
    "axes[0].get_legend().remove()\n",
    "#axes[1].get_legend().remove()\n",
    "axes[0].set_ylabel(\"Cytotoxicity\")\n",
    "axes[1].set_xlabel(\"\")\n",
    "axes[1].set_ylabel(\"\")\n",
    "\n",
    "sns.despine()\n",
    "fig.tight_layout()\n",
    "fig.savefig(\"scRNA_out/immexcl/cytotoxicity_vs_IESscore.png\", dpi=400, bbox_extra_artists=(lgd,tit), bbox_inches='tight')"
   ]
  }
 ],
 "metadata": {
  "kernelspec": {
   "display_name": "scanpy",
   "language": "python",
   "name": "scanpy"
  },
  "language_info": {
   "codemirror_mode": {
    "name": "ipython",
    "version": 3
   },
   "file_extension": ".py",
   "mimetype": "text/x-python",
   "name": "python",
   "nbconvert_exporter": "python",
   "pygments_lexer": "ipython3",
   "version": "3.8.10"
  }
 },
 "nbformat": 4,
 "nbformat_minor": 4
}
