{
 "cells": [
  {
   "cell_type": "code",
   "execution_count": null,
   "metadata": {},
   "outputs": [],
   "source": [
    "import sys; sys.path.append(\"../resources/\")\n",
    "from dotplot_utils import *\n",
    "import matplotlib\n",
    "import pandas as pd\n",
    "import seaborn as sns\n",
    "# make this notebook work better with Scanpy\n",
    "import warnings; warnings.simplefilter(action='ignore', category=FutureWarning)"
   ]
  },
  {
   "cell_type": "code",
   "execution_count": null,
   "metadata": {},
   "outputs": [],
   "source": [
    "# make output directories\n",
    "import os\n",
    "if not os.path.exists(\"scRNA_out\"):\n",
    "    os.mkdir(\"scRNA_out\")\n",
    "\n",
    "if not os.path.exists(\"scRNA_out/plots_overview/\"):\n",
    "    os.mkdir(\"scRNA_out/plots_overview/\")"
   ]
  },
  {
   "cell_type": "code",
   "execution_count": null,
   "metadata": {},
   "outputs": [],
   "source": [
    "sc.set_figure_params(transparent=True, dpi_save=400)\n",
    "sns.set_style(\"white\")\n",
    "sc.settings.figdir = \"scRNA_out/plots_overview/\""
   ]
  },
  {
   "cell_type": "markdown",
   "metadata": {
    "tags": []
   },
   "source": [
    "---\n",
    "## Read in key dataframe with sample information"
   ]
  },
  {
   "cell_type": "code",
   "execution_count": null,
   "metadata": {},
   "outputs": [],
   "source": [
    "sample_key = pd.read_csv(\"../resources/ST/visium_sample_key.csv\", index_col=0)"
   ]
  },
  {
   "cell_type": "markdown",
   "metadata": {},
   "source": [
    "---\n",
    "## Define gene signatures"
   ]
  },
  {
   "cell_type": "code",
   "execution_count": null,
   "metadata": {},
   "outputs": [],
   "source": [
    "# recombine signatures into useful categories\n",
    "signatures_epi_stroma = [\n",
    "    'IFN stimulated EPI',\n",
    "    'iCMS2',\n",
    "    'iCMS3',\n",
    "    'Basal',\n",
    "    'Squamous',\n",
    "    'Mesenchymal',\n",
    "    'Glandular',\n",
    "    'Ciliated',\n",
    "    'Alveolar',\n",
    "    'AC', # astrocyte\n",
    "    'OPC', # oligodendrocyte progenitor\n",
    "    'NPC', # neural progenitor\n",
    "    'IES', # custom epithelial-intrinsic exclusion signature\n",
    "]\n",
    "\n",
    "signatures_myeloid = [\n",
    "    'Myeloid',\n",
    "    'cDC2',\n",
    "    'cDC1',\n",
    "    'Macrophage',\n",
    "    'Classical monocytes',\n",
    "    'M1',\n",
    "    'M2',\n",
    "    'Neutrophils',\n",
    "    'Costimulatory MYE',\n",
    "    'Stimulatory DCs',\n",
    "    'IFN stimulated MYE',\n",
    "]\n",
    "\n",
    "signatures_lymphoid = [\n",
    "    'T cell',\n",
    "    'T reg',\n",
    "    'T cell CD4',\n",
    "    'T cell CD8',\n",
    "    'T reg resting',\n",
    "    'T reg suppressive',\n",
    "    'T reg tissue homing',\n",
    "    'T reg cytokines',\n",
    "    'T reg activation',\n",
    "    'TH1',\n",
    "    'TH2',\n",
    "    'TH17',\n",
    "    'T cell exhaustion',\n",
    "    'TRM', # tissue-resident memory T cells\n",
    "    'NK cell',\n",
    "    'B cell',\n",
    "    'Plasma cell',\n",
    "]\n",
    "\n",
    "signatures_activity = [\n",
    "    'EMT',\n",
    "    'pEMT',\n",
    "    'Senescence',\n",
    "    'SASP',\n",
    "    'Interferon',\n",
    "    'Hypoxia',\n",
    "    'Oxphos',\n",
    "    'Stress',\n",
    "    'Stress response',\n",
    "    'Bacterial response',\n",
    "    'Fibrosis',\n",
    "    'Cytotoxicity',\n",
    "    'Exhaustion',\n",
    "    'Cytokines',\n",
    "    'Chemokines',\n",
    "    'MHC',\n",
    "    'Fetal',\n",
    "    'Stem',\n",
    "    'Metaplasia',\n",
    "    'Proliferation',\n",
    "    'Translation',\n",
    "    'Cycle',\n",
    "    'Metal',\n",
    "    'CytoTRACE',\n",
    "    'CNV score',\n",
    "    'TMB',\n",
    "]\n",
    "\n",
    "signatures_curated = [\n",
    "    # activity\n",
    "    'pEMT',\n",
    "    'Metaplasia',\n",
    "    'Stem',\n",
    "    'CytoTRACE',\n",
    "    'IES',\n",
    "    'CNV score',\n",
    "    'MHC',\n",
    "    'Fibrosis',\n",
    "    'Bacterial response',\n",
    "    # epi/stroma\n",
    "    'IFN stimulated EPI',\n",
    "    'iCMS2',\n",
    "    'iCMS3',\n",
    "    'Squamous',\n",
    "    # lymphoid\n",
    "    'T reg suppressive',\n",
    "    'T cell CD4',\n",
    "    'T cell CD8',\n",
    "    'T cell exhaustion',\n",
    "    # myeloid\n",
    "    'IFN stimulated MYE',\n",
    "    'Neutrophils',\n",
    "]\n",
    "\n",
    "signatures_fig_1 = [\n",
    "    \"Stem\",\n",
    "    \"T cell CD4\",\n",
    "    \"iCMS2\",\n",
    "    \"iCMS3\",\n",
    "    \"Metaplasia\",\n",
    "    \"CytoTRACE\",\n",
    "    \"CNV score\",\n",
    "    \"T cell CD8\"\n",
    "]\n",
    "\n",
    "signatures_fig_2 = [\n",
    "    \"Stem\",\n",
    "    \"T cell CD4\",\n",
    "    \"iCMS2\",\n",
    "    \"iCMS3\",\n",
    "    \"Metaplasia\",\n",
    "    \"CytoTRACE\",\n",
    "    \"CNV score\",\n",
    "    \"TMB\",\n",
    "    \"T cell CD8\",\n",
    "    \"IFN stimulated MYE\",\n",
    "    \"T reg suppressive\",\n",
    "    \"T cell exhaustion\",\n",
    "]"
   ]
  },
  {
   "cell_type": "markdown",
   "metadata": {
    "tags": []
   },
   "source": [
    "---\n",
    "## Read in samples"
   ]
  },
  {
   "cell_type": "code",
   "execution_count": null,
   "metadata": {},
   "outputs": [],
   "source": [
    "nl_epi = sc.read(\"../data/scRNA/VUMC_HTAN_DIS_EPI_V2.h5ad\")\n",
    "epi = sc.read(\"../data/scRNA/abnormal_epithelium.h5ad\")\n",
    "stroma = sc.read(\"../data/scRNA/VUMC_HTAN_VAL_DIS_NONEPI_V2.h5ad\")"
   ]
  },
  {
   "cell_type": "markdown",
   "metadata": {},
   "source": [
    "## Dotplot with signatures"
   ]
  },
  {
   "cell_type": "code",
   "execution_count": null,
   "metadata": {},
   "outputs": [],
   "source": [
    "cmap_dict = {\n",
    "    # Tumor Type\n",
    "    'SSL/HP':\"#c4a4e1\",'MSI-H':\"#7a4fa3\",'MSS':\"#ffc101\",'TA/TVA':\"#fee799\",'NL':\"#1f77b4\",\n",
    "    # Tumor Location\n",
    "    \"Cecum\":\"#62a32e\",\"Ascending\":\"#b0dc7d\",\"Hepatic Flexure\":\"#ebf6db\",\"Transverse\":\"#fbe6f1\",\"Descending\":\"#eeadd4\",\"Sigmoid\":\"#cf4191\",\n",
    "    # this one's global\n",
    "    \"nan\":\"#ffffff\",\n",
    "    # These are black and white for T and F\n",
    "    \"T\":\"#000000\",\"F\":\"#ffffff\",\n",
    "}\n",
    "stage_colordict = dict(zip([\"AD\",\"I\",\"II\",\"III/IV\"], sns.color_palette(\"Reds\", len([\"AD\",\"I\",\"II\",\"III/IV\"])).as_hex()))\n",
    "grade_colordict = dict(zip([\"G1\",\"G2\",\"G3\"], sns.color_palette(\"Reds\", len([\"G1\",\"G2\",\"G3\"])).as_hex()))\n",
    "cmap_dict = {**cmap_dict, **stage_colordict, **grade_colordict}"
   ]
  },
  {
   "cell_type": "code",
   "execution_count": null,
   "metadata": {},
   "outputs": [],
   "source": [
    "patient_colordict = dict(zip(sample_key.patient_name, [cmap_dict[x] for x in sample_key.tumor_type]))"
   ]
  },
  {
   "cell_type": "code",
   "execution_count": null,
   "metadata": {},
   "outputs": [],
   "source": [
    "signatures_activity_height = 7\n",
    "signatures_epi_stroma_height = 4.1\n",
    "signatures_myeloid_height = 3\n",
    "signatures_lymphoid_height = 4.7\n",
    "signatures_curated_height = 6\n",
    "signatures_fig_1_height = 3\n",
    "refNMF_height = 8\n",
    "archetypes_height = 2.7\n",
    "mxif_height = 8.2"
   ]
  },
  {
   "cell_type": "code",
   "execution_count": null,
   "metadata": {},
   "outputs": [],
   "source": [
    "# define heatmap widths\n",
    "milwrm_width = 4.1\n",
    "tumor_type_width = 3.2\n",
    "tumor_loc_width = 3.7\n",
    "tumor_stage_width = 3.2\n",
    "tumor_grade_width = 3.0\n",
    "patient_width = 4.9\n",
    "pathology_width = 4.0"
   ]
  },
  {
   "cell_type": "code",
   "execution_count": null,
   "metadata": {},
   "outputs": [],
   "source": [
    "# concatenate all tumor compartments\n",
    "a = epi.concatenate([nl_epi, stroma], fill_value=0); a"
   ]
  },
  {
   "cell_type": "code",
   "execution_count": null,
   "metadata": {},
   "outputs": [],
   "source": [
    "a.obs[\"Tumor_Type\"].replace({\"MSI\":\"MSI-H\"}, inplace=True)"
   ]
  },
  {
   "cell_type": "code",
   "execution_count": null,
   "metadata": {},
   "outputs": [],
   "source": [
    "# read in mutational burden per sample from WES data outputs\n",
    "variants = pd.read_csv(\"../step1/WES_out/pseudobulk_variants_per_sample.csv\", index_col=0)"
   ]
  },
  {
   "cell_type": "code",
   "execution_count": null,
   "metadata": {},
   "outputs": [],
   "source": [
    "# consolidate spec IDs for MAP8622 polyps\n",
    "a.obs.loc[a.obs.Patient==\"HTA11_08622\",\"HTAN Specimen ID\"].value_counts()\n",
    "a.obs.loc[a.obs[\"HTAN Specimen ID\"].isin([\"HTA11_8622_2000001011\",\"HTA11_8622_2000001021\",\"MAP08622_A\"]), \"Patient\"] = \"HTA11_08622_A\"\n",
    "a.obs.loc[a.obs[\"HTAN Specimen ID\"].isin([\"HTA11_8622_2000002011\",\"HTA11_8622_2000002021\",\"MAP08622_B\"]), \"Patient\"] = \"HTA11_08622_B\""
   ]
  },
  {
   "cell_type": "code",
   "execution_count": null,
   "metadata": {},
   "outputs": [],
   "source": [
    "a.obs.Patient.value_counts()"
   ]
  },
  {
   "cell_type": "code",
   "execution_count": null,
   "metadata": {},
   "outputs": [],
   "source": [
    "a.obs[\"Variants\"] = 0\n",
    "for s in variants.Tumor_Sample_Barcode:\n",
    "    try:\n",
    "        a.obs.loc[a.obs.Patient == s, \"Variants\"] = variants.loc[variants.Tumor_Sample_Barcode==s, \"Variants\"].values[0]\n",
    "    except:\n",
    "        print(\"No bulk variants found\")"
   ]
  },
  {
   "cell_type": "code",
   "execution_count": null,
   "metadata": {},
   "outputs": [],
   "source": [
    "# rename 'Variants' to 'TMB' (Tumor Mutational Burden)\n",
    "a.obs.rename(columns={\"Variants\":\"TMB\"}, inplace=True)"
   ]
  },
  {
   "cell_type": "markdown",
   "metadata": {},
   "source": [
    "---\n",
    "# Overview plots"
   ]
  },
  {
   "cell_type": "code",
   "execution_count": null,
   "metadata": {},
   "outputs": [],
   "source": [
    "for features_name, features_list, height in zip(\n",
    "        [\"signatures_activity\", \"signatures_epi_stroma\", \"signatures_myeloid\", \"signatures_curated\", \"signatures_fig_1\"],\n",
    "        [signatures_activity, signatures_epi_stroma, signatures_myeloid, signatures_curated, signatures_fig_1],\n",
    "        [signatures_activity_height, signatures_epi_stroma_height, signatures_myeloid_height, signatures_curated_height, signatures_fig_1_height],\n",
    "    ):\n",
    "    # set counter to 0 for the first group\n",
    "    counter = 0\n",
    "    for group_name, group, width, groupby_order, groupby_colordict, in zip(\n",
    "        [\"tumortype\", \"patient\"],\n",
    "        [\"Tumor_Type\", \"Patient\"],\n",
    "        [tumor_type_width, patient_width],\n",
    "        [None, None],\n",
    "        [cmap_dict, patient_colordict],\n",
    "    ):\n",
    "        if counter == 0:\n",
    "            # for the first group, hierarchically cluster the features\n",
    "            features_ordered = cody_heatmap(\n",
    "                a,\n",
    "                groupby=group,\n",
    "                features=features_list,\n",
    "                cluster_vars=True,\n",
    "                vars_dict=None,\n",
    "                groupby_order=groupby_order,\n",
    "                groupby_colordict=groupby_colordict,\n",
    "                cluster_obs=True if groupby_order is None else False,\n",
    "                figsize=(width, height),\n",
    "                save=\"scRNA_out/plots_overview/{}_{}_dotplot.png\".format(group_name, features_name),\n",
    "                dpi=400,\n",
    "                cmap=\"Greys\",\n",
    "                size_title=\"Fraction of cells or\\nspots in group (%)\",\n",
    "            )\n",
    "            counter += 1\n",
    "        else:\n",
    "            # after the first group, features are ordered based on the first group clustering\n",
    "            cody_heatmap(\n",
    "                a,\n",
    "                groupby=group,\n",
    "                features=features_ordered,\n",
    "                cluster_vars=False,\n",
    "                vars_dict=None,\n",
    "                groupby_order=groupby_order,\n",
    "                groupby_colordict=groupby_colordict,\n",
    "                cluster_obs=True if groupby_order is None else False,\n",
    "                figsize=(width, height),\n",
    "                save=\"scRNA_out/plots_overview/{}_{}_dotplot.png\".format(group_name, features_name),\n",
    "                dpi=400,\n",
    "                cmap=\"Greys\",\n",
    "                size_title=\"Fraction of cells or\\nspots in group (%)\",\n",
    "            )"
   ]
  },
  {
   "cell_type": "code",
   "execution_count": null,
   "metadata": {},
   "outputs": [],
   "source": [
    "# re-run curated signatures with fixed ordering\n",
    "for features_name, features_list, height in zip(\n",
    "        [\"signatures_fig_1\"],\n",
    "        [signatures_fig_1],\n",
    "        [2.4],\n",
    "    ):\n",
    "    # set counter to 0 for the first group\n",
    "    counter = 0\n",
    "    for group_name, group, width, groupby_order, groupby_colordict, in zip(\n",
    "        [\"tumortype\", \"patient\"],\n",
    "        [\"Tumor_Type\", \"Patient\"],\n",
    "        [tumor_type_width, patient_width],\n",
    "        [[\"NL\",\"TA/TVA\",\"MSS\",\"SSL/HP\",\"MSI-H\"], [\n",
    "                \"HTA11_01938\",\n",
    "                \"HTA11_07862\",\n",
    "                \"HTA11_10711\",\n",
    "                \"PAT71397\",\n",
    "                \"PAT71662\",\n",
    "                \"PAT73899\",\n",
    "                \"PAT74143\",\n",
    "                \"HTA11_06134\",\n",
    "                \"HTA11_07663\",\n",
    "                \"HTA11_08622_A\",\n",
    "                \"HTA11_08622_B\",\n",
    "                \"PAT73458\",\n",
    "            ]],\n",
    "        [cmap_dict, patient_colordict],\n",
    "    ):\n",
    "        if counter == 1:\n",
    "            pass\n",
    "        else:\n",
    "            features_ordered = [\n",
    "                \"Stem\",\n",
    "                \"T cell CD4\",\n",
    "                \"iCMS2\",\n",
    "                \"iCMS3\",\n",
    "                \"Metaplasia\",\n",
    "                \"CytoTRACE\",\n",
    "                \"CNV score\",\n",
    "                \"T cell CD8\",\n",
    "            ]\n",
    "            # after the first group, features are ordered based on the first group clustering\n",
    "            cody_heatmap(\n",
    "                a,\n",
    "                groupby=group,\n",
    "                features=features_ordered,\n",
    "                cluster_vars=False,\n",
    "                vars_dict=None,\n",
    "                groupby_order=groupby_order,\n",
    "                groupby_colordict=groupby_colordict,\n",
    "                cluster_obs=True if groupby_order is None else False,\n",
    "                figsize=(width, height),\n",
    "                save=\"scRNA_out/plots_overview/{}_{}_dotplot.png\".format(group_name, features_name),\n",
    "                dpi=400,\n",
    "                cmap=\"Greys\",\n",
    "                size_title=\"Fraction of cells or\\nspots in group (%)\",\n",
    "            )"
   ]
  },
  {
   "cell_type": "code",
   "execution_count": null,
   "metadata": {},
   "outputs": [],
   "source": [
    "group_name = \"patient\"\n",
    "features_name = \"signatures_fig_1\"\n",
    "group = \"Patient\"\n",
    "features_list = signatures_fig_1\n",
    "height = signatures_fig_1_height\n",
    "width = patient_width\n",
    "groupby_colordict = patient_colordict\n",
    "groupby_order = [\n",
    "    \"HTA11_01938\",\n",
    "    \"HTA11_07862\",\n",
    "    \"HTA11_10711\",\n",
    "    \"PAT71397\",\n",
    "    \"PAT71662\",\n",
    "    \"PAT73899\",\n",
    "    \"PAT74143\",\n",
    "    \"HTA11_06134\",\n",
    "    \"HTA11_07663\",\n",
    "    \"HTA11_08622_A\",\n",
    "    \"HTA11_08622_B\",\n",
    "    \"PAT73458\",\n",
    "]\n",
    "features_ordered = [\n",
    "    \"Stem\",\n",
    "    \"T cell CD4\",\n",
    "    \"iCMS2\",\n",
    "    \"iCMS3\",\n",
    "    \"Metaplasia\",\n",
    "    \"CytoTRACE\",\n",
    "    \"CNV score\",\n",
    "    \"T cell CD8\",\n",
    "]\n",
    "\n",
    "cody_heatmap(\n",
    "    a,\n",
    "    groupby=group,\n",
    "    features=features_ordered,\n",
    "    cluster_vars=False,\n",
    "    vars_dict=None,\n",
    "    groupby_order=groupby_order,\n",
    "    groupby_colordict=groupby_colordict,\n",
    "    cluster_obs=True if groupby_order is None else False,\n",
    "    figsize=(width, 2.4),\n",
    "    save=\"scRNA_out/plots_overview/{}_{}_dotplot.png\".format(group_name, features_name),\n",
    "    dpi=400,\n",
    "    cmap=\"Greys\",\n",
    "    size_title=\"Fraction of cells or\\nspots in group (%)\",\n",
    ")"
   ]
  },
  {
   "cell_type": "markdown",
   "metadata": {},
   "source": [
    "---\n",
    "# Gene and cell state summaries for immune exclusion analysis"
   ]
  },
  {
   "cell_type": "code",
   "execution_count": null,
   "metadata": {},
   "outputs": [],
   "source": [
    "custom_dict = {\n",
    "    \"PPT\": [\"CNV score\",\"TMB\"],\n",
    "    \"Excl.\": [\"IES\",\"DDR1\",\"TGFBI\",\"PAK4\",\"DPEP1\",\"Fibrosis\"],\n",
    "    \"uEnv.\": [\"CXCL14\",\"CXCL12\",\"SPP1\"],\n",
    "    \"Inf.\": [\"T cell CD4\",\"T reg suppressive\",\"TRAC\",\"T cell CD8\",\"GZMB\",\"GZMA\",\"PLAUR\",\"CD207\"],\n",
    "    \"Act.\": [\"Oxphos\",\"Hypoxia\",\"pEMT\"],\n",
    "    \"MSS\": [\"iCMS2\",\"Stem\",\"CEACAM6\"],\n",
    "    \"MSI\": [\"iCMS3\",\"MUC5AC\",\"Metaplasia\"],\n",
    "    \"NL\": [\"MUC2\",\"SLC26A3\",\"BEST4\"],\n",
    "}\n",
    "custom_dict_height = 7.5"
   ]
  },
  {
   "cell_type": "code",
   "execution_count": null,
   "metadata": {},
   "outputs": [],
   "source": [
    "for features_name, features_list, height in zip(\n",
    "        [\"immexcl\"],\n",
    "        [custom_dict],\n",
    "        [custom_dict_height],\n",
    "    ):\n",
    "    for group_name, group, width, groupby_order, groupby_colordict, in zip(\n",
    "        [\"tumortype\", \"patient\"],\n",
    "        [\"Tumor_Type\", \"Patient\"],\n",
    "        [3.8, patient_width],\n",
    "        [None, None],\n",
    "        [cmap_dict, patient_colordict],\n",
    "    ):\n",
    "        cody_heatmap(\n",
    "            a,\n",
    "            groupby=group,\n",
    "            features=sum(custom_dict.values(), []),\n",
    "            cluster_vars=False,\n",
    "            vars_dict=custom_dict,\n",
    "            groupby_order=groupby_order,\n",
    "            groupby_colordict=groupby_colordict,\n",
    "            cluster_obs=True if groupby_order is None else False,\n",
    "            figsize=(width, height),\n",
    "            save=\"scRNA_out/plots_overview/{}_{}_dotplot.png\".format(group_name, features_name),\n",
    "            dpi=400,\n",
    "            cmap=\"Greys\",\n",
    "            size_title=\"Fraction of cells\\nin group (%)\",\n",
    "        )"
   ]
  }
 ],
 "metadata": {
  "kernelspec": {
   "display_name": "scanpy",
   "language": "python",
   "name": "scanpy"
  },
  "language_info": {
   "codemirror_mode": {
    "name": "ipython",
    "version": 3
   },
   "file_extension": ".py",
   "mimetype": "text/x-python",
   "name": "python",
   "nbconvert_exporter": "python",
   "pygments_lexer": "ipython3",
   "version": "3.8.10"
  }
 },
 "nbformat": 4,
 "nbformat_minor": 4
}
