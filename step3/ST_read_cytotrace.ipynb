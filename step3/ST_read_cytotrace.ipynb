{
 "cells": [
  {
   "cell_type": "code",
   "execution_count": null,
   "metadata": {},
   "outputs": [],
   "source": [
    "import numpy as np\n",
    "import pandas as pd\n",
    "import scanpy as sc\n",
    "from MILWRM.ST import *\n",
    "from mycolorpy import colorlist as mcp"
   ]
  },
  {
   "cell_type": "code",
   "execution_count": null,
   "metadata": {},
   "outputs": [],
   "source": [
    "# make output directories\n",
    "import os\n",
    "if not os.path.exists(\"ST_out\"):\n",
    "    os.mkdir(\"ST_out\")\n",
    "\n",
    "if not os.path.exists(\"ST_out/CytoTRACE/\"):\n",
    "    os.mkdir(\"ST_out/CytoTRACE/\")"
   ]
  },
  {
   "cell_type": "code",
   "execution_count": null,
   "metadata": {},
   "outputs": [],
   "source": [
    "sc.set_figure_params(transparent=True, dpi_save=180)\n",
    "sc.settings.figdir = \"ST_out/CytoTRACE/\"\n",
    "import seaborn as sns; sns.set_style(\"white\")"
   ]
  },
  {
   "cell_type": "markdown",
   "metadata": {
    "tags": []
   },
   "source": [
    "---\n",
    "### Read in key dataframe with sample information"
   ]
  },
  {
   "cell_type": "code",
   "execution_count": null,
   "metadata": {},
   "outputs": [],
   "source": [
    "sample_key = pd.read_csv(\"../resources/ST/visium_sample_key.csv\", index_col=0)"
   ]
  },
  {
   "cell_type": "code",
   "execution_count": null,
   "metadata": {},
   "outputs": [],
   "source": [
    "%%time\n",
    "for s in sample_key.index[:2]:\n",
    "    print(\"Starting {}:\".format(s), end=\"\\n\")\n",
    "    a = sc.read(\"../data/ST/{}_master.h5ad\".format(s))  # read in anndata\n",
    "    \n",
    "    if \"CytoTRACE\" in a.obs.columns:\n",
    "        a.obs.drop(columns=[\"CytoTRACE\"], inplace=True)\n",
    "        \n",
    "    # get CytoTRACE scores per spot\n",
    "    print(\"Reading CytoTRACE from ../step1/ST_out/CytoTRACE/{}_CytoTRACE.csv\".format(sample_key.loc[s, \"sample_key_short\"]))\n",
    "    tmp = pd.read_csv(\"../step1/ST_out/CytoTRACE/{}_CytoTRACE.csv\".format(sample_key.loc[s, \"sample_key_short\"]), index_col=0)\n",
    "    tmp.rename(columns={\"x\":\"CytoTRACE\"},inplace=True)\n",
    "    a.obs = a.obs.merge(tmp, left_index=True, right_index=True, how=\"left\")\n",
    "    \n",
    "    # plot CytoTRACE overlay\n",
    "    p = assemble_pita(\n",
    "        a,\n",
    "        features=\"CytoTRACE\",\n",
    "        cmap=\"viridis\",\n",
    "        use_rep=\"obs\",\n",
    "        histo=\"hires_trim\",\n",
    "        label=\"CytoTRACE\",\n",
    "        save_to=\"ST_out/CytoTRACE/{}_CytoTRACE.png\".format(s),\n",
    "    )\n",
    "\n",
    "    # save to master anndata object\n",
    "    print(\"\\tSaving to {}\".format(\"../data/ST/{}_master.h5ad\".format(s)), end=\"\\n\\n\")\n",
    "    a.write(\"../data/ST/{}_master.h5ad\".format(s), compression=\"gzip\")"
   ]
  }
 ],
 "metadata": {
  "kernelspec": {
   "display_name": "scanpy",
   "language": "python",
   "name": "scanpy"
  },
  "language_info": {
   "codemirror_mode": {
    "name": "ipython",
    "version": 3
   },
   "file_extension": ".py",
   "mimetype": "text/x-python",
   "name": "python",
   "nbconvert_exporter": "python",
   "pygments_lexer": "ipython3",
   "version": "3.8.10"
  }
 },
 "nbformat": 4,
 "nbformat_minor": 5
}
