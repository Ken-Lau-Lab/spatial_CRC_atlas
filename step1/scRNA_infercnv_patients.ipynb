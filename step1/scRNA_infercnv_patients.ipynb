{
 "cells": [
  {
   "cell_type": "code",
   "execution_count": null,
   "metadata": {},
   "outputs": [],
   "source": [
    "import numpy as np\n",
    "import pandas as pd\n",
    "import scanpy as sc\n",
    "import infercnvpy as cnv\n",
    "import matplotlib.pyplot as plt\n",
    "# make this notebook work better with Scanpy\n",
    "import warnings; warnings.simplefilter(action='ignore', category=FutureWarning)\n",
    "import seaborn as sns"
   ]
  },
  {
   "cell_type": "code",
   "execution_count": null,
   "metadata": {},
   "outputs": [],
   "source": [
    "# make output directories\n",
    "import os\n",
    "if not os.path.exists(\"scRNA_out\"):\n",
    "    os.mkdir(\"scRNA_out\")\n",
    "\n",
    "if not os.path.exists(\"scRNA_out/gene_signatures/\"):\n",
    "    os.mkdir(\"scRNA_out/infercnv/\")"
   ]
  },
  {
   "cell_type": "code",
   "execution_count": null,
   "metadata": {},
   "outputs": [],
   "source": [
    "sc.set_figure_params(transparent=True, dpi_save=400)\n",
    "sc.settings.figdir = \"scRNA_out/infercnv/\""
   ]
  },
  {
   "cell_type": "code",
   "execution_count": null,
   "metadata": {},
   "outputs": [],
   "source": [
    "from pyensembl import EnsemblRelease\n",
    "\n",
    "# release 98 uses human reference genome GRCh38\n",
    "data = EnsemblRelease(98)"
   ]
  },
  {
   "cell_type": "markdown",
   "metadata": {
    "tags": []
   },
   "source": [
    "---\n",
    "# Read in data"
   ]
  },
  {
   "cell_type": "code",
   "execution_count": null,
   "metadata": {},
   "outputs": [],
   "source": [
    "a_comb = sc.read(\"../data/scRNA/VUMC_COMBINED.h5ad\"); a_comb"
   ]
  },
  {
   "cell_type": "markdown",
   "metadata": {},
   "source": [
    "---\n",
    "# Perform CNV inference globally"
   ]
  },
  {
   "cell_type": "code",
   "execution_count": null,
   "metadata": {},
   "outputs": [],
   "source": [
    "# Use `pyensembl` to map ENSG IDs to genomic loci\n",
    "a_comb.var[\"chromosome\"] = \"0\"\n",
    "a_comb.var[\"start\"] = 0\n",
    "a_comb.var[\"end\"] = 0\n",
    "err_counter = 0\n",
    "for i in a_comb.var_names:\n",
    "    try:\n",
    "        gene = data.gene_by_id(a_comb.var.gene_id[i])\n",
    "        a_comb.var.loc[i,\"chromosome\"] = \"chr{}\".format(gene.contig)\n",
    "        a_comb.var.loc[i,\"start\"] = gene.start\n",
    "        a_comb.var.loc[i,\"end\"] = gene.end\n",
    "    except ValueError as e:\n",
    "        #print(e)\n",
    "        err_counter += 1\n",
    "print(\"{} errors in ENSEMBL mapping\".format(err_counter))"
   ]
  },
  {
   "cell_type": "code",
   "execution_count": null,
   "metadata": {},
   "outputs": [],
   "source": [
    "a = a_comb[a_comb.obs.Patient != \"\", :].copy() ; a"
   ]
  },
  {
   "cell_type": "code",
   "execution_count": null,
   "metadata": {},
   "outputs": [],
   "source": [
    "%%time\n",
    "# run InferCNV\n",
    "# provide stromal regions as \"normal cells\"\n",
    "cnv.tl.infercnv(\n",
    "    a,\n",
    "    reference_key=\"Compartment\",\n",
    "    reference_cat=[\"Stroma\"],\n",
    "    window_size=200,\n",
    ")\n",
    "# determine clusters based on detected CNVs\n",
    "cnv.tl.pca(a)\n",
    "cnv.pp.neighbors(a, n_neighbors=int(np.sqrt(a.n_obs)))\n",
    "cnv.tl.leiden(a, resolution=1.5)\n",
    "# score detected CNVs in every spot\n",
    "cnv.tl.cnv_score(a)"
   ]
  },
  {
   "cell_type": "code",
   "execution_count": null,
   "metadata": {},
   "outputs": [],
   "source": [
    "# save CNV to file\n",
    "np.save(\"scRNA_out/infercnv/uns_cnv_VUMC.npy\", a.uns[\"cnv\"])\n",
    "# write to csv for compilation\n",
    "a.obs[[\"cnv_leiden\",\"cnv_score\"]].to_csv(\"scRNA_out/infercnv/VUMC_cnv_leiden.csv\")\n",
    "# write CNV values to npz for compilation\n",
    "np.savez_compressed(\"scRNA_out/infercnv/VUMC_cnv.npz\", a.obsm[\"X_cnv\"])"
   ]
  },
  {
   "cell_type": "code",
   "execution_count": null,
   "metadata": {},
   "outputs": [],
   "source": [
    "# or, read in results from previous run\n",
    "# read in CNV matrix and put in a.obsm slot\n",
    "tmp = np.load(\"scRNA_out/infercnv/VUMC_cnv.npz\", allow_pickle=\"TRUE\")\n",
    "a.obsm[\"X_cnv\"] = tmp.f.arr_0.item()\n",
    "# read in CNV genomic partitions\n",
    "a.uns[\"cnv\"] = np.load(\"scRNA_out/infercnv/uns_cnv_VUMC.npy\", allow_pickle=\"TRUE\").item()\n",
    "# read in cnv_score and cnv_leiden\n",
    "a.obs = a.obs.merge(pd.read_csv(\"scRNA_out/infercnv/VUMC_cnv_leiden.csv\", index_col=0), left_index=True, right_index=True)"
   ]
  },
  {
   "cell_type": "code",
   "execution_count": null,
   "metadata": {},
   "outputs": [],
   "source": [
    "# plot heatmap with cell types\n",
    "print(\"Plotting Cell_Type CNV heatmap\")\n",
    "cnv.pl.chromosome_heatmap(\n",
    "    a,\n",
    "    groupby=\"Compartment\",\n",
    "    save=\"_VUMC_compartment.png\",\n",
    "    dendrogram=True,\n",
    "    figsize=(12,8),\n",
    ")"
   ]
  },
  {
   "cell_type": "code",
   "execution_count": null,
   "metadata": {},
   "outputs": [],
   "source": [
    "# plot heatmap with cell types\n",
    "print(\"Plotting Cell_Type CNV heatmap\")\n",
    "cnv.pl.chromosome_heatmap(\n",
    "    a,\n",
    "    groupby=\"Cell_Type\",\n",
    "    save=\"_VUMC_CellType.png\",\n",
    "    dendrogram=True,\n",
    "    figsize=(12,8),\n",
    ")"
   ]
  },
  {
   "cell_type": "code",
   "execution_count": null,
   "metadata": {},
   "outputs": [],
   "source": [
    "# plot heatmap with tumor type\n",
    "print(\"Plotting CNV heatmap with tumor class\")\n",
    "cnv.pl.chromosome_heatmap(\n",
    "    a,\n",
    "    groupby=\"Tumor_Type\",\n",
    "    save=\"_VUMC_tumortype.png\",\n",
    "    dendrogram=True,\n",
    "    figsize=(12,8),\n",
    ")"
   ]
  },
  {
   "cell_type": "code",
   "execution_count": null,
   "metadata": {},
   "outputs": [],
   "source": [
    "# plot heatmap with patient\n",
    "print(\"Plotting CNV heatmap with patient\")\n",
    "cnv.pl.chromosome_heatmap(\n",
    "    a,\n",
    "    groupby=\"Patient\",\n",
    "    save=\"_VUMC_patient.png\",\n",
    "    dendrogram=True,\n",
    "    figsize=(12,12),\n",
    ")"
   ]
  },
  {
   "cell_type": "code",
   "execution_count": null,
   "metadata": {},
   "outputs": [],
   "source": [
    "# create cnv_leiden colordict\n",
    "a.obs.cnv_leiden = a.obs.cnv_leiden.astype(str)\n",
    "a.obs.cnv_leiden = a.obs.cnv_leiden.astype(\"category\")\n",
    "cnv_leiden_cdict = dict(zip(a.obs.cnv_leiden.cat.categories, sns.color_palette(\"tab20\", len(a.obs.cnv_leiden.cat.categories)).as_hex()))\n",
    "a.uns[\"cnv_leiden_colors\"] = [cnv_leiden_cdict[x] for x in a.obs.cnv_leiden.cat.categories]"
   ]
  },
  {
   "cell_type": "code",
   "execution_count": null,
   "metadata": {},
   "outputs": [],
   "source": [
    "# plot heatmap with CNV Leiden clusters\n",
    "print(\"Plotting CNV heatmap with Leiden clusters\")\n",
    "cnv.pl.chromosome_heatmap(\n",
    "    a,\n",
    "    groupby=\"cnv_leiden\",\n",
    "    save=\"_VUMC.png\",\n",
    "    dendrogram=True,\n",
    "    figsize=(12,8),\n",
    ")"
   ]
  },
  {
   "cell_type": "code",
   "execution_count": null,
   "metadata": {},
   "outputs": [],
   "source": [
    "# plot heatmap with CNV Leiden clusters within each patient cohort\n",
    "for pat in list(specs.keys()):\n",
    "    # plot heatmap with patient\n",
    "    print(\"Plotting CNV heatmap for {}\".format(pat), end=\" - \")\n",
    "    tmp = a[a.obs[\"Patient\"]==pat,:].copy()\n",
    "    tmp.obs.cnv_leiden = tmp.obs.cnv_leiden.astype(str)\n",
    "    tmp.obs.cnv_leiden = tmp.obs.cnv_leiden.astype(\"category\")\n",
    "    tmp.uns[\"cnv_leiden_colors\"] = [cnv_leiden_cdict[x] for x in tmp.obs.cnv_leiden.cat.categories]\n",
    "    tt = tmp.obs[\"Tumor_Type\"].unique()[0]\n",
    "    print(tt)\n",
    "    cnv.pl.chromosome_heatmap(\n",
    "        tmp,\n",
    "        groupby=\"cnv_leiden\",\n",
    "        save=\"_VUMC_scRNA_{}_{}.png\".format(pat, tt.replace(\"/\",\"-\")),\n",
    "        dendrogram=True,\n",
    "        figsize=(12,8),\n",
    "    )"
   ]
  },
  {
   "cell_type": "code",
   "execution_count": null,
   "metadata": {},
   "outputs": [],
   "source": [
    "a.obs.rename(columns={\"cnv_score\":\"CNV Score\"}, inplace=True)"
   ]
  },
  {
   "cell_type": "markdown",
   "metadata": {
    "tags": []
   },
   "source": [
    "---\n",
    "# Save CNV info to anndatas"
   ]
  },
  {
   "cell_type": "code",
   "execution_count": null,
   "metadata": {},
   "outputs": [],
   "source": [
    "epi_nl = sc.read(\"../data/scRNA/VUMC_HTAN_DIS_EPI_V2.h5ad\")"
   ]
  },
  {
   "cell_type": "code",
   "execution_count": null,
   "metadata": {},
   "outputs": [],
   "source": [
    "stroma = sc.read(\"../data/scRNA/VUMC_HTAN_VAL_DIS_NONEPI_V2.h5ad\")"
   ]
  },
  {
   "cell_type": "code",
   "execution_count": null,
   "metadata": {},
   "outputs": [],
   "source": [
    "epi = sc.read(\"../data/scRNA/abnormal_epithelium.h5ad\")"
   ]
  },
  {
   "cell_type": "markdown",
   "metadata": {},
   "source": [
    "### Add CNV metadata to UMAP coord anndatas"
   ]
  },
  {
   "cell_type": "code",
   "execution_count": null,
   "metadata": {},
   "outputs": [],
   "source": [
    "epi.obs[\"Patient\"]=np.nan; epi.obs[\"Tumor_Type\"]=np.nan; epi.obs[\"cnv_leiden\"]=np.nan; epi.obs[\"CNV Score\"]=np.nan\n",
    "\n",
    "epi.obs.loc[\n",
    "    list(set(a.obs_names).intersection(set(epi.obs_names))),\n",
    "    [\"Patient\",\"Tumor_Type\",\"cnv_leiden\",\"CNV Score\"]\n",
    "] = a.obs.loc[\n",
    "    list(set(a.obs_names).intersection(set(epi.obs_names))),\n",
    "    [\"Patient\",\"Tumor_Type\",\"cnv_leiden\",\"CNV Score\"]\n",
    "].values"
   ]
  },
  {
   "cell_type": "code",
   "execution_count": null,
   "metadata": {},
   "outputs": [],
   "source": [
    "epi_nl.obs[\"Patient\"]=np.nan; epi_nl.obs[\"Tumor_Type\"]=np.nan; epi_nl.obs[\"cnv_leiden\"]=np.nan; epi_nl.obs[\"CNV Score\"]=np.nan\n",
    "\n",
    "epi_nl.obs.loc[\n",
    "    list(set(a.obs_names).intersection(set(epi_nl.obs_names))),\n",
    "    [\"Patient\",\"Tumor_Type\",\"cnv_leiden\",\"CNV Score\"]\n",
    "] = a.obs.loc[\n",
    "    list(set(a.obs_names).intersection(set(epi_nl.obs_names))),\n",
    "    [\"Patient\",\"Tumor_Type\",\"cnv_leiden\",\"CNV Score\"]\n",
    "].values"
   ]
  },
  {
   "cell_type": "code",
   "execution_count": null,
   "metadata": {},
   "outputs": [],
   "source": [
    "stroma.obs[\"Patient\"]=np.nan; stroma.obs[\"Tumor_Type\"]=np.nan; stroma.obs[\"cnv_leiden\"]=np.nan; stroma.obs[\"CNV Score\"]=np.nan\n",
    "\n",
    "stroma.obs.loc[\n",
    "    list(set(a.obs_names).intersection(set(stroma.obs_names))),\n",
    "    [\"Patient\",\"Tumor_Type\",\"cnv_leiden\",\"CNV Score\"]\n",
    "] = a.obs.loc[\n",
    "    list(set(a.obs_names).intersection(set(stroma.obs_names))),\n",
    "    [\"Patient\",\"Tumor_Type\",\"cnv_leiden\",\"CNV Score\"]\n",
    "].values"
   ]
  },
  {
   "cell_type": "code",
   "execution_count": null,
   "metadata": {},
   "outputs": [],
   "source": [
    "epi_nl.write(\"../data/scRNA/VUMC_HTAN_DIS_EPI_V2.h5ad\", compression=\"gzip\")"
   ]
  },
  {
   "cell_type": "code",
   "execution_count": null,
   "metadata": {},
   "outputs": [],
   "source": [
    "stroma.write(\"../data/scRNA/VUMC_HTAN_VAL_DIS_NONEPI_V2.h5ad\", compression=\"gzip\")"
   ]
  },
  {
   "cell_type": "code",
   "execution_count": null,
   "metadata": {},
   "outputs": [],
   "source": [
    "epi.write(\"../data/scRNA/abnormal_epithelium.h5ad\", compression=\"gzip\")"
   ]
  }
 ],
 "metadata": {
  "kernelspec": {
   "display_name": "scanpy",
   "language": "python",
   "name": "scanpy"
  },
  "language_info": {
   "codemirror_mode": {
    "name": "ipython",
    "version": 3
   },
   "file_extension": ".py",
   "mimetype": "text/x-python",
   "name": "python",
   "nbconvert_exporter": "python",
   "pygments_lexer": "ipython3",
   "version": "3.8.10"
  }
 },
 "nbformat": 4,
 "nbformat_minor": 4
}
