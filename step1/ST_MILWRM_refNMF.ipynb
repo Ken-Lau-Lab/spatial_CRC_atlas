{
 "cells": [
  {
   "cell_type": "code",
   "execution_count": null,
   "metadata": {},
   "outputs": [],
   "source": [
    "import pandas as pd\n",
    "import scanpy as sc\n",
    "import kitchen.ingredients as k\n",
    "import dropkick as dk\n",
    "import MILWRM.ST as st\n",
    "import sys; sys.path.append(\"../resources/ST/\")\n",
    "from visium_utils import deconvolve_cnmf\n",
    "\n",
    "# some stuff to make this notebook work better with Scanpy\n",
    "import warnings\n",
    "warnings.simplefilter(action='ignore', category=FutureWarning)"
   ]
  },
  {
   "cell_type": "code",
   "execution_count": null,
   "metadata": {},
   "outputs": [],
   "source": [
    "# make output directory\n",
    "import os\n",
    "if not os.path.exists(\"ST_out\"):\n",
    "    os.mkdir(\"ST_out\")\n",
    "\n",
    "if not os.path.exists(\"ST_out/MILWRM_VUMC_refNMF\"):\n",
    "    os.mkdir(\"ST_out/MILWRM_VUMC_refNMF\")"
   ]
  },
  {
   "cell_type": "markdown",
   "metadata": {
    "tags": []
   },
   "source": [
    "---\n",
    "### Read in key dataframe with sample information"
   ]
  },
  {
   "cell_type": "code",
   "execution_count": null,
   "metadata": {},
   "outputs": [],
   "source": [
    "sample_key = pd.read_csv(\"../resources/ST/visium_sample_key.csv\", index_col=0)"
   ]
  },
  {
   "cell_type": "code",
   "execution_count": null,
   "metadata": {},
   "outputs": [],
   "source": [
    "sample_key.columns"
   ]
  },
  {
   "cell_type": "code",
   "execution_count": null,
   "metadata": {},
   "outputs": [],
   "source": [
    "# how to rename usage columns to describe cell states\n",
    "rename_dict = {\n",
    "    \"usage_1\":\"usage_1_STM\",\n",
    "    \"usage_2\":\"usage_2_END1\",\n",
    "    \"usage_3\":\"usage_3_BL1\",\n",
    "    \"usage_4\":\"usage_4_FIB1\",\n",
    "    \"usage_5\":\"usage_5_CRC1\",\n",
    "    \"usage_6\":\"usage_6_MYE1\",\n",
    "    \"usage_7\":\"usage_7_TL1\",\n",
    "    \"usage_8\":\"usage_8_MYE2\",\n",
    "    \"usage_9\":\"usage_9_CRC2\",\n",
    "    \"usage_10\":\"usage_10_CT\",\n",
    "    \"usage_11\":\"usage_11_SSC\",\n",
    "    \"usage_12\":\"usage_12_CRC3\",\n",
    "    \"usage_13\":\"usage_13_EE1\",\n",
    "    \"usage_14\":\"usage_14_MYE3\",\n",
    "    \"usage_15\":\"usage_15_PLA\",\n",
    "    \"usage_16\":\"usage_16_FIB2\",\n",
    "    \"usage_17\":\"usage_17_MYE4\",\n",
    "    \"usage_18\":\"usage_18_GOB\",\n",
    "    \"usage_19\":\"usage_19_MAS\",\n",
    "    \"usage_20\":\"usage_20_MYE5\",\n",
    "    \"usage_21\":\"usage_21_CRC4\",\n",
    "    \"usage_22\":\"usage_22_ABS\",\n",
    "    \"usage_23\":\"usage_23_TUF\",\n",
    "    \"usage_24\":\"usage_24_FIB3\",\n",
    "    \"usage_25\":\"usage_25_FIB4\",\n",
    "    \"usage_26\":\"usage_26_TL2\",\n",
    "    \"usage_27\":\"usage_27_END2\",\n",
    "    \"usage_28\":\"usage_28_TL3\",\n",
    "    \"usage_29\":\"usage_29_EE2\",\n",
    "    \"usage_30\":\"usage_30_BL2\",\n",
    "}\n",
    "\n",
    "# features that describe tissue morphology (not immune) for MILWRM\n",
    "training_features = [\n",
    "    \"usage_1_STM\",\n",
    "    \"usage_2_END1\",\n",
    "    \"usage_4_FIB1\",\n",
    "    \"usage_5_CRC1\",\n",
    "    \"usage_9_CRC2\",\n",
    "    \"usage_10_CT\",\n",
    "    \"usage_11_SSC\",\n",
    "    \"usage_12_CRC3\",\n",
    "    \"usage_13_EE1\",\n",
    "    \"usage_16_FIB2\",\n",
    "    \"usage_18_GOB\",\n",
    "    \"usage_21_CRC4\",\n",
    "    \"usage_22_ABS\",\n",
    "    \"usage_23_TUF\",\n",
    "    \"usage_24_FIB3\",\n",
    "    \"usage_25_FIB4\",\n",
    "    \"usage_27_END2\",\n",
    "    \"usage_29_EE2\",\n",
    "]"
   ]
  },
  {
   "cell_type": "markdown",
   "metadata": {},
   "source": [
    "---\n",
    "### Now infer cNMF usage scores for Visium spots by factorizing with reference consensus gene spectra"
   ]
  },
  {
   "cell_type": "code",
   "execution_count": null,
   "metadata": {},
   "outputs": [],
   "source": [
    "#pitas = []\n",
    "adatas = []\n",
    "\n",
    "for s in sample_key.index:\n",
    "    print(\"Starting {}:\".format(s), end=\"\\n\\t\")\n",
    "    a = sc.read(os.path.join(\"../\", sample_key.loc[s, \"trimmed_adata\"]))  # read in anndata\n",
    "    # deconvolve with refNMF\n",
    "    a, spectra, spectra_ref, niter = deconvolve_cnmf(adata=a, cnmf_dir=\"../resources/scRNA/VUMC_NMF/\", k=30)\n",
    "    a.obs.rename(columns=rename_dict, inplace=True)\n",
    "    \n",
    "    # plot refNMF fractions\n",
    "    #p = assemble_pita(\n",
    "    #    a,\n",
    "    #    features=list(rename_dict.values()),\n",
    "    #    label=list(rename_dict.values()),\n",
    "    #    save_to=\"{}_VUMCrefNMF30.png\".format(s),\n",
    "    #    #vmin=a.obs[list(rename_dict.values())].values.min(),\n",
    "    #    #vmax=a.obs[list(rename_dict.values())].values.max(),\n",
    "    #    use_rep=\".obs\",\n",
    "    #    ncols=5,\n",
    "    #    #histo=\"hires_trim\",\n",
    "    #    cmap=\"viridis\",\n",
    "    #)\n",
    "    #pitas.append(p)\n",
    "    \n",
    "    a.obsm[\"MILWRM_predictors\"] = a.obs[training_features].values\n",
    "    adatas.append(a)"
   ]
  },
  {
   "cell_type": "markdown",
   "metadata": {},
   "source": [
    "---\n",
    "## Run MILWRM Tissue Labeler"
   ]
  },
  {
   "cell_type": "code",
   "execution_count": null,
   "metadata": {},
   "outputs": [],
   "source": [
    "import MILWRM.MILWRM as mw"
   ]
  },
  {
   "cell_type": "code",
   "execution_count": null,
   "metadata": {},
   "outputs": [],
   "source": [
    "tl = mw.st_labeler(adatas)"
   ]
  },
  {
   "cell_type": "code",
   "execution_count": null,
   "metadata": {
    "tags": []
   },
   "outputs": [],
   "source": [
    "tl.prep_cluster_data(\n",
    "    use_rep=\"MILWRM_predictors\",\n",
    "    histo=False,\n",
    "    n_rings=2,\n",
    ")"
   ]
  },
  {
   "cell_type": "code",
   "execution_count": null,
   "metadata": {},
   "outputs": [],
   "source": [
    "tl.label_tissue_regions(alpha=0.023)"
   ]
  },
  {
   "cell_type": "code",
   "execution_count": null,
   "metadata": {},
   "outputs": [],
   "source": [
    "tl.confidence_score()"
   ]
  },
  {
   "cell_type": "code",
   "execution_count": null,
   "metadata": {},
   "outputs": [],
   "source": [
    "for s, adata in zip(sample_key.index, tl.adatas):\n",
    "    p = st.assemble_pita(\n",
    "        adata,\n",
    "        features=[\"tissue_ID\", \"confidence_score\"],\n",
    "        use_rep=\".obs\",\n",
    "        save_to=\"ST_out/MILWRM_VUMC_refNMF/{}_refNMF_MILWRM_r2_k{}.png\".format(s, tl.k),\n",
    "        histo=\"hires\",\n",
    "        label=[\"MILWRM Domain\", \"Confidence Score\"],\n",
    "        cmap=\"plasma\",\n",
    "    )"
   ]
  },
  {
   "cell_type": "code",
   "execution_count": null,
   "metadata": {},
   "outputs": [],
   "source": [
    "p = tl.plot_feature_loadings(\n",
    "    titles=[\"D0\",\"D1\",\"D2\",\"D3\",\"D4\",\"D5\",\"D6\",\"D7\"],\n",
    "    labels=[x.split(\"_\")[-1] for x in training_features],\n",
    "    nfeatures=18,\n",
    "    ncols=4,\n",
    "    save_to=\"ST_out/MILWRM_VUMC_refNMF/refNMF_MILWRM_r2_k{}_loadings.png\".format(tl.k),\n",
    ")"
   ]
  },
  {
   "cell_type": "code",
   "execution_count": null,
   "metadata": {},
   "outputs": [],
   "source": [
    "p = tl.plot_percentage_variance_explained(\n",
    "    R_square=True,\n",
    "    fig_size=(8,7),\n",
    "    save_to=\"ST_out/MILWRM_VUMC_refNMF/refNMF_MILWRM_r2_k{}_variance_explained.png\".format(tl.k),\n",
    ")"
   ]
  },
  {
   "cell_type": "code",
   "execution_count": null,
   "metadata": {},
   "outputs": [],
   "source": [
    "p = tl.plot_mse_st(\n",
    "    ncols=4,\n",
    "    figsize=(8,4),\n",
    "    titles=[\"D0\",\"D1\",\"D2\",\"D3\",\"D4\",\"D5\",\"D6\",\"D7\"],\n",
    "    #labels=[x.split(\"_\")[-1] for x in training_features],\n",
    "    save_to=\"ST_out/MILWRM_VUMC_refNMF/refNMF_MILWRM_r2_k{}_MSE.png\".format(tl.k),\n",
    ")"
   ]
  },
  {
   "cell_type": "code",
   "execution_count": null,
   "metadata": {},
   "outputs": [],
   "source": [
    "sample_key[\"unique_name\"] = \" (\" + sample_key.sample_key_short + \")\"\n",
    "sample_key.loc[sample_key.block_name==sample_key.patient_name, \"unique_name\"] = \"\""
   ]
  },
  {
   "cell_type": "code",
   "execution_count": null,
   "metadata": {},
   "outputs": [],
   "source": [
    "# make unique sample names for tissue ID proportions plot\n",
    "sample_key.unique_name = sample_key.patient_name + sample_key.unique_name\n",
    "# synchronous polyps from MAP8622 - fix names\n",
    "sample_key.loc[\"7319_2_HTA11_08622_A\", \"unique_name\"] = \"HTA11_08622_A\"\n",
    "sample_key.loc[\"7319_3_HTA11_08622_B\", \"unique_name\"] = \"HTA11_08622_B\""
   ]
  },
  {
   "cell_type": "code",
   "execution_count": null,
   "metadata": {},
   "outputs": [],
   "source": [
    "p = tl.plot_tissue_ID_proportions_st(\n",
    "    tID_labels=[\"D0\",\"D1\",\"D2\",\"D3\",\"D4\",\"D5\",\"D6\",\"D7\"],\n",
    "    slide_labels=list(sample_key.unique_name),\n",
    "    figsize=(12,5),\n",
    "    cmap=\"plasma\",\n",
    "    save_to=\"ST_out/MILWRM_VUMC_refNMF/refNMF_MILWRM_r2_k{}_tIDproportions.png\".format(tl.k),\n",
    ")"
   ]
  },
  {
   "cell_type": "markdown",
   "metadata": {},
   "source": [
    "---\n",
    "## Rename `.obs` entry and `MILWRM` tissue domains and save to `.h5ad`"
   ]
  },
  {
   "cell_type": "code",
   "execution_count": null,
   "metadata": {},
   "outputs": [],
   "source": [
    "import os"
   ]
  },
  {
   "cell_type": "code",
   "execution_count": null,
   "metadata": {},
   "outputs": [],
   "source": [
    "# dict to rename tissue domains\n",
    "mapper = {\n",
    "    \"0\" : \"D0\",\n",
    "    \"1\" : \"D1\",\n",
    "    \"2\" : \"D2\",\n",
    "    \"3\" : \"D3\",\n",
    "    \"4\" : \"D4\",\n",
    "    \"5\" : \"D5\",\n",
    "    \"6\" : \"D6\",\n",
    "    \"7\" : \"D7\",\n",
    "}\n",
    "\n",
    "for i, s in enumerate(sample_key.index):\n",
    "    name = os.path.join(\"../\", sample_key.loc[s, \"MILWRM_VUMCrefNMF30_adata\"])\n",
    "    print(\"Saving {} to {}\".format(s, name))\n",
    "    #if \"MILWRM Domain\" in tl.adatas[i].obs.columns:\n",
    "    #    tl.adatas[i].obs.drop(columns=[\"MILWRM Domain\", \"MILWRM Confidence Score\"], inplace=True)\n",
    "    if \"tissue_ID\" in tl.adatas[i].obs.columns:\n",
    "        print(\"adjusting tissue_ID to refNMF_MILWRM_domain\")\n",
    "        tl.adatas[i].obs.tissue_ID = tl.adatas[i].obs.tissue_ID.astype(str)\n",
    "        tl.adatas[i].obs.replace({\"tissue_ID\" : mapper}, inplace=True)\n",
    "        tl.adatas[i].obs.rename(\n",
    "            columns={\"tissue_ID\":\"MILWRM Domain\", \"confidence_score\":\"MILWRM Confidence Score\"},\n",
    "            inplace=True,\n",
    "        )\n",
    "    tl.adatas[i].write(name)"
   ]
  }
 ],
 "metadata": {
  "kernelspec": {
   "display_name": "scanpy",
   "language": "python",
   "name": "scanpy"
  },
  "language_info": {
   "codemirror_mode": {
    "name": "ipython",
    "version": 3
   },
   "file_extension": ".py",
   "mimetype": "text/x-python",
   "name": "python",
   "nbconvert_exporter": "python",
   "pygments_lexer": "ipython3",
   "version": "3.8.10"
  }
 },
 "nbformat": 4,
 "nbformat_minor": 4
}
