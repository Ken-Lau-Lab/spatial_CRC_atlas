{
 "cells": [
  {
   "cell_type": "code",
   "execution_count": null,
   "metadata": {},
   "outputs": [],
   "source": [
    "import numpy as np\n",
    "import pandas as pd\n",
    "import scanpy as sc\n",
    "import infercnvpy as cnv\n",
    "import matplotlib.pyplot as plt\n",
    "# make this notebook work better with Scanpy\n",
    "import warnings; warnings.simplefilter(action='ignore', category=FutureWarning)\n",
    "import seaborn as sns"
   ]
  },
  {
   "cell_type": "code",
   "execution_count": null,
   "metadata": {},
   "outputs": [],
   "source": [
    "# make output directories\n",
    "import os\n",
    "if not os.path.exists(\"scRNA_out\"):\n",
    "    os.mkdir(\"scRNA_out\")\n",
    "\n",
    "if not os.path.exists(\"scRNA_out/infercnv/\"):\n",
    "    os.mkdir(\"scRNA_out/infercnv/\")"
   ]
  },
  {
   "cell_type": "code",
   "execution_count": null,
   "metadata": {},
   "outputs": [],
   "source": [
    "sc.set_figure_params(transparent=True, dpi_save=400)\n",
    "sc.settings.figdir = \"scRNA_out/infercnv/\""
   ]
  },
  {
   "cell_type": "code",
   "execution_count": null,
   "metadata": {},
   "outputs": [],
   "source": [
    "from pyensembl import EnsemblRelease\n",
    "\n",
    "# release 98 uses human reference genome GRCh38\n",
    "data = EnsemblRelease(98)"
   ]
  },
  {
   "cell_type": "markdown",
   "metadata": {
    "tags": []
   },
   "source": [
    "---\n",
    "# Read in data"
   ]
  },
  {
   "cell_type": "code",
   "execution_count": null,
   "metadata": {},
   "outputs": [],
   "source": [
    "vumc_dis_epi = sc.read(\"../data/scRNA/VUMC_HTAN_DIS_EPI_V2.h5ad\"); vumc_dis_epi"
   ]
  },
  {
   "cell_type": "code",
   "execution_count": null,
   "metadata": {},
   "outputs": [],
   "source": [
    "broad_epi = sc.read(\"../data/scRNA/Broad_Epi_CRC_NoNormal_ReFiltered_Counts.h5ad\"); broad_epi"
   ]
  },
  {
   "cell_type": "code",
   "execution_count": null,
   "metadata": {},
   "outputs": [],
   "source": [
    "vumc_crc_epi = sc.read(\"../data/scRNA/abnormal_epithelium.h5ad\")\n",
    "vumc_crc_epi = vumc_crc_epi[vumc_crc_epi.obs[\"Tumor_Type\"].isin([\"MSI\",\"MSS\"]),:].copy()\n",
    "del vumc_crc_epi.uns\n",
    "del vumc_crc_epi.var\n",
    "del vumc_crc_epi.obsm\n",
    "vumc_crc_epi.obs.drop(columns=[\"cnv_leiden\",\"CNV Score\",\"CNV Clone\"], inplace=True)\n",
    "vumc_crc_epi.obs[\"Polyp_Type\"] = \"CRC\"\n",
    "vumc_crc_epi.obs[\"Sample_Classification\"] = \"CRC\"\n",
    "vumc_crc_epi"
   ]
  },
  {
   "cell_type": "code",
   "execution_count": null,
   "metadata": {},
   "outputs": [],
   "source": [
    "# combine AnnData objects into master 'a_comb'\n",
    "a_comb = vumc_dis_epi.concatenate(\n",
    "    [vumc_crc_epi, broad_epi],\n",
    "    batch_categories=[\"VUMC-polyp\",\"VUMC-CRC\",\"BROAD-CRC\"],\n",
    "    fill_value=0,\n",
    ")"
   ]
  },
  {
   "cell_type": "code",
   "execution_count": null,
   "metadata": {},
   "outputs": [],
   "source": [
    "genes = pd.read_csv(\"../resources/ST/master_visium_genes_list.csv\", index_col=0)"
   ]
  },
  {
   "cell_type": "code",
   "execution_count": null,
   "metadata": {},
   "outputs": [],
   "source": [
    "a_comb.var = a_comb.var.merge(genes, left_index=True, right_index=True, how=\"left\")"
   ]
  },
  {
   "cell_type": "code",
   "execution_count": null,
   "metadata": {},
   "outputs": [],
   "source": [
    "a_comb.var"
   ]
  },
  {
   "cell_type": "code",
   "execution_count": null,
   "metadata": {},
   "outputs": [],
   "source": [
    "a_comb.obs.Cell_Type.value_counts()"
   ]
  },
  {
   "cell_type": "code",
   "execution_count": null,
   "metadata": {},
   "outputs": [],
   "source": [
    "a_comb.obs.Polyp_Type.value_counts()"
   ]
  },
  {
   "cell_type": "code",
   "execution_count": null,
   "metadata": {},
   "outputs": [],
   "source": [
    "a_comb.obs.Sample_Classification.value_counts()"
   ]
  },
  {
   "cell_type": "code",
   "execution_count": null,
   "metadata": {},
   "outputs": [],
   "source": [
    "a_comb"
   ]
  },
  {
   "cell_type": "markdown",
   "metadata": {},
   "source": [
    "---\n",
    "# Perform CNV inference globally"
   ]
  },
  {
   "cell_type": "code",
   "execution_count": null,
   "metadata": {},
   "outputs": [],
   "source": [
    "a_comb.var.gene_id = a_comb.var.gene_id.fillna(\"\")"
   ]
  },
  {
   "cell_type": "code",
   "execution_count": null,
   "metadata": {},
   "outputs": [],
   "source": [
    "err_counter=0\n",
    "for i in a_comb.var_names:\n",
    "    if a_comb.var.loc[i, \"gene_id\"] == \"\":\n",
    "        try:\n",
    "            a_comb.var.loc[i, \"gene_id\"] = data.gene_ids_of_gene_name(i)[0]\n",
    "        except:\n",
    "            err_counter += 1\n",
    "print(\"{} errors in ENSEMBL mapping\".format(err_counter))"
   ]
  },
  {
   "cell_type": "code",
   "execution_count": null,
   "metadata": {},
   "outputs": [],
   "source": [
    "a_comb.var"
   ]
  },
  {
   "cell_type": "code",
   "execution_count": null,
   "metadata": {},
   "outputs": [],
   "source": [
    "# Use `pyensembl` to map ENSG IDs to genomic loci\n",
    "a_comb.var[\"chromosome\"] = \"0\"\n",
    "a_comb.var[\"start\"] = 0\n",
    "a_comb.var[\"end\"] = 0\n",
    "err_counter = 0\n",
    "for i in a_comb.var_names:\n",
    "    try:\n",
    "        gene = data.gene_by_id(a_comb.var.gene_id[i])\n",
    "        a_comb.var.loc[i,\"chromosome\"] = \"chr{}\".format(gene.contig)\n",
    "        a_comb.var.loc[i,\"start\"] = gene.start\n",
    "        a_comb.var.loc[i,\"end\"] = gene.end\n",
    "    except ValueError as e:\n",
    "        #print(e)\n",
    "        err_counter += 1\n",
    "print(\"{} errors in ENSEMBL mapping\".format(err_counter))"
   ]
  },
  {
   "cell_type": "code",
   "execution_count": null,
   "metadata": {},
   "outputs": [],
   "source": [
    "%%time\n",
    "# run InferCNV\n",
    "cnv.tl.infercnv(\n",
    "    a_comb,\n",
    "    reference_key=\"Sample_Classification\",\n",
    "    reference_cat=[\"NL\"],\n",
    "    window_size=200,\n",
    ")"
   ]
  },
  {
   "cell_type": "code",
   "execution_count": null,
   "metadata": {},
   "outputs": [],
   "source": [
    "# determine clusters based on detected CNVs\n",
    "%time cnv.tl.pca(a_comb)"
   ]
  },
  {
   "cell_type": "code",
   "execution_count": null,
   "metadata": {},
   "outputs": [],
   "source": [
    "%time cnv.pp.neighbors(a_comb, n_neighbors=int(np.sqrt(a_comb.n_obs)))"
   ]
  },
  {
   "cell_type": "code",
   "execution_count": null,
   "metadata": {},
   "outputs": [],
   "source": [
    "%time cnv.tl.leiden(a_comb, resolution=1.5)"
   ]
  },
  {
   "cell_type": "code",
   "execution_count": null,
   "metadata": {},
   "outputs": [],
   "source": [
    "# score detected CNVs in every spot\n",
    "%time cnv.tl.cnv_score(a_comb)"
   ]
  },
  {
   "cell_type": "code",
   "execution_count": null,
   "metadata": {},
   "outputs": [],
   "source": [
    "# save CNV to file\n",
    "np.save(\"scRNA_out/infercnv/uns_cnv_broad_vumc_comb_epi.npy\", a_comb.uns[\"cnv\"])\n",
    "# write to csv for compilation\n",
    "a_comb.obs[[\"cnv_leiden\",\"cnv_score\"]].to_csv(\"scRNA_out/infercnv/broad_vumc_comb_epi_cnv_leiden.csv\")\n",
    "# write CNV values to npz for compilation\n",
    "np.savez_compressed(\"scRNA_out/infercnv/broad_vumc_comb_epi_cnv.npz\", a_comb.obsm[\"X_cnv\"])"
   ]
  },
  {
   "cell_type": "code",
   "execution_count": null,
   "metadata": {},
   "outputs": [],
   "source": [
    "# or, read in results from previous run\n",
    "# read in CNV matrix and put in a.obsm slot\n",
    "tmp = np.load(\"scRNA_out/infercnv/broad_vumc_comb_epi_cnv.npz\", allow_pickle=\"TRUE\")\n",
    "a_comb.obsm[\"X_cnv\"] = tmp.f.arr_0.item()\n",
    "# read in CNV genomic partitions\n",
    "a_comb.uns[\"cnv\"] = np.load(\"scRNA_out/infercnv/uns_cnv_broad_vumc_comb_epi.npy\", allow_pickle=\"TRUE\").item()\n",
    "# read in cnv_score and cnv_leiden\n",
    "a_comb.obs = a_comb.obs.merge(\n",
    "    pd.read_csv(\"scRNA_out/infercnv/broad_vumc_comb_epi_cnv_leiden.csv\", index_col=0),\n",
    "    left_index=True,\n",
    "    right_index=True,\n",
    ")"
   ]
  },
  {
   "cell_type": "markdown",
   "metadata": {},
   "source": [
    "---\n",
    "Look at `CNV Score` across all cells"
   ]
  },
  {
   "cell_type": "code",
   "execution_count": null,
   "metadata": {},
   "outputs": [],
   "source": [
    "a_comb.obs.rename(columns={\"cnv_score\":\"CNV Score\"}, inplace=True)"
   ]
  },
  {
   "cell_type": "code",
   "execution_count": null,
   "metadata": {},
   "outputs": [],
   "source": [
    "a_comb.obs[\"CNV Score\"].min()"
   ]
  },
  {
   "cell_type": "code",
   "execution_count": null,
   "metadata": {},
   "outputs": [],
   "source": [
    "a_comb.obs[\"CNV Score\"].max()"
   ]
  },
  {
   "cell_type": "code",
   "execution_count": null,
   "metadata": {},
   "outputs": [],
   "source": [
    "a_comb.obs.Sample_Classification = a_comb.obs.Sample_Classification.astype(str)\n",
    "a_comb.obs.loc[a_comb.obs.Sample_Classification==\"UNC\", \"Sample_Classification\"] = \"NL\""
   ]
  },
  {
   "cell_type": "code",
   "execution_count": null,
   "metadata": {},
   "outputs": [],
   "source": [
    "a_comb.obs.Polyp_Type = a_comb.obs.Polyp_Type.astype(str)\n",
    "a_comb.obs.loc[a_comb.obs.Polyp_Type==\"UNC\", \"Polyp_Type\"] = \"NL\""
   ]
  },
  {
   "cell_type": "code",
   "execution_count": null,
   "metadata": {},
   "outputs": [],
   "source": [
    "# plot heatmap with cell types\n",
    "print(\"Plotting Cell_Type CNV heatmap\")\n",
    "cnv.pl.chromosome_heatmap(\n",
    "    a_comb,\n",
    "    groupby=\"Cell_Type\",\n",
    "    save=\"_broad_vumc_comb_epi_CellType.png\",\n",
    "    dendrogram=True,\n",
    "    figsize=(12,8),\n",
    ")"
   ]
  },
  {
   "cell_type": "code",
   "execution_count": null,
   "metadata": {},
   "outputs": [],
   "source": [
    "# plot heatmap with tumor type\n",
    "print(\"Plotting CNV heatmap with tumor class\")\n",
    "cnv.pl.chromosome_heatmap(\n",
    "    a_comb,\n",
    "    groupby=\"Sample_Classification\",\n",
    "    save=\"_broad_vumc_comb_epi_sampleclass.png\",\n",
    "    dendrogram=True,\n",
    "    figsize=(12,8),\n",
    ")"
   ]
  },
  {
   "cell_type": "markdown",
   "metadata": {},
   "source": [
    "---\n",
    "Stratify CRC samples by MMR status"
   ]
  },
  {
   "cell_type": "code",
   "execution_count": null,
   "metadata": {},
   "outputs": [],
   "source": [
    "a_comb.obs[\"Tumor_Type2\"] = a_comb.obs.Sample_Classification.values\n",
    "a_comb.obs[\"Tumor_Type2\"] = a_comb.obs[\"Tumor_Type2\"].astype(str)\n",
    "a_comb.obs.loc[a_comb.obs.Tumor_Type == \"MSS\", \"Tumor_Type2\"] = \"MSS\"\n",
    "a_comb.obs.loc[a_comb.obs.Tumor_Type == \"MSI\", \"Tumor_Type2\"] = \"MSI-H\"\n",
    "a_comb.obs.loc[a_comb.obs.MMRStatusTumor == \"MSS\", \"Tumor_Type2\"] = \"MSS\"\n",
    "a_comb.obs.loc[a_comb.obs.MMRStatusTumor == \"MSI\", \"Tumor_Type2\"] = \"MSI-H\""
   ]
  },
  {
   "cell_type": "code",
   "execution_count": null,
   "metadata": {},
   "outputs": [],
   "source": [
    "a_comb.obs.Tumor_Type2 = a_comb.obs.Tumor_Type2.replace({\"SER\":\"SSL/HP\",\"AD\":\"TA/TVA\"})"
   ]
  },
  {
   "cell_type": "code",
   "execution_count": null,
   "metadata": {},
   "outputs": [],
   "source": [
    "a_comb.obs.Tumor_Type2.value_counts()"
   ]
  },
  {
   "cell_type": "code",
   "execution_count": null,
   "metadata": {},
   "outputs": [],
   "source": [
    "a_comb.obs.drop(columns=\"Tumor_Type\", inplace=True)\n",
    "a_comb.obs.rename(columns={\"Tumor_Type2\":\"Tumor_Type\"}, inplace=True)"
   ]
  },
  {
   "cell_type": "code",
   "execution_count": null,
   "metadata": {},
   "outputs": [],
   "source": [
    "a_comb.obs.Tumor_Type = a_comb.obs.Tumor_Type.astype(\"category\")"
   ]
  },
  {
   "cell_type": "code",
   "execution_count": null,
   "metadata": {},
   "outputs": [],
   "source": [
    "a_comb.obs[\"Tumor_Type\"].value_counts()"
   ]
  },
  {
   "cell_type": "markdown",
   "metadata": {},
   "source": [
    "---\n",
    "Compare all tumor-derived cells to all adjacent normal cells"
   ]
  },
  {
   "cell_type": "code",
   "execution_count": null,
   "metadata": {},
   "outputs": [],
   "source": [
    "a_comb.obs[\"Tumor_vs_NL\"] = a_comb.obs[\"Tumor_Type\"].astype(str)\n",
    "a_comb.obs.loc[a_comb.obs[\"Tumor_Type\"].isin([\"MSI-H\",\"MSS\"]), \"Tumor_vs_NL\"] = \"CRC\"\n",
    "a_comb.obs[\"Tumor_vs_NL\"] = a_comb.obs[\"Tumor_vs_NL\"].astype(\"category\")"
   ]
  },
  {
   "cell_type": "code",
   "execution_count": null,
   "metadata": {},
   "outputs": [],
   "source": [
    "a_comb.obs[\"Tumor_vs_NL\"].value_counts()"
   ]
  },
  {
   "cell_type": "code",
   "execution_count": null,
   "metadata": {},
   "outputs": [],
   "source": [
    "# custom color dictionary for tumor types and normals\n",
    "cmap_dict = {\n",
    "    # Tumor Type\n",
    "    'SSL/HP':\"#c4a4e1\",'MSI-H':\"#7a4fa3\",'MSS':\"#ffc101\",'TA/TVA':\"#fee799\",'NL':\"#1f77b4\",\n",
    "    \"MSI-H (CIN+)\":\"#7a4fa3\", 'MSS (HM)':\"#ffc101\",\n",
    "    # Tumor Location\n",
    "    \"Cecum\":\"#1f4e79\",\"Ascending\":\"#2e74b7\",\"Hepatic Flexure\":\"#bdd6ef\",\"Transverse\":\"#ff717a\",\"Descending\":\"#fe0001\",\"Sigmoid\":\"#c00101\",\n",
    "    # this one's global\n",
    "    \"nan\":\"#ffffff\",\n",
    "    # These are black and white for T and F\n",
    "    \"T\":\"#000000\",\"F\":\"#ffffff\",\n",
    "    # evolution\n",
    "    \"N\":\"tab:blue\",\"B\":\"tab:green\",\"L\":\"tab:orange\",\n",
    "    # CNV clone domain\n",
    "    \"T\":\"#000000\",\"S\":\"tab:pink\",\"E\":\"tab:red\",\n",
    "    \"CRC\":\"#ffffff\",\n",
    "}\n",
    "stage_colordict = dict(zip([\"AD\",\"I\",\"II\",\"III/IV\"], sns.color_palette(\"Reds\", len([\"AD\",\"I\",\"II\",\"III/IV\"])).as_hex()))\n",
    "grade_colordict = dict(zip([\"G1\",\"G2\",\"G3\"], sns.color_palette(\"Reds\", len([\"G1\",\"G2\",\"G3\"])).as_hex()))\n",
    "CIN_colordict = dict(zip([\"HM\",\"CIN-\",\"CIN+\"], sns.color_palette(\"Reds\", len([\"HM\",\"CIN-\",\"CIN+\"])).as_hex()))\n",
    "cmap_dict = {**cmap_dict, **stage_colordict, **grade_colordict, **CIN_colordict}"
   ]
  },
  {
   "cell_type": "code",
   "execution_count": null,
   "metadata": {},
   "outputs": [],
   "source": [
    "a_comb.uns[\"Tumor_Type_colors\"] = [cmap_dict[x] for x in a_comb.obs.Tumor_Type.cat.categories]"
   ]
  },
  {
   "cell_type": "code",
   "execution_count": null,
   "metadata": {},
   "outputs": [],
   "source": [
    "a_comb.uns[\"Tumor_vs_NL_colors\"] = [cmap_dict[x] for x in a_comb.obs.Tumor_vs_NL.cat.categories]"
   ]
  },
  {
   "cell_type": "code",
   "execution_count": null,
   "metadata": {},
   "outputs": [],
   "source": [
    "# plot heatmap with tumor type\n",
    "print(\"Plotting CNV heatmap with tumor class\")\n",
    "cnv.pl.chromosome_heatmap(\n",
    "    a_comb,\n",
    "    groupby=\"Tumor_Type\",\n",
    "    save=\"_broad_vumc_comb_epi_tumortype.png\",\n",
    "    dendrogram=True,\n",
    "    figsize=(12,8),\n",
    ")"
   ]
  },
  {
   "cell_type": "code",
   "execution_count": null,
   "metadata": {},
   "outputs": [],
   "source": [
    "# plot heatmap with tumor type\n",
    "print(\"Plotting CNV heatmap with tumor class\")\n",
    "cnv.pl.chromosome_heatmap(\n",
    "    a_comb,\n",
    "    groupby=\"Tumor_vs_NL\",\n",
    "    save=\"_broad_vumc_comb_epi_tumorvsnl.png\",\n",
    "    dendrogram=True,\n",
    "    figsize=(12,8),\n",
    ")"
   ]
  },
  {
   "cell_type": "markdown",
   "metadata": {},
   "source": [
    "---\n",
    "## Create boxplots of `CNV Score` by tissue type with B-H corrected t-tests for significance"
   ]
  },
  {
   "cell_type": "code",
   "execution_count": null,
   "metadata": {},
   "outputs": [],
   "source": [
    "import sys; sys.path.append(\"../resources/\")\n",
    "from boxplot_utils import *"
   ]
  },
  {
   "cell_type": "code",
   "execution_count": null,
   "metadata": {},
   "outputs": [],
   "source": [
    "boxplots_group(\n",
    "    a_comb,\n",
    "    outdir=\"scRNA_out/infercnv/\",\n",
    "    obs=[\"Tumor_Type\"],\n",
    "    colors=[\"CNV Score\"],\n",
    "    figsize=(4,5),\n",
    "    sig=True,\n",
    "    cmap_dict=cmap_dict,\n",
    "    titles=[\"scRNA-seq (all cells)\"],\n",
    ")"
   ]
  },
  {
   "cell_type": "code",
   "execution_count": null,
   "metadata": {},
   "outputs": [],
   "source": [
    "boxplots_group(\n",
    "    a_comb,\n",
    "    outdir=\"scRNA_out/infercnv/\",\n",
    "    obs=[\"Tumor_Type\"],\n",
    "    colors=[\"CNV Score\"],\n",
    "    figsize=(4,4),\n",
    "    sig=False,\n",
    "    cmap_dict=cmap_dict,\n",
    "    titles=[\"scRNA-seq (all cells)\"],\n",
    ")"
   ]
  },
  {
   "cell_type": "code",
   "execution_count": null,
   "metadata": {},
   "outputs": [],
   "source": [
    "boxplots_group(\n",
    "    a_comb,\n",
    "    outdir=\"scRNA_out/infercnv/\",\n",
    "    obs=[\"Tumor_vs_NL\"],\n",
    "    colors=[\"CNV Score\"],\n",
    "    figsize=(4,4),\n",
    "    sig=False,\n",
    "    cmap_dict=cmap_dict,\n",
    "    titles=[\"scRNA-seq (all cells)\"],\n",
    ")"
   ]
  },
  {
   "cell_type": "code",
   "execution_count": null,
   "metadata": {},
   "outputs": [],
   "source": [
    "boxplots_group(\n",
    "    a_comb,\n",
    "    outdir=\"scRNA_out/infercnv/\",\n",
    "    obs=[\"Tumor_vs_NL\"],\n",
    "    colors=[\"CNV Score\"],\n",
    "    figsize=(4,6),\n",
    "    sig=True,\n",
    "    cmap_dict=cmap_dict,\n",
    "    titles=[\"scRNA-seq (all cells)\"],\n",
    ")"
   ]
  },
  {
   "cell_type": "markdown",
   "metadata": {},
   "source": [
    "---\n",
    "# calculate _n_ values at specimen level"
   ]
  },
  {
   "cell_type": "code",
   "execution_count": null,
   "metadata": {},
   "outputs": [],
   "source": [
    "a_comb.obs[\"patient_combined\"] = a_comb.obs.Patient.astype(str)\n",
    "a_comb.obs.loc[a_comb.obs['HTAN Specimen ID'].astype(str)!=\"nan\",\"patient_combined\"] = a_comb.obs.loc[a_comb.obs['HTAN Specimen ID'].astype(str)!=\"nan\",\"HTAN Specimen ID\"]\n",
    "a_comb.obs.loc[a_comb.obs['PatientBarcode'].astype(str)!=\"nan\",\"patient_combined\"] = a_comb.obs.loc[a_comb.obs['PatientBarcode'].astype(str)!=\"nan\",\"PatientBarcode\"]"
   ]
  },
  {
   "cell_type": "code",
   "execution_count": null,
   "metadata": {},
   "outputs": [],
   "source": [
    "a_comb.obs.loc[a_comb.obs.patient_combined.str.startswith(\"C\"), [\"Tumor_Type\",\"patient_combined\"]].drop_duplicates()[\"Tumor_Type\"].value_counts()\n",
    "# Broad Institute specimens by tumor type"
   ]
  },
  {
   "cell_type": "code",
   "execution_count": null,
   "metadata": {},
   "outputs": [],
   "source": [
    "a_comb.obs.loc[~a_comb.obs.patient_combined.str.startswith(\"C\"), [\"Tumor_Type\",\"patient_combined\"]].drop_duplicates()[\"Tumor_Type\"].value_counts()\n",
    "# VUMC specimens by tumor type"
   ]
  },
  {
   "cell_type": "code",
   "execution_count": null,
   "metadata": {},
   "outputs": [],
   "source": [
    "37+14+11+4+1+32+28"
   ]
  }
 ],
 "metadata": {
  "kernelspec": {
   "display_name": "scanpy",
   "language": "python",
   "name": "scanpy"
  },
  "language_info": {
   "codemirror_mode": {
    "name": "ipython",
    "version": 3
   },
   "file_extension": ".py",
   "mimetype": "text/x-python",
   "name": "python",
   "nbconvert_exporter": "python",
   "pygments_lexer": "ipython3",
   "version": "3.8.10"
  }
 },
 "nbformat": 4,
 "nbformat_minor": 4
}
